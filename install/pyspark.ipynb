{
  "nbformat": 4,
  "nbformat_minor": 0,
  "metadata": {
    "colab": {
      "provenance": [],
      "authorship_tag": "ABX9TyN0mYmKCWaYRyXWUOGddb1c",
      "include_colab_link": true
    },
    "kernelspec": {
      "name": "python3",
      "display_name": "Python 3"
    },
    "language_info": {
      "name": "python"
    }
  },
  "cells": [
    {
      "cell_type": "markdown",
      "metadata": {
        "id": "view-in-github",
        "colab_type": "text"
      },
      "source": [
        "<a href=\"https://colab.research.google.com/github/JhonatanWalterSen/spark-in-colab/blob/main/install/pyspark.ipynb\" target=\"_parent\"><img src=\"https://colab.research.google.com/assets/colab-badge.svg\" alt=\"Open In Colab\"/></a>"
      ]
    },
    {
      "cell_type": "markdown",
      "source": [
        "# *Descargando e instalando Spark en Colab*"
      ],
      "metadata": {
        "id": "4sv5-tL7ijHw"
      }
    },
    {
      "cell_type": "markdown",
      "source": [
        "\n",
        "**Recursos**"
      ],
      "metadata": {
        "id": "ogUIXz1ckumn"
      }
    },
    {
      "cell_type": "markdown",
      "source": [
        "openjdk-8-jdk-headless -qq > /dev/null "
      ],
      "metadata": {
        "id": "kc4P2oRTk41Y"
      }
    },
    {
      "cell_type": "markdown",
      "source": [
        "http://apache.osuosl.org/spark/spark-3.3.1/spark-3.3.1-bin-hadoop3.tgz"
      ],
      "metadata": {
        "id": "KHFx5m9elHMg"
      }
    },
    {
      "cell_type": "markdown",
      "source": [
        "spark-3.3.1-bin-hadoop3.tgz"
      ],
      "metadata": {
        "id": "F9Ta4cF9o8gv"
      }
    },
    {
      "cell_type": "markdown",
      "source": [
        "SPARK_HOME: \"/content/spark-3.3.1-bin-hadoop3\""
      ],
      "metadata": {
        "id": "xl3UjHb8pRCX"
      }
    },
    {
      "cell_type": "markdown",
      "source": [
        "JAVA_HOME: \"/usr/lib/jvm/java-8-openjdk-amd64\""
      ],
      "metadata": {
        "id": "d5Zh_s0apF2Q"
      }
    },
    {
      "cell_type": "code",
      "source": [
        "# Instalar Java 8 scas\n",
        "!apt-get install openjdk-8-jdk-headless -qq > /dev/null"
      ],
      "metadata": {
        "id": "F6Y7BoNQpdSt"
      },
      "execution_count": 1,
      "outputs": []
    },
    {
      "cell_type": "code",
      "source": [
        "# Descargar Spark\n",
        "!wget -q http://apache.osuosl.org/spark/spark-3.3.1/spark-3.3.1-bin-hadoop3.tgz"
      ],
      "metadata": {
        "id": "apyDWsfcqW2Y"
      },
      "execution_count": 2,
      "outputs": []
    },
    {
      "cell_type": "code",
      "source": [
        "# Descomprimir Spart\n",
        "!tar xf spark-3.3.1-bin-hadoop3.tgz"
      ],
      "metadata": {
        "id": "BZw9hNCmuMwt"
      },
      "execution_count": 3,
      "outputs": []
    },
    {
      "cell_type": "code",
      "source": [
        "# Establecer las variables de Entorno\n",
        "import os \n",
        "os.environ[\"JAVA_HOME\"] = \"/usr/lib/jvm/java-8-openjdk-amd64\"\n",
        "os.environ[\"SPARK_HOME\"] = \"/content/spark-3.3.1-bin-hadoop3\""
      ],
      "metadata": {
        "id": "0sBbWHfRT6c7"
      },
      "execution_count": 4,
      "outputs": []
    },
    {
      "cell_type": "code",
      "source": [
        "# Instalar FindSpark en el sistema\n",
        "!pip install -q findspark"
      ],
      "metadata": {
        "id": "kvCbrJy_UqQI"
      },
      "execution_count": 5,
      "outputs": []
    },
    {
      "cell_type": "markdown",
      "source": [
        "# Verificar la instalación de Spark"
      ],
      "metadata": {
        "id": "qE9KZZpNU7rX"
      }
    },
    {
      "cell_type": "code",
      "source": [
        "#Session de spark\n",
        "import findspark\n",
        "findspark.init()\n",
        "from pyspark.sql import SparkSession\n",
        "spark = SparkSession.builder.getOrCreate()"
      ],
      "metadata": {
        "id": "IDsGL-5eVHfI"
      },
      "execution_count": 6,
      "outputs": []
    },
    {
      "cell_type": "code",
      "source": [
        "# crear DataFrame\n",
        "df = spark.createDataFrame([(1,2),(1,2)],['id1','id2']).show()"
      ],
      "metadata": {
        "colab": {
          "base_uri": "https://localhost:8080/"
        },
        "id": "0YWCV60EVsWb",
        "outputId": "85db03ea-9025-480e-9134-99a00fca1348"
      },
      "execution_count": 7,
      "outputs": [
        {
          "output_type": "stream",
          "name": "stdout",
          "text": [
            "+---+---+\n",
            "|id1|id2|\n",
            "+---+---+\n",
            "|  1|  2|\n",
            "|  1|  2|\n",
            "+---+---+\n",
            "\n"
          ]
        }
      ]
    },
    {
      "cell_type": "code",
      "source": [
        "# Verificar la versión de Spark\n",
        "spark"
      ],
      "metadata": {
        "colab": {
          "base_uri": "https://localhost:8080/",
          "height": 219
        },
        "id": "DU3oE2bddoHo",
        "outputId": "152a9302-488b-41a2-af5b-ba1f4f05b98c"
      },
      "execution_count": 13,
      "outputs": [
        {
          "output_type": "execute_result",
          "data": {
            "text/plain": [
              "<pyspark.sql.session.SparkSession at 0x7f8aafd1b430>"
            ],
            "text/html": [
              "\n",
              "            <div>\n",
              "                <p><b>SparkSession - in-memory</b></p>\n",
              "                \n",
              "        <div>\n",
              "            <p><b>SparkContext</b></p>\n",
              "\n",
              "            <p><a href=\"http://292836625cce:4040\">Spark UI</a></p>\n",
              "\n",
              "            <dl>\n",
              "              <dt>Version</dt>\n",
              "                <dd><code>v3.3.1</code></dd>\n",
              "              <dt>Master</dt>\n",
              "                <dd><code>local[*]</code></dd>\n",
              "              <dt>AppName</dt>\n",
              "                <dd><code>pyspark-shell</code></dd>\n",
              "            </dl>\n",
              "        </div>\n",
              "        \n",
              "            </div>\n",
              "        "
            ]
          },
          "metadata": {},
          "execution_count": 13
        }
      ]
    },
    {
      "cell_type": "markdown",
      "source": [
        "# *Crear un RDD*\n",
        "*Crear un spark Context*"
      ],
      "metadata": {
        "id": "dInGxDVoqpZf"
      }
    },
    {
      "cell_type": "code",
      "source": [
        "sc = spark.sparkContext"
      ],
      "metadata": {
        "id": "9ZDBOUHMt5sh"
      },
      "execution_count": 8,
      "outputs": []
    },
    {
      "cell_type": "code",
      "source": [
        "# Crear un RDD vacio\n",
        "rdd_vacio = sc.emptyRDD"
      ],
      "metadata": {
        "id": "Wg4Vc6v-t_Hi"
      },
      "execution_count": 10,
      "outputs": []
    },
    {
      "cell_type": "markdown",
      "source": [],
      "metadata": {
        "id": "hCcrvFEOE0Lx"
      }
    },
    {
      "cell_type": "code",
      "source": [
        "# Crear un RDD con parallelize\n",
        "rdd_vacio3 = sc.parallelize([],3)\n",
        "rdd_vacio3.getNumPartitions()"
      ],
      "metadata": {
        "colab": {
          "base_uri": "https://localhost:8080/"
        },
        "id": "ZeIhByQ1uRZS",
        "outputId": "d2df32ec-07b7-4386-9162-2183feb90e0c"
      },
      "execution_count": 12,
      "outputs": [
        {
          "output_type": "execute_result",
          "data": {
            "text/plain": [
              "3"
            ]
          },
          "metadata": {},
          "execution_count": 12
        }
      ]
    },
    {
      "cell_type": "code",
      "source": [
        "# RDD con paralleize con datos\n",
        "rdd = sc.parallelize([1,2,3,4,5])"
      ],
      "metadata": {
        "id": "NIjizw7R2vQu"
      },
      "execution_count": 13,
      "outputs": []
    },
    {
      "cell_type": "code",
      "source": [
        "rdd"
      ],
      "metadata": {
        "colab": {
          "base_uri": "https://localhost:8080/"
        },
        "id": "DqmxcHEJ2-I1",
        "outputId": "cb500ba6-6ae5-45ba-f42a-254dffd6e0e2"
      },
      "execution_count": 14,
      "outputs": [
        {
          "output_type": "execute_result",
          "data": {
            "text/plain": [
              "ParallelCollectionRDD[9] at readRDDFromFile at PythonRDD.scala:274"
            ]
          },
          "metadata": {},
          "execution_count": 14
        }
      ]
    },
    {
      "cell_type": "code",
      "source": [
        "rdd.collect()"
      ],
      "metadata": {
        "colab": {
          "base_uri": "https://localhost:8080/"
        },
        "id": "wO2A6nF23ADk",
        "outputId": "1d87b557-fa92-48bc-bbec-c8673b08174f"
      },
      "execution_count": 15,
      "outputs": [
        {
          "output_type": "execute_result",
          "data": {
            "text/plain": [
              "[1, 2, 3, 4, 5]"
            ]
          },
          "metadata": {},
          "execution_count": 15
        }
      ]
    },
    {
      "cell_type": "code",
      "source": [
        "# Crear un RDD desde un archivod e texto\n",
        "rdd_texto = sc.textFile('./rdd_source.txt')\n",
        "rdd_texto.collect()"
      ],
      "metadata": {
        "colab": {
          "base_uri": "https://localhost:8080/"
        },
        "id": "tG4JL6hQFELX",
        "outputId": "b52072d8-419d-4c77-9207-6c0a302223f4"
      },
      "execution_count": 16,
      "outputs": [
        {
          "output_type": "execute_result",
          "data": {
            "text/plain": [
              "['Así podemos crear', 'un RDD desde un', 'archivo de texto!!!']"
            ]
          },
          "metadata": {},
          "execution_count": 16
        }
      ]
    },
    {
      "cell_type": "code",
      "source": [
        "# Todo el archivo de texto es un solo registro\n",
        "rdd_texto_completo = sc.wholeTextFiles('./rdd_source.txt')\n",
        "rdd_texto_completo.collect()"
      ],
      "metadata": {
        "colab": {
          "base_uri": "https://localhost:8080/"
        },
        "id": "1WJ6DdnMFchZ",
        "outputId": "0454f9d1-2277-4ac6-c06f-40a104240366"
      },
      "execution_count": 17,
      "outputs": [
        {
          "output_type": "execute_result",
          "data": {
            "text/plain": [
              "[('file:/content/rdd_source.txt',\n",
              "  'Así podemos crear\\nun RDD desde un\\narchivo de texto!!!')]"
            ]
          },
          "metadata": {},
          "execution_count": 17
        }
      ]
    },
    {
      "cell_type": "code",
      "source": [
        "# Operaciones con RDD\n",
        "rdd_suma = rdd.map(lambda x:x+1)\n",
        "rdd_suma.collect()"
      ],
      "metadata": {
        "colab": {
          "base_uri": "https://localhost:8080/"
        },
        "id": "0N7ljfUSGIOT",
        "outputId": "09949601-5389-4687-8855-6e6786b23166"
      },
      "execution_count": 18,
      "outputs": [
        {
          "output_type": "execute_result",
          "data": {
            "text/plain": [
              "[2, 3, 4, 5, 6]"
            ]
          },
          "metadata": {},
          "execution_count": 18
        }
      ]
    },
    {
      "cell_type": "code",
      "source": [
        "df = spark.createDataFrame([(1,\"Jose\"),(2,\"Juan\")],['id','Nombre'])\n",
        "df.show()"
      ],
      "metadata": {
        "colab": {
          "base_uri": "https://localhost:8080/"
        },
        "id": "f1y8kLbkLMT2",
        "outputId": "c54a5814-78df-4add-94ce-c660d4982a87"
      },
      "execution_count": 20,
      "outputs": [
        {
          "output_type": "stream",
          "name": "stdout",
          "text": [
            "+---+------+\n",
            "| id|Nombre|\n",
            "+---+------+\n",
            "|  1|  Jose|\n",
            "|  2|  Juan|\n",
            "+---+------+\n",
            "\n"
          ]
        }
      ]
    },
    {
      "cell_type": "code",
      "source": [
        "rdd_df = df.rdd\n",
        "rdd_df.collect()"
      ],
      "metadata": {
        "colab": {
          "base_uri": "https://localhost:8080/"
        },
        "id": "OYcSjXLULaF4",
        "outputId": "a2d82549-c5e1-43c1-8bce-156a6b0bf010"
      },
      "execution_count": 21,
      "outputs": [
        {
          "output_type": "execute_result",
          "data": {
            "text/plain": [
              "[Row(id=1, Nombre='Jose'), Row(id=2, Nombre='Juan')]"
            ]
          },
          "metadata": {},
          "execution_count": 21
        }
      ]
    },
    {
      "cell_type": "code",
      "source": [],
      "metadata": {
        "id": "4qUqFkUAk6ne"
      },
      "execution_count": null,
      "outputs": []
    }
  ]
}
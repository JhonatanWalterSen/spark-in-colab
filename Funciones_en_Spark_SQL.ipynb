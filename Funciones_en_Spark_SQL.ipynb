{
  "nbformat": 4,
  "nbformat_minor": 0,
  "metadata": {
    "colab": {
      "provenance": [],
      "collapsed_sections": [
        "0GXbqP8-E8bi",
        "srMUOU6zgCQJ",
        "tAI2Ypc4hP4I",
        "R333L-1whz-p",
        "8dmc1fFujRST",
        "A0JuCV7EqODT",
        "tT-0jScDQCPL"
      ],
      "authorship_tag": "ABX9TyPOFhPpwpY/6xmGe58q8vp0",
      "include_colab_link": true
    },
    "kernelspec": {
      "name": "python3",
      "display_name": "Python 3"
    },
    "language_info": {
      "name": "python"
    }
  },
  "cells": [
    {
      "cell_type": "markdown",
      "metadata": {
        "id": "view-in-github",
        "colab_type": "text"
      },
      "source": [
        "<a href=\"https://colab.research.google.com/github/JhonatanWalterSen/spark-in-colab/blob/main/Funciones_en_Spark_SQL.ipynb\" target=\"_parent\"><img src=\"https://colab.research.google.com/assets/colab-badge.svg\" alt=\"Open In Colab\"/></a>"
      ]
    },
    {
      "cell_type": "markdown",
      "source": [
        "# Spark SQL Avanzado"
      ],
      "metadata": {
        "id": "cve4ZyHnERao"
      }
    },
    {
      "cell_type": "markdown",
      "source": [
        "# Instalación"
      ],
      "metadata": {
        "id": "eZFsNLIBAIi4"
      }
    },
    {
      "cell_type": "code",
      "execution_count": 3,
      "metadata": {
        "id": "gcjUZ5Yp-mIb"
      },
      "outputs": [],
      "source": [
        "# Instalar Java 8 scas\n",
        "!apt-get install openjdk-8-jdk-headless -qq > /dev/null"
      ]
    },
    {
      "cell_type": "code",
      "source": [
        "# Descargar Spark\n",
        "!wget -q http://apache.osuosl.org/spark/spark-3.3.1/spark-3.3.1-bin-hadoop3.tgz"
      ],
      "metadata": {
        "id": "VGOnTCYiEL9A"
      },
      "execution_count": 4,
      "outputs": []
    },
    {
      "cell_type": "code",
      "source": [
        "# Descomprimir Spart\n",
        "!tar xf spark-3.3.1-bin-hadoop3.tgz"
      ],
      "metadata": {
        "id": "OfjJaeuCEaGo"
      },
      "execution_count": 5,
      "outputs": []
    },
    {
      "cell_type": "code",
      "source": [
        "# Establecer las variables de Entorno\n",
        "import os \n",
        "os.environ[\"JAVA_HOME\"] = \"/usr/lib/jvm/java-8-openjdk-amd64\"\n",
        "os.environ[\"SPARK_HOME\"] = \"/content/spark-3.3.1-bin-hadoop3\""
      ],
      "metadata": {
        "id": "hiNX403LEd-I"
      },
      "execution_count": 6,
      "outputs": []
    },
    {
      "cell_type": "code",
      "source": [
        "# Instalar FindSpark en el sistema\n",
        "!pip install -q findspark"
      ],
      "metadata": {
        "id": "xr-0v6YEEgnw"
      },
      "execution_count": 7,
      "outputs": []
    },
    {
      "cell_type": "code",
      "source": [
        "import findspark\n",
        "findspark.init()\n",
        "from pyspark.sql import SparkSession\n",
        "spark = SparkSession.builder.appName('Spark-SQL').master('local[*]').getOrCreate()"
      ],
      "metadata": {
        "id": "fjnLSc9ZEjZI"
      },
      "execution_count": 8,
      "outputs": []
    },
    {
      "cell_type": "code",
      "source": [
        "sc = spark.sparkContext"
      ],
      "metadata": {
        "id": "uUSuO98pEq4p"
      },
      "execution_count": 10,
      "outputs": []
    },
    {
      "cell_type": "code",
      "source": [
        "spark"
      ],
      "metadata": {
        "colab": {
          "base_uri": "https://localhost:8080/",
          "height": 219
        },
        "id": "xJ-EoTiCEuQy",
        "outputId": "8fea7e1a-5c16-45a4-e1d8-bfa024ef53ee"
      },
      "execution_count": 11,
      "outputs": [
        {
          "output_type": "execute_result",
          "data": {
            "text/plain": [
              "<pyspark.sql.session.SparkSession at 0x7f6922212730>"
            ],
            "text/html": [
              "\n",
              "            <div>\n",
              "                <p><b>SparkSession - in-memory</b></p>\n",
              "                \n",
              "        <div>\n",
              "            <p><b>SparkContext</b></p>\n",
              "\n",
              "            <p><a href=\"http://2c0d38aec180:4040\">Spark UI</a></p>\n",
              "\n",
              "            <dl>\n",
              "              <dt>Version</dt>\n",
              "                <dd><code>v3.3.1</code></dd>\n",
              "              <dt>Master</dt>\n",
              "                <dd><code>local[*]</code></dd>\n",
              "              <dt>AppName</dt>\n",
              "                <dd><code>Spark-SQL</code></dd>\n",
              "            </dl>\n",
              "        </div>\n",
              "        \n",
              "            </div>\n",
              "        "
            ]
          },
          "metadata": {},
          "execution_count": 11
        }
      ]
    },
    {
      "cell_type": "markdown",
      "source": [
        "# Agregación\n",
        "- Tratar un DF como un grupo\n",
        "- Dividir un DT en varios grupos utilizando una o mas columnas y realizar una o mas agregaciones en cada uno de esos grupos\n",
        "- Dividir un DF en varias ventanas y realizar una media de movil, una suma acumulativa o una clasificación\n"
      ],
      "metadata": {
        "id": "0GXbqP8-E8bi"
      }
    },
    {
      "cell_type": "code",
      "source": [
        "import pandas as pd"
      ],
      "metadata": {
        "id": "UdLcofl4OJAs"
      },
      "execution_count": null,
      "outputs": []
    },
    {
      "cell_type": "code",
      "source": [
        "dfcsv = pd.read_csv('flights.csv')\n",
        "dfcsv.to_parquet('vuelos.parquet')"
      ],
      "metadata": {
        "id": "O7rs4QQXOM8L"
      },
      "execution_count": null,
      "outputs": []
    },
    {
      "cell_type": "code",
      "source": [
        "dfp = spark.read.parquet('vuelos.parquet')"
      ],
      "metadata": {
        "id": "Rh_GXn0lKmvH"
      },
      "execution_count": null,
      "outputs": []
    },
    {
      "cell_type": "code",
      "source": [
        "dfp.printSchema()"
      ],
      "metadata": {
        "colab": {
          "base_uri": "https://localhost:8080/"
        },
        "id": "Sc2-3GXAKuNI",
        "outputId": "75740b37-41c4-46b2-d3c2-dc84a1e60fd3"
      },
      "execution_count": null,
      "outputs": [
        {
          "output_type": "stream",
          "name": "stdout",
          "text": [
            "root\n",
            " |-- YEAR: long (nullable = true)\n",
            " |-- MONTH: long (nullable = true)\n",
            " |-- DAY: long (nullable = true)\n",
            " |-- DAY_OF_WEEK: long (nullable = true)\n",
            " |-- AIRLINE: string (nullable = true)\n",
            " |-- FLIGHT_NUMBER: long (nullable = true)\n",
            " |-- TAIL_NUMBER: string (nullable = true)\n",
            " |-- ORIGIN_AIRPORT: string (nullable = true)\n",
            " |-- DESTINATION_AIRPORT: string (nullable = true)\n",
            " |-- SCHEDULED_DEPARTURE: long (nullable = true)\n",
            " |-- DEPARTURE_TIME: double (nullable = true)\n",
            " |-- DEPARTURE_DELAY: double (nullable = true)\n",
            " |-- TAXI_OUT: double (nullable = true)\n",
            " |-- WHEELS_OFF: double (nullable = true)\n",
            " |-- SCHEDULED_TIME: double (nullable = true)\n",
            " |-- ELAPSED_TIME: double (nullable = true)\n",
            " |-- AIR_TIME: double (nullable = true)\n",
            " |-- DISTANCE: long (nullable = true)\n",
            " |-- WHEELS_ON: double (nullable = true)\n",
            " |-- TAXI_IN: double (nullable = true)\n",
            " |-- SCHEDULED_ARRIVAL: long (nullable = true)\n",
            " |-- ARRIVAL_TIME: double (nullable = true)\n",
            " |-- ARRIVAL_DELAY: double (nullable = true)\n",
            " |-- DIVERTED: double (nullable = true)\n",
            " |-- CANCELLED: double (nullable = true)\n",
            " |-- CANCELLATION_REASON: string (nullable = true)\n",
            " |-- AIR_SYSTEM_DELAY: double (nullable = true)\n",
            " |-- SECURITY_DELAY: double (nullable = true)\n",
            " |-- AIRLINE_DELAY: double (nullable = true)\n",
            " |-- LATE_AIRCRAFT_DELAY: double (nullable = true)\n",
            " |-- WEATHER_DELAY: double (nullable = true)\n",
            "\n"
          ]
        }
      ]
    },
    {
      "cell_type": "code",
      "source": [
        "dfp.show()"
      ],
      "metadata": {
        "colab": {
          "base_uri": "https://localhost:8080/"
        },
        "id": "bdKJReH3Q47X",
        "outputId": "3d8a0d47-9e93-42b8-ae22-cac9bfde0fb4"
      },
      "execution_count": null,
      "outputs": [
        {
          "output_type": "stream",
          "name": "stdout",
          "text": [
            "+----+-----+---+-----------+-------+-------------+-----------+--------------+-------------------+-------------------+--------------+---------------+--------+----------+--------------+------------+--------+--------+---------+-------+-----------------+------------+-------------+--------+---------+-------------------+----------------+--------------+-------------+-------------------+-------------+\n",
            "|YEAR|MONTH|DAY|DAY_OF_WEEK|AIRLINE|FLIGHT_NUMBER|TAIL_NUMBER|ORIGIN_AIRPORT|DESTINATION_AIRPORT|SCHEDULED_DEPARTURE|DEPARTURE_TIME|DEPARTURE_DELAY|TAXI_OUT|WHEELS_OFF|SCHEDULED_TIME|ELAPSED_TIME|AIR_TIME|DISTANCE|WHEELS_ON|TAXI_IN|SCHEDULED_ARRIVAL|ARRIVAL_TIME|ARRIVAL_DELAY|DIVERTED|CANCELLED|CANCELLATION_REASON|AIR_SYSTEM_DELAY|SECURITY_DELAY|AIRLINE_DELAY|LATE_AIRCRAFT_DELAY|WEATHER_DELAY|\n",
            "+----+-----+---+-----------+-------+-------------+-----------+--------------+-------------------+-------------------+--------------+---------------+--------+----------+--------------+------------+--------+--------+---------+-------+-----------------+------------+-------------+--------+---------+-------------------+----------------+--------------+-------------+-------------------+-------------+\n",
            "|2015|    1|  1|          4|     AS|           98|     N407AS|           ANC|                SEA|                  5|        2354.0|          -11.0|    21.0|      15.0|         205.0|       194.0|   169.0|    1448|    404.0|    4.0|              430|       408.0|        -22.0|     0.0|      0.0|               null|            null|          null|         null|               null|         null|\n",
            "|2015|    1|  1|          4|     AA|         2336|     N3KUAA|           LAX|                PBI|                 10|           2.0|           -8.0|    12.0|      14.0|         280.0|       279.0|   263.0|    2330|    737.0|    4.0|              750|       741.0|         -9.0|     0.0|      0.0|               null|            null|          null|         null|               null|         null|\n",
            "|2015|    1|  1|          4|     US|          840|     N171US|           SFO|                CLT|                 20|          18.0|           -2.0|    16.0|      34.0|         286.0|       293.0|   266.0|    2296|    800.0|   11.0|              806|       811.0|          5.0|     0.0|      0.0|               null|            null|          null|         null|               null|         null|\n",
            "|2015|    1|  1|          4|     AA|          258|     N3HYAA|           LAX|                MIA|                 20|          15.0|           -5.0|    15.0|      30.0|         285.0|       281.0|   258.0|    2342|    748.0|    8.0|              805|       756.0|         -9.0|     0.0|      0.0|               null|            null|          null|         null|               null|         null|\n",
            "|2015|    1|  1|          4|     AS|          135|     N527AS|           SEA|                ANC|                 25|          24.0|           -1.0|    11.0|      35.0|         235.0|       215.0|   199.0|    1448|    254.0|    5.0|              320|       259.0|        -21.0|     0.0|      0.0|               null|            null|          null|         null|               null|         null|\n",
            "|2015|    1|  1|          4|     DL|          806|     N3730B|           SFO|                MSP|                 25|          20.0|           -5.0|    18.0|      38.0|         217.0|       230.0|   206.0|    1589|    604.0|    6.0|              602|       610.0|          8.0|     0.0|      0.0|               null|            null|          null|         null|               null|         null|\n",
            "|2015|    1|  1|          4|     NK|          612|     N635NK|           LAS|                MSP|                 25|          19.0|           -6.0|    11.0|      30.0|         181.0|       170.0|   154.0|    1299|    504.0|    5.0|              526|       509.0|        -17.0|     0.0|      0.0|               null|            null|          null|         null|               null|         null|\n",
            "|2015|    1|  1|          4|     US|         2013|     N584UW|           LAX|                CLT|                 30|          44.0|           14.0|    13.0|      57.0|         273.0|       249.0|   228.0|    2125|    745.0|    8.0|              803|       753.0|        -10.0|     0.0|      0.0|               null|            null|          null|         null|               null|         null|\n",
            "|2015|    1|  1|          4|     AA|         1112|     N3LAAA|           SFO|                DFW|                 30|          19.0|          -11.0|    17.0|      36.0|         195.0|       193.0|   173.0|    1464|    529.0|    3.0|              545|       532.0|        -13.0|     0.0|      0.0|               null|            null|          null|         null|               null|         null|\n",
            "|2015|    1|  1|          4|     DL|         1173|     N826DN|           LAS|                ATL|                 30|          33.0|            3.0|    12.0|      45.0|         221.0|       203.0|   186.0|    1747|    651.0|    5.0|              711|       656.0|        -15.0|     0.0|      0.0|               null|            null|          null|         null|               null|         null|\n",
            "|2015|    1|  1|          4|     DL|         2336|     N958DN|           DEN|                ATL|                 30|          24.0|           -6.0|    12.0|      36.0|         173.0|       149.0|   133.0|    1199|    449.0|    4.0|              523|       453.0|        -30.0|     0.0|      0.0|               null|            null|          null|         null|               null|         null|\n",
            "|2015|    1|  1|          4|     AA|         1674|     N853AA|           LAS|                MIA|                 35|          27.0|           -8.0|    21.0|      48.0|         268.0|       266.0|   238.0|    2174|    746.0|    7.0|              803|       753.0|        -10.0|     0.0|      0.0|               null|            null|          null|         null|               null|         null|\n",
            "|2015|    1|  1|          4|     DL|         1434|     N547US|           LAX|                MSP|                 35|          35.0|            0.0|    18.0|      53.0|         214.0|       210.0|   188.0|    1535|    601.0|    4.0|              609|       605.0|         -4.0|     0.0|      0.0|               null|            null|          null|         null|               null|         null|\n",
            "|2015|    1|  1|          4|     DL|         2324|     N3751B|           SLC|                ATL|                 40|          34.0|           -6.0|    18.0|      52.0|         215.0|       199.0|   176.0|    1590|    548.0|    5.0|              615|       553.0|        -22.0|     0.0|      0.0|               null|            null|          null|         null|               null|         null|\n",
            "|2015|    1|  1|          4|     DL|         2440|     N651DL|           SEA|                MSP|                 40|          39.0|           -1.0|    28.0|     107.0|         189.0|       198.0|   166.0|    1399|    553.0|    4.0|              549|       557.0|          8.0|     0.0|      0.0|               null|            null|          null|         null|               null|         null|\n",
            "|2015|    1|  1|          4|     AS|          108|     N309AS|           ANC|                SEA|                 45|          41.0|           -4.0|    17.0|      58.0|         204.0|       194.0|   173.0|    1448|    451.0|    4.0|              509|       455.0|        -14.0|     0.0|      0.0|               null|            null|          null|         null|               null|         null|\n",
            "|2015|    1|  1|          4|     DL|         1560|     N3743H|           ANC|                SEA|                 45|          31.0|          -14.0|    25.0|      56.0|         210.0|       200.0|   171.0|    1448|    447.0|    4.0|              515|       451.0|        -24.0|     0.0|      0.0|               null|            null|          null|         null|               null|         null|\n",
            "|2015|    1|  1|          4|     UA|         1197|     N78448|           SFO|                IAH|                 48|          42.0|           -6.0|    11.0|      53.0|         218.0|       217.0|   199.0|    1635|    612.0|    7.0|              626|       619.0|         -7.0|     0.0|      0.0|               null|            null|          null|         null|               null|         null|\n",
            "|2015|    1|  1|          4|     AS|          122|     N413AS|           ANC|                PDX|                 50|          46.0|           -4.0|    11.0|      57.0|         215.0|       201.0|   187.0|    1542|    504.0|    3.0|              525|       507.0|        -18.0|     0.0|      0.0|               null|            null|          null|         null|               null|         null|\n",
            "|2015|    1|  1|          4|     DL|         1670|     N806DN|           PDX|                MSP|                 50|          45.0|           -5.0|     9.0|      54.0|         193.0|       186.0|   171.0|    1426|    545.0|    6.0|              603|       551.0|        -12.0|     0.0|      0.0|               null|            null|          null|         null|               null|         null|\n",
            "+----+-----+---+-----------+-------+-------------+-----------+--------------+-------------------+-------------------+--------------+---------------+--------+----------+--------------+------------+--------+--------+---------+-------+-----------------+------------+-------------+--------+---------+-------------------+----------------+--------------+-------------+-------------------+-------------+\n",
            "only showing top 20 rows\n",
            "\n"
          ]
        }
      ]
    },
    {
      "cell_type": "code",
      "source": [
        "dataframe = spark.read.parquet('dataframe.parquet')"
      ],
      "metadata": {
        "id": "H2eDgn5-Q58i"
      },
      "execution_count": null,
      "outputs": []
    },
    {
      "cell_type": "code",
      "source": [
        "dataframe.printSchema()"
      ],
      "metadata": {
        "colab": {
          "base_uri": "https://localhost:8080/"
        },
        "id": "LAeSmtf8f7KT",
        "outputId": "a4e420ae-7a56-468a-f278-44781163ece7"
      },
      "execution_count": null,
      "outputs": [
        {
          "output_type": "stream",
          "name": "stdout",
          "text": [
            "root\n",
            " |-- nombre: string (nullable = true)\n",
            " |-- color: string (nullable = true)\n",
            " |-- cantidad: long (nullable = true)\n",
            "\n"
          ]
        }
      ]
    },
    {
      "cell_type": "code",
      "source": [
        "dataframe.show()"
      ],
      "metadata": {
        "colab": {
          "base_uri": "https://localhost:8080/"
        },
        "id": "Uf39cBWHf9tq",
        "outputId": "0e34b949-3ceb-4678-d606-4864b37cc4d9"
      },
      "execution_count": null,
      "outputs": [
        {
          "output_type": "stream",
          "name": "stdout",
          "text": [
            "+------+-----+--------+\n",
            "|nombre|color|cantidad|\n",
            "+------+-----+--------+\n",
            "|  Jose| azul|    1900|\n",
            "|  null| null|    1700|\n",
            "|  null| rojo|    1300|\n",
            "|  Juan| rojo|    1500|\n",
            "+------+-----+--------+\n",
            "\n"
          ]
        }
      ]
    },
    {
      "cell_type": "markdown",
      "source": [
        "# Count\n",
        "conteo la cantidad de elementos de un grupo\n"
      ],
      "metadata": {
        "id": "srMUOU6zgCQJ"
      }
    },
    {
      "cell_type": "code",
      "source": [
        "#count\n",
        "from pyspark.sql.functions import count"
      ],
      "metadata": {
        "id": "vqOJLnM4f_PC"
      },
      "execution_count": 12,
      "outputs": []
    },
    {
      "cell_type": "code",
      "source": [
        "dataframe.select(\n",
        "    count('nombre').alias('conteno_nombre'),\n",
        "    count('color').alias('conteno_colores')\n",
        ").show()"
      ],
      "metadata": {
        "colab": {
          "base_uri": "https://localhost:8080/"
        },
        "id": "rrBS0namgOez",
        "outputId": "ca298e03-e010-42f6-89f7-70e52582b78c"
      },
      "execution_count": null,
      "outputs": [
        {
          "output_type": "stream",
          "name": "stdout",
          "text": [
            "+--------------+---------------+\n",
            "|conteno_nombre|conteno_colores|\n",
            "+--------------+---------------+\n",
            "|             2|              3|\n",
            "+--------------+---------------+\n",
            "\n"
          ]
        }
      ]
    },
    {
      "cell_type": "code",
      "source": [
        "#Todos los registros\n",
        "dataframe.select(\n",
        "    count('nombre').alias('conteno_nombre'),\n",
        "    count('color').alias('conteno_colores'),\n",
        "    count('*').alias('conteo_general_filas')\n",
        ").show()"
      ],
      "metadata": {
        "colab": {
          "base_uri": "https://localhost:8080/"
        },
        "id": "vGPnC_fOgZCK",
        "outputId": "70238a04-2c10-4ef2-a979-59b132623b27"
      },
      "execution_count": null,
      "outputs": [
        {
          "output_type": "stream",
          "name": "stdout",
          "text": [
            "+--------------+---------------+--------------------+\n",
            "|conteno_nombre|conteno_colores|conteo_general_filas|\n",
            "+--------------+---------------+--------------------+\n",
            "|             2|              3|                   4|\n",
            "+--------------+---------------+--------------------+\n",
            "\n"
          ]
        }
      ]
    },
    {
      "cell_type": "markdown",
      "source": [
        "# CounDistinct\n",
        " omite nulos, cuenta los valores diferentes"
      ],
      "metadata": {
        "id": "tAI2Ypc4hP4I"
      }
    },
    {
      "cell_type": "code",
      "source": [
        "#countDistinct\n",
        "from pyspark.sql.functions import countDistinct\n",
        "dataframe.select(\n",
        "    countDistinct('color').alias('colores diferentes')\n",
        ").show()"
      ],
      "metadata": {
        "colab": {
          "base_uri": "https://localhost:8080/"
        },
        "id": "QpzQdMuphF2S",
        "outputId": "58c84539-0b94-498a-9eab-ae4d9c55dbc2"
      },
      "execution_count": null,
      "outputs": [
        {
          "output_type": "stream",
          "name": "stdout",
          "text": [
            "+------------------+\n",
            "|colores diferentes|\n",
            "+------------------+\n",
            "|                 2|\n",
            "+------------------+\n",
            "\n"
          ]
        }
      ]
    },
    {
      "cell_type": "markdown",
      "source": [
        "# ApproxCountDistinct"
      ],
      "metadata": {
        "id": "R333L-1whz-p"
      }
    },
    {
      "cell_type": "code",
      "source": [
        "#approxCountDistinct\n",
        "from pyspark.sql.functions import approxCountDistinct"
      ],
      "metadata": {
        "id": "1in-8GNChscS"
      },
      "execution_count": null,
      "outputs": []
    },
    {
      "cell_type": "code",
      "source": [
        "df_vuelos = spark.read.parquet('vuelos.parquet')"
      ],
      "metadata": {
        "id": "z_9MJbd5iCHw"
      },
      "execution_count": null,
      "outputs": []
    },
    {
      "cell_type": "code",
      "source": [
        "df_vuelos.printSchema()"
      ],
      "metadata": {
        "colab": {
          "base_uri": "https://localhost:8080/"
        },
        "id": "Hu7nCqOaiVVY",
        "outputId": "24d370c9-f65b-4370-956a-cc9cc51ce5c0"
      },
      "execution_count": null,
      "outputs": [
        {
          "output_type": "stream",
          "name": "stdout",
          "text": [
            "root\n",
            " |-- YEAR: long (nullable = true)\n",
            " |-- MONTH: long (nullable = true)\n",
            " |-- DAY: long (nullable = true)\n",
            " |-- DAY_OF_WEEK: long (nullable = true)\n",
            " |-- AIRLINE: string (nullable = true)\n",
            " |-- FLIGHT_NUMBER: long (nullable = true)\n",
            " |-- TAIL_NUMBER: string (nullable = true)\n",
            " |-- ORIGIN_AIRPORT: string (nullable = true)\n",
            " |-- DESTINATION_AIRPORT: string (nullable = true)\n",
            " |-- SCHEDULED_DEPARTURE: long (nullable = true)\n",
            " |-- DEPARTURE_TIME: double (nullable = true)\n",
            " |-- DEPARTURE_DELAY: double (nullable = true)\n",
            " |-- TAXI_OUT: double (nullable = true)\n",
            " |-- WHEELS_OFF: double (nullable = true)\n",
            " |-- SCHEDULED_TIME: double (nullable = true)\n",
            " |-- ELAPSED_TIME: double (nullable = true)\n",
            " |-- AIR_TIME: double (nullable = true)\n",
            " |-- DISTANCE: long (nullable = true)\n",
            " |-- WHEELS_ON: double (nullable = true)\n",
            " |-- TAXI_IN: double (nullable = true)\n",
            " |-- SCHEDULED_ARRIVAL: long (nullable = true)\n",
            " |-- ARRIVAL_TIME: double (nullable = true)\n",
            " |-- ARRIVAL_DELAY: double (nullable = true)\n",
            " |-- DIVERTED: double (nullable = true)\n",
            " |-- CANCELLED: double (nullable = true)\n",
            " |-- CANCELLATION_REASON: string (nullable = true)\n",
            " |-- AIR_SYSTEM_DELAY: double (nullable = true)\n",
            " |-- SECURITY_DELAY: double (nullable = true)\n",
            " |-- AIRLINE_DELAY: double (nullable = true)\n",
            " |-- LATE_AIRCRAFT_DELAY: double (nullable = true)\n",
            " |-- WEATHER_DELAY: double (nullable = true)\n",
            "\n"
          ]
        }
      ]
    },
    {
      "cell_type": "code",
      "source": [
        "df_vuelos.select(\n",
        "    countDistinct('AIRLINE'),\n",
        "    approxCountDistinct('AIRLINE')\n",
        ").show()"
      ],
      "metadata": {
        "colab": {
          "base_uri": "https://localhost:8080/"
        },
        "id": "23kQhde1idzz",
        "outputId": "92ce129e-211e-434d-a0e3-de54f96161e9"
      },
      "execution_count": null,
      "outputs": [
        {
          "output_type": "stream",
          "name": "stderr",
          "text": [
            "/content/spark-3.3.1-bin-hadoop3/python/pyspark/sql/functions.py:1075: FutureWarning: Deprecated in 2.1, use approx_count_distinct instead.\n",
            "  warnings.warn(\"Deprecated in 2.1, use approx_count_distinct instead.\", FutureWarning)\n"
          ]
        },
        {
          "output_type": "stream",
          "name": "stdout",
          "text": [
            "+-----------------------+------------------------------+\n",
            "|count(DISTINCT AIRLINE)|approx_count_distinct(AIRLINE)|\n",
            "+-----------------------+------------------------------+\n",
            "|                     14|                            13|\n",
            "+-----------------------+------------------------------+\n",
            "\n"
          ]
        }
      ]
    },
    {
      "cell_type": "markdown",
      "source": [
        "# Funciones Min y Max"
      ],
      "metadata": {
        "id": "8dmc1fFujRST"
      }
    },
    {
      "cell_type": "code",
      "source": [
        "from pyspark.sql.functions import min, max, col"
      ],
      "metadata": {
        "id": "NiaVzo5zjf9K"
      },
      "execution_count": 13,
      "outputs": []
    },
    {
      "cell_type": "code",
      "source": [
        "df_vuelos.select(\n",
        "    min('AIR_TIME').alias('Menor tiempo'),\n",
        "    max('AIR_TIME').alias('Mayor tiempo')\n",
        ").show()"
      ],
      "metadata": {
        "colab": {
          "base_uri": "https://localhost:8080/"
        },
        "id": "0fgUJh81jJRL",
        "outputId": "9e4047c7-a50c-4f0f-b362-5a378e291115"
      },
      "execution_count": null,
      "outputs": [
        {
          "output_type": "stream",
          "name": "stdout",
          "text": [
            "+------------+------------+\n",
            "|Menor tiempo|Mayor tiempo|\n",
            "+------------+------------+\n",
            "|         7.0|       690.0|\n",
            "+------------+------------+\n",
            "\n"
          ]
        }
      ]
    },
    {
      "cell_type": "code",
      "source": [
        "df_vuelos.select(\n",
        "    min('AIRLINE_DELAY'),\n",
        "    max('AIRLINE_DELAY')\n",
        ").show()"
      ],
      "metadata": {
        "colab": {
          "base_uri": "https://localhost:8080/"
        },
        "id": "CSttgKwHjyrU",
        "outputId": "0d77cc77-2cdb-4617-9451-549424b0a710"
      },
      "execution_count": null,
      "outputs": [
        {
          "output_type": "stream",
          "name": "stdout",
          "text": [
            "+------------------+------------------+\n",
            "|min(AIRLINE_DELAY)|max(AIRLINE_DELAY)|\n",
            "+------------------+------------------+\n",
            "|               0.0|            1971.0|\n",
            "+------------------+------------------+\n",
            "\n"
          ]
        }
      ]
    },
    {
      "cell_type": "markdown",
      "source": [
        "# Funciones Sum, SumDistinct y Avg"
      ],
      "metadata": {
        "id": "A0JuCV7EqODT"
      }
    },
    {
      "cell_type": "code",
      "source": [
        "from pyspark.sql.functions import sum, sumDistinct, avg, count"
      ],
      "metadata": {
        "id": "80d5r-zyqS82"
      },
      "execution_count": 14,
      "outputs": []
    },
    {
      "cell_type": "code",
      "source": [
        "#sum\n",
        "df_vuelos.printSchema()"
      ],
      "metadata": {
        "colab": {
          "base_uri": "https://localhost:8080/"
        },
        "id": "cdWOVnXPqdP8",
        "outputId": "8399ad2c-033c-4850-e189-310e214910b0"
      },
      "execution_count": null,
      "outputs": [
        {
          "output_type": "stream",
          "name": "stdout",
          "text": [
            "root\n",
            " |-- YEAR: long (nullable = true)\n",
            " |-- MONTH: long (nullable = true)\n",
            " |-- DAY: long (nullable = true)\n",
            " |-- DAY_OF_WEEK: long (nullable = true)\n",
            " |-- AIRLINE: string (nullable = true)\n",
            " |-- FLIGHT_NUMBER: long (nullable = true)\n",
            " |-- TAIL_NUMBER: string (nullable = true)\n",
            " |-- ORIGIN_AIRPORT: string (nullable = true)\n",
            " |-- DESTINATION_AIRPORT: string (nullable = true)\n",
            " |-- SCHEDULED_DEPARTURE: long (nullable = true)\n",
            " |-- DEPARTURE_TIME: double (nullable = true)\n",
            " |-- DEPARTURE_DELAY: double (nullable = true)\n",
            " |-- TAXI_OUT: double (nullable = true)\n",
            " |-- WHEELS_OFF: double (nullable = true)\n",
            " |-- SCHEDULED_TIME: double (nullable = true)\n",
            " |-- ELAPSED_TIME: double (nullable = true)\n",
            " |-- AIR_TIME: double (nullable = true)\n",
            " |-- DISTANCE: long (nullable = true)\n",
            " |-- WHEELS_ON: double (nullable = true)\n",
            " |-- TAXI_IN: double (nullable = true)\n",
            " |-- SCHEDULED_ARRIVAL: long (nullable = true)\n",
            " |-- ARRIVAL_TIME: double (nullable = true)\n",
            " |-- ARRIVAL_DELAY: double (nullable = true)\n",
            " |-- DIVERTED: double (nullable = true)\n",
            " |-- CANCELLED: double (nullable = true)\n",
            " |-- CANCELLATION_REASON: string (nullable = true)\n",
            " |-- AIR_SYSTEM_DELAY: double (nullable = true)\n",
            " |-- SECURITY_DELAY: double (nullable = true)\n",
            " |-- AIRLINE_DELAY: double (nullable = true)\n",
            " |-- LATE_AIRCRAFT_DELAY: double (nullable = true)\n",
            " |-- WEATHER_DELAY: double (nullable = true)\n",
            "\n"
          ]
        }
      ]
    },
    {
      "cell_type": "code",
      "source": [
        "df_vuelos.select(\n",
        "    sum('DISTANCE').alias('Suma Distancia')\n",
        ").show()"
      ],
      "metadata": {
        "colab": {
          "base_uri": "https://localhost:8080/"
        },
        "id": "jtvyN1Wkqjel",
        "outputId": "b4d0be01-c0d2-4d7f-8532-50598e6069d6"
      },
      "execution_count": null,
      "outputs": [
        {
          "output_type": "stream",
          "name": "stdout",
          "text": [
            "+--------------+\n",
            "|Suma Distancia|\n",
            "+--------------+\n",
            "|    1598473359|\n",
            "+--------------+\n",
            "\n"
          ]
        }
      ]
    },
    {
      "cell_type": "code",
      "source": [
        "#sumDistinct\n",
        "#suma los valores distintos de la columna\n",
        "df_vuelos.select(\n",
        "    sumDistinct('DISTANCE').alias('Suma Distancia')\n",
        ").show()"
      ],
      "metadata": {
        "colab": {
          "base_uri": "https://localhost:8080/"
        },
        "id": "-22pfQllq1RN",
        "outputId": "2d472baf-7e3e-42ea-b4db-a9a736952362"
      },
      "execution_count": null,
      "outputs": [
        {
          "output_type": "stream",
          "name": "stderr",
          "text": [
            "/content/spark-3.3.1-bin-hadoop3/python/pyspark/sql/functions.py:316: FutureWarning: Deprecated in 3.2, use sum_distinct instead.\n",
            "  warnings.warn(\"Deprecated in 3.2, use sum_distinct instead.\", FutureWarning)\n"
          ]
        },
        {
          "output_type": "stream",
          "name": "stdout",
          "text": [
            "+--------------+\n",
            "|Suma Distancia|\n",
            "+--------------+\n",
            "|       1343917|\n",
            "+--------------+\n",
            "\n"
          ]
        }
      ]
    },
    {
      "cell_type": "code",
      "source": [
        "#AVG\n",
        "#Toma el total\n",
        "df_vuelos.select(\n",
        "    avg('AIR_TIME').alias('promedio_aire'),\n",
        "    (sum('AIR_TIME') / count('AIR_TIME')).alias('Promedio manual')\n",
        ").show()"
      ],
      "metadata": {
        "colab": {
          "base_uri": "https://localhost:8080/"
        },
        "id": "OmzuZvjZrRvF",
        "outputId": "6369af6f-81dc-41fb-ef7b-4d5511639d93"
      },
      "execution_count": null,
      "outputs": [
        {
          "output_type": "stream",
          "name": "stdout",
          "text": [
            "+------------------+------------------+\n",
            "|     promedio_aire|   Promedio manual|\n",
            "+------------------+------------------+\n",
            "|113.13239383807768|113.13239383807768|\n",
            "+------------------+------------------+\n",
            "\n"
          ]
        }
      ]
    },
    {
      "cell_type": "markdown",
      "source": [
        "# Agregación con Agrupación"
      ],
      "metadata": {
        "id": "Z9jwfE5wv2Kn"
      }
    },
    {
      "cell_type": "code",
      "source": [
        "df_vuelos.printSchema()"
      ],
      "metadata": {
        "colab": {
          "base_uri": "https://localhost:8080/"
        },
        "id": "lsi8tuNfvQos",
        "outputId": "c0819850-087e-4820-9af2-d8ef5ca19f47"
      },
      "execution_count": null,
      "outputs": [
        {
          "output_type": "stream",
          "name": "stdout",
          "text": [
            "root\n",
            " |-- YEAR: long (nullable = true)\n",
            " |-- MONTH: long (nullable = true)\n",
            " |-- DAY: long (nullable = true)\n",
            " |-- DAY_OF_WEEK: long (nullable = true)\n",
            " |-- AIRLINE: string (nullable = true)\n",
            " |-- FLIGHT_NUMBER: long (nullable = true)\n",
            " |-- TAIL_NUMBER: string (nullable = true)\n",
            " |-- ORIGIN_AIRPORT: string (nullable = true)\n",
            " |-- DESTINATION_AIRPORT: string (nullable = true)\n",
            " |-- SCHEDULED_DEPARTURE: long (nullable = true)\n",
            " |-- DEPARTURE_TIME: double (nullable = true)\n",
            " |-- DEPARTURE_DELAY: double (nullable = true)\n",
            " |-- TAXI_OUT: double (nullable = true)\n",
            " |-- WHEELS_OFF: double (nullable = true)\n",
            " |-- SCHEDULED_TIME: double (nullable = true)\n",
            " |-- ELAPSED_TIME: double (nullable = true)\n",
            " |-- AIR_TIME: double (nullable = true)\n",
            " |-- DISTANCE: long (nullable = true)\n",
            " |-- WHEELS_ON: double (nullable = true)\n",
            " |-- TAXI_IN: double (nullable = true)\n",
            " |-- SCHEDULED_ARRIVAL: long (nullable = true)\n",
            " |-- ARRIVAL_TIME: double (nullable = true)\n",
            " |-- ARRIVAL_DELAY: double (nullable = true)\n",
            " |-- DIVERTED: double (nullable = true)\n",
            " |-- CANCELLED: double (nullable = true)\n",
            " |-- CANCELLATION_REASON: string (nullable = true)\n",
            " |-- AIR_SYSTEM_DELAY: double (nullable = true)\n",
            " |-- SECURITY_DELAY: double (nullable = true)\n",
            " |-- AIRLINE_DELAY: double (nullable = true)\n",
            " |-- LATE_AIRCRAFT_DELAY: double (nullable = true)\n",
            " |-- WEATHER_DELAY: double (nullable = true)\n",
            "\n"
          ]
        }
      ]
    },
    {
      "cell_type": "code",
      "source": [
        "from pyspark.sql.functions import desc"
      ],
      "metadata": {
        "id": "1g736wmJwGwA"
      },
      "execution_count": 15,
      "outputs": []
    },
    {
      "cell_type": "code",
      "source": [
        "(df_vuelos.groupBy('ORIGIN_AIRPORT')\n",
        "  .count()\n",
        "  .orderBy(desc('count'))\n",
        ").show()"
      ],
      "metadata": {
        "colab": {
          "base_uri": "https://localhost:8080/"
        },
        "id": "U0R_psABv8OA",
        "outputId": "4331058a-9632-499c-e983-a00c24f4056e"
      },
      "execution_count": null,
      "outputs": [
        {
          "output_type": "stream",
          "name": "stdout",
          "text": [
            "+--------------+------+\n",
            "|ORIGIN_AIRPORT| count|\n",
            "+--------------+------+\n",
            "|           ATL|126478|\n",
            "|           ORD|101749|\n",
            "|           DFW| 92840|\n",
            "|           DEN| 71843|\n",
            "|           LAX| 71626|\n",
            "|           PHX| 55655|\n",
            "|           IAH| 55466|\n",
            "|           SFO| 53189|\n",
            "|           LAS| 48859|\n",
            "|           MCO| 42877|\n",
            "|           DTW| 40338|\n",
            "|           LGA| 39728|\n",
            "|           BOS| 38938|\n",
            "|           MSP| 38847|\n",
            "|           CLT| 37437|\n",
            "|           EWR| 37330|\n",
            "|           SEA| 36372|\n",
            "|           SLC| 36313|\n",
            "|           JFK| 35151|\n",
            "|           BWI| 30209|\n",
            "+--------------+------+\n",
            "only showing top 20 rows\n",
            "\n"
          ]
        }
      ]
    },
    {
      "cell_type": "code",
      "source": [
        "(df_vuelos.groupBy('ORIGIN_AIRPORT','DESTINATION_AIRPORT')\n",
        "  .count()\n",
        "  .orderBy(desc('count'))\n",
        ").show()"
      ],
      "metadata": {
        "colab": {
          "base_uri": "https://localhost:8080/"
        },
        "id": "_hB9dVHPweiN",
        "outputId": "2872023c-e21d-4b5f-ce5b-43af89b02c7e"
      },
      "execution_count": null,
      "outputs": [
        {
          "output_type": "stream",
          "name": "stdout",
          "text": [
            "+--------------+-------------------+-----+\n",
            "|ORIGIN_AIRPORT|DESTINATION_AIRPORT|count|\n",
            "+--------------+-------------------+-----+\n",
            "|           JFK|                LAX| 4617|\n",
            "|           LAX|                JFK| 4616|\n",
            "|           SFO|                LAX| 4614|\n",
            "|           LAX|                SFO| 4512|\n",
            "|           LAS|                LAX| 3771|\n",
            "|           LAX|                LAS| 3649|\n",
            "|           LGA|                ORD| 3615|\n",
            "|           ORD|                LGA| 3593|\n",
            "|           HNL|                OGG| 3193|\n",
            "|           OGG|                HNL| 3191|\n",
            "|           SFO|                JFK| 3123|\n",
            "|           JFK|                SFO| 3120|\n",
            "|           BOS|                LGA| 3072|\n",
            "|           LGA|                BOS| 3068|\n",
            "|           ATL|                LGA| 3067|\n",
            "|           LGA|                ATL| 3055|\n",
            "|           MCO|                ATL| 2983|\n",
            "|           ATL|                MCO| 2977|\n",
            "|           DCA|                BOS| 2941|\n",
            "|           SFO|                LAS| 2941|\n",
            "+--------------+-------------------+-----+\n",
            "only showing top 20 rows\n",
            "\n"
          ]
        }
      ]
    },
    {
      "cell_type": "markdown",
      "source": [
        "# Agregacion por grupo"
      ],
      "metadata": {
        "id": "x6cfrGhHx977"
      }
    },
    {
      "cell_type": "code",
      "source": [
        "df_vuelos.groupBy('ORIGIN_AIRPORT').agg(\n",
        "    count('AIR_TIME').alias('tiempo_aire'),\n",
        "    min('AIR_TIME').alias('minimo'),\n",
        "    max('AIR_TIME').alias('máximo')\n",
        ").orderBy(desc('tiempo_aire')).show()"
      ],
      "metadata": {
        "colab": {
          "base_uri": "https://localhost:8080/"
        },
        "id": "NWQfDiimyCMJ",
        "outputId": "fa646f57-ea35-4bda-bdaa-311c81e78228"
      },
      "execution_count": null,
      "outputs": [
        {
          "output_type": "stream",
          "name": "stdout",
          "text": [
            "+--------------+-----------+------+------+\n",
            "|ORIGIN_AIRPORT|tiempo_aire|minimo|máximo|\n",
            "+--------------+-----------+------+------+\n",
            "|           ATL|     124621|  15.0| 614.0|\n",
            "|           ORD|      97422|  14.0| 571.0|\n",
            "|           DFW|      88594|  12.0| 534.0|\n",
            "|           DEN|      70703|  13.0| 493.0|\n",
            "|           LAX|      70574|  16.0| 409.0|\n",
            "|           PHX|      55164|  19.0| 444.0|\n",
            "|           IAH|      54499|  17.0| 512.0|\n",
            "|           SFO|      52120|  13.0| 389.0|\n",
            "|           LAS|      48365|  28.0| 429.0|\n",
            "|           MCO|      42082|  31.0| 392.0|\n",
            "|           DTW|      39491|  16.0| 332.0|\n",
            "|           MSP|      38366|  15.0| 383.0|\n",
            "|           LGA|      36706|  19.0| 311.0|\n",
            "|           BOS|      36695|  34.0| 432.0|\n",
            "|           CLT|      36625|  21.0| 364.0|\n",
            "|           SEA|      36094|  17.0| 412.0|\n",
            "|           SLC|      36026|  18.0| 419.0|\n",
            "|           EWR|      35314|  22.0| 683.0|\n",
            "|           JFK|      33617|  30.0| 690.0|\n",
            "|           BWI|      29278|  19.0| 396.0|\n",
            "+--------------+-----------+------+------+\n",
            "only showing top 20 rows\n",
            "\n"
          ]
        }
      ]
    },
    {
      "cell_type": "code",
      "source": [
        "# por el mes agrupar\n",
        "# vuelos que arribaron que estan retrazao promedio de distancia\n",
        "df_vuelos.groupBy('MONTH').agg(\n",
        "    count('ARRIVAL_DELAY').alias('conteo_retrasado'),\n",
        "    avg('DISTANCE').alias('promedio distancia')\n",
        ").orderBy(desc('conteo_retrasado')).show()"
      ],
      "metadata": {
        "colab": {
          "base_uri": "https://localhost:8080/"
        },
        "id": "CAU5_Nf1yqMA",
        "outputId": "80314f93-bce2-413c-b6f0-3784efef0059"
      },
      "execution_count": null,
      "outputs": [
        {
          "output_type": "stream",
          "name": "stdout",
          "text": [
            "+-----+----------------+------------------+\n",
            "|MONTH|conteo_retrasado|promedio distancia|\n",
            "+-----+----------------+------------------+\n",
            "|    3|          492138| 816.0553268611494|\n",
            "|    4|          479251| 817.0060476016745|\n",
            "|    1|          457013| 803.2612794913696|\n",
            "|    2|          407663|  800.785449834689|\n",
            "|    5|           84114| 818.8828557598083|\n",
            "+-----+----------------+------------------+\n",
            "\n"
          ]
        }
      ]
    },
    {
      "cell_type": "markdown",
      "source": [
        "# Agregación por Pivote"
      ],
      "metadata": {
        "id": "tT-0jScDQCPL"
      }
    },
    {
      "cell_type": "code",
      "source": [
        "estudiantes = spark.read.parquet('./estudiantes.parquet')\n",
        "estudiantes.show()"
      ],
      "metadata": {
        "colab": {
          "base_uri": "https://localhost:8080/"
        },
        "id": "hsBzk2WaPYG2",
        "outputId": "1729db6c-cd2d-41e5-becc-03d4414d5d0d"
      },
      "execution_count": null,
      "outputs": [
        {
          "output_type": "stream",
          "name": "stdout",
          "text": [
            "+------+----+----+----------+\n",
            "|nombre|sexo|peso|graduacion|\n",
            "+------+----+----+----------+\n",
            "|  Jose|   M|  80|      2000|\n",
            "| Hilda|   F|  50|      2000|\n",
            "|  Juan|   M|  75|      2000|\n",
            "| Pedro|   M|  76|      2001|\n",
            "|Katia+|   F|  65|      2001|\n",
            "+------+----+----+----------+\n",
            "\n"
          ]
        }
      ]
    },
    {
      "cell_type": "code",
      "source": [
        "estudiantes.groupBy('graduacion').pivot('sexo').agg(\n",
        "  avg('peso')   \n",
        ").show()"
      ],
      "metadata": {
        "colab": {
          "base_uri": "https://localhost:8080/"
        },
        "id": "Uo6S5iVXaviK",
        "outputId": "cb306b17-f308-47ef-8952-6b318e165a62"
      },
      "execution_count": null,
      "outputs": [
        {
          "output_type": "stream",
          "name": "stdout",
          "text": [
            "+----------+----+----+\n",
            "|graduacion|   F|   M|\n",
            "+----------+----+----+\n",
            "|      2001|65.0|76.0|\n",
            "|      2000|50.0|77.5|\n",
            "+----------+----+----+\n",
            "\n"
          ]
        }
      ]
    },
    {
      "cell_type": "code",
      "source": [
        "estudiantes.groupBy('graduacion').pivot('sexo').agg(\n",
        "  avg('peso'),\n",
        "  min('peso'),\n",
        "  max('peso')\n",
        ").show()"
      ],
      "metadata": {
        "colab": {
          "base_uri": "https://localhost:8080/"
        },
        "id": "yUCrmA9AbsqP",
        "outputId": "de5d3b02-b0a6-42f1-b9ae-51c716143bf7"
      },
      "execution_count": null,
      "outputs": [
        {
          "output_type": "stream",
          "name": "stdout",
          "text": [
            "+----------+-----------+-----------+-----------+-----------+-----------+-----------+\n",
            "|graduacion|F_avg(peso)|F_min(peso)|F_max(peso)|M_avg(peso)|M_min(peso)|M_max(peso)|\n",
            "+----------+-----------+-----------+-----------+-----------+-----------+-----------+\n",
            "|      2001|       65.0|         65|         65|       76.0|         76|         76|\n",
            "|      2000|       50.0|         50|         50|       77.5|         75|         80|\n",
            "+----------+-----------+-----------+-----------+-----------+-----------+-----------+\n",
            "\n"
          ]
        }
      ]
    },
    {
      "cell_type": "code",
      "source": [
        "estudiantes.groupBy('graduacion').pivot('sexo',['M']).agg(\n",
        "  avg('peso'),\n",
        "  min('peso'),\n",
        "  max('peso')\n",
        ").show()"
      ],
      "metadata": {
        "colab": {
          "base_uri": "https://localhost:8080/"
        },
        "id": "CLY693G9dFAi",
        "outputId": "bfc94d6d-05d7-4247-df69-536b8f917bb6"
      },
      "execution_count": null,
      "outputs": [
        {
          "output_type": "stream",
          "name": "stdout",
          "text": [
            "+----------+-----------+-----------+-----------+\n",
            "|graduacion|M_avg(peso)|M_min(peso)|M_max(peso)|\n",
            "+----------+-----------+-----------+-----------+\n",
            "|      2001|       76.0|         76|         76|\n",
            "|      2000|       77.5|         75|         80|\n",
            "+----------+-----------+-----------+-----------+\n",
            "\n"
          ]
        }
      ]
    },
    {
      "cell_type": "markdown",
      "source": [
        "# Joins"
      ],
      "metadata": {
        "id": "NEknLaTDgs9w"
      }
    },
    {
      "cell_type": "markdown",
      "source": [
        "## Inner Join"
      ],
      "metadata": {
        "id": "_ENY_0Hci8ix"
      }
    },
    {
      "cell_type": "code",
      "source": [
        "empleados = spark.read.parquet('./data-join/empleados')\n",
        "departamentos = spark.read.parquet('./data-join/departamentos')"
      ],
      "metadata": {
        "id": "pWFlgcaPi__h"
      },
      "execution_count": null,
      "outputs": []
    },
    {
      "cell_type": "code",
      "source": [
        "empleados.show()"
      ],
      "metadata": {
        "colab": {
          "base_uri": "https://localhost:8080/"
        },
        "id": "DPiwWDI4lEzR",
        "outputId": "d0151d8c-eb26-42ef-e5df-9aba7c6a05fb"
      },
      "execution_count": null,
      "outputs": [
        {
          "output_type": "stream",
          "name": "stdout",
          "text": [
            "+------+--------+\n",
            "|nombre|num_dpto|\n",
            "+------+--------+\n",
            "|  Luis|      33|\n",
            "| Katia|      33|\n",
            "|  Raul|      34|\n",
            "| Pedro|       0|\n",
            "| Laura|      34|\n",
            "|Sandro|      31|\n",
            "+------+--------+\n",
            "\n"
          ]
        }
      ]
    },
    {
      "cell_type": "code",
      "source": [
        "departamentos.show()"
      ],
      "metadata": {
        "colab": {
          "base_uri": "https://localhost:8080/"
        },
        "id": "2OK590qslGaw",
        "outputId": "d3265191-6bbc-4e20-e6d9-e303440f8c24"
      },
      "execution_count": null,
      "outputs": [
        {
          "output_type": "stream",
          "name": "stdout",
          "text": [
            "+---+-----------+\n",
            "| id|nombre_dpto|\n",
            "+---+-----------+\n",
            "| 31|     letras|\n",
            "| 33|    derecho|\n",
            "| 34| matemática|\n",
            "| 35|informática|\n",
            "+---+-----------+\n",
            "\n"
          ]
        }
      ]
    },
    {
      "cell_type": "markdown",
      "source": [
        "Inner join"
      ],
      "metadata": {
        "id": "dY8tNRkKlUA_"
      }
    },
    {
      "cell_type": "code",
      "source": [
        "join_df = empleados.join(departamentos, col('num_dpto') == col('id'))\n",
        "\n",
        "join_df.show()"
      ],
      "metadata": {
        "colab": {
          "base_uri": "https://localhost:8080/"
        },
        "id": "foHULdMnlJDo",
        "outputId": "d746fd76-5c6a-490c-f60c-3d2056e44322"
      },
      "execution_count": null,
      "outputs": [
        {
          "output_type": "stream",
          "name": "stdout",
          "text": [
            "+------+--------+---+-----------+\n",
            "|nombre|num_dpto| id|nombre_dpto|\n",
            "+------+--------+---+-----------+\n",
            "|  Luis|      33| 33|    derecho|\n",
            "| Katia|      33| 33|    derecho|\n",
            "|  Raul|      34| 34| matemática|\n",
            "| Laura|      34| 34| matemática|\n",
            "|Sandro|      31| 31|     letras|\n",
            "+------+--------+---+-----------+\n",
            "\n"
          ]
        }
      ]
    },
    {
      "cell_type": "code",
      "source": [
        "join_df = empleados.join(departamentos, col('num_dpto') == col('id'), 'inner')\n",
        "\n",
        "join_df.show()"
      ],
      "metadata": {
        "colab": {
          "base_uri": "https://localhost:8080/"
        },
        "id": "9HEA6E4gmFCw",
        "outputId": "83bc650e-a8a7-4d17-8f87-b5651972a0e4"
      },
      "execution_count": null,
      "outputs": [
        {
          "output_type": "stream",
          "name": "stdout",
          "text": [
            "+------+--------+---+-----------+\n",
            "|nombre|num_dpto| id|nombre_dpto|\n",
            "+------+--------+---+-----------+\n",
            "|  Luis|      33| 33|    derecho|\n",
            "| Katia|      33| 33|    derecho|\n",
            "|  Raul|      34| 34| matemática|\n",
            "| Laura|      34| 34| matemática|\n",
            "|Sandro|      31| 31|     letras|\n",
            "+------+--------+---+-----------+\n",
            "\n"
          ]
        }
      ]
    },
    {
      "cell_type": "code",
      "source": [
        "join_df = empleados.join(departamentos).where(col('num_dpto') == col('id'))\n",
        "\n",
        "join_df.show()"
      ],
      "metadata": {
        "colab": {
          "base_uri": "https://localhost:8080/"
        },
        "id": "p7x3j3EFnF27",
        "outputId": "38999ae3-ad7a-4623-de85-305e5e6f4f04"
      },
      "execution_count": null,
      "outputs": [
        {
          "output_type": "stream",
          "name": "stdout",
          "text": [
            "+------+--------+---+-----------+\n",
            "|nombre|num_dpto| id|nombre_dpto|\n",
            "+------+--------+---+-----------+\n",
            "|  Luis|      33| 33|    derecho|\n",
            "| Katia|      33| 33|    derecho|\n",
            "|  Raul|      34| 34| matemática|\n",
            "| Laura|      34| 34| matemática|\n",
            "|Sandro|      31| 31|     letras|\n",
            "+------+--------+---+-----------+\n",
            "\n"
          ]
        }
      ]
    },
    {
      "cell_type": "markdown",
      "source": [
        "## Left Outer Join\n",
        "\n"
      ],
      "metadata": {
        "id": "8f_J2z9tnroQ"
      }
    },
    {
      "cell_type": "code",
      "source": [
        "empleados.join(departamentos, col('num_dpto') == col('id'), 'leftouter').show()"
      ],
      "metadata": {
        "colab": {
          "base_uri": "https://localhost:8080/"
        },
        "id": "wMiKdUh6oNgN",
        "outputId": "c3505c9c-fc58-4912-f38f-416205f91117"
      },
      "execution_count": null,
      "outputs": [
        {
          "output_type": "stream",
          "name": "stdout",
          "text": [
            "+------+--------+----+-----------+\n",
            "|nombre|num_dpto|  id|nombre_dpto|\n",
            "+------+--------+----+-----------+\n",
            "|  Luis|      33|  33|    derecho|\n",
            "| Katia|      33|  33|    derecho|\n",
            "|  Raul|      34|  34| matemática|\n",
            "| Pedro|       0|null|       null|\n",
            "| Laura|      34|  34| matemática|\n",
            "|Sandro|      31|  31|     letras|\n",
            "+------+--------+----+-----------+\n",
            "\n"
          ]
        }
      ]
    },
    {
      "cell_type": "code",
      "source": [
        "empleados.join(departamentos, col('num_dpto') == col('id'), 'left_outer').show()"
      ],
      "metadata": {
        "colab": {
          "base_uri": "https://localhost:8080/"
        },
        "id": "qELMGTAqoZuG",
        "outputId": "682923b4-f65a-4d49-aa62-3a58a9141714"
      },
      "execution_count": null,
      "outputs": [
        {
          "output_type": "stream",
          "name": "stdout",
          "text": [
            "+------+--------+----+-----------+\n",
            "|nombre|num_dpto|  id|nombre_dpto|\n",
            "+------+--------+----+-----------+\n",
            "|  Luis|      33|  33|    derecho|\n",
            "| Katia|      33|  33|    derecho|\n",
            "|  Raul|      34|  34| matemática|\n",
            "| Pedro|       0|null|       null|\n",
            "| Laura|      34|  34| matemática|\n",
            "|Sandro|      31|  31|     letras|\n",
            "+------+--------+----+-----------+\n",
            "\n"
          ]
        }
      ]
    },
    {
      "cell_type": "code",
      "source": [
        "empleados.join(departamentos, col('num_dpto') == col('id'), 'left').show()"
      ],
      "metadata": {
        "colab": {
          "base_uri": "https://localhost:8080/"
        },
        "id": "at9DRZ_iomZv",
        "outputId": "830a95da-43a5-45f7-cdbd-6d9169e22e9b"
      },
      "execution_count": null,
      "outputs": [
        {
          "output_type": "stream",
          "name": "stdout",
          "text": [
            "+------+--------+----+-----------+\n",
            "|nombre|num_dpto|  id|nombre_dpto|\n",
            "+------+--------+----+-----------+\n",
            "|  Luis|      33|  33|    derecho|\n",
            "| Katia|      33|  33|    derecho|\n",
            "|  Raul|      34|  34| matemática|\n",
            "| Pedro|       0|null|       null|\n",
            "| Laura|      34|  34| matemática|\n",
            "|Sandro|      31|  31|     letras|\n",
            "+------+--------+----+-----------+\n",
            "\n"
          ]
        }
      ]
    },
    {
      "cell_type": "markdown",
      "source": [
        "## Right Outer Join\n"
      ],
      "metadata": {
        "id": "qhOlnfg2qHuA"
      }
    },
    {
      "cell_type": "code",
      "source": [
        "empleados.join(departamentos, col('num_dpto') == col('id'), 'rightouter').show()"
      ],
      "metadata": {
        "colab": {
          "base_uri": "https://localhost:8080/"
        },
        "id": "iRmBv68OopmW",
        "outputId": "b60b2861-4316-4d30-fbb4-820d498cb440"
      },
      "execution_count": null,
      "outputs": [
        {
          "output_type": "stream",
          "name": "stdout",
          "text": [
            "+------+--------+---+-----------+\n",
            "|nombre|num_dpto| id|nombre_dpto|\n",
            "+------+--------+---+-----------+\n",
            "|Sandro|      31| 31|     letras|\n",
            "| Katia|      33| 33|    derecho|\n",
            "|  Luis|      33| 33|    derecho|\n",
            "| Laura|      34| 34| matemática|\n",
            "|  Raul|      34| 34| matemática|\n",
            "|  null|    null| 35|informática|\n",
            "+------+--------+---+-----------+\n",
            "\n"
          ]
        }
      ]
    },
    {
      "cell_type": "code",
      "source": [
        "empleados.join(departamentos, col('num_dpto') == col('id'), 'right_outer').show()"
      ],
      "metadata": {
        "colab": {
          "base_uri": "https://localhost:8080/"
        },
        "id": "3jz5AEmVqXAf",
        "outputId": "19cf4eef-c79f-437b-d6de-a58129ceacec"
      },
      "execution_count": null,
      "outputs": [
        {
          "output_type": "stream",
          "name": "stdout",
          "text": [
            "+------+--------+---+-----------+\n",
            "|nombre|num_dpto| id|nombre_dpto|\n",
            "+------+--------+---+-----------+\n",
            "|Sandro|      31| 31|     letras|\n",
            "| Katia|      33| 33|    derecho|\n",
            "|  Luis|      33| 33|    derecho|\n",
            "| Laura|      34| 34| matemática|\n",
            "|  Raul|      34| 34| matemática|\n",
            "|  null|    null| 35|informática|\n",
            "+------+--------+---+-----------+\n",
            "\n"
          ]
        }
      ]
    },
    {
      "cell_type": "code",
      "source": [
        "empleados.join(departamentos, col('num_dpto') == col('id'), 'right').show()"
      ],
      "metadata": {
        "colab": {
          "base_uri": "https://localhost:8080/"
        },
        "id": "MkZ6uTdgus3v",
        "outputId": "ea5458e5-bac9-4801-fec8-dde3014f239c"
      },
      "execution_count": null,
      "outputs": [
        {
          "output_type": "stream",
          "name": "stdout",
          "text": [
            "+------+--------+---+-----------+\n",
            "|nombre|num_dpto| id|nombre_dpto|\n",
            "+------+--------+---+-----------+\n",
            "|Sandro|      31| 31|     letras|\n",
            "| Katia|      33| 33|    derecho|\n",
            "|  Luis|      33| 33|    derecho|\n",
            "| Laura|      34| 34| matemática|\n",
            "|  Raul|      34| 34| matemática|\n",
            "|  null|    null| 35|informática|\n",
            "+------+--------+---+-----------+\n",
            "\n"
          ]
        }
      ]
    },
    {
      "cell_type": "markdown",
      "source": [
        "## Full Outer Join"
      ],
      "metadata": {
        "id": "ENz1kCSdvHNY"
      }
    },
    {
      "cell_type": "code",
      "source": [
        "empleados.join(departamentos, col('num_dpto') == col('id'), 'outer').show()"
      ],
      "metadata": {
        "colab": {
          "base_uri": "https://localhost:8080/"
        },
        "id": "9Xq0yLHhuuuc",
        "outputId": "fdc22cc5-579b-4764-a786-24379be338f5"
      },
      "execution_count": null,
      "outputs": [
        {
          "output_type": "stream",
          "name": "stdout",
          "text": [
            "+------+--------+----+-----------+\n",
            "|nombre|num_dpto|  id|nombre_dpto|\n",
            "+------+--------+----+-----------+\n",
            "| Pedro|       0|null|       null|\n",
            "|Sandro|      31|  31|     letras|\n",
            "|  Luis|      33|  33|    derecho|\n",
            "| Katia|      33|  33|    derecho|\n",
            "|  Raul|      34|  34| matemática|\n",
            "| Laura|      34|  34| matemática|\n",
            "|  null|    null|  35|informática|\n",
            "+------+--------+----+-----------+\n",
            "\n"
          ]
        }
      ]
    },
    {
      "cell_type": "markdown",
      "source": [
        "## Left Anti Join"
      ],
      "metadata": {
        "id": "o_EsCg7XKTwc"
      }
    },
    {
      "cell_type": "code",
      "source": [
        "empleados.join(departamentos, col('num_dpto') == col('id'),'left_anti').show()\n",
        "#que empleados no estan asignados a un departamento"
      ],
      "metadata": {
        "colab": {
          "base_uri": "https://localhost:8080/"
        },
        "id": "rzK9H5uKKXPT",
        "outputId": "95ed70ff-3aca-4acf-fedf-b5970a5a9019"
      },
      "execution_count": null,
      "outputs": [
        {
          "output_type": "stream",
          "name": "stdout",
          "text": [
            "+------+--------+\n",
            "|nombre|num_dpto|\n",
            "+------+--------+\n",
            "| Pedro|       0|\n",
            "+------+--------+\n",
            "\n"
          ]
        }
      ]
    },
    {
      "cell_type": "code",
      "source": [
        "departamentos.join(empleados, col('num_dpto') == col('id'),'left_anti').show()\n",
        "#departamentod e informatica no está asignado a ningún trabajador"
      ],
      "metadata": {
        "colab": {
          "base_uri": "https://localhost:8080/"
        },
        "id": "dARRTNufKl0K",
        "outputId": "b73787e9-b297-4c06-c825-9f2b5de1b191"
      },
      "execution_count": null,
      "outputs": [
        {
          "output_type": "stream",
          "name": "stdout",
          "text": [
            "+---+-----------+\n",
            "| id|nombre_dpto|\n",
            "+---+-----------+\n",
            "| 35|informática|\n",
            "+---+-----------+\n",
            "\n"
          ]
        }
      ]
    },
    {
      "cell_type": "markdown",
      "source": [
        "## Left Semi Join"
      ],
      "metadata": {
        "id": "RnIN5M7oLKWn"
      }
    },
    {
      "cell_type": "code",
      "source": [
        "empleados.join(departamentos, col('num_dpto') == col('id'), 'left_semi').show()"
      ],
      "metadata": {
        "colab": {
          "base_uri": "https://localhost:8080/"
        },
        "id": "opZJ_-SMLYSv",
        "outputId": "e07c4d2a-6e32-4549-abbb-78b879d1428a"
      },
      "execution_count": null,
      "outputs": [
        {
          "output_type": "stream",
          "name": "stdout",
          "text": [
            "+------+--------+\n",
            "|nombre|num_dpto|\n",
            "+------+--------+\n",
            "|  Luis|      33|\n",
            "| Katia|      33|\n",
            "|  Raul|      34|\n",
            "| Laura|      34|\n",
            "|Sandro|      31|\n",
            "+------+--------+\n",
            "\n"
          ]
        }
      ]
    },
    {
      "cell_type": "markdown",
      "source": [
        "## Cross Join"
      ],
      "metadata": {
        "id": "EXIxuwpPOhRE"
      }
    },
    {
      "cell_type": "code",
      "source": [
        "dfcj=empleados.crossJoin(departamentos)"
      ],
      "metadata": {
        "id": "8BOZKNu9LmGX"
      },
      "execution_count": null,
      "outputs": []
    },
    {
      "cell_type": "code",
      "source": [
        "dfcj.show()\n",
        "#multiplica las filas = empleados(6) x departamentos(4)"
      ],
      "metadata": {
        "colab": {
          "base_uri": "https://localhost:8080/"
        },
        "id": "kh2bgk6mO2zO",
        "outputId": "5eeaabb0-48e1-4494-f4cc-252bd4035eb0"
      },
      "execution_count": null,
      "outputs": [
        {
          "output_type": "stream",
          "name": "stdout",
          "text": [
            "+------+--------+---+-----------+\n",
            "|nombre|num_dpto| id|nombre_dpto|\n",
            "+------+--------+---+-----------+\n",
            "|  Luis|      33| 31|     letras|\n",
            "|  Luis|      33| 33|    derecho|\n",
            "|  Luis|      33| 34| matemática|\n",
            "|  Luis|      33| 35|informática|\n",
            "| Katia|      33| 31|     letras|\n",
            "| Katia|      33| 33|    derecho|\n",
            "| Katia|      33| 34| matemática|\n",
            "| Katia|      33| 35|informática|\n",
            "|  Raul|      34| 31|     letras|\n",
            "|  Raul|      34| 33|    derecho|\n",
            "|  Raul|      34| 34| matemática|\n",
            "|  Raul|      34| 35|informática|\n",
            "| Pedro|       0| 31|     letras|\n",
            "| Pedro|       0| 33|    derecho|\n",
            "| Pedro|       0| 34| matemática|\n",
            "| Pedro|       0| 35|informática|\n",
            "| Laura|      34| 31|     letras|\n",
            "| Laura|      34| 33|    derecho|\n",
            "| Laura|      34| 34| matemática|\n",
            "| Laura|      34| 35|informática|\n",
            "+------+--------+---+-----------+\n",
            "only showing top 20 rows\n",
            "\n"
          ]
        }
      ]
    },
    {
      "cell_type": "markdown",
      "source": [
        "## Manejo de Columna duplicados"
      ],
      "metadata": {
        "id": "7uQM66a8PSPr"
      }
    },
    {
      "cell_type": "code",
      "source": [
        "depa = departamentos.withColumn('num_dpto', col('id'))"
      ],
      "metadata": {
        "id": "OIDqH2J4PXMU"
      },
      "execution_count": null,
      "outputs": []
    },
    {
      "cell_type": "code",
      "source": [
        "depa.printSchema()\n",
        "empleados.printSchema()"
      ],
      "metadata": {
        "colab": {
          "base_uri": "https://localhost:8080/"
        },
        "id": "SdXWeelgPlQi",
        "outputId": "fdfc47f9-d5ca-4bc5-cafa-265041c03482"
      },
      "execution_count": null,
      "outputs": [
        {
          "output_type": "stream",
          "name": "stdout",
          "text": [
            "root\n",
            " |-- id: long (nullable = true)\n",
            " |-- nombre_dpto: string (nullable = true)\n",
            " |-- num_dpto: long (nullable = true)\n",
            "\n",
            "root\n",
            " |-- nombre: string (nullable = true)\n",
            " |-- num_dpto: long (nullable = true)\n",
            "\n"
          ]
        }
      ]
    },
    {
      "cell_type": "code",
      "source": [
        "df_duplicados = empleados.join(depa, empleados['num_dpto'] == depa['num_dpto'])"
      ],
      "metadata": {
        "id": "fJmIKXdaQzD1"
      },
      "execution_count": null,
      "outputs": []
    },
    {
      "cell_type": "code",
      "source": [
        "df_duplicados.printSchema()"
      ],
      "metadata": {
        "colab": {
          "base_uri": "https://localhost:8080/"
        },
        "id": "geqjKKE4YsSD",
        "outputId": "01617248-6c4d-4386-e2d0-83297c2cb3b3"
      },
      "execution_count": null,
      "outputs": [
        {
          "output_type": "stream",
          "name": "stdout",
          "text": [
            "root\n",
            " |-- nombre: string (nullable = true)\n",
            " |-- num_dpto: long (nullable = true)\n",
            " |-- id: long (nullable = true)\n",
            " |-- nombre_dpto: string (nullable = true)\n",
            " |-- num_dpto: long (nullable = true)\n",
            "\n"
          ]
        }
      ]
    },
    {
      "cell_type": "code",
      "source": [
        "df_duplicados.select(empleados['num_dpto']).show()"
      ],
      "metadata": {
        "colab": {
          "base_uri": "https://localhost:8080/"
        },
        "id": "s5iMyWTwYwKu",
        "outputId": "6e02438a-994a-4698-d5ac-926fa4f6dace"
      },
      "execution_count": null,
      "outputs": [
        {
          "output_type": "stream",
          "name": "stdout",
          "text": [
            "+--------+\n",
            "|num_dpto|\n",
            "+--------+\n",
            "|      33|\n",
            "|      33|\n",
            "|      34|\n",
            "|      34|\n",
            "|      31|\n",
            "+--------+\n",
            "\n"
          ]
        }
      ]
    },
    {
      "cell_type": "code",
      "source": [
        "df2 = empleados.join(depa,'num_dpto')\n",
        "df2.printSchema()"
      ],
      "metadata": {
        "colab": {
          "base_uri": "https://localhost:8080/"
        },
        "id": "okqW8KwEZE4x",
        "outputId": "e80cfc59-a31d-4d33-ca6e-b640d75ea286"
      },
      "execution_count": null,
      "outputs": [
        {
          "output_type": "stream",
          "name": "stdout",
          "text": [
            "root\n",
            " |-- num_dpto: long (nullable = true)\n",
            " |-- nombre: string (nullable = true)\n",
            " |-- id: long (nullable = true)\n",
            " |-- nombre_dpto: string (nullable = true)\n",
            "\n"
          ]
        }
      ]
    },
    {
      "cell_type": "markdown",
      "source": [
        "## Shuffle Has Join y Broadcast Hash Join"
      ],
      "metadata": {
        "id": "pqbChYneZvvP"
      }
    },
    {
      "cell_type": "code",
      "source": [
        "from pyspark.sql.functions import broadcast"
      ],
      "metadata": {
        "id": "E-EVjapJZfjQ"
      },
      "execution_count": null,
      "outputs": []
    },
    {
      "cell_type": "code",
      "source": [
        "empleados.join(broadcast(departamentos), col('num_dpto') == col('id')).show()"
      ],
      "metadata": {
        "colab": {
          "base_uri": "https://localhost:8080/"
        },
        "id": "manIDbkxalGt",
        "outputId": "96c97555-0fc2-4aa6-f4ea-e5b633f30f97"
      },
      "execution_count": null,
      "outputs": [
        {
          "output_type": "stream",
          "name": "stdout",
          "text": [
            "+------+--------+---+-----------+\n",
            "|nombre|num_dpto| id|nombre_dpto|\n",
            "+------+--------+---+-----------+\n",
            "|  Luis|      33| 33|    derecho|\n",
            "| Katia|      33| 33|    derecho|\n",
            "|  Raul|      34| 34| matemática|\n",
            "| Laura|      34| 34| matemática|\n",
            "|Sandro|      31| 31|     letras|\n",
            "+------+--------+---+-----------+\n",
            "\n"
          ]
        }
      ]
    },
    {
      "cell_type": "code",
      "source": [
        "empleados.join(broadcast(departamentos), col('num_dpto') == col('id')).explain()"
      ],
      "metadata": {
        "colab": {
          "base_uri": "https://localhost:8080/"
        },
        "id": "-UUTrEBhaypl",
        "outputId": "33699640-31b5-448b-d4c9-2a1b0da688ae"
      },
      "execution_count": null,
      "outputs": [
        {
          "output_type": "stream",
          "name": "stdout",
          "text": [
            "== Physical Plan ==\n",
            "AdaptiveSparkPlan isFinalPlan=false\n",
            "+- BroadcastHashJoin [num_dpto#5151L], [id#5154L], Inner, BuildRight, false\n",
            "   :- Filter isnotnull(num_dpto#5151L)\n",
            "   :  +- FileScan parquet [nombre#5150,num_dpto#5151L] Batched: true, DataFilters: [isnotnull(num_dpto#5151L)], Format: Parquet, Location: InMemoryFileIndex(1 paths)[file:/content/data-join/empleados], PartitionFilters: [], PushedFilters: [IsNotNull(num_dpto)], ReadSchema: struct<nombre:string,num_dpto:bigint>\n",
            "   +- BroadcastExchange HashedRelationBroadcastMode(List(input[0, bigint, false]),false), [plan_id=3548]\n",
            "      +- Filter isnotnull(id#5154L)\n",
            "         +- FileScan parquet [id#5154L,nombre_dpto#5155] Batched: true, DataFilters: [isnotnull(id#5154L)], Format: Parquet, Location: InMemoryFileIndex(1 paths)[file:/content/data-join/departamentos], PartitionFilters: [], PushedFilters: [IsNotNull(id)], ReadSchema: struct<id:bigint,nombre_dpto:string>\n",
            "\n",
            "\n"
          ]
        }
      ]
    },
    {
      "cell_type": "markdown",
      "source": [
        "# Ejercicios\n",
        "\n",
        "Los datos adjuntos a esta lección forman parte de la base de datos Football Data from Transfermarkt de Kaggle. El conjunto de datos se compone de varios archivos CSV con información sobre competiciones, juegos, clubes, jugadores y apariciones.\n",
        "\n",
        "1. Determine los tres países con mayor número de jugadores(jugadores nacidos en ese país). El resultado debe estar ordenado de forma descendente.\n",
        "\n",
        "2. Obtenga la lista de jugadores con tarjeta roja. La salida debe contener dos columnas, el nombre de pila del jugador y la cantidad de tarjetas rojas que tiene.\n",
        "\n",
        "3. ¿Cuántos juegos se jugaron en la Premier League? La salida debe contener dos columnas, el nombre de la liga y la cantidad de juegos que se jugaron en ella.\n",
        "\n",
        "4. Obtenga las tres ligas con mayor número de asistencia de público teniendo en cuenta todos los juegos que se jugaron en ellas. El resultado debe estar ordenado de forma descendente y tener dos columnas, el nombre de la liga y la asistencia total."
      ],
      "metadata": {
        "id": "rz4GpW6Ua_Fs"
      }
    },
    {
      "cell_type": "code",
      "source": [
        "#1\n",
        "jugadores = spark.read.option('header',True).option('interSchema','true').csv('./players.csv')\n",
        "jugadores.show()"
      ],
      "metadata": {
        "colab": {
          "base_uri": "https://localhost:8080/"
        },
        "id": "KuXZLRPEa5Xd",
        "outputId": "c28d495b-ec1a-4565-c78e-bcc1ff0fc7f0"
      },
      "execution_count": 16,
      "outputs": [
        {
          "output_type": "stream",
          "name": "stdout",
          "text": [
            "+---------+---------------+--------------------+--------------------+----------------+----------------------+-------------+----------+------------------+-----+------------+-------------------+---------------------------+--------------------+\n",
            "|player_id|current_club_id|                name|         pretty_name|country_of_birth|country_of_citizenship|date_of_birth|  position|      sub_position| foot|height_in_cm|market_value_in_gbp|highest_market_value_in_gbp|                 url|\n",
            "+---------+---------------+--------------------+--------------------+----------------+----------------------+-------------+----------+------------------+-----+------------+-------------------+---------------------------+--------------------+\n",
            "|    38790|          28095|      dmitri-golubov|      Dmitri Golubov|           UdSSR|                Russia|   1985-06-24|    Attack|    Centre-Forward| Both|         178|               null|                   675000.0|https://www.trans...|\n",
            "|   106539|          28095|  aleksandr-vasiljev|  Aleksandr Vasiljev|          Russia|                Russia|   1992-01-23|    Attack|      Right Winger|Right|         182|               null|                   225000.0|https://www.trans...|\n",
            "|   164389|           2288|       rory-donnelly|       Rory Donnelly|Northern Ireland|      Northern Ireland|   1992-02-18|    Attack|    Centre-Forward|Right|         188|           113000.0|                   225000.0|https://www.trans...|\n",
            "|    45247|           1162|      damien-perquis|      Damien Perquis|          France|                France|   1986-03-08|Goalkeeper|        Goalkeeper|Right|         186|               null|                   900000.0|https://www.trans...|\n",
            "|    97205|          28095| nikita-bezlikhotnov| Nikita Bezlikhotnov|           UdSSR|                Russia|   1990-08-19|    Attack|      Right Winger|Right|         179|               null|                   675000.0|https://www.trans...|\n",
            "|    14962|           1177|         jesper-bech|         Jesper Bech|            null|               Denmark|   1982-05-25|  Midfield|  Central Midfield| Left|         177|               null|                  1130000.0|https://www.trans...|\n",
            "|   202836|             24|       yaffa-yusupha|       Yaffa Yusupha|      The Gambia|            The Gambia|   1996-12-31|    Attack|    Centre-Forward| null|           0|               null|                    90000.0|https://www.trans...|\n",
            "|    40027|           5818|       ruben-nygaard|       Ruben Nygaard|            null|               Denmark|   1986-05-25|    Attack|      Right Winger|Right|         175|               null|                   180000.0|https://www.trans...|\n",
            "|    62065|           5818|        dennis-hoegh|        Dennis Hoegh|         Denmark|               Denmark|   1989-02-21|  Midfield|Attacking Midfield|Right|         184|               null|                   225000.0|https://www.trans...|\n",
            "|   203899|            403|         stijn-derkx|         Stijn Derkx|     Netherlands|           Netherlands|   1995-02-03|    Attack|    Centre-Forward|Right|         182|               null|                    45000.0|https://www.trans...|\n",
            "|    48897|           1177|         ade-runsewe|         Ade Runsewe|            null|               Nigeria|   1989-12-01|    Attack|      Right Winger|Right|         176|               null|                   315000.0|https://www.trans...|\n",
            "|    23367|            862|       alessio-sestu|       Alessio Sestu|           Italy|                 Italy|   1983-09-29|    Attack|      Right Winger|Right|         177|               null|                   720000.0|https://www.trans...|\n",
            "|   107958|            862|      nicola-bellomo|      Nicola Bellomo|           Italy|                 Italy|   1991-02-18|  Midfield|Attacking Midfield|Right|         174|               null|                  1620000.0|https://www.trans...|\n",
            "|   103110|           5818| frederik-hammershoj| Frederik Hammershoj|            null|               Denmark|   1987-06-15|  Midfield|  Central Midfield| Left|           0|               null|                   135000.0|https://www.trans...|\n",
            "|    45185|            862|       tomasz-kupisz|       Tomasz Kupisz|          Poland|                Poland|   1990-01-02|  Midfield|    Right Midfield|Right|         180|               null|                   900000.0|https://www.trans...|\n",
            "|   334723|            800|       nicolas-napol|       Nicolas Napol|          France|               Belgium|   1996-04-03|    Attack|    Centre-Forward|Right|         186|               null|                    68000.0|https://www.trans...|\n",
            "|   176130|            800|     lorenzo-rosseti|     Lorenzo Rosseti|           Italy|                 Italy|   1994-08-05|    Attack|    Centre-Forward|Right|         182|               null|                  1080000.0|https://www.trans...|\n",
            "|    47769|           1177|    bjarni-vidarsson|    Bjarni Vidarsson|         Iceland|               Iceland|   1988-03-05|  Midfield|  Central Midfield| Both|         187|               null|                   900000.0|https://www.trans...|\n",
            "|    20726|            800|     rolando-bianchi|     Rolando Bianchi|           Italy|                 Italy|   1983-02-15|    Attack|    Centre-Forward|Right|         188|               null|                 11700000.0|https://www.trans...|\n",
            "|   287631|            276|pierluigi-cappell...|Pierluigi Cappell...|           Italy|                 Italy|   1996-06-09|    Attack|    Centre-Forward| Left|         186|               null|                   270000.0|https://www.trans...|\n",
            "+---------+---------------+--------------------+--------------------+----------------+----------------------+-------------+----------+------------------+-----+------------+-------------------+---------------------------+--------------------+\n",
            "only showing top 20 rows\n",
            "\n"
          ]
        }
      ]
    },
    {
      "cell_type": "code",
      "source": [
        "jugadores.printSchema()"
      ],
      "metadata": {
        "colab": {
          "base_uri": "https://localhost:8080/"
        },
        "id": "k2ilGCoghSFZ",
        "outputId": "1d5e4d74-3c7a-4d2e-95f1-9e270a2842f5"
      },
      "execution_count": null,
      "outputs": [
        {
          "output_type": "stream",
          "name": "stdout",
          "text": [
            "root\n",
            " |-- player_id: string (nullable = true)\n",
            " |-- current_club_id: string (nullable = true)\n",
            " |-- name: string (nullable = true)\n",
            " |-- pretty_name: string (nullable = true)\n",
            " |-- country_of_birth: string (nullable = true)\n",
            " |-- country_of_citizenship: string (nullable = true)\n",
            " |-- date_of_birth: string (nullable = true)\n",
            " |-- position: string (nullable = true)\n",
            " |-- sub_position: string (nullable = true)\n",
            " |-- foot: string (nullable = true)\n",
            " |-- height_in_cm: string (nullable = true)\n",
            " |-- market_value_in_gbp: string (nullable = true)\n",
            " |-- highest_market_value_in_gbp: string (nullable = true)\n",
            " |-- url: string (nullable = true)\n",
            "\n"
          ]
        }
      ]
    },
    {
      "cell_type": "code",
      "source": [
        "#Mi solución\n",
        "(jugadores.groupBy('country_of_birth')\n",
        "    .count()\n",
        "    .orderBy(desc('count'))\n",
        "    .filter(col('country_of_birth') != 'null')\n",
        ").show(3)"
      ],
      "metadata": {
        "colab": {
          "base_uri": "https://localhost:8080/"
        },
        "id": "pgqY6-IiceJF",
        "outputId": "868d1073-660c-4a8a-8563-7a6b8208f6aa"
      },
      "execution_count": null,
      "outputs": [
        {
          "output_type": "stream",
          "name": "stdout",
          "text": [
            "+----------------+-----+\n",
            "|country_of_birth|count|\n",
            "+----------------+-----+\n",
            "|          France| 1694|\n",
            "|           Spain| 1388|\n",
            "|           Italy| 1312|\n",
            "+----------------+-----+\n",
            "only showing top 3 rows\n",
            "\n"
          ]
        }
      ]
    },
    {
      "cell_type": "code",
      "source": [
        "#Solución 1\n",
        "jugadores.groupBy('country_of_birth').count().orderBy(desc('count')).filter(col('country_of_birth').isNotNull()).limit(3).show()"
      ],
      "metadata": {
        "colab": {
          "base_uri": "https://localhost:8080/"
        },
        "id": "FGG3QziPimr3",
        "outputId": "fcb7b34e-3167-42d3-8eab-7c79ce23a22d"
      },
      "execution_count": null,
      "outputs": [
        {
          "output_type": "stream",
          "name": "stdout",
          "text": [
            "+----------------+-----+\n",
            "|country_of_birth|count|\n",
            "+----------------+-----+\n",
            "|          France| 1694|\n",
            "|           Spain| 1388|\n",
            "|           Italy| 1312|\n",
            "+----------------+-----+\n",
            "\n"
          ]
        }
      ]
    },
    {
      "cell_type": "code",
      "source": [
        "juegos = spark.read.option('header',True).option('interSchema','true').csv('./games.csv')\n",
        "competicion = spark.read.option('header',True).option('interSchema','true').csv('./competitions.csv')\n",
        "apariciones = spark.read.option('header',True).option('interSchema','true').csv('./appearances.csv')"
      ],
      "metadata": {
        "id": "xrGaKpcIeMBT"
      },
      "execution_count": 17,
      "outputs": []
    },
    {
      "cell_type": "code",
      "source": [
        "apariciones.show()"
      ],
      "metadata": {
        "colab": {
          "base_uri": "https://localhost:8080/"
        },
        "id": "P0mlIxMlgiTw",
        "outputId": "24ed4f2f-c5a3-43da-a126-4d1a9b49dc3b"
      },
      "execution_count": null,
      "outputs": [
        {
          "output_type": "stream",
          "name": "stdout",
          "text": [
            "+---------+-------+-------------+--------------+--------------+-----+-------+--------------+------------+---------+\n",
            "|player_id|game_id|appearance_id|competition_id|player_club_id|goals|assists|minutes_played|yellow_cards|red_cards|\n",
            "+---------+-------+-------------+--------------+--------------+-----+-------+--------------+------------+---------+\n",
            "|    52453|2483937|2483937_52453|           RU1|         28095|    0|      0|            90|           0|        0|\n",
            "|    67064|2479929|2479929_67064|           RU1|         28095|    0|      0|            90|           0|        0|\n",
            "|    67064|2483937|2483937_67064|           RU1|         28095|    0|      0|            90|           0|        0|\n",
            "|    67064|2484582|2484582_67064|           RU1|         28095|    0|      0|            55|           0|        0|\n",
            "|    67064|2485965|2485965_67064|           RU1|         28095|    0|      0|            90|           0|        0|\n",
            "|    67064|2487345|2487345_67064|           RU1|         28095|    0|      0|            90|           1|        0|\n",
            "|    67064|2498464|2498464_67064|           RU1|         28095|    0|      0|            90|           0|        0|\n",
            "|    67064|2500260|2500260_67064|           RU1|         28095|    0|      1|            19|           0|        0|\n",
            "|    67064|2506733|2506733_67064|           RU1|         28095|    1|      0|            90|           1|        0|\n",
            "|    67064|2508366|2508366_67064|           RU1|         28095|    0|      0|             2|           0|        0|\n",
            "|    67064|2493717|2493717_67064|           RUP|         28095|    0|      0|            65|           0|        0|\n",
            "|    98558|2498464|2498464_98558|           RU1|         28095|    0|      0|            90|           0|        0|\n",
            "|    36227|2479927|2479927_36227|           RU1|          1186|    0|      0|            45|           1|        0|\n",
            "|    52453|2484582|2484582_52453|           RU1|         28095|    0|      0|            90|           0|        0|\n",
            "|    52453|2485965|2485965_52453|           RU1|         28095|    0|      0|            45|           0|        0|\n",
            "|    52453|2487345|2487345_52453|           RU1|         28095|    0|      0|            53|           0|        0|\n",
            "|    52453|2489341|2489341_52453|           RU1|         28095|    0|      0|            35|           0|        0|\n",
            "|    52453|2493788|2493788_52453|           RU1|         28095|    0|      1|            65|           0|        0|\n",
            "|    52453|2498464|2498464_52453|           RU1|         28095|    0|      0|            19|           0|        0|\n",
            "|    52453|2500260|2500260_52453|           RU1|         28095|    1|      0|            86|           0|        0|\n",
            "+---------+-------+-------------+--------------+--------------+-----+-------+--------------+------------+---------+\n",
            "only showing top 20 rows\n",
            "\n"
          ]
        }
      ]
    },
    {
      "cell_type": "code",
      "source": [
        "#2\n",
        "ejercicio2 = apariciones.join(jugadores, ['player_id'],'left')"
      ],
      "metadata": {
        "id": "5_e-1wtSpjlb"
      },
      "execution_count": 18,
      "outputs": []
    },
    {
      "cell_type": "code",
      "source": [
        "(ejercicio2.filter(col('red_cards') > 0).select(col('pretty_name'),col('red_cards')).groupBy('pretty_name').count().orderBy(desc('count'))).show()"
      ],
      "metadata": {
        "id": "3R5Ml10aoBuZ",
        "colab": {
          "base_uri": "https://localhost:8080/"
        },
        "outputId": "668f0446-effb-4a50-e359-24fbfbf3d693"
      },
      "execution_count": 25,
      "outputs": [
        {
          "output_type": "stream",
          "name": "stdout",
          "text": [
            "+--------------------+-----+\n",
            "|         pretty_name|count|\n",
            "+--------------------+-----+\n",
            "|         Bruno Alves|    2|\n",
            "|   Vangelis Mantzios|    2|\n",
            "|         Ivan Ordets|    2|\n",
            "|  Vyacheslav Checher|    2|\n",
            "| Federico Piovaccari|    2|\n",
            "|      Nicolaj Madsen|    2|\n",
            "|       Kyle Naughton|    2|\n",
            "|        Murat Ceylan|    2|\n",
            "|               Zanka|    2|\n",
            "|                Zito|    2|\n",
            "|       Alvaro Morata|    2|\n",
            "|         Caner Erkin|    2|\n",
            "|        Mikael Ishak|    2|\n",
            "|  Federico Marchetti|    2|\n",
            "|Konstantinos Manolas|    2|\n",
            "|     Marvin Peersman|    2|\n",
            "|        Dougie Imrie|    2|\n",
            "|        Pedro Franco|    2|\n",
            "|      Rafael Marquez|    2|\n",
            "|Dimitrios Chatzii...|    1|\n",
            "+--------------------+-----+\n",
            "only showing top 20 rows\n",
            "\n"
          ]
        }
      ]
    },
    {
      "cell_type": "code",
      "source": [
        "#3\n",
        "juegos.show()"
      ],
      "metadata": {
        "colab": {
          "base_uri": "https://localhost:8080/"
        },
        "id": "NE8eCdZTsaoJ",
        "outputId": "70cac33b-a1b4-4724-8a7a-e4462eaf6a19"
      },
      "execution_count": 26,
      "outputs": [
        {
          "output_type": "stream",
          "name": "stdout",
          "text": [
            "+-------+----------------+------+-------------+----------+------------+------------+---------------+---------------+------------------+------------------+--------------------+----------+--------------------+--------------------+\n",
            "|game_id|competition_code|season|        round|      date|home_club_id|away_club_id|home_club_goals|away_club_goals|home_club_position|away_club_position|             stadium|attendance|             referee|                 url|\n",
            "+-------+----------------+------+-------------+----------+------------+------------+---------------+---------------+------------------+------------------+--------------------+----------+--------------------+--------------------+\n",
            "|2457642|            NLSC|  2014|        Final|2014-08-03|        1269|         610|              1|              0|              null|              null| Johan Cruijff ArenA|     42000|      Danny Makkelie|https://www.trans...|\n",
            "|2639088|            BESC|  2013|        Final|2014-07-20|          58|         498|              2|              1|              null|              null|Constant Vanden S...|     13733|     Jonathan Lardot|https://www.trans...|\n",
            "|2481145|             SUC|  2014|final 1st leg|2014-08-19|         418|          13|              1|              1|              null|              null|   Santiago Bernabéu|     75897|   Estrada Fernández|https://www.trans...|\n",
            "|2484338|            POSU|  2014|        Final|2014-08-10|         294|        2425|              3|              2|              null|              null|Estádio Municipal...|     30000|        Duarte Gomes|https://www.trans...|\n",
            "|2502472|            FRCH|  2014|        Final|2014-08-02|         583|         855|              2|              0|              null|              null|     Workers Stadium|     39752|      Clément Turpin|https://www.trans...|\n",
            "|2459774|             NL1|  2014| 21. Matchday|2015-02-05|         610|        1090|              0|              1|                 2|                 5| Johan Cruijff ArenA|     47724|      Pol van Boekel|https://www.trans...|\n",
            "|2480169|             PO1|  2014| 16. Matchday|2015-01-11|        2425|        1301|              0|              0|                 6|                10|   Estádio dos Arcos|      2230|       Tiago Martins|https://www.trans...|\n",
            "|2490887|             PO1|  2014| 20. Matchday|2015-02-08|        1085|        2990|              0|              0|                14|                16|   Estádio do Bonfim|      3500|     Fábio Veríssimo|https://www.trans...|\n",
            "|2498723|             PO1|  2014| 22. Matchday|2015-02-21|        1085|        3327|              0|              1|                15|                18|   Estádio do Bonfim|      2108|       Rui Rodrigues|https://www.trans...|\n",
            "|2479542|            POCP|  2014|      Group C|2014-08-13|        3345|        4750|              0|              0|              null|              null|      Estádio do Mar|       448|       Jorge Tavares|https://www.trans...|\n",
            "|2460640|              L1|  2014|  2. Matchday|2014-08-30|          86|         533|              1|              1|                 9|                 3|Wohninvest-Wesers...|     38900|     Robert Hartmann|https://www.trans...|\n",
            "|2460300|             GB1|  2014|  1. Matchday|2014-08-16|         985|        2288|              1|              2|                15|                 5|        Old Trafford|     75339|           Mike Dean|https://www.trans...|\n",
            "|2486545|             GB1|  2014|  8. Matchday|2014-10-18|         180|         289|              8|              0|                 3|                17|   St Mary's Stadium|     29615|      Andre Marriner|https://www.trans...|\n",
            "|2486598|             GB1|  2014| 13. Matchday|2014-11-30|         148|          29|              2|              1|                 7|                10|     White Hart Lane|     35901|      Michael Oliver|https://www.trans...|\n",
            "|2486692|             GB1|  2014| 23. Matchday|2015-01-31|        3008|         762|              0|              3|                18|                11|        KCOM Stadium|     23925|           Phil Dowd|https://www.trans...|\n",
            "|2486714|             GB1|  2014| 25. Matchday|2015-02-10|          31|         148|              3|              2|                 7|                 6|             Anfield|     44577|           Phil Dowd|https://www.trans...|\n",
            "|2486726|             GB1|  2014| 26. Matchday|2015-02-21|         289|         984|              0|              0|                16|                14|    Stadium of Light|     40943|          Mike Jones|https://www.trans...|\n",
            "|2475235|             ES1|  2014|  6. Matchday|2014-09-26|        1531|         940|              0|              1|                18|                 6|Manuel Martínez V...|     20852|Pedro Jesús Pérez...|https://www.trans...|\n",
            "|2475322|             ES1|  2014| 15. Matchday|2014-12-14|         681|         621|              1|              1|                14|                10|              Anoeta|     26651|David Fernández B...|https://www.trans...|\n",
            "|2475350|             ES1|  2014| 18. Matchday|2015-01-10|        1084|        1050|              1|              1|                 7|                 6|         La Rosaleda|     22077|Santiago Jaime Latre|https://www.trans...|\n",
            "+-------+----------------+------+-------------+----------+------------+------------+---------------+---------------+------------------+------------------+--------------------+----------+--------------------+--------------------+\n",
            "only showing top 20 rows\n",
            "\n"
          ]
        }
      ]
    },
    {
      "cell_type": "code",
      "source": [
        "competicion.show()"
      ],
      "metadata": {
        "colab": {
          "base_uri": "https://localhost:8080/"
        },
        "id": "V3JlqsmSuM2v",
        "outputId": "ae991eb6-cbd8-4cf9-d651-dc4d97846656"
      },
      "execution_count": 27,
      "outputs": [
        {
          "output_type": "stream",
          "name": "stdout",
          "text": [
            "+--------------+--------------------+------------------+----------+------------+--------------------+-------------+--------------------+\n",
            "|competition_id|                name|              type|country_id|country_name|domestic_league_code|confederation|                 url|\n",
            "+--------------+--------------------+------------------+----------+------------+--------------------+-------------+--------------------+\n",
            "|            L1|          bundesliga|        first_tier|        40|     Germany|                  L1|       europa|https://www.trans...|\n",
            "|           DFB|           dfb-pokal|      domestic_cup|        40|     Germany|                  L1|       europa|https://www.trans...|\n",
            "|           DFL|        dfl-supercup|domestic_super_cup|        40|     Germany|                  L1|       europa|https://www.trans...|\n",
            "|           NL1|          eredivisie|        first_tier|       122| Netherlands|                 NL1|       europa|https://www.trans...|\n",
            "|           NLP|     toto-knvb-beker|      domestic_cup|       122| Netherlands|                 NL1|       europa|https://www.trans...|\n",
            "|          NLSC|johan-cruijff-schaal|domestic_super_cup|       122| Netherlands|                 NL1|       europa|https://www.trans...|\n",
            "|           BE1|  jupiler-pro-league|        first_tier|        19|     Belgium|                 BE1|       europa|https://www.trans...|\n",
            "|          BESC|    belgian-supercup|domestic_super_cup|        19|     Belgium|                 BE1|       europa|https://www.trans...|\n",
            "|           ES1|              laliga|        first_tier|       157|       Spain|                 ES1|       europa|https://www.trans...|\n",
            "|           CDR|        copa-del-rey|      domestic_cup|       157|       Spain|                 ES1|       europa|https://www.trans...|\n",
            "|           SUC|           supercopa|domestic_super_cup|       157|       Spain|                 ES1|       europa|https://www.trans...|\n",
            "|           PO1|  liga-portugal-bwin|        first_tier|       136|    Portugal|                 PO1|       europa|https://www.trans...|\n",
            "|          POCP|         allianz-cup|      domestic_cup|       136|    Portugal|                 PO1|       europa|https://www.trans...|\n",
            "|          POSU|supertaca-candido...|domestic_super_cup|       136|    Portugal|                 PO1|       europa|https://www.trans...|\n",
            "|           FR1|             ligue-1|        first_tier|        50|      France|                 FR1|       europa|https://www.trans...|\n",
            "|          FRCH|trophee-des-champ...|domestic_super_cup|        50|      France|                 FR1|       europa|https://www.trans...|\n",
            "|           GB1|      premier-league|        first_tier|       189|     England|                 GB1|       europa|https://www.trans...|\n",
            "|           CGB|             efl-cup|      domestic_cup|       189|     England|                 GB1|       europa|https://www.trans...|\n",
            "|          GBCS|    community-shield|domestic_super_cup|       189|     England|                 GB1|       europa|https://www.trans...|\n",
            "|           RU1|        premier-liga|        first_tier|       141|      Russia|                 RU1|       europa|https://www.trans...|\n",
            "+--------------+--------------------+------------------+----------+------------+--------------------+-------------+--------------------+\n",
            "only showing top 20 rows\n",
            "\n"
          ]
        }
      ]
    },
    {
      "cell_type": "code",
      "source": [
        "ejercicio3 = juegos.join(competicion,col('competition_id') == col('competition_code'), 'left')"
      ],
      "metadata": {
        "id": "Ms1meKKbuPcQ"
      },
      "execution_count": 28,
      "outputs": []
    },
    {
      "cell_type": "code",
      "source": [
        "ejercicio3.show()"
      ],
      "metadata": {
        "colab": {
          "base_uri": "https://localhost:8080/"
        },
        "id": "HoyExm1tumVA",
        "outputId": "688801cb-f26a-4164-c909-659fc3cc2614"
      },
      "execution_count": 29,
      "outputs": [
        {
          "output_type": "stream",
          "name": "stdout",
          "text": [
            "+-------+----------------+------+-------------+----------+------------+------------+---------------+---------------+------------------+------------------+--------------------+----------+--------------------+--------------------+--------------+--------------------+------------------+----------+------------+--------------------+-------------+--------------------+\n",
            "|game_id|competition_code|season|        round|      date|home_club_id|away_club_id|home_club_goals|away_club_goals|home_club_position|away_club_position|             stadium|attendance|             referee|                 url|competition_id|                name|              type|country_id|country_name|domestic_league_code|confederation|                 url|\n",
            "+-------+----------------+------+-------------+----------+------------+------------+---------------+---------------+------------------+------------------+--------------------+----------+--------------------+--------------------+--------------+--------------------+------------------+----------+------------+--------------------+-------------+--------------------+\n",
            "|2457642|            NLSC|  2014|        Final|2014-08-03|        1269|         610|              1|              0|              null|              null| Johan Cruijff ArenA|     42000|      Danny Makkelie|https://www.trans...|          NLSC|johan-cruijff-schaal|domestic_super_cup|       122| Netherlands|                 NL1|       europa|https://www.trans...|\n",
            "|2639088|            BESC|  2013|        Final|2014-07-20|          58|         498|              2|              1|              null|              null|Constant Vanden S...|     13733|     Jonathan Lardot|https://www.trans...|          BESC|    belgian-supercup|domestic_super_cup|        19|     Belgium|                 BE1|       europa|https://www.trans...|\n",
            "|2481145|             SUC|  2014|final 1st leg|2014-08-19|         418|          13|              1|              1|              null|              null|   Santiago Bernabéu|     75897|   Estrada Fernández|https://www.trans...|           SUC|           supercopa|domestic_super_cup|       157|       Spain|                 ES1|       europa|https://www.trans...|\n",
            "|2484338|            POSU|  2014|        Final|2014-08-10|         294|        2425|              3|              2|              null|              null|Estádio Municipal...|     30000|        Duarte Gomes|https://www.trans...|          POSU|supertaca-candido...|domestic_super_cup|       136|    Portugal|                 PO1|       europa|https://www.trans...|\n",
            "|2502472|            FRCH|  2014|        Final|2014-08-02|         583|         855|              2|              0|              null|              null|     Workers Stadium|     39752|      Clément Turpin|https://www.trans...|          FRCH|trophee-des-champ...|domestic_super_cup|        50|      France|                 FR1|       europa|https://www.trans...|\n",
            "|2459774|             NL1|  2014| 21. Matchday|2015-02-05|         610|        1090|              0|              1|                 2|                 5| Johan Cruijff ArenA|     47724|      Pol van Boekel|https://www.trans...|           NL1|          eredivisie|        first_tier|       122| Netherlands|                 NL1|       europa|https://www.trans...|\n",
            "|2480169|             PO1|  2014| 16. Matchday|2015-01-11|        2425|        1301|              0|              0|                 6|                10|   Estádio dos Arcos|      2230|       Tiago Martins|https://www.trans...|           PO1|  liga-portugal-bwin|        first_tier|       136|    Portugal|                 PO1|       europa|https://www.trans...|\n",
            "|2490887|             PO1|  2014| 20. Matchday|2015-02-08|        1085|        2990|              0|              0|                14|                16|   Estádio do Bonfim|      3500|     Fábio Veríssimo|https://www.trans...|           PO1|  liga-portugal-bwin|        first_tier|       136|    Portugal|                 PO1|       europa|https://www.trans...|\n",
            "|2498723|             PO1|  2014| 22. Matchday|2015-02-21|        1085|        3327|              0|              1|                15|                18|   Estádio do Bonfim|      2108|       Rui Rodrigues|https://www.trans...|           PO1|  liga-portugal-bwin|        first_tier|       136|    Portugal|                 PO1|       europa|https://www.trans...|\n",
            "|2479542|            POCP|  2014|      Group C|2014-08-13|        3345|        4750|              0|              0|              null|              null|      Estádio do Mar|       448|       Jorge Tavares|https://www.trans...|          POCP|         allianz-cup|      domestic_cup|       136|    Portugal|                 PO1|       europa|https://www.trans...|\n",
            "|2460640|              L1|  2014|  2. Matchday|2014-08-30|          86|         533|              1|              1|                 9|                 3|Wohninvest-Wesers...|     38900|     Robert Hartmann|https://www.trans...|            L1|          bundesliga|        first_tier|        40|     Germany|                  L1|       europa|https://www.trans...|\n",
            "|2460300|             GB1|  2014|  1. Matchday|2014-08-16|         985|        2288|              1|              2|                15|                 5|        Old Trafford|     75339|           Mike Dean|https://www.trans...|           GB1|      premier-league|        first_tier|       189|     England|                 GB1|       europa|https://www.trans...|\n",
            "|2486545|             GB1|  2014|  8. Matchday|2014-10-18|         180|         289|              8|              0|                 3|                17|   St Mary's Stadium|     29615|      Andre Marriner|https://www.trans...|           GB1|      premier-league|        first_tier|       189|     England|                 GB1|       europa|https://www.trans...|\n",
            "|2486598|             GB1|  2014| 13. Matchday|2014-11-30|         148|          29|              2|              1|                 7|                10|     White Hart Lane|     35901|      Michael Oliver|https://www.trans...|           GB1|      premier-league|        first_tier|       189|     England|                 GB1|       europa|https://www.trans...|\n",
            "|2486692|             GB1|  2014| 23. Matchday|2015-01-31|        3008|         762|              0|              3|                18|                11|        KCOM Stadium|     23925|           Phil Dowd|https://www.trans...|           GB1|      premier-league|        first_tier|       189|     England|                 GB1|       europa|https://www.trans...|\n",
            "|2486714|             GB1|  2014| 25. Matchday|2015-02-10|          31|         148|              3|              2|                 7|                 6|             Anfield|     44577|           Phil Dowd|https://www.trans...|           GB1|      premier-league|        first_tier|       189|     England|                 GB1|       europa|https://www.trans...|\n",
            "|2486726|             GB1|  2014| 26. Matchday|2015-02-21|         289|         984|              0|              0|                16|                14|    Stadium of Light|     40943|          Mike Jones|https://www.trans...|           GB1|      premier-league|        first_tier|       189|     England|                 GB1|       europa|https://www.trans...|\n",
            "|2475235|             ES1|  2014|  6. Matchday|2014-09-26|        1531|         940|              0|              1|                18|                 6|Manuel Martínez V...|     20852|Pedro Jesús Pérez...|https://www.trans...|           ES1|              laliga|        first_tier|       157|       Spain|                 ES1|       europa|https://www.trans...|\n",
            "|2475322|             ES1|  2014| 15. Matchday|2014-12-14|         681|         621|              1|              1|                14|                10|              Anoeta|     26651|David Fernández B...|https://www.trans...|           ES1|              laliga|        first_tier|       157|       Spain|                 ES1|       europa|https://www.trans...|\n",
            "|2475350|             ES1|  2014| 18. Matchday|2015-01-10|        1084|        1050|              1|              1|                 7|                 6|         La Rosaleda|     22077|Santiago Jaime Latre|https://www.trans...|           ES1|              laliga|        first_tier|       157|       Spain|                 ES1|       europa|https://www.trans...|\n",
            "+-------+----------------+------+-------------+----------+------------+------------+---------------+---------------+------------------+------------------+--------------------+----------+--------------------+--------------------+--------------+--------------------+------------------+----------+------------+--------------------+-------------+--------------------+\n",
            "only showing top 20 rows\n",
            "\n"
          ]
        }
      ]
    },
    {
      "cell_type": "code",
      "source": [
        "ejercicio3.groupBy('name').count().filter(col('name') == 'premier-league').show()"
      ],
      "metadata": {
        "colab": {
          "base_uri": "https://localhost:8080/"
        },
        "id": "h4takHS8uo1n",
        "outputId": "6137db85-be26-4801-c7fa-6d39b849a676"
      },
      "execution_count": 30,
      "outputs": [
        {
          "output_type": "stream",
          "name": "stdout",
          "text": [
            "+--------------+-----+\n",
            "|          name|count|\n",
            "+--------------+-----+\n",
            "|premier-league| 1140|\n",
            "+--------------+-----+\n",
            "\n"
          ]
        }
      ]
    },
    {
      "cell_type": "code",
      "source": [
        "# 4\n",
        "ejercicio3.groupBy('name').agg(sum('attendance').alias('Asistencia')).orderBy(desc('Asistencia')).show()"
      ],
      "metadata": {
        "colab": {
          "base_uri": "https://localhost:8080/"
        },
        "id": "DcwSAiyuvE0X",
        "outputId": "a112fa0f-6fa3-44ff-892a-df06202e9e9d"
      },
      "execution_count": 31,
      "outputs": [
        {
          "output_type": "stream",
          "name": "stdout",
          "text": [
            "+--------------------+-----------+\n",
            "|                name| Asistencia|\n",
            "+--------------------+-----------+\n",
            "|      premier-league|4.1208089E7|\n",
            "|          bundesliga|3.9450145E7|\n",
            "|              laliga|3.1520079E7|\n",
            "|             ligue-1|2.5472908E7|\n",
            "|             serie-a|2.5208183E7|\n",
            "|          eredivisie|1.7493449E7|\n",
            "|uefa-champions-le...| 1.569552E7|\n",
            "|       europa-league|1.3831335E7|\n",
            "|        premier-liga|1.0614696E7|\n",
            "|  liga-portugal-bwin|1.0057034E7|\n",
            "|  jupiler-pro-league|  8381986.0|\n",
            "|           super-lig|  7558116.0|\n",
            "|scottish-premiership|  7325968.0|\n",
            "|             efl-cup|  5624813.0|\n",
            "|           dfb-pokal|  5278785.0|\n",
            "|europa-league-qua...|  5189591.0|\n",
            "|uefa-champions-le...|  4327316.0|\n",
            "|         superligaen|  3868520.0|\n",
            "|        copa-del-rey|  3314038.0|\n",
            "|      super-league-1|  2775557.0|\n",
            "+--------------------+-----------+\n",
            "only showing top 20 rows\n",
            "\n"
          ]
        }
      ]
    }
  ]
}
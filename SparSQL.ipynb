{
  "nbformat": 4,
  "nbformat_minor": 0,
  "metadata": {
    "colab": {
      "provenance": [],
      "authorship_tag": "ABX9TyNC+aOIGAoWC63unl3OwdqL",
      "include_colab_link": true
    },
    "kernelspec": {
      "name": "python3",
      "display_name": "Python 3"
    },
    "language_info": {
      "name": "python"
    }
  },
  "cells": [
    {
      "cell_type": "markdown",
      "metadata": {
        "id": "view-in-github",
        "colab_type": "text"
      },
      "source": [
        "<a href=\"https://colab.research.google.com/github/JhonatanWalterSen/spark-in-colab/blob/main/SparSQL.ipynb\" target=\"_parent\"><img src=\"https://colab.research.google.com/assets/colab-badge.svg\" alt=\"Open In Colab\"/></a>"
      ]
    },
    {
      "cell_type": "markdown",
      "source": [
        "# Creando DataFrames"
      ],
      "metadata": {
        "id": "W9SCPbqny4YQ"
      }
    },
    {
      "cell_type": "markdown",
      "source": [
        "# Instalaciones"
      ],
      "metadata": {
        "id": "C-Pfuus_v8ql"
      }
    },
    {
      "cell_type": "code",
      "execution_count": 3,
      "metadata": {
        "id": "KIiDU7_LN11y"
      },
      "outputs": [],
      "source": [
        "# Instalar Java 8 scas\n",
        "!apt-get install openjdk-8-jdk-headless -qq > /dev/null"
      ]
    },
    {
      "cell_type": "code",
      "source": [
        "# Descargar Spark\n",
        "!wget -q http://apache.osuosl.org/spark/spark-3.3.1/spark-3.3.1-bin-hadoop3.tgz"
      ],
      "metadata": {
        "id": "W420l22MwHAM"
      },
      "execution_count": 4,
      "outputs": []
    },
    {
      "cell_type": "code",
      "source": [
        "# Descomprimir Spart\n",
        "!tar xf spark-3.3.1-bin-hadoop3.tgz"
      ],
      "metadata": {
        "id": "EREKbkkJw9-b"
      },
      "execution_count": 5,
      "outputs": []
    },
    {
      "cell_type": "code",
      "source": [
        "# Establecer las variables de Entorno\n",
        "import os \n",
        "os.environ[\"JAVA_HOME\"] = \"/usr/lib/jvm/java-8-openjdk-amd64\"\n",
        "os.environ[\"SPARK_HOME\"] = \"/content/spark-3.3.1-bin-hadoop3\""
      ],
      "metadata": {
        "id": "9y8bb_dOw-e1"
      },
      "execution_count": 6,
      "outputs": []
    },
    {
      "cell_type": "code",
      "source": [
        "# Instalar FindSpark en el sistema\n",
        "!pip install -q findspark"
      ],
      "metadata": {
        "id": "kYaVDgf5xFPj"
      },
      "execution_count": 7,
      "outputs": []
    },
    {
      "cell_type": "code",
      "source": [
        "import findspark"
      ],
      "metadata": {
        "id": "CxqAaLHvxdRL"
      },
      "execution_count": 8,
      "outputs": []
    },
    {
      "cell_type": "code",
      "source": [
        "findspark.init()"
      ],
      "metadata": {
        "id": "NuX9lXraxp5j"
      },
      "execution_count": 9,
      "outputs": []
    },
    {
      "cell_type": "code",
      "source": [
        "from pyspark.sql import SparkSession\n",
        "spark = SparkSession.builder.appName('DataFrame').master('local[*]').getOrCreate()"
      ],
      "metadata": {
        "id": "CzZ45rk3xuMi"
      },
      "execution_count": 10,
      "outputs": []
    },
    {
      "cell_type": "code",
      "source": [
        "spark\n"
      ],
      "metadata": {
        "colab": {
          "base_uri": "https://localhost:8080/",
          "height": 219
        },
        "id": "XirW4wEAyFwr",
        "outputId": "a4dc32fa-de79-41e8-a1d2-c28bc8e03540"
      },
      "execution_count": 9,
      "outputs": [
        {
          "output_type": "execute_result",
          "data": {
            "text/plain": [
              "<pyspark.sql.session.SparkSession at 0x7f6732de8610>"
            ],
            "text/html": [
              "\n",
              "            <div>\n",
              "                <p><b>SparkSession - in-memory</b></p>\n",
              "                \n",
              "        <div>\n",
              "            <p><b>SparkContext</b></p>\n",
              "\n",
              "            <p><a href=\"http://2c2c37ec4c94:4040\">Spark UI</a></p>\n",
              "\n",
              "            <dl>\n",
              "              <dt>Version</dt>\n",
              "                <dd><code>v3.3.1</code></dd>\n",
              "              <dt>Master</dt>\n",
              "                <dd><code>local[*]</code></dd>\n",
              "              <dt>AppName</dt>\n",
              "                <dd><code>DataFrame</code></dd>\n",
              "            </dl>\n",
              "        </div>\n",
              "        \n",
              "            </div>\n",
              "        "
            ]
          },
          "metadata": {},
          "execution_count": 9
        }
      ]
    },
    {
      "cell_type": "code",
      "source": [
        "sc = spark.sparkContext"
      ],
      "metadata": {
        "id": "pwzBRwO4yx5r"
      },
      "execution_count": 11,
      "outputs": []
    },
    {
      "cell_type": "code",
      "source": [
        "rdd = sc.parallelize([item for item in range(10)]).map(lambda x: (x,x**2))"
      ],
      "metadata": {
        "id": "f3MnrpDdkvsy"
      },
      "execution_count": 11,
      "outputs": []
    },
    {
      "cell_type": "code",
      "source": [
        "rdd.collect()"
      ],
      "metadata": {
        "colab": {
          "base_uri": "https://localhost:8080/"
        },
        "id": "64sOaXlgkzhE",
        "outputId": "1c458474-6273-401b-d70d-5946a311b284"
      },
      "execution_count": 12,
      "outputs": [
        {
          "output_type": "execute_result",
          "data": {
            "text/plain": [
              "[(0, 0),\n",
              " (1, 1),\n",
              " (2, 4),\n",
              " (3, 9),\n",
              " (4, 16),\n",
              " (5, 25),\n",
              " (6, 36),\n",
              " (7, 49),\n",
              " (8, 64),\n",
              " (9, 81)]"
            ]
          },
          "metadata": {},
          "execution_count": 12
        }
      ]
    },
    {
      "cell_type": "code",
      "source": [
        "df = rdd.toDF(['numero','cuadrado'])"
      ],
      "metadata": {
        "id": "_OSZOQ-LoacO"
      },
      "execution_count": 13,
      "outputs": []
    },
    {
      "cell_type": "code",
      "source": [
        "df.printSchema()"
      ],
      "metadata": {
        "colab": {
          "base_uri": "https://localhost:8080/"
        },
        "id": "iAMW1mLAopDG",
        "outputId": "baa2e25f-8f92-49e3-dd63-e7e267acd93f"
      },
      "execution_count": 14,
      "outputs": [
        {
          "output_type": "stream",
          "name": "stdout",
          "text": [
            "root\n",
            " |-- numero: long (nullable = true)\n",
            " |-- cuadrado: long (nullable = true)\n",
            "\n"
          ]
        }
      ]
    },
    {
      "cell_type": "code",
      "source": [
        "df.show()"
      ],
      "metadata": {
        "colab": {
          "base_uri": "https://localhost:8080/"
        },
        "id": "w7_srkutpAKe",
        "outputId": "75bd97e8-a0c0-4512-b755-6a73a52517f0"
      },
      "execution_count": 15,
      "outputs": [
        {
          "output_type": "stream",
          "name": "stdout",
          "text": [
            "+------+--------+\n",
            "|numero|cuadrado|\n",
            "+------+--------+\n",
            "|     0|       0|\n",
            "|     1|       1|\n",
            "|     2|       4|\n",
            "|     3|       9|\n",
            "|     4|      16|\n",
            "|     5|      25|\n",
            "|     6|      36|\n",
            "|     7|      49|\n",
            "|     8|      64|\n",
            "|     9|      81|\n",
            "+------+--------+\n",
            "\n"
          ]
        }
      ]
    },
    {
      "cell_type": "markdown",
      "source": [
        "crear un dataframe a partir de un rdd con schema"
      ],
      "metadata": {
        "id": "inZu5HGjp_gV"
      }
    },
    {
      "cell_type": "code",
      "source": [
        "rdd1 = sc.parallelize([(1,'jose',35.5),(2,'Teresa',54.2),(3,'Karl',12.7)])"
      ],
      "metadata": {
        "id": "lbYrBYTSqCx1"
      },
      "execution_count": 16,
      "outputs": []
    },
    {
      "cell_type": "markdown",
      "source": [
        "importar"
      ],
      "metadata": {
        "id": "9OjVc1JMqlOG"
      }
    },
    {
      "cell_type": "code",
      "source": [
        "from pyspark.sql.types import StructType, StructField, IntegerType, StringType, DoubleType"
      ],
      "metadata": {
        "id": "nVTvgoqzqmVE"
      },
      "execution_count": 13,
      "outputs": []
    },
    {
      "cell_type": "code",
      "source": [
        "# Via uno\n",
        "\n",
        "esquema1 = StructType(\n",
        "    [\n",
        "        StructField('id', IntegerType(),True),\n",
        "        StructField('nombre', StringType(),True),\n",
        "        StructField('saldo', DoubleType(),True),\n",
        "    ]\n",
        ")"
      ],
      "metadata": {
        "id": "Kp-Vbb44q9ns"
      },
      "execution_count": 18,
      "outputs": []
    },
    {
      "cell_type": "code",
      "source": [
        "# Via dos\n",
        "esquema2 = \"`id` INT, `nombre` STRING, `saldo` DOUBLE\""
      ],
      "metadata": {
        "id": "Tsg-x4ty2ztD"
      },
      "execution_count": 19,
      "outputs": []
    },
    {
      "cell_type": "code",
      "source": [
        "df1 = spark.createDataFrame(rdd1, schema=esquema1)"
      ],
      "metadata": {
        "id": "k_28qCfu6-aB"
      },
      "execution_count": 20,
      "outputs": []
    },
    {
      "cell_type": "code",
      "source": [
        "df1.printSchema()"
      ],
      "metadata": {
        "colab": {
          "base_uri": "https://localhost:8080/"
        },
        "id": "ArzTJSEH7V__",
        "outputId": "b1a0ff57-da69-404d-d02c-3b161d9fbfc2"
      },
      "execution_count": 21,
      "outputs": [
        {
          "output_type": "stream",
          "name": "stdout",
          "text": [
            "root\n",
            " |-- id: integer (nullable = true)\n",
            " |-- nombre: string (nullable = true)\n",
            " |-- saldo: double (nullable = true)\n",
            "\n"
          ]
        }
      ]
    },
    {
      "cell_type": "code",
      "source": [
        "df1.show()"
      ],
      "metadata": {
        "colab": {
          "base_uri": "https://localhost:8080/"
        },
        "id": "hmTaKrVa7YNR",
        "outputId": "655389c6-9765-49f9-ad18-724feffaa55f"
      },
      "execution_count": 22,
      "outputs": [
        {
          "output_type": "stream",
          "name": "stdout",
          "text": [
            "+---+------+-----+\n",
            "| id|nombre|saldo|\n",
            "+---+------+-----+\n",
            "|  1|  jose| 35.5|\n",
            "|  2|Teresa| 54.2|\n",
            "|  3|  Karl| 12.7|\n",
            "+---+------+-----+\n",
            "\n"
          ]
        }
      ]
    },
    {
      "cell_type": "code",
      "source": [
        "df2 = spark.createDataFrame(rdd1, schema=esquema2)"
      ],
      "metadata": {
        "id": "RvOFrnQQ8Sbg"
      },
      "execution_count": 23,
      "outputs": []
    },
    {
      "cell_type": "code",
      "source": [
        "df2.printSchema()"
      ],
      "metadata": {
        "colab": {
          "base_uri": "https://localhost:8080/"
        },
        "id": "N9Pu3RCk9cvz",
        "outputId": "b4c31455-3e0a-4379-f4a1-5037ba3fb482"
      },
      "execution_count": 24,
      "outputs": [
        {
          "output_type": "stream",
          "name": "stdout",
          "text": [
            "root\n",
            " |-- id: integer (nullable = true)\n",
            " |-- nombre: string (nullable = true)\n",
            " |-- saldo: double (nullable = true)\n",
            "\n"
          ]
        }
      ]
    },
    {
      "cell_type": "code",
      "source": [
        "df2.show()"
      ],
      "metadata": {
        "colab": {
          "base_uri": "https://localhost:8080/"
        },
        "id": "ppGJQlaX9fwg",
        "outputId": "875ab797-d1a4-4e00-ff77-a723c0fff29a"
      },
      "execution_count": 26,
      "outputs": [
        {
          "output_type": "stream",
          "name": "stdout",
          "text": [
            "+---+------+-----+\n",
            "| id|nombre|saldo|\n",
            "+---+------+-----+\n",
            "|  1|  jose| 35.5|\n",
            "|  2|Teresa| 54.2|\n",
            "|  3|  Karl| 12.7|\n",
            "+---+------+-----+\n",
            "\n"
          ]
        }
      ]
    },
    {
      "cell_type": "markdown",
      "source": [
        "Crear DataFrame a partir de fuentes de datos"
      ],
      "metadata": {
        "id": "gMJG2onBYFQs"
      }
    },
    {
      "cell_type": "markdown",
      "source": [
        "TXT"
      ],
      "metadata": {
        "id": "Y7zbJhc5J8UK"
      }
    },
    {
      "cell_type": "code",
      "source": [
        "df = spark.read.text('./dataTXT.txt')"
      ],
      "metadata": {
        "id": "S12nDobV9hao"
      },
      "execution_count": 27,
      "outputs": []
    },
    {
      "cell_type": "code",
      "source": [
        "df.show()"
      ],
      "metadata": {
        "colab": {
          "base_uri": "https://localhost:8080/"
        },
        "id": "NpwLesvtJohH",
        "outputId": "640d95c7-37a8-49e6-90bf-d53aceebec1f"
      },
      "execution_count": 28,
      "outputs": [
        {
          "output_type": "stream",
          "name": "stdout",
          "text": [
            "+--------------------+\n",
            "|               value|\n",
            "+--------------------+\n",
            "|Estamos en el cur...|\n",
            "|En este capítulo ...|\n",
            "|En esta sección e...|\n",
            "|y en este ejemplo...|\n",
            "+--------------------+\n",
            "\n"
          ]
        }
      ]
    },
    {
      "cell_type": "code",
      "source": [
        "df.show(truncate=False)"
      ],
      "metadata": {
        "colab": {
          "base_uri": "https://localhost:8080/"
        },
        "id": "8jPvLyWuJpzW",
        "outputId": "626e98aa-11b6-4308-d1d6-69edb2570f8f"
      },
      "execution_count": 30,
      "outputs": [
        {
          "output_type": "stream",
          "name": "stdout",
          "text": [
            "+-----------------------------------------------------------------------+\n",
            "|value                                                                  |\n",
            "+-----------------------------------------------------------------------+\n",
            "|Estamos en el curso de pyspark                                         |\n",
            "|En este capítulo estamos estudiando el API SQL de Saprk                |\n",
            "|En esta sección estamos creado dataframes a partir de fuentes de datos,|\n",
            "|y en este ejemplo creamos un dataframe a partir de un texto plano      |\n",
            "+-----------------------------------------------------------------------+\n",
            "\n"
          ]
        }
      ]
    },
    {
      "cell_type": "markdown",
      "source": [
        "CSV"
      ],
      "metadata": {
        "id": "4BV-o194J92M"
      }
    },
    {
      "cell_type": "code",
      "source": [
        "df1=spark.read.csv('./dataCSV.csv')"
      ],
      "metadata": {
        "id": "z3l2pKwMJyQF"
      },
      "execution_count": 31,
      "outputs": []
    },
    {
      "cell_type": "code",
      "source": [
        "df1.show()"
      ],
      "metadata": {
        "colab": {
          "base_uri": "https://localhost:8080/"
        },
        "id": "OT9xj1tvKFDt",
        "outputId": "540c66bd-6085-4052-ac1a-a2fc4d0297b9"
      },
      "execution_count": 32,
      "outputs": [
        {
          "output_type": "stream",
          "name": "stdout",
          "text": [
            "+-----------+-------------+--------------------+--------------------+-----------+--------------------+--------------------+-------+------+--------+-------------+--------------------+-----------------+----------------+--------------------+--------------------+\n",
            "|        _c0|          _c1|                 _c2|                 _c3|        _c4|                 _c5|                 _c6|    _c7|   _c8|     _c9|         _c10|                _c11|             _c12|            _c13|                _c14|                _c15|\n",
            "+-----------+-------------+--------------------+--------------------+-----------+--------------------+--------------------+-------+------+--------+-------------+--------------------+-----------------+----------------+--------------------+--------------------+\n",
            "|   video_id|trending_date|               title|       channel_title|category_id|        publish_time|                tags|  views| likes|dislikes|comment_count|      thumbnail_link|comments_disabled|ratings_disabled|video_error_or_re...|         description|\n",
            "|2kyS6SvSYSE|     17.14.11|WE WANT TO TALK A...|        CaseyNeistat|         22|2017-11-13T17:13:...|     SHANtell martin| 748374| 57527|    2966|        15954|https://i.ytimg.c...|            False|           False|               False|SHANTELL'S CHANNE...|\n",
            "|1ZAPwfrtAFY|     17.14.11|The Trump Preside...|     LastWeekTonight|         24|2017-11-13T07:30:...|\"last week tonigh...|2418783| 97185|    6146|        12703|https://i.ytimg.c...|            False|           False|               False|One year after th...|\n",
            "|5qpjK5DgCt4|     17.14.11|Racist Superman |...|        Rudy Mancuso|         23|2017-11-12T19:05:...|\"racist superman\"...|3191434|146033|    5339|         8181|https://i.ytimg.c...|            False|           False|               False|WATCH MY PREVIOUS...|\n",
            "|puqaWrEC7tY|     17.14.11|Nickelback Lyrics...|Good Mythical Mor...|         24|2017-11-13T11:00:...|\"rhett and link\"|...| 343168| 10172|     666|         2146|https://i.ytimg.c...|            False|           False|               False|Today we find out...|\n",
            "|d380meD0W0M|     17.14.11|I Dare You: GOING...|            nigahiga|         24|2017-11-12T18:01:...|\"ryan\"|\"higa\"|\"hi...|2095731|132235|    1989|        17518|https://i.ytimg.c...|            False|           False|               False|I know it's been ...|\n",
            "|gHZ1Qz0KiKM|     17.14.11|2 Weeks with iPho...|            iJustine|         28|2017-11-13T19:07:...|\"ijustine\"|\"week ...| 119180|  9763|     511|         1434|https://i.ytimg.c...|            False|           False|               False|Using the iPhone ...|\n",
            "|39idVpFF7NQ|     17.14.11|Roy Moore & Jeff ...| Saturday Night Live|         24|2017-11-12T05:37:...|\"SNL\"|\"Saturday N...|2103417| 15993|    2445|         1970|https://i.ytimg.c...|            False|           False|               False|Embattled Alabama...|\n",
            "|nc99ccSXST0|     17.14.11|5 Ice Cream Gadge...|  CrazyRussianHacker|         28|2017-11-12T21:50:...|\"5 Ice Cream Gadg...| 817732| 23663|     778|         3432|https://i.ytimg.c...|            False|           False|               False|Ice Cream Pint Co...|\n",
            "|jr9QtXwC9vc|     17.14.11|The Greatest Show...|    20th Century Fox|          1|2017-11-13T14:00:...|\"Trailer\"|\"Hugh J...| 826059|  3543|     119|          340|https://i.ytimg.c...|            False|           False|               False|Inspired by the i...|\n",
            "|TUmyygCMMGA|     17.14.11|Why the rise of t...|                 Vox|         25|2017-11-13T13:45:...|\"vox.com\"|\"vox\"|\"...| 256426| 12654|    1363|         2368|https://i.ytimg.c...|            False|           False|               False|For now, at least...|\n",
            "|9wRQljFNDW8|     17.14.11|Dion Lewis' 103-Y...|                 NFL|         17|2017-11-13T02:05:...|\"NFL\"|\"Football\"|...|  81377|   655|      25|          177|https://i.ytimg.c...|            False|           False|               False|New England Patri...|\n",
            "|VifQlJit6A0|     17.14.11|(SPOILERS) 'Shiva...|                 amc|         24|2017-11-13T03:00:...|\"The Walking Dead...| 104578|  1576|     303|         1279|https://i.ytimg.c...|            False|           False|               False|Shiva arrives jus...|\n",
            "|5E4ZBSInqUU|     17.14.11|Marshmello - Bloc...|          marshmello|         10|2017-11-13T17:00:...|\"marshmello\"|\"blo...| 687582|114188|    1333|         8371|https://i.ytimg.c...|            False|           False|               False|WATCH SILENCE MUS...|\n",
            "|GgVmn66oK_A|     17.14.11|Which Countries A...|       NowThis World|         25|2017-11-12T14:00:...|\"nowthis\"|\"nowthi...| 544770|  7848|    1171|         3981|https://i.ytimg.c...|            False|           False|               False|The world at larg...|\n",
            "|TaTleo4cOs8|     17.14.11|SHOPPING FOR NEW ...|     The king of DIY|         15|2017-11-12T18:30:...|\"shopping for new...| 207532|  7473|     246|         2120|https://i.ytimg.c...|            False|           False|               False|Today we go shopp...|\n",
            "|kgaO45SyaO4|     17.14.11|    The New SpotMini|      BostonDynamics|         28|2017-11-13T20:09:...|\"Robots\"|\"Boston ...|  75752|  9419|      52|         1230|https://i.ytimg.c...|            False|           False|               False|For more informat...|\n",
            "|ZAQs-ctOqXQ|     17.14.11|One Change That W...|             Cracked|         23|2017-11-12T17:00:...|\"pacific rim\"|\"pa...| 295639|  8011|     638|         1256|https://i.ytimg.c...|            False|           False|               False|Pacific Rim was s...|\n",
            "|YVfyYrEmzgM|     17.14.11|How does your bod...|              TED-Ed|         27|2017-11-13T16:00:...|\"TED\"|\"TED-Ed\"|\"T...|  78044|  5398|      53|          385|https://i.ytimg.c...|            False|           False|               False|Check out our Pat...|\n",
            "|eNSN6qet1kE|     17.14.11|HomeMade Electric...|         PeterSripol|         28|2017-11-13T15:30:...|\"ultralight\"|\"air...|  97007| 11963|      36|         2211|https://i.ytimg.c...|            False|           False|               False|aaaannnd now to f...|\n",
            "+-----------+-------------+--------------------+--------------------+-----------+--------------------+--------------------+-------+------+--------+-------------+--------------------+-----------------+----------------+--------------------+--------------------+\n",
            "only showing top 20 rows\n",
            "\n"
          ]
        }
      ]
    },
    {
      "cell_type": "code",
      "source": [
        "df1 = spark.read.option('header','true').csv('./dataCSV.csv')"
      ],
      "metadata": {
        "id": "rtLf740MKG7A"
      },
      "execution_count": 34,
      "outputs": []
    },
    {
      "cell_type": "code",
      "source": [
        "df1.show()"
      ],
      "metadata": {
        "colab": {
          "base_uri": "https://localhost:8080/"
        },
        "id": "LxKlSkhrNaIC",
        "outputId": "fc09fe7d-7cb6-4bdd-d193-b3c82e67c635"
      },
      "execution_count": 35,
      "outputs": [
        {
          "output_type": "stream",
          "name": "stdout",
          "text": [
            "+-----------+-------------+--------------------+--------------------+-----------+--------------------+--------------------+-------+------+--------+-------------+--------------------+-----------------+----------------+----------------------+--------------------+\n",
            "|   video_id|trending_date|               title|       channel_title|category_id|        publish_time|                tags|  views| likes|dislikes|comment_count|      thumbnail_link|comments_disabled|ratings_disabled|video_error_or_removed|         description|\n",
            "+-----------+-------------+--------------------+--------------------+-----------+--------------------+--------------------+-------+------+--------+-------------+--------------------+-----------------+----------------+----------------------+--------------------+\n",
            "|2kyS6SvSYSE|     17.14.11|WE WANT TO TALK A...|        CaseyNeistat|         22|2017-11-13T17:13:...|     SHANtell martin| 748374| 57527|    2966|        15954|https://i.ytimg.c...|            False|           False|                 False|SHANTELL'S CHANNE...|\n",
            "|1ZAPwfrtAFY|     17.14.11|The Trump Preside...|     LastWeekTonight|         24|2017-11-13T07:30:...|\"last week tonigh...|2418783| 97185|    6146|        12703|https://i.ytimg.c...|            False|           False|                 False|One year after th...|\n",
            "|5qpjK5DgCt4|     17.14.11|Racist Superman |...|        Rudy Mancuso|         23|2017-11-12T19:05:...|\"racist superman\"...|3191434|146033|    5339|         8181|https://i.ytimg.c...|            False|           False|                 False|WATCH MY PREVIOUS...|\n",
            "|puqaWrEC7tY|     17.14.11|Nickelback Lyrics...|Good Mythical Mor...|         24|2017-11-13T11:00:...|\"rhett and link\"|...| 343168| 10172|     666|         2146|https://i.ytimg.c...|            False|           False|                 False|Today we find out...|\n",
            "|d380meD0W0M|     17.14.11|I Dare You: GOING...|            nigahiga|         24|2017-11-12T18:01:...|\"ryan\"|\"higa\"|\"hi...|2095731|132235|    1989|        17518|https://i.ytimg.c...|            False|           False|                 False|I know it's been ...|\n",
            "|gHZ1Qz0KiKM|     17.14.11|2 Weeks with iPho...|            iJustine|         28|2017-11-13T19:07:...|\"ijustine\"|\"week ...| 119180|  9763|     511|         1434|https://i.ytimg.c...|            False|           False|                 False|Using the iPhone ...|\n",
            "|39idVpFF7NQ|     17.14.11|Roy Moore & Jeff ...| Saturday Night Live|         24|2017-11-12T05:37:...|\"SNL\"|\"Saturday N...|2103417| 15993|    2445|         1970|https://i.ytimg.c...|            False|           False|                 False|Embattled Alabama...|\n",
            "|nc99ccSXST0|     17.14.11|5 Ice Cream Gadge...|  CrazyRussianHacker|         28|2017-11-12T21:50:...|\"5 Ice Cream Gadg...| 817732| 23663|     778|         3432|https://i.ytimg.c...|            False|           False|                 False|Ice Cream Pint Co...|\n",
            "|jr9QtXwC9vc|     17.14.11|The Greatest Show...|    20th Century Fox|          1|2017-11-13T14:00:...|\"Trailer\"|\"Hugh J...| 826059|  3543|     119|          340|https://i.ytimg.c...|            False|           False|                 False|Inspired by the i...|\n",
            "|TUmyygCMMGA|     17.14.11|Why the rise of t...|                 Vox|         25|2017-11-13T13:45:...|\"vox.com\"|\"vox\"|\"...| 256426| 12654|    1363|         2368|https://i.ytimg.c...|            False|           False|                 False|For now, at least...|\n",
            "|9wRQljFNDW8|     17.14.11|Dion Lewis' 103-Y...|                 NFL|         17|2017-11-13T02:05:...|\"NFL\"|\"Football\"|...|  81377|   655|      25|          177|https://i.ytimg.c...|            False|           False|                 False|New England Patri...|\n",
            "|VifQlJit6A0|     17.14.11|(SPOILERS) 'Shiva...|                 amc|         24|2017-11-13T03:00:...|\"The Walking Dead...| 104578|  1576|     303|         1279|https://i.ytimg.c...|            False|           False|                 False|Shiva arrives jus...|\n",
            "|5E4ZBSInqUU|     17.14.11|Marshmello - Bloc...|          marshmello|         10|2017-11-13T17:00:...|\"marshmello\"|\"blo...| 687582|114188|    1333|         8371|https://i.ytimg.c...|            False|           False|                 False|WATCH SILENCE MUS...|\n",
            "|GgVmn66oK_A|     17.14.11|Which Countries A...|       NowThis World|         25|2017-11-12T14:00:...|\"nowthis\"|\"nowthi...| 544770|  7848|    1171|         3981|https://i.ytimg.c...|            False|           False|                 False|The world at larg...|\n",
            "|TaTleo4cOs8|     17.14.11|SHOPPING FOR NEW ...|     The king of DIY|         15|2017-11-12T18:30:...|\"shopping for new...| 207532|  7473|     246|         2120|https://i.ytimg.c...|            False|           False|                 False|Today we go shopp...|\n",
            "|kgaO45SyaO4|     17.14.11|    The New SpotMini|      BostonDynamics|         28|2017-11-13T20:09:...|\"Robots\"|\"Boston ...|  75752|  9419|      52|         1230|https://i.ytimg.c...|            False|           False|                 False|For more informat...|\n",
            "|ZAQs-ctOqXQ|     17.14.11|One Change That W...|             Cracked|         23|2017-11-12T17:00:...|\"pacific rim\"|\"pa...| 295639|  8011|     638|         1256|https://i.ytimg.c...|            False|           False|                 False|Pacific Rim was s...|\n",
            "|YVfyYrEmzgM|     17.14.11|How does your bod...|              TED-Ed|         27|2017-11-13T16:00:...|\"TED\"|\"TED-Ed\"|\"T...|  78044|  5398|      53|          385|https://i.ytimg.c...|            False|           False|                 False|Check out our Pat...|\n",
            "|eNSN6qet1kE|     17.14.11|HomeMade Electric...|         PeterSripol|         28|2017-11-13T15:30:...|\"ultralight\"|\"air...|  97007| 11963|      36|         2211|https://i.ytimg.c...|            False|           False|                 False|aaaannnd now to f...|\n",
            "|B5HORANmzHw|     17.14.11|Founding An Inbre...|             SciShow|         27|2017-11-12T22:00:...|\"SciShow\"|\"scienc...| 223871|  8421|     191|         1214|https://i.ytimg.c...|            False|           False|                 False|Thanks to 23AndMe...|\n",
            "+-----------+-------------+--------------------+--------------------+-----------+--------------------+--------------------+-------+------+--------+-------------+--------------------+-----------------+----------------+----------------------+--------------------+\n",
            "only showing top 20 rows\n",
            "\n"
          ]
        }
      ]
    },
    {
      "cell_type": "markdown",
      "source": [
        "LEER ARCHIVOS DE TEXTO CON UN DELIMITADOR DIFERENTE"
      ],
      "metadata": {
        "id": "6wslEAnHS-Ad"
      }
    },
    {
      "cell_type": "code",
      "source": [
        "df2 = spark.read.option('header','true').option('delimiter','|').csv('./dataTab.txt')"
      ],
      "metadata": {
        "id": "sxpNRpwxNg9Q"
      },
      "execution_count": 38,
      "outputs": []
    },
    {
      "cell_type": "code",
      "source": [
        "df2.show()"
      ],
      "metadata": {
        "colab": {
          "base_uri": "https://localhost:8080/"
        },
        "id": "SW7mVoyOTSPQ",
        "outputId": "33d788b1-b137-4c00-a63a-1078d1747710"
      },
      "execution_count": 39,
      "outputs": [
        {
          "output_type": "stream",
          "name": "stdout",
          "text": [
            "+----+----+----------+-----+\n",
            "|pais|edad|     fecha|color|\n",
            "+----+----+----------+-----+\n",
            "|  MX|  23|2021-02-21| rojo|\n",
            "|  CA|  56|2021-06-10| azul|\n",
            "|  US|  32|2020-06-02|verde|\n",
            "+----+----+----------+-----+\n",
            "\n"
          ]
        }
      ]
    },
    {
      "cell_type": "markdown",
      "source": [
        "CREAR UN DATAFRAME A PARTIR DE UN JSON PROPORCIONANDO UN SCHEMA"
      ],
      "metadata": {
        "id": "Al3f5lA0TfR7"
      }
    },
    {
      "cell_type": "code",
      "source": [
        "from pyspark.sql.types import StructType, StructField, StringType, IntegerType, DateType\n",
        "\n",
        "json_schema = StructType(\n",
        "    [\n",
        "        StructField('color', StringType(),True),\n",
        "        StructField('edad', StringType(), True),\n",
        "        StructField('fecha', DateType(), True),\n",
        "        StructField('pais', StringType(), True)\n",
        "    ]\n",
        ")"
      ],
      "metadata": {
        "id": "ihxYK99TTUuV"
      },
      "execution_count": 40,
      "outputs": []
    },
    {
      "cell_type": "code",
      "source": [
        "df4 = spark.read.schema(json_schema).json('./dataJSON.json')"
      ],
      "metadata": {
        "id": "jGE8UGKgY9Ed"
      },
      "execution_count": 41,
      "outputs": []
    },
    {
      "cell_type": "code",
      "source": [
        "df4.show()"
      ],
      "metadata": {
        "colab": {
          "base_uri": "https://localhost:8080/"
        },
        "id": "JwwaOZxRcV_4",
        "outputId": "8f28ead6-6f0d-41f6-c31e-6cba8c166ca1"
      },
      "execution_count": 42,
      "outputs": [
        {
          "output_type": "stream",
          "name": "stdout",
          "text": [
            "+-----+----+----------+----+\n",
            "|color|edad|     fecha|pais|\n",
            "+-----+----+----------+----+\n",
            "| rojo|  23|2021-02-21|  MX|\n",
            "| azul|  56|2021-06-10|  CA|\n",
            "|verde|  32|2020-06-02|  US|\n",
            "+-----+----+----------+----+\n",
            "\n"
          ]
        }
      ]
    },
    {
      "cell_type": "code",
      "source": [
        "df4.printSchema()"
      ],
      "metadata": {
        "colab": {
          "base_uri": "https://localhost:8080/"
        },
        "id": "hcz_g3arcXHy",
        "outputId": "81b68f83-049d-4146-d1d6-1cc42238eb91"
      },
      "execution_count": 43,
      "outputs": [
        {
          "output_type": "stream",
          "name": "stdout",
          "text": [
            "root\n",
            " |-- color: string (nullable = true)\n",
            " |-- edad: string (nullable = true)\n",
            " |-- fecha: date (nullable = true)\n",
            " |-- pais: string (nullable = true)\n",
            "\n"
          ]
        }
      ]
    },
    {
      "cell_type": "markdown",
      "source": [
        "dataframe a partir de un parquet"
      ],
      "metadata": {
        "id": "T1I54rEonKaH"
      }
    },
    {
      "cell_type": "code",
      "source": [
        "df5 = spark.read.parquet('./dataPARQUET.parquet')"
      ],
      "metadata": {
        "id": "MyD4HKANcZ9g"
      },
      "execution_count": 44,
      "outputs": []
    },
    {
      "cell_type": "code",
      "source": [
        "df5.show()"
      ],
      "metadata": {
        "colab": {
          "base_uri": "https://localhost:8080/"
        },
        "id": "exNXrXMWncYA",
        "outputId": "13ef8571-14d7-4840-8174-bf031545368f"
      },
      "execution_count": 45,
      "outputs": [
        {
          "output_type": "stream",
          "name": "stdout",
          "text": [
            "+-----------+-------------+--------------------+--------------------+-----------+--------------------+--------------------+-------+------+--------+-------------+--------------------+-----------------+----------------+----------------------+--------------------+\n",
            "|   video_id|trending_date|               title|       channel_title|category_id|        publish_time|                tags|  views| likes|dislikes|comment_count|      thumbnail_link|comments_disabled|ratings_disabled|video_error_or_removed|         description|\n",
            "+-----------+-------------+--------------------+--------------------+-----------+--------------------+--------------------+-------+------+--------+-------------+--------------------+-----------------+----------------+----------------------+--------------------+\n",
            "|2kyS6SvSYSE|     17.14.11|WE WANT TO TALK A...|        CaseyNeistat|         22|2017-11-13T17:13:...|     SHANtell martin| 748374| 57527|    2966|        15954|https://i.ytimg.c...|            False|           False|                 False|SHANTELL'S CHANNE...|\n",
            "|1ZAPwfrtAFY|     17.14.11|The Trump Preside...|     LastWeekTonight|         24|2017-11-13T07:30:...|\"last week tonigh...|2418783| 97185|    6146|        12703|https://i.ytimg.c...|            False|           False|                 False|One year after th...|\n",
            "|5qpjK5DgCt4|     17.14.11|Racist Superman |...|        Rudy Mancuso|         23|2017-11-12T19:05:...|\"racist superman\"...|3191434|146033|    5339|         8181|https://i.ytimg.c...|            False|           False|                 False|WATCH MY PREVIOUS...|\n",
            "|puqaWrEC7tY|     17.14.11|Nickelback Lyrics...|Good Mythical Mor...|         24|2017-11-13T11:00:...|\"rhett and link\"|...| 343168| 10172|     666|         2146|https://i.ytimg.c...|            False|           False|                 False|Today we find out...|\n",
            "|d380meD0W0M|     17.14.11|I Dare You: GOING...|            nigahiga|         24|2017-11-12T18:01:...|\"ryan\"|\"higa\"|\"hi...|2095731|132235|    1989|        17518|https://i.ytimg.c...|            False|           False|                 False|I know it's been ...|\n",
            "|gHZ1Qz0KiKM|     17.14.11|2 Weeks with iPho...|            iJustine|         28|2017-11-13T19:07:...|\"ijustine\"|\"week ...| 119180|  9763|     511|         1434|https://i.ytimg.c...|            False|           False|                 False|Using the iPhone ...|\n",
            "|39idVpFF7NQ|     17.14.11|Roy Moore & Jeff ...| Saturday Night Live|         24|2017-11-12T05:37:...|\"SNL\"|\"Saturday N...|2103417| 15993|    2445|         1970|https://i.ytimg.c...|            False|           False|                 False|Embattled Alabama...|\n",
            "|nc99ccSXST0|     17.14.11|5 Ice Cream Gadge...|  CrazyRussianHacker|         28|2017-11-12T21:50:...|\"5 Ice Cream Gadg...| 817732| 23663|     778|         3432|https://i.ytimg.c...|            False|           False|                 False|Ice Cream Pint Co...|\n",
            "|jr9QtXwC9vc|     17.14.11|The Greatest Show...|    20th Century Fox|          1|2017-11-13T14:00:...|\"Trailer\"|\"Hugh J...| 826059|  3543|     119|          340|https://i.ytimg.c...|            False|           False|                 False|Inspired by the i...|\n",
            "|TUmyygCMMGA|     17.14.11|Why the rise of t...|                 Vox|         25|2017-11-13T13:45:...|\"vox.com\"|\"vox\"|\"...| 256426| 12654|    1363|         2368|https://i.ytimg.c...|            False|           False|                 False|For now, at least...|\n",
            "|9wRQljFNDW8|     17.14.11|Dion Lewis' 103-Y...|                 NFL|         17|2017-11-13T02:05:...|\"NFL\"|\"Football\"|...|  81377|   655|      25|          177|https://i.ytimg.c...|            False|           False|                 False|New England Patri...|\n",
            "|VifQlJit6A0|     17.14.11|(SPOILERS) 'Shiva...|                 amc|         24|2017-11-13T03:00:...|\"The Walking Dead...| 104578|  1576|     303|         1279|https://i.ytimg.c...|            False|           False|                 False|Shiva arrives jus...|\n",
            "|5E4ZBSInqUU|     17.14.11|Marshmello - Bloc...|          marshmello|         10|2017-11-13T17:00:...|\"marshmello\"|\"blo...| 687582|114188|    1333|         8371|https://i.ytimg.c...|            False|           False|                 False|WATCH SILENCE MUS...|\n",
            "|GgVmn66oK_A|     17.14.11|Which Countries A...|       NowThis World|         25|2017-11-12T14:00:...|\"nowthis\"|\"nowthi...| 544770|  7848|    1171|         3981|https://i.ytimg.c...|            False|           False|                 False|The world at larg...|\n",
            "|TaTleo4cOs8|     17.14.11|SHOPPING FOR NEW ...|     The king of DIY|         15|2017-11-12T18:30:...|\"shopping for new...| 207532|  7473|     246|         2120|https://i.ytimg.c...|            False|           False|                 False|Today we go shopp...|\n",
            "|kgaO45SyaO4|     17.14.11|    The New SpotMini|      BostonDynamics|         28|2017-11-13T20:09:...|\"Robots\"|\"Boston ...|  75752|  9419|      52|         1230|https://i.ytimg.c...|            False|           False|                 False|For more informat...|\n",
            "|ZAQs-ctOqXQ|     17.14.11|One Change That W...|             Cracked|         23|2017-11-12T17:00:...|\"pacific rim\"|\"pa...| 295639|  8011|     638|         1256|https://i.ytimg.c...|            False|           False|                 False|Pacific Rim was s...|\n",
            "|YVfyYrEmzgM|     17.14.11|How does your bod...|              TED-Ed|         27|2017-11-13T16:00:...|\"TED\"|\"TED-Ed\"|\"T...|  78044|  5398|      53|          385|https://i.ytimg.c...|            False|           False|                 False|Check out our Pat...|\n",
            "|eNSN6qet1kE|     17.14.11|HomeMade Electric...|         PeterSripol|         28|2017-11-13T15:30:...|\"ultralight\"|\"air...|  97007| 11963|      36|         2211|https://i.ytimg.c...|            False|           False|                 False|aaaannnd now to f...|\n",
            "|B5HORANmzHw|     17.14.11|Founding An Inbre...|             SciShow|         27|2017-11-12T22:00:...|\"SciShow\"|\"scienc...| 223871|  8421|     191|         1214|https://i.ytimg.c...|            False|           False|                 False|Thanks to 23AndMe...|\n",
            "+-----------+-------------+--------------------+--------------------+-----------+--------------------+--------------------+-------+------+--------+-------------+--------------------+-----------------+----------------+----------------------+--------------------+\n",
            "only showing top 20 rows\n",
            "\n"
          ]
        }
      ]
    },
    {
      "cell_type": "code",
      "source": [
        "df6 = spark.read.format('parquet').load('./dataPARQUET.parquet')"
      ],
      "metadata": {
        "id": "75OVQsrUncQ2"
      },
      "execution_count": 46,
      "outputs": []
    },
    {
      "cell_type": "code",
      "source": [
        "df6.printSchema()"
      ],
      "metadata": {
        "colab": {
          "base_uri": "https://localhost:8080/"
        },
        "id": "cou6SxJHtjEL",
        "outputId": "cb3d8b38-6ca3-4103-bbf9-bd0cf1b546c0"
      },
      "execution_count": 47,
      "outputs": [
        {
          "output_type": "stream",
          "name": "stdout",
          "text": [
            "root\n",
            " |-- video_id: string (nullable = true)\n",
            " |-- trending_date: string (nullable = true)\n",
            " |-- title: string (nullable = true)\n",
            " |-- channel_title: string (nullable = true)\n",
            " |-- category_id: string (nullable = true)\n",
            " |-- publish_time: string (nullable = true)\n",
            " |-- tags: string (nullable = true)\n",
            " |-- views: string (nullable = true)\n",
            " |-- likes: string (nullable = true)\n",
            " |-- dislikes: string (nullable = true)\n",
            " |-- comment_count: string (nullable = true)\n",
            " |-- thumbnail_link: string (nullable = true)\n",
            " |-- comments_disabled: string (nullable = true)\n",
            " |-- ratings_disabled: string (nullable = true)\n",
            " |-- video_error_or_removed: string (nullable = true)\n",
            " |-- description: string (nullable = true)\n",
            "\n"
          ]
        }
      ]
    },
    {
      "cell_type": "markdown",
      "source": [
        "# TRABAJO CON COLUMNAS"
      ],
      "metadata": {
        "id": "_m-CHo6XwCao"
      }
    },
    {
      "cell_type": "code",
      "source": [
        "df5.show()"
      ],
      "metadata": {
        "colab": {
          "base_uri": "https://localhost:8080/"
        },
        "id": "n29oqA6ZtlT5",
        "outputId": "116d8eb7-836a-499e-c205-753e3e6d8b69"
      },
      "execution_count": 48,
      "outputs": [
        {
          "output_type": "stream",
          "name": "stdout",
          "text": [
            "+-----------+-------------+--------------------+--------------------+-----------+--------------------+--------------------+-------+------+--------+-------------+--------------------+-----------------+----------------+----------------------+--------------------+\n",
            "|   video_id|trending_date|               title|       channel_title|category_id|        publish_time|                tags|  views| likes|dislikes|comment_count|      thumbnail_link|comments_disabled|ratings_disabled|video_error_or_removed|         description|\n",
            "+-----------+-------------+--------------------+--------------------+-----------+--------------------+--------------------+-------+------+--------+-------------+--------------------+-----------------+----------------+----------------------+--------------------+\n",
            "|2kyS6SvSYSE|     17.14.11|WE WANT TO TALK A...|        CaseyNeistat|         22|2017-11-13T17:13:...|     SHANtell martin| 748374| 57527|    2966|        15954|https://i.ytimg.c...|            False|           False|                 False|SHANTELL'S CHANNE...|\n",
            "|1ZAPwfrtAFY|     17.14.11|The Trump Preside...|     LastWeekTonight|         24|2017-11-13T07:30:...|\"last week tonigh...|2418783| 97185|    6146|        12703|https://i.ytimg.c...|            False|           False|                 False|One year after th...|\n",
            "|5qpjK5DgCt4|     17.14.11|Racist Superman |...|        Rudy Mancuso|         23|2017-11-12T19:05:...|\"racist superman\"...|3191434|146033|    5339|         8181|https://i.ytimg.c...|            False|           False|                 False|WATCH MY PREVIOUS...|\n",
            "|puqaWrEC7tY|     17.14.11|Nickelback Lyrics...|Good Mythical Mor...|         24|2017-11-13T11:00:...|\"rhett and link\"|...| 343168| 10172|     666|         2146|https://i.ytimg.c...|            False|           False|                 False|Today we find out...|\n",
            "|d380meD0W0M|     17.14.11|I Dare You: GOING...|            nigahiga|         24|2017-11-12T18:01:...|\"ryan\"|\"higa\"|\"hi...|2095731|132235|    1989|        17518|https://i.ytimg.c...|            False|           False|                 False|I know it's been ...|\n",
            "|gHZ1Qz0KiKM|     17.14.11|2 Weeks with iPho...|            iJustine|         28|2017-11-13T19:07:...|\"ijustine\"|\"week ...| 119180|  9763|     511|         1434|https://i.ytimg.c...|            False|           False|                 False|Using the iPhone ...|\n",
            "|39idVpFF7NQ|     17.14.11|Roy Moore & Jeff ...| Saturday Night Live|         24|2017-11-12T05:37:...|\"SNL\"|\"Saturday N...|2103417| 15993|    2445|         1970|https://i.ytimg.c...|            False|           False|                 False|Embattled Alabama...|\n",
            "|nc99ccSXST0|     17.14.11|5 Ice Cream Gadge...|  CrazyRussianHacker|         28|2017-11-12T21:50:...|\"5 Ice Cream Gadg...| 817732| 23663|     778|         3432|https://i.ytimg.c...|            False|           False|                 False|Ice Cream Pint Co...|\n",
            "|jr9QtXwC9vc|     17.14.11|The Greatest Show...|    20th Century Fox|          1|2017-11-13T14:00:...|\"Trailer\"|\"Hugh J...| 826059|  3543|     119|          340|https://i.ytimg.c...|            False|           False|                 False|Inspired by the i...|\n",
            "|TUmyygCMMGA|     17.14.11|Why the rise of t...|                 Vox|         25|2017-11-13T13:45:...|\"vox.com\"|\"vox\"|\"...| 256426| 12654|    1363|         2368|https://i.ytimg.c...|            False|           False|                 False|For now, at least...|\n",
            "|9wRQljFNDW8|     17.14.11|Dion Lewis' 103-Y...|                 NFL|         17|2017-11-13T02:05:...|\"NFL\"|\"Football\"|...|  81377|   655|      25|          177|https://i.ytimg.c...|            False|           False|                 False|New England Patri...|\n",
            "|VifQlJit6A0|     17.14.11|(SPOILERS) 'Shiva...|                 amc|         24|2017-11-13T03:00:...|\"The Walking Dead...| 104578|  1576|     303|         1279|https://i.ytimg.c...|            False|           False|                 False|Shiva arrives jus...|\n",
            "|5E4ZBSInqUU|     17.14.11|Marshmello - Bloc...|          marshmello|         10|2017-11-13T17:00:...|\"marshmello\"|\"blo...| 687582|114188|    1333|         8371|https://i.ytimg.c...|            False|           False|                 False|WATCH SILENCE MUS...|\n",
            "|GgVmn66oK_A|     17.14.11|Which Countries A...|       NowThis World|         25|2017-11-12T14:00:...|\"nowthis\"|\"nowthi...| 544770|  7848|    1171|         3981|https://i.ytimg.c...|            False|           False|                 False|The world at larg...|\n",
            "|TaTleo4cOs8|     17.14.11|SHOPPING FOR NEW ...|     The king of DIY|         15|2017-11-12T18:30:...|\"shopping for new...| 207532|  7473|     246|         2120|https://i.ytimg.c...|            False|           False|                 False|Today we go shopp...|\n",
            "|kgaO45SyaO4|     17.14.11|    The New SpotMini|      BostonDynamics|         28|2017-11-13T20:09:...|\"Robots\"|\"Boston ...|  75752|  9419|      52|         1230|https://i.ytimg.c...|            False|           False|                 False|For more informat...|\n",
            "|ZAQs-ctOqXQ|     17.14.11|One Change That W...|             Cracked|         23|2017-11-12T17:00:...|\"pacific rim\"|\"pa...| 295639|  8011|     638|         1256|https://i.ytimg.c...|            False|           False|                 False|Pacific Rim was s...|\n",
            "|YVfyYrEmzgM|     17.14.11|How does your bod...|              TED-Ed|         27|2017-11-13T16:00:...|\"TED\"|\"TED-Ed\"|\"T...|  78044|  5398|      53|          385|https://i.ytimg.c...|            False|           False|                 False|Check out our Pat...|\n",
            "|eNSN6qet1kE|     17.14.11|HomeMade Electric...|         PeterSripol|         28|2017-11-13T15:30:...|\"ultralight\"|\"air...|  97007| 11963|      36|         2211|https://i.ytimg.c...|            False|           False|                 False|aaaannnd now to f...|\n",
            "|B5HORANmzHw|     17.14.11|Founding An Inbre...|             SciShow|         27|2017-11-12T22:00:...|\"SciShow\"|\"scienc...| 223871|  8421|     191|         1214|https://i.ytimg.c...|            False|           False|                 False|Thanks to 23AndMe...|\n",
            "+-----------+-------------+--------------------+--------------------+-----------+--------------------+--------------------+-------+------+--------+-------------+--------------------+-----------------+----------------+----------------------+--------------------+\n",
            "only showing top 20 rows\n",
            "\n"
          ]
        }
      ]
    },
    {
      "cell_type": "code",
      "source": [
        "df5.select('title').show(truncate=False)"
      ],
      "metadata": {
        "colab": {
          "base_uri": "https://localhost:8080/"
        },
        "id": "d78jH1Bp0NfO",
        "outputId": "8ca614e5-f38a-48e9-ee47-15c425eba8ec"
      },
      "execution_count": 50,
      "outputs": [
        {
          "output_type": "stream",
          "name": "stdout",
          "text": [
            "+--------------------------------------------------------------------------------------+\n",
            "|title                                                                                 |\n",
            "+--------------------------------------------------------------------------------------+\n",
            "|WE WANT TO TALK ABOUT OUR MARRIAGE                                                    |\n",
            "|The Trump Presidency: Last Week Tonight with John Oliver (HBO)                        |\n",
            "|Racist Superman | Rudy Mancuso, King Bach & Lele Pons                                 |\n",
            "|Nickelback Lyrics: Real or Fake?                                                      |\n",
            "|I Dare You: GOING BALD!?                                                              |\n",
            "|2 Weeks with iPhone X                                                                 |\n",
            "|Roy Moore & Jeff Sessions Cold Open - SNL                                             |\n",
            "|5 Ice Cream Gadgets put to the Test                                                   |\n",
            "|The Greatest Showman | Official Trailer 2 [HD] | 20th Century FOX                     |\n",
            "|Why the rise of the robots won’t mean the end of work                                 |\n",
            "|Dion Lewis' 103-Yd Kick Return TD vs. Denver! | Can't-Miss Play | NFL Wk 10 Highlights|\n",
            "|(SPOILERS) 'Shiva Saves the Day' Talked About Scene Ep. 804 | The Walking Dead        |\n",
            "|Marshmello - Blocks (Official Music Video)                                            |\n",
            "|Which Countries Are About To Collapse?                                                |\n",
            "|SHOPPING FOR NEW FISH!!!                                                              |\n",
            "|The New SpotMini                                                                      |\n",
            "|One Change That Would Make Pacific Rim a Classic                                      |\n",
            "|How does your body know you're full? - Hilary Coller                                  |\n",
            "|HomeMade Electric Airplane                                                            |\n",
            "|Founding An Inbreeding-Free Space Colony                                              |\n",
            "+--------------------------------------------------------------------------------------+\n",
            "only showing top 20 rows\n",
            "\n"
          ]
        }
      ]
    },
    {
      "cell_type": "markdown",
      "source": [
        "# SELECT "
      ],
      "metadata": {
        "id": "7c6Phvom9WjZ"
      }
    },
    {
      "cell_type": "code",
      "source": [
        "dft=spark.read.parquet('./datos.parquet')"
      ],
      "metadata": {
        "id": "Vx3UiYJE1bXt"
      },
      "execution_count": 12,
      "outputs": []
    },
    {
      "cell_type": "code",
      "source": [
        "dft.show()"
      ],
      "metadata": {
        "colab": {
          "base_uri": "https://localhost:8080/"
        },
        "id": "59YEdsesDAFO",
        "outputId": "59d28c9d-00a0-4cab-f88f-66a7a41aa21d"
      },
      "execution_count": 13,
      "outputs": [
        {
          "output_type": "stream",
          "name": "stdout",
          "text": [
            "+-----------+-------------+--------------------+--------------------+-----------+-------------------+--------------------+-------+------+--------+-------------+--------------------+-----------------+----------------+----------------------+--------------------+\n",
            "|   video_id|trending_date|               title|       channel_title|category_id|       publish_time|                tags|  views| likes|dislikes|comment_count|      thumbnail_link|comments_disabled|ratings_disabled|video_error_or_removed|         description|\n",
            "+-----------+-------------+--------------------+--------------------+-----------+-------------------+--------------------+-------+------+--------+-------------+--------------------+-----------------+----------------+----------------------+--------------------+\n",
            "|2kyS6SvSYSE|     17.14.11|WE WANT TO TALK A...|        CaseyNeistat|         22|2017-11-13 17:13:01|     SHANtell martin| 748374| 57527|    2966|        15954|https://i.ytimg.c...|            False|           False|                 False|SHANTELL'S CHANNE...|\n",
            "|1ZAPwfrtAFY|     17.14.11|The Trump Preside...|     LastWeekTonight|         24|2017-11-13 07:30:00|\"last week tonigh...|2418783| 97185|    6146|        12703|https://i.ytimg.c...|            False|           False|                 False|One year after th...|\n",
            "|5qpjK5DgCt4|     17.14.11|Racist Superman |...|        Rudy Mancuso|         23|2017-11-12 19:05:24|\"racist superman\"...|3191434|146033|    5339|         8181|https://i.ytimg.c...|            False|           False|                 False|WATCH MY PREVIOUS...|\n",
            "|puqaWrEC7tY|     17.14.11|Nickelback Lyrics...|Good Mythical Mor...|         24|2017-11-13 11:00:04|\"rhett and link\"|...| 343168| 10172|     666|         2146|https://i.ytimg.c...|            False|           False|                 False|Today we find out...|\n",
            "|d380meD0W0M|     17.14.11|I Dare You: GOING...|            nigahiga|         24|2017-11-12 18:01:41|\"ryan\"|\"higa\"|\"hi...|2095731|132235|    1989|        17518|https://i.ytimg.c...|            False|           False|                 False|I know it's been ...|\n",
            "|gHZ1Qz0KiKM|     17.14.11|2 Weeks with iPho...|            iJustine|         28|2017-11-13 19:07:23|\"ijustine\"|\"week ...| 119180|  9763|     511|         1434|https://i.ytimg.c...|            False|           False|                 False|Using the iPhone ...|\n",
            "|39idVpFF7NQ|     17.14.11|Roy Moore & Jeff ...| Saturday Night Live|         24|2017-11-12 05:37:17|\"SNL\"|\"Saturday N...|2103417| 15993|    2445|         1970|https://i.ytimg.c...|            False|           False|                 False|Embattled Alabama...|\n",
            "|nc99ccSXST0|     17.14.11|5 Ice Cream Gadge...|  CrazyRussianHacker|         28|2017-11-12 21:50:37|\"5 Ice Cream Gadg...| 817732| 23663|     778|         3432|https://i.ytimg.c...|            False|           False|                 False|Ice Cream Pint Co...|\n",
            "|jr9QtXwC9vc|     17.14.11|The Greatest Show...|    20th Century Fox|          1|2017-11-13 14:00:23|\"Trailer\"|\"Hugh J...| 826059|  3543|     119|          340|https://i.ytimg.c...|            False|           False|                 False|Inspired by the i...|\n",
            "|TUmyygCMMGA|     17.14.11|Why the rise of t...|                 Vox|         25|2017-11-13 13:45:16|\"vox.com\"|\"vox\"|\"...| 256426| 12654|    1363|         2368|https://i.ytimg.c...|            False|           False|                 False|For now, at least...|\n",
            "|9wRQljFNDW8|     17.14.11|Dion Lewis' 103-Y...|                 NFL|         17|2017-11-13 02:05:26|\"NFL\"|\"Football\"|...|  81377|   655|      25|          177|https://i.ytimg.c...|            False|           False|                 False|New England Patri...|\n",
            "|VifQlJit6A0|     17.14.11|(SPOILERS) 'Shiva...|                 amc|         24|2017-11-13 03:00:00|\"The Walking Dead...| 104578|  1576|     303|         1279|https://i.ytimg.c...|            False|           False|                 False|Shiva arrives jus...|\n",
            "|5E4ZBSInqUU|     17.14.11|Marshmello - Bloc...|          marshmello|         10|2017-11-13 17:00:00|\"marshmello\"|\"blo...| 687582|114188|    1333|         8371|https://i.ytimg.c...|            False|           False|                 False|WATCH SILENCE MUS...|\n",
            "|GgVmn66oK_A|     17.14.11|Which Countries A...|       NowThis World|         25|2017-11-12 14:00:00|\"nowthis\"|\"nowthi...| 544770|  7848|    1171|         3981|https://i.ytimg.c...|            False|           False|                 False|The world at larg...|\n",
            "|TaTleo4cOs8|     17.14.11|SHOPPING FOR NEW ...|     The king of DIY|         15|2017-11-12 18:30:01|\"shopping for new...| 207532|  7473|     246|         2120|https://i.ytimg.c...|            False|           False|                 False|Today we go shopp...|\n",
            "|kgaO45SyaO4|     17.14.11|    The New SpotMini|      BostonDynamics|         28|2017-11-13 20:09:58|\"Robots\"|\"Boston ...|  75752|  9419|      52|         1230|https://i.ytimg.c...|            False|           False|                 False|For more informat...|\n",
            "|ZAQs-ctOqXQ|     17.14.11|One Change That W...|             Cracked|         23|2017-11-12 17:00:05|\"pacific rim\"|\"pa...| 295639|  8011|     638|         1256|https://i.ytimg.c...|            False|           False|                 False|Pacific Rim was s...|\n",
            "|YVfyYrEmzgM|     17.14.11|How does your bod...|              TED-Ed|         27|2017-11-13 16:00:07|\"TED\"|\"TED-Ed\"|\"T...|  78044|  5398|      53|          385|https://i.ytimg.c...|            False|           False|                 False|Check out our Pat...|\n",
            "|eNSN6qet1kE|     17.14.11|HomeMade Electric...|         PeterSripol|         28|2017-11-13 15:30:17|\"ultralight\"|\"air...|  97007| 11963|      36|         2211|https://i.ytimg.c...|            False|           False|                 False|aaaannnd now to f...|\n",
            "|B5HORANmzHw|     17.14.11|Founding An Inbre...|             SciShow|         27|2017-11-12 22:00:01|\"SciShow\"|\"scienc...| 223871|  8421|     191|         1214|https://i.ytimg.c...|            False|           False|                 False|Thanks to 23AndMe...|\n",
            "+-----------+-------------+--------------------+--------------------+-----------+-------------------+--------------------+-------+------+--------+-------------+--------------------+-----------------+----------------+----------------------+--------------------+\n",
            "only showing top 20 rows\n",
            "\n"
          ]
        }
      ]
    },
    {
      "cell_type": "code",
      "source": [
        "from pyspark.sql.functions import col\n",
        "dft.select(col('video_id')).show()"
      ],
      "metadata": {
        "colab": {
          "base_uri": "https://localhost:8080/"
        },
        "id": "eiMPUO69AefA",
        "outputId": "afb71a95-b8a1-4861-98a5-7a734a54b9ad"
      },
      "execution_count": 15,
      "outputs": [
        {
          "output_type": "stream",
          "name": "stdout",
          "text": [
            "+-----------+\n",
            "|   video_id|\n",
            "+-----------+\n",
            "|2kyS6SvSYSE|\n",
            "|1ZAPwfrtAFY|\n",
            "|5qpjK5DgCt4|\n",
            "|puqaWrEC7tY|\n",
            "|d380meD0W0M|\n",
            "|gHZ1Qz0KiKM|\n",
            "|39idVpFF7NQ|\n",
            "|nc99ccSXST0|\n",
            "|jr9QtXwC9vc|\n",
            "|TUmyygCMMGA|\n",
            "|9wRQljFNDW8|\n",
            "|VifQlJit6A0|\n",
            "|5E4ZBSInqUU|\n",
            "|GgVmn66oK_A|\n",
            "|TaTleo4cOs8|\n",
            "|kgaO45SyaO4|\n",
            "|ZAQs-ctOqXQ|\n",
            "|YVfyYrEmzgM|\n",
            "|eNSN6qet1kE|\n",
            "|B5HORANmzHw|\n",
            "+-----------+\n",
            "only showing top 20 rows\n",
            "\n"
          ]
        }
      ]
    },
    {
      "cell_type": "code",
      "source": [
        "# Esto sale error\n",
        "# dft= select ('likes','dislikes'('likes','dislikes')).show()"
      ],
      "metadata": {
        "id": "V9Fg8kNsC0FQ"
      },
      "execution_count": 16,
      "outputs": []
    },
    {
      "cell_type": "code",
      "source": [
        "dft.select(\n",
        "    col('likes'),\n",
        "    col('dislikes'),\n",
        "    (col('likes')-col('dislikes')).alias('aceptación')\n",
        ").show()"
      ],
      "metadata": {
        "colab": {
          "base_uri": "https://localhost:8080/"
        },
        "id": "8j79GPeYxTSd",
        "outputId": "6e1f489e-da4a-4c3e-90d8-1499fa536237"
      },
      "execution_count": 21,
      "outputs": [
        {
          "output_type": "stream",
          "name": "stdout",
          "text": [
            "+------+--------+----------+\n",
            "| likes|dislikes|aceptación|\n",
            "+------+--------+----------+\n",
            "| 57527|    2966|     54561|\n",
            "| 97185|    6146|     91039|\n",
            "|146033|    5339|    140694|\n",
            "| 10172|     666|      9506|\n",
            "|132235|    1989|    130246|\n",
            "|  9763|     511|      9252|\n",
            "| 15993|    2445|     13548|\n",
            "| 23663|     778|     22885|\n",
            "|  3543|     119|      3424|\n",
            "| 12654|    1363|     11291|\n",
            "|   655|      25|       630|\n",
            "|  1576|     303|      1273|\n",
            "|114188|    1333|    112855|\n",
            "|  7848|    1171|      6677|\n",
            "|  7473|     246|      7227|\n",
            "|  9419|      52|      9367|\n",
            "|  8011|     638|      7373|\n",
            "|  5398|      53|      5345|\n",
            "| 11963|      36|     11927|\n",
            "|  8421|     191|      8230|\n",
            "+------+--------+----------+\n",
            "only showing top 20 rows\n",
            "\n"
          ]
        }
      ]
    },
    {
      "cell_type": "markdown",
      "source": [
        "# Select Expr"
      ],
      "metadata": {
        "id": "T5fBrrOL1oKO"
      }
    },
    {
      "cell_type": "code",
      "source": [
        "dft.selectExpr('likes','dislikes','(likes - dislikes) as aceptacion').show()"
      ],
      "metadata": {
        "colab": {
          "base_uri": "https://localhost:8080/"
        },
        "id": "rXTL8gEF1vg2",
        "outputId": "4dbd55e5-9065-42a0-c1a1-039c75441d11"
      },
      "execution_count": 24,
      "outputs": [
        {
          "output_type": "stream",
          "name": "stdout",
          "text": [
            "+------+--------+----------+\n",
            "| likes|dislikes|aceptacion|\n",
            "+------+--------+----------+\n",
            "| 57527|    2966|     54561|\n",
            "| 97185|    6146|     91039|\n",
            "|146033|    5339|    140694|\n",
            "| 10172|     666|      9506|\n",
            "|132235|    1989|    130246|\n",
            "|  9763|     511|      9252|\n",
            "| 15993|    2445|     13548|\n",
            "| 23663|     778|     22885|\n",
            "|  3543|     119|      3424|\n",
            "| 12654|    1363|     11291|\n",
            "|   655|      25|       630|\n",
            "|  1576|     303|      1273|\n",
            "|114188|    1333|    112855|\n",
            "|  7848|    1171|      6677|\n",
            "|  7473|     246|      7227|\n",
            "|  9419|      52|      9367|\n",
            "|  8011|     638|      7373|\n",
            "|  5398|      53|      5345|\n",
            "| 11963|      36|     11927|\n",
            "|  8421|     191|      8230|\n",
            "+------+--------+----------+\n",
            "only showing top 20 rows\n",
            "\n"
          ]
        }
      ]
    },
    {
      "cell_type": "code",
      "source": [
        "dft.selectExpr('count(distinct(video_id)) as videos').show()"
      ],
      "metadata": {
        "colab": {
          "base_uri": "https://localhost:8080/"
        },
        "id": "BHAt9w9K1_9A",
        "outputId": "5bc8b09b-b983-4c6c-e9c7-42f56b85697b"
      },
      "execution_count": 25,
      "outputs": [
        {
          "output_type": "stream",
          "name": "stdout",
          "text": [
            "+------+\n",
            "|videos|\n",
            "+------+\n",
            "|  6837|\n",
            "+------+\n",
            "\n"
          ]
        }
      ]
    },
    {
      "cell_type": "markdown",
      "source": [
        "# FILTER"
      ],
      "metadata": {
        "id": "OALvhTce6oTs"
      }
    },
    {
      "cell_type": "code",
      "source": [
        "# importar col\n",
        "dft.show()"
      ],
      "metadata": {
        "colab": {
          "base_uri": "https://localhost:8080/"
        },
        "id": "9a1E1F_b6ue0",
        "outputId": "25420be0-5a69-4646-9a72-f08efbfc5b4f"
      },
      "execution_count": 26,
      "outputs": [
        {
          "output_type": "stream",
          "name": "stdout",
          "text": [
            "+-----------+-------------+--------------------+--------------------+-----------+-------------------+--------------------+-------+------+--------+-------------+--------------------+-----------------+----------------+----------------------+--------------------+\n",
            "|   video_id|trending_date|               title|       channel_title|category_id|       publish_time|                tags|  views| likes|dislikes|comment_count|      thumbnail_link|comments_disabled|ratings_disabled|video_error_or_removed|         description|\n",
            "+-----------+-------------+--------------------+--------------------+-----------+-------------------+--------------------+-------+------+--------+-------------+--------------------+-----------------+----------------+----------------------+--------------------+\n",
            "|2kyS6SvSYSE|     17.14.11|WE WANT TO TALK A...|        CaseyNeistat|         22|2017-11-13 17:13:01|     SHANtell martin| 748374| 57527|    2966|        15954|https://i.ytimg.c...|            False|           False|                 False|SHANTELL'S CHANNE...|\n",
            "|1ZAPwfrtAFY|     17.14.11|The Trump Preside...|     LastWeekTonight|         24|2017-11-13 07:30:00|\"last week tonigh...|2418783| 97185|    6146|        12703|https://i.ytimg.c...|            False|           False|                 False|One year after th...|\n",
            "|5qpjK5DgCt4|     17.14.11|Racist Superman |...|        Rudy Mancuso|         23|2017-11-12 19:05:24|\"racist superman\"...|3191434|146033|    5339|         8181|https://i.ytimg.c...|            False|           False|                 False|WATCH MY PREVIOUS...|\n",
            "|puqaWrEC7tY|     17.14.11|Nickelback Lyrics...|Good Mythical Mor...|         24|2017-11-13 11:00:04|\"rhett and link\"|...| 343168| 10172|     666|         2146|https://i.ytimg.c...|            False|           False|                 False|Today we find out...|\n",
            "|d380meD0W0M|     17.14.11|I Dare You: GOING...|            nigahiga|         24|2017-11-12 18:01:41|\"ryan\"|\"higa\"|\"hi...|2095731|132235|    1989|        17518|https://i.ytimg.c...|            False|           False|                 False|I know it's been ...|\n",
            "|gHZ1Qz0KiKM|     17.14.11|2 Weeks with iPho...|            iJustine|         28|2017-11-13 19:07:23|\"ijustine\"|\"week ...| 119180|  9763|     511|         1434|https://i.ytimg.c...|            False|           False|                 False|Using the iPhone ...|\n",
            "|39idVpFF7NQ|     17.14.11|Roy Moore & Jeff ...| Saturday Night Live|         24|2017-11-12 05:37:17|\"SNL\"|\"Saturday N...|2103417| 15993|    2445|         1970|https://i.ytimg.c...|            False|           False|                 False|Embattled Alabama...|\n",
            "|nc99ccSXST0|     17.14.11|5 Ice Cream Gadge...|  CrazyRussianHacker|         28|2017-11-12 21:50:37|\"5 Ice Cream Gadg...| 817732| 23663|     778|         3432|https://i.ytimg.c...|            False|           False|                 False|Ice Cream Pint Co...|\n",
            "|jr9QtXwC9vc|     17.14.11|The Greatest Show...|    20th Century Fox|          1|2017-11-13 14:00:23|\"Trailer\"|\"Hugh J...| 826059|  3543|     119|          340|https://i.ytimg.c...|            False|           False|                 False|Inspired by the i...|\n",
            "|TUmyygCMMGA|     17.14.11|Why the rise of t...|                 Vox|         25|2017-11-13 13:45:16|\"vox.com\"|\"vox\"|\"...| 256426| 12654|    1363|         2368|https://i.ytimg.c...|            False|           False|                 False|For now, at least...|\n",
            "|9wRQljFNDW8|     17.14.11|Dion Lewis' 103-Y...|                 NFL|         17|2017-11-13 02:05:26|\"NFL\"|\"Football\"|...|  81377|   655|      25|          177|https://i.ytimg.c...|            False|           False|                 False|New England Patri...|\n",
            "|VifQlJit6A0|     17.14.11|(SPOILERS) 'Shiva...|                 amc|         24|2017-11-13 03:00:00|\"The Walking Dead...| 104578|  1576|     303|         1279|https://i.ytimg.c...|            False|           False|                 False|Shiva arrives jus...|\n",
            "|5E4ZBSInqUU|     17.14.11|Marshmello - Bloc...|          marshmello|         10|2017-11-13 17:00:00|\"marshmello\"|\"blo...| 687582|114188|    1333|         8371|https://i.ytimg.c...|            False|           False|                 False|WATCH SILENCE MUS...|\n",
            "|GgVmn66oK_A|     17.14.11|Which Countries A...|       NowThis World|         25|2017-11-12 14:00:00|\"nowthis\"|\"nowthi...| 544770|  7848|    1171|         3981|https://i.ytimg.c...|            False|           False|                 False|The world at larg...|\n",
            "|TaTleo4cOs8|     17.14.11|SHOPPING FOR NEW ...|     The king of DIY|         15|2017-11-12 18:30:01|\"shopping for new...| 207532|  7473|     246|         2120|https://i.ytimg.c...|            False|           False|                 False|Today we go shopp...|\n",
            "|kgaO45SyaO4|     17.14.11|    The New SpotMini|      BostonDynamics|         28|2017-11-13 20:09:58|\"Robots\"|\"Boston ...|  75752|  9419|      52|         1230|https://i.ytimg.c...|            False|           False|                 False|For more informat...|\n",
            "|ZAQs-ctOqXQ|     17.14.11|One Change That W...|             Cracked|         23|2017-11-12 17:00:05|\"pacific rim\"|\"pa...| 295639|  8011|     638|         1256|https://i.ytimg.c...|            False|           False|                 False|Pacific Rim was s...|\n",
            "|YVfyYrEmzgM|     17.14.11|How does your bod...|              TED-Ed|         27|2017-11-13 16:00:07|\"TED\"|\"TED-Ed\"|\"T...|  78044|  5398|      53|          385|https://i.ytimg.c...|            False|           False|                 False|Check out our Pat...|\n",
            "|eNSN6qet1kE|     17.14.11|HomeMade Electric...|         PeterSripol|         28|2017-11-13 15:30:17|\"ultralight\"|\"air...|  97007| 11963|      36|         2211|https://i.ytimg.c...|            False|           False|                 False|aaaannnd now to f...|\n",
            "|B5HORANmzHw|     17.14.11|Founding An Inbre...|             SciShow|         27|2017-11-12 22:00:01|\"SciShow\"|\"scienc...| 223871|  8421|     191|         1214|https://i.ytimg.c...|            False|           False|                 False|Thanks to 23AndMe...|\n",
            "+-----------+-------------+--------------------+--------------------+-----------+-------------------+--------------------+-------+------+--------+-------------+--------------------+-----------------+----------------+----------------------+--------------------+\n",
            "only showing top 20 rows\n",
            "\n"
          ]
        }
      ]
    },
    {
      "cell_type": "code",
      "source": [
        "dft.filter(col('video_id') == '2kyS6SvSYSE').show()"
      ],
      "metadata": {
        "colab": {
          "base_uri": "https://localhost:8080/"
        },
        "id": "69M8wD9p67LZ",
        "outputId": "fa90809d-7f5a-4bbb-86ea-c1dac1be9429"
      },
      "execution_count": 27,
      "outputs": [
        {
          "output_type": "stream",
          "name": "stdout",
          "text": [
            "+-----------+-------------+--------------------+-------------+-----------+-------------------+---------------+-------+-----+--------+-------------+--------------------+-----------------+----------------+----------------------+--------------------+\n",
            "|   video_id|trending_date|               title|channel_title|category_id|       publish_time|           tags|  views|likes|dislikes|comment_count|      thumbnail_link|comments_disabled|ratings_disabled|video_error_or_removed|         description|\n",
            "+-----------+-------------+--------------------+-------------+-----------+-------------------+---------------+-------+-----+--------+-------------+--------------------+-----------------+----------------+----------------------+--------------------+\n",
            "|2kyS6SvSYSE|     17.14.11|WE WANT TO TALK A...| CaseyNeistat|         22|2017-11-13 17:13:01|SHANtell martin| 748374|57527|    2966|        15954|https://i.ytimg.c...|            False|           False|                 False|SHANTELL'S CHANNE...|\n",
            "|2kyS6SvSYSE|     17.15.11|WE WANT TO TALK A...| CaseyNeistat|         22|2017-11-13 17:13:01|SHANtell martin|2188590|88099|    7150|        24225|https://i.ytimg.c...|            False|           False|                 False|SHANTELL'S CHANNE...|\n",
            "|2kyS6SvSYSE|     17.16.11|WE WANT TO TALK A...| CaseyNeistat|         22|2017-11-13 17:13:01|SHANtell martin|2325233|91111|    7543|        21450|https://i.ytimg.c...|            False|           False|                 False|SHANTELL'S CHANNE...|\n",
            "|2kyS6SvSYSE|     17.17.11|WE WANT TO TALK A...| CaseyNeistat|         22|2017-11-13 17:13:01|SHANtell martin|2400741|92831|    7687|        21714|https://i.ytimg.c...|            False|           False|                 False|SHANTELL'S CHANNE...|\n",
            "|2kyS6SvSYSE|     17.18.11|WE WANT TO TALK A...| CaseyNeistat|         22|2017-11-13 17:13:01|SHANtell martin|2468267|94303|    7802|        21866|https://i.ytimg.c...|            False|           False|                 False|SHANTELL'S CHANNE...|\n",
            "|2kyS6SvSYSE|     17.19.11|WE WANT TO TALK A...| CaseyNeistat|         22|2017-11-13 17:13:01|SHANtell martin|2524854|95587|    7892|        22038|https://i.ytimg.c...|            False|           False|                 False|SHANTELL'S CHANNE...|\n",
            "|2kyS6SvSYSE|     17.20.11|WE WANT TO TALK A...| CaseyNeistat|         22|2017-11-13 17:13:01|SHANtell martin|2564903|96321|    7972|        22149|https://i.ytimg.c...|            False|           False|                 False|SHANTELL'S CHANNE...|\n",
            "+-----------+-------------+--------------------+-------------+-----------+-------------------+---------------+-------+-----+--------+-------------+--------------------+-----------------+----------------+----------------------+--------------------+\n",
            "\n"
          ]
        }
      ]
    },
    {
      "cell_type": "code",
      "source": [
        "dft.filter(col('trending_date') != '17.14.11').show()"
      ],
      "metadata": {
        "colab": {
          "base_uri": "https://localhost:8080/"
        },
        "id": "9JWhDR657DKO",
        "outputId": "42b016bf-e222-46ce-b591-7485d94cf29c"
      },
      "execution_count": 28,
      "outputs": [
        {
          "output_type": "stream",
          "name": "stdout",
          "text": [
            "+--------------------+--------------------+--------------------+--------------------+--------------------+-------------------+--------------------+-------+------+--------+-------------+--------------------+-----------------+----------------+----------------------+--------------------+\n",
            "|            video_id|       trending_date|               title|       channel_title|         category_id|       publish_time|                tags|  views| likes|dislikes|comment_count|      thumbnail_link|comments_disabled|ratings_disabled|video_error_or_removed|         description|\n",
            "+--------------------+--------------------+--------------------+--------------------+--------------------+-------------------+--------------------+-------+------+--------+-------------+--------------------+-----------------+----------------+----------------------+--------------------+\n",
            "|\\nCook with confi...|             recipes|              videos| and restaurant g...| dining destinations|               null|                null|   null|  null|    null|         null|                null|             null|            null|                  null|                null|\n",
            "|\\nVogue is the au...|      culture trends|     beauty coverage|              videos|     celebrity style|               null|                null|   null|  null|    null|         null|                null|             null|            null|                  null|                null|\n",
            "|\\nWIRED is where ...| WIRED explores t...|          innovation| and culture.\\n\\n...|                null|               null|                null|   null|  null|    null|         null|                null|             null|            null|                  null|                null|\n",
            "|         YvfYK0EEhK4|            17.15.11|Brent Pella - Why...|         Brent Pella|                  23|2017-11-14 15:32:51|\"spirit airlines\"...| 462490| 14132|     795|          666|https://i.ytimg.c...|            False|           False|                 False|Traveling for the...|\n",
            "|         cxMvzK2OQTw|            17.15.11|Cards Against Hum...|Cards Against Hum...|                  23|2017-11-14 16:43:11|              [none]| 295217|  4854|    1439|         1267|https://i.ytimg.c...|            False|           False|                 False|Narrated by Peter...|\n",
            "|         bAkEd8r7Nnw|            17.15.11|Slow Mo Katana Sw...|    The Slow Mo Guys|                  24|2017-11-14 18:31:20|\"slomo\"|\"slow\"|\"m...|1525400| 63995|     896|         4697|https://i.ytimg.c...|            False|           False|                 False|Has Dan ever used...|\n",
            "|         ItYOdWRo0JY|            17.15.11|Selling My iPhone...|          TechSmartt|                  28|2017-11-14 00:45:15|\"iphone x\"|\"iphon...|1836419| 28647|   17815|         7860|https://i.ytimg.c...|            False|           False|                 False|I saw the EcoATM ...|\n",
            "|         5530I_pYjbo|            17.15.11|How I Trained My ...|         JunsKitchen|                  26|2017-11-14 12:06:56|\"how\"|\"trained\"|\"...| 977285| 87615|     391|         5575|https://i.ytimg.c...|            False|           False|                 False|►EQUIPMENT I use ...|\n",
            "|         dUMH6DVYskc|            17.15.11|Ten-Year-Old's Fa...|     Attaullah Malik|                  28|2017-11-14 12:02:49|\"iPhone X\"|\"Face ...| 390964|  3687|    1273|         1224|https://i.ytimg.c...|            False|           False|                 False|We are seeing a f...|\n",
            "|         gjXrm2Q-te4|            17.15.11|Jimmy Fallon Pays...|The Tonight Show ...|                  23|2017-11-14 04:55:24|\"Jimmy Fallon\"|\"T...|1611093| 58474|     837|         3294|https://i.ytimg.c...|            False|           False|                 False|Jimmy celebrates ...|\n",
            "|         9SK1I0V6U5c|            17.15.11|Lie Detector | An...|        Anwar Jibawi|                  23|2017-11-14 18:01:03|\"lie detector\"|\"a...| 983365| 60983|     578|         3837|https://i.ytimg.c...|            False|           False|                 False|SUBSCRIBE ► https...|\n",
            "|         VsYmwBOYfW8|            17.15.11|Mean Tweets – Jim...|   Jimmy Kimmel Live|                  23|2017-11-14 08:30:01|\"jimmy\"|\"jimmy ki...|2765121| 35529|    1705|         2388|https://i.ytimg.c...|            False|           False|                 False|In honor of Jimmy...|\n",
            "|         kgaO45SyaO4|            17.15.11|    The New SpotMini|      BostonDynamics|                  28|2017-11-13 20:09:58|\"Robots\"|\"Boston ...|3701763| 56561|    2495|        11608|https://i.ytimg.c...|            False|           False|                 False|For more informat...|\n",
            "|         CtBca6H6Teg|            17.15.11|Honest Trailers -...|      Screen Junkies|                   1|2017-11-14 18:00:01|\"batman\"|\"screenj...| 829132| 25109|     316|         3428|https://i.ytimg.c...|            False|           False|                 False|Before Justice Le...|\n",
            "|         pcWKpGzhgq4|            17.15.11|Jason Momoa Shows...|The Graham Norton...|                  24|2017-11-14 12:13:35|\"Graham Norton\"|\"...| 391049|  5939|     106|          385|https://i.ytimg.c...|            False|           False|                 False|It's not a triden...|\n",
            "|         L3br0klRqF4|            17.15.11|Watch live: Sessi...|     Washington Post|                  25|2017-11-14 21:51:20|\"breaking news vi...| 137003|   580|     262|          343|https://i.ytimg.c...|            False|           False|                 False|Attorney General ...|\n",
            "|         9kF9xY74h-E|            17.15.11|Spilling Tea Abou...|         Dolan Twins|                  23|2017-11-14 21:00:47|\"Dolan Twins\"|\"Sp...| 891912|122347|     455|         7459|https://i.ytimg.c...|            False|           False|                 False|We spill TEA abou...|\n",
            "|         p2EY93WfBQk|            17.15.11|Is the Morphe 350...|         Jackie Aina|                  26|2017-11-14 21:03:47|\"morphe\"|\"morphe ...| 175539| 17130|     264|         1747|https://i.ytimg.c...|            False|           False|                 False|hi babes! the lat...|\n",
            "|         xL_qpDkF5A8|            17.15.11|American Crime St...|           TV Promos|                  24|2017-11-15 01:25:18|\"Donatella Versac...|  14565|   478|      13|           67|https://i.ytimg.c...|            False|           False|                 False|The Assassination...|\n",
            "|         eQVhAN7-IAw|            17.15.11|The Making of a S...|        Taylor Swift|                  10|2017-11-15 03:43:47|\"DIRECTV\"|\"DIRECT...| 125645| 16754|      65|         1373|https://i.ytimg.c...|            False|           False|                 False|A glimpse into Ta...|\n",
            "+--------------------+--------------------+--------------------+--------------------+--------------------+-------------------+--------------------+-------+------+--------+-------------+--------------------+-----------------+----------------+----------------------+--------------------+\n",
            "only showing top 20 rows\n",
            "\n"
          ]
        }
      ]
    },
    {
      "cell_type": "code",
      "source": [
        "dft2 = spark.read.parquet('./datos.parquet').where(col('likes') > 5000)"
      ],
      "metadata": {
        "id": "d7m_ckMj8mcK"
      },
      "execution_count": 29,
      "outputs": []
    },
    {
      "cell_type": "code",
      "source": [
        "dft2.show()"
      ],
      "metadata": {
        "colab": {
          "base_uri": "https://localhost:8080/"
        },
        "id": "h3xyaMbL826K",
        "outputId": "3beeb314-8bc2-4eb5-c549-7756fdbdb35e"
      },
      "execution_count": 30,
      "outputs": [
        {
          "output_type": "stream",
          "name": "stdout",
          "text": [
            "+-----------+-------------+--------------------+--------------------+-----------+-------------------+--------------------+-------+------+--------+-------------+--------------------+-----------------+----------------+----------------------+--------------------+\n",
            "|   video_id|trending_date|               title|       channel_title|category_id|       publish_time|                tags|  views| likes|dislikes|comment_count|      thumbnail_link|comments_disabled|ratings_disabled|video_error_or_removed|         description|\n",
            "+-----------+-------------+--------------------+--------------------+-----------+-------------------+--------------------+-------+------+--------+-------------+--------------------+-----------------+----------------+----------------------+--------------------+\n",
            "|2kyS6SvSYSE|     17.14.11|WE WANT TO TALK A...|        CaseyNeistat|         22|2017-11-13 17:13:01|     SHANtell martin| 748374| 57527|    2966|        15954|https://i.ytimg.c...|            False|           False|                 False|SHANTELL'S CHANNE...|\n",
            "|1ZAPwfrtAFY|     17.14.11|The Trump Preside...|     LastWeekTonight|         24|2017-11-13 07:30:00|\"last week tonigh...|2418783| 97185|    6146|        12703|https://i.ytimg.c...|            False|           False|                 False|One year after th...|\n",
            "|5qpjK5DgCt4|     17.14.11|Racist Superman |...|        Rudy Mancuso|         23|2017-11-12 19:05:24|\"racist superman\"...|3191434|146033|    5339|         8181|https://i.ytimg.c...|            False|           False|                 False|WATCH MY PREVIOUS...|\n",
            "|puqaWrEC7tY|     17.14.11|Nickelback Lyrics...|Good Mythical Mor...|         24|2017-11-13 11:00:04|\"rhett and link\"|...| 343168| 10172|     666|         2146|https://i.ytimg.c...|            False|           False|                 False|Today we find out...|\n",
            "|d380meD0W0M|     17.14.11|I Dare You: GOING...|            nigahiga|         24|2017-11-12 18:01:41|\"ryan\"|\"higa\"|\"hi...|2095731|132235|    1989|        17518|https://i.ytimg.c...|            False|           False|                 False|I know it's been ...|\n",
            "|gHZ1Qz0KiKM|     17.14.11|2 Weeks with iPho...|            iJustine|         28|2017-11-13 19:07:23|\"ijustine\"|\"week ...| 119180|  9763|     511|         1434|https://i.ytimg.c...|            False|           False|                 False|Using the iPhone ...|\n",
            "|39idVpFF7NQ|     17.14.11|Roy Moore & Jeff ...| Saturday Night Live|         24|2017-11-12 05:37:17|\"SNL\"|\"Saturday N...|2103417| 15993|    2445|         1970|https://i.ytimg.c...|            False|           False|                 False|Embattled Alabama...|\n",
            "|nc99ccSXST0|     17.14.11|5 Ice Cream Gadge...|  CrazyRussianHacker|         28|2017-11-12 21:50:37|\"5 Ice Cream Gadg...| 817732| 23663|     778|         3432|https://i.ytimg.c...|            False|           False|                 False|Ice Cream Pint Co...|\n",
            "|TUmyygCMMGA|     17.14.11|Why the rise of t...|                 Vox|         25|2017-11-13 13:45:16|\"vox.com\"|\"vox\"|\"...| 256426| 12654|    1363|         2368|https://i.ytimg.c...|            False|           False|                 False|For now, at least...|\n",
            "|5E4ZBSInqUU|     17.14.11|Marshmello - Bloc...|          marshmello|         10|2017-11-13 17:00:00|\"marshmello\"|\"blo...| 687582|114188|    1333|         8371|https://i.ytimg.c...|            False|           False|                 False|WATCH SILENCE MUS...|\n",
            "|GgVmn66oK_A|     17.14.11|Which Countries A...|       NowThis World|         25|2017-11-12 14:00:00|\"nowthis\"|\"nowthi...| 544770|  7848|    1171|         3981|https://i.ytimg.c...|            False|           False|                 False|The world at larg...|\n",
            "|TaTleo4cOs8|     17.14.11|SHOPPING FOR NEW ...|     The king of DIY|         15|2017-11-12 18:30:01|\"shopping for new...| 207532|  7473|     246|         2120|https://i.ytimg.c...|            False|           False|                 False|Today we go shopp...|\n",
            "|kgaO45SyaO4|     17.14.11|    The New SpotMini|      BostonDynamics|         28|2017-11-13 20:09:58|\"Robots\"|\"Boston ...|  75752|  9419|      52|         1230|https://i.ytimg.c...|            False|           False|                 False|For more informat...|\n",
            "|ZAQs-ctOqXQ|     17.14.11|One Change That W...|             Cracked|         23|2017-11-12 17:00:05|\"pacific rim\"|\"pa...| 295639|  8011|     638|         1256|https://i.ytimg.c...|            False|           False|                 False|Pacific Rim was s...|\n",
            "|YVfyYrEmzgM|     17.14.11|How does your bod...|              TED-Ed|         27|2017-11-13 16:00:07|\"TED\"|\"TED-Ed\"|\"T...|  78044|  5398|      53|          385|https://i.ytimg.c...|            False|           False|                 False|Check out our Pat...|\n",
            "|eNSN6qet1kE|     17.14.11|HomeMade Electric...|         PeterSripol|         28|2017-11-13 15:30:17|\"ultralight\"|\"air...|  97007| 11963|      36|         2211|https://i.ytimg.c...|            False|           False|                 False|aaaannnd now to f...|\n",
            "|B5HORANmzHw|     17.14.11|Founding An Inbre...|             SciShow|         27|2017-11-12 22:00:01|\"SciShow\"|\"scienc...| 223871|  8421|     191|         1214|https://i.ytimg.c...|            False|           False|                 False|Thanks to 23AndMe...|\n",
            "|vU14JY3x81A|     17.14.11|How Can You Contr...|         Life Noggin|         27|2017-11-13 14:00:03|\"life noggin\"|\"li...| 115791|  9586|      75|         2800|https://i.ytimg.c...|            False|           False|                 False|What if there was...|\n",
            "|_-aDHxoblr4|     17.14.11|Is It Dangerous T...|           Tom Scott|         27|2017-11-13 16:00:03|\"tom scott\"|\"toms...| 144418| 11758|      89|         1014|https://i.ytimg.c...|            False|           False|                 False|I'm visiting the ...|\n",
            "|dRpNZV18N_g|     17.14.11|SPAGHETTI BURRITO...|     HellthyJunkFood|         24|2017-11-12 14:00:04|\"spaghetti burrit...| 223077|  8676|     193|         1392|https://i.ytimg.c...|            False|           False|                 False|Visit http://www....|\n",
            "+-----------+-------------+--------------------+--------------------+-----------+-------------------+--------------------+-------+------+--------+-------------+--------------------+-----------------+----------------+----------------------+--------------------+\n",
            "only showing top 20 rows\n",
            "\n"
          ]
        }
      ]
    },
    {
      "cell_type": "code",
      "source": [
        "#Manera \n",
        "dft2.filter((col('trending_date') != '17.14.11') & (col('likes') > 7000)).show()"
      ],
      "metadata": {
        "id": "2i42QD5lAPyx"
      },
      "execution_count": null,
      "outputs": []
    },
    {
      "cell_type": "code",
      "source": [
        "#Manera 2 con filter\n",
        "dft2.filter(col('trending_date') != '17.14.11').filter(col('likes') > 7000).show()"
      ],
      "metadata": {
        "colab": {
          "base_uri": "https://localhost:8080/"
        },
        "id": "_H6qQN74AY4h",
        "outputId": "7f98f8ff-3130-40a0-849f-7048f0cdacca"
      },
      "execution_count": 34,
      "outputs": [
        {
          "output_type": "stream",
          "name": "stdout",
          "text": [
            "+-----------+-------------+--------------------+--------------------+-----------+-------------------+--------------------+-------+------+--------+-------------+--------------------+-----------------+----------------+----------------------+--------------------+\n",
            "|   video_id|trending_date|               title|       channel_title|category_id|       publish_time|                tags|  views| likes|dislikes|comment_count|      thumbnail_link|comments_disabled|ratings_disabled|video_error_or_removed|         description|\n",
            "+-----------+-------------+--------------------+--------------------+-----------+-------------------+--------------------+-------+------+--------+-------------+--------------------+-----------------+----------------+----------------------+--------------------+\n",
            "|YvfYK0EEhK4|     17.15.11|Brent Pella - Why...|         Brent Pella|         23|2017-11-14 15:32:51|\"spirit airlines\"...| 462490| 14132|     795|          666|https://i.ytimg.c...|            False|           False|                 False|Traveling for the...|\n",
            "|bAkEd8r7Nnw|     17.15.11|Slow Mo Katana Sw...|    The Slow Mo Guys|         24|2017-11-14 18:31:20|\"slomo\"|\"slow\"|\"m...|1525400| 63995|     896|         4697|https://i.ytimg.c...|            False|           False|                 False|Has Dan ever used...|\n",
            "|ItYOdWRo0JY|     17.15.11|Selling My iPhone...|          TechSmartt|         28|2017-11-14 00:45:15|\"iphone x\"|\"iphon...|1836419| 28647|   17815|         7860|https://i.ytimg.c...|            False|           False|                 False|I saw the EcoATM ...|\n",
            "|5530I_pYjbo|     17.15.11|How I Trained My ...|         JunsKitchen|         26|2017-11-14 12:06:56|\"how\"|\"trained\"|\"...| 977285| 87615|     391|         5575|https://i.ytimg.c...|            False|           False|                 False|►EQUIPMENT I use ...|\n",
            "|gjXrm2Q-te4|     17.15.11|Jimmy Fallon Pays...|The Tonight Show ...|         23|2017-11-14 04:55:24|\"Jimmy Fallon\"|\"T...|1611093| 58474|     837|         3294|https://i.ytimg.c...|            False|           False|                 False|Jimmy celebrates ...|\n",
            "|9SK1I0V6U5c|     17.15.11|Lie Detector | An...|        Anwar Jibawi|         23|2017-11-14 18:01:03|\"lie detector\"|\"a...| 983365| 60983|     578|         3837|https://i.ytimg.c...|            False|           False|                 False|SUBSCRIBE ► https...|\n",
            "|VsYmwBOYfW8|     17.15.11|Mean Tweets – Jim...|   Jimmy Kimmel Live|         23|2017-11-14 08:30:01|\"jimmy\"|\"jimmy ki...|2765121| 35529|    1705|         2388|https://i.ytimg.c...|            False|           False|                 False|In honor of Jimmy...|\n",
            "|kgaO45SyaO4|     17.15.11|    The New SpotMini|      BostonDynamics|         28|2017-11-13 20:09:58|\"Robots\"|\"Boston ...|3701763| 56561|    2495|        11608|https://i.ytimg.c...|            False|           False|                 False|For more informat...|\n",
            "|CtBca6H6Teg|     17.15.11|Honest Trailers -...|      Screen Junkies|          1|2017-11-14 18:00:01|\"batman\"|\"screenj...| 829132| 25109|     316|         3428|https://i.ytimg.c...|            False|           False|                 False|Before Justice Le...|\n",
            "|9kF9xY74h-E|     17.15.11|Spilling Tea Abou...|         Dolan Twins|         23|2017-11-14 21:00:47|\"Dolan Twins\"|\"Sp...| 891912|122347|     455|         7459|https://i.ytimg.c...|            False|           False|                 False|We spill TEA abou...|\n",
            "|p2EY93WfBQk|     17.15.11|Is the Morphe 350...|         Jackie Aina|         26|2017-11-14 21:03:47|\"morphe\"|\"morphe ...| 175539| 17130|     264|         1747|https://i.ytimg.c...|            False|           False|                 False|hi babes! the lat...|\n",
            "|eQVhAN7-IAw|     17.15.11|The Making of a S...|        Taylor Swift|         10|2017-11-15 03:43:47|\"DIRECTV\"|\"DIRECT...| 125645| 16754|      65|         1373|https://i.ytimg.c...|            False|           False|                 False|A glimpse into Ta...|\n",
            "|2kyS6SvSYSE|     17.15.11|WE WANT TO TALK A...|        CaseyNeistat|         22|2017-11-13 17:13:01|     SHANtell martin|2188590| 88099|    7150|        24225|https://i.ytimg.c...|            False|           False|                 False|SHANTELL'S CHANNE...|\n",
            "|Y9nDagqKL7Q|     17.15.11|venting online ab...|               ProZD|          1|2017-11-13 20:47:49|\"venting online\"|...| 394709| 25188|     281|         1345|https://i.ytimg.c...|            False|           False|                 False|My Twitter: https...|\n",
            "|DbJ2s_g1oDc|     17.15.11|10 LIFE HACKS YOU...|               REACT|         24|2017-11-13 20:00:01|\"easy life hacks\"...| 863116| 20518|    1030|         4272|https://i.ytimg.c...|            False|           False|                 False|10 Awesome life h...|\n",
            "|1ZAPwfrtAFY|     17.15.11|The Trump Preside...|     LastWeekTonight|         24|2017-11-13 07:30:00|\"last week tonigh...|4632016|131784|    9892|        18284|https://i.ytimg.c...|            False|           False|                 False|One year after th...|\n",
            "|gHZ1Qz0KiKM|     17.15.11|2 Weeks with iPho...|            iJustine|         28|2017-11-13 19:07:23|\"ijustine\"|\"week ...| 758998| 19138|    2272|         2873|https://i.ytimg.c...|            False|           False|                 False|Using the iPhone ...|\n",
            "|jr9QtXwC9vc|     17.15.11|The Greatest Show...|    20th Century Fox|          1|2017-11-13 14:00:23|\"Trailer\"|\"Hugh J...|2671756| 12699|     505|         1010|https://i.ytimg.c...|            False|           False|                 False|Inspired by the i...|\n",
            "|l4bAoNAx2uo|     17.15.11|American Things E...|The Infographics ...|         27|2017-11-13 17:11:30|\"American Things ...| 419965|  9805|    1337|         5457|https://i.ytimg.c...|            False|           False|                 False|What are things t...|\n",
            "|puqaWrEC7tY|     17.15.11|Nickelback Lyrics...|Good Mythical Mor...|         24|2017-11-13 11:00:04|\"rhett and link\"|...| 772235| 15301|    1229|         3328|https://i.ytimg.c...|            False|           False|                 False|Today we find out...|\n",
            "+-----------+-------------+--------------------+--------------------+-----------+-------------------+--------------------+-------+------+--------+-------------+--------------------+-----------------+----------------+----------------------+--------------------+\n",
            "only showing top 20 rows\n",
            "\n"
          ]
        }
      ]
    },
    {
      "cell_type": "markdown",
      "source": [
        "# Distinct\n",
        "Elimina duplicados"
      ],
      "metadata": {
        "id": "URlzWdMyBpNj"
      }
    },
    {
      "cell_type": "code",
      "source": [
        "df_sin_duplicados = dft.distinct()"
      ],
      "metadata": {
        "id": "nF3IFIXKBL_v"
      },
      "execution_count": 35,
      "outputs": []
    },
    {
      "cell_type": "code",
      "source": [
        "print('Conteo total del DF {}'.format(dft.count()))\n",
        "print('Conteo sin duplicados {}'.format(df_sin_duplicados.count()))"
      ],
      "metadata": {
        "colab": {
          "base_uri": "https://localhost:8080/"
        },
        "id": "t_XzG7cIB8VM",
        "outputId": "3bb1f76a-bec6-4f60-8bbe-f23100e6d7c3"
      },
      "execution_count": 37,
      "outputs": [
        {
          "output_type": "stream",
          "name": "stdout",
          "text": [
            "Conteo total del DF 48137\n",
            "Conteo sin duplicados 41428\n"
          ]
        }
      ]
    },
    {
      "cell_type": "markdown",
      "source": [
        "# Drop Duplicate"
      ],
      "metadata": {
        "id": "A1Vvjx9SC5Cg"
      }
    },
    {
      "cell_type": "code",
      "source": [
        "dataframe = spark.createDataFrame([(1,'azul',567),(2,'rojo',487),(1,'azul', 345),(2,'verde',783)]).toDF('id','color','importe')"
      ],
      "metadata": {
        "id": "gBQSqRczClli"
      },
      "execution_count": 16,
      "outputs": []
    },
    {
      "cell_type": "code",
      "source": [
        "dataframe.show()"
      ],
      "metadata": {
        "colab": {
          "base_uri": "https://localhost:8080/"
        },
        "id": "EVtsf04xDe0J",
        "outputId": "0c9320aa-c41f-43e1-f5a5-43f3959bcc65"
      },
      "execution_count": 39,
      "outputs": [
        {
          "output_type": "stream",
          "name": "stdout",
          "text": [
            "+---+-----+-------+\n",
            "| id|color|importe|\n",
            "+---+-----+-------+\n",
            "|  1| azul|    567|\n",
            "|  2| rojo|    487|\n",
            "|  1| azul|    345|\n",
            "|  2|verde|    783|\n",
            "+---+-----+-------+\n",
            "\n"
          ]
        }
      ]
    },
    {
      "cell_type": "code",
      "source": [
        "#Toma como referencia que borrar\n",
        "dataframe.dropDuplicates(['id','color']).show()"
      ],
      "metadata": {
        "colab": {
          "base_uri": "https://localhost:8080/"
        },
        "id": "bp5WNlSeDgNr",
        "outputId": "e52933ac-bf92-4542-92cd-b14d9ee977b4"
      },
      "execution_count": 42,
      "outputs": [
        {
          "output_type": "stream",
          "name": "stdout",
          "text": [
            "+---+-----+-------+\n",
            "| id|color|importe|\n",
            "+---+-----+-------+\n",
            "|  1| azul|    567|\n",
            "|  2| rojo|    487|\n",
            "|  2|verde|    783|\n",
            "+---+-----+-------+\n",
            "\n"
          ]
        }
      ]
    },
    {
      "cell_type": "markdown",
      "source": [
        "# Sort"
      ],
      "metadata": {
        "id": "1xBAYFPtM8sT"
      }
    },
    {
      "cell_type": "code",
      "source": [
        "dft.select(col('likes'),col('views'),col('video_id'),col('dislikes')).dropDuplicates(['video_id']).show()"
      ],
      "metadata": {
        "colab": {
          "base_uri": "https://localhost:8080/"
        },
        "id": "ULkOJQ36D8be",
        "outputId": "e0de042e-9b2a-469f-f7e6-ff0d41d8cb2e"
      },
      "execution_count": 45,
      "outputs": [
        {
          "output_type": "stream",
          "name": "stdout",
          "text": [
            "+------+-------+--------------------+--------+\n",
            "| likes|  views|            video_id|dislikes|\n",
            "+------+-------+--------------------+--------+\n",
            "| 63995|1525400|         bAkEd8r7Nnw|     896|\n",
            "|   427|   9036|         eijd-yjXY9E|      14|\n",
            "|  4145| 318249|         npcqBt_e4k0|     110|\n",
            "|  6669| 203615|         LeWtF5y9-6Q|     136|\n",
            "|  2166| 104499|         GhcqN2FDAnA|    1066|\n",
            "| 10834| 160196|         v_CMMWCN5nQ|     162|\n",
            "| 36068| 962042|         R8WBN3fJmwM|     845|\n",
            "|   982|  36848|         oKuPJ7zF0_k|       6|\n",
            "| 26482| 713615|         B3JFSL8AA70|    2443|\n",
            "|275632|2822642|         f6Egj7ncOi8|    1444|\n",
            "| 23922| 321885|         8gE6cek7F30|     317|\n",
            "|    70|  13670|         EdkK29-TWJk|       1|\n",
            "|  1131| 120802|         8szK9FBpdPI|      92|\n",
            "| 12355| 294080|         6gFj1XJ6b5o|      80|\n",
            "|  null|   null|\\nhttp://www.Mast...|    null|\n",
            "| 12070| 233766|         wOFuVNiAJQQ|     117|\n",
            "| 21067| 210371|         PpElRBQ-yGc|     135|\n",
            "|  4609| 363194|         q11UD-6XT-8|     955|\n",
            "|   188|  31145|         IzQwbRdh5Ts|       1|\n",
            "|  2184|  74090|         IfdihPR__WI|      47|\n",
            "+------+-------+--------------------+--------+\n",
            "only showing top 20 rows\n",
            "\n"
          ]
        }
      ]
    },
    {
      "cell_type": "code",
      "source": [
        "dft.select(col('likes'),col('views'),col('video_id'),col('dislikes')).dropDuplicates(['video_id']).sort('likes').show()"
      ],
      "metadata": {
        "colab": {
          "base_uri": "https://localhost:8080/"
        },
        "id": "vGS4fmulN4EM",
        "outputId": "b5b1b5a6-9c20-4623-b0fb-0cf113bca9b8"
      },
      "execution_count": 47,
      "outputs": [
        {
          "output_type": "stream",
          "name": "stdout",
          "text": [
            "+-----+-----+--------------------+--------+\n",
            "|likes|views|            video_id|dislikes|\n",
            "+-----+-----+--------------------+--------+\n",
            "| null| null|\\nFor more videos...|    null|\n",
            "| null| null|\\nFashion Editor:...|    null|\n",
            "| null| null|\\nAccess Hollywoo...|    null|\n",
            "| null| null|\\nStill haven’t s...|    null|\n",
            "| null| null|\\nhttps://www.you...|    null|\n",
            "| null| null|Horror Outro ► ht...|    null|\n",
            "| null| null|\\nChapped lips ar...|    null|\n",
            "| null| null|\\nRoar: https://w...|    null|\n",
            "| null| null|\\nThe leading int...|    null|\n",
            "| null| null|             \\nToday|    null|\n",
            "| null| null|\\nONE STRANGE ROC...|    null|\n",
            "| null| null|\\nSNAPCHAT: fishi...|    null|\n",
            "| null| null|\\nInstagram: http...|    null|\n",
            "| null| null|\\nInstagram.com/w...|    null|\n",
            "| null| null|\\n5050 State Hwy....|    null|\n",
            "| null| null|\\nSIGN UP FOR BRA...|    null|\n",
            "| null| null|\\nJames Ambler an...|    null|\n",
            "| null| null|\\nhttp://www.Mast...|    null|\n",
            "| null| null|\\nEver After Tuto...|    null|\n",
            "| null| null|          \\nEvelin 7|    null|\n",
            "+-----+-----+--------------------+--------+\n",
            "only showing top 20 rows\n",
            "\n"
          ]
        }
      ]
    },
    {
      "cell_type": "code",
      "source": [
        "#importar desc\n",
        "from pyspark.sql.functions import desc"
      ],
      "metadata": {
        "id": "oO911vdEOgkk"
      },
      "execution_count": 15,
      "outputs": []
    },
    {
      "cell_type": "code",
      "source": [
        "dft.select(col('likes'),col('views'),col('video_id'),col('dislikes')).dropDuplicates(['video_id']).sort(desc('likes')).show()"
      ],
      "metadata": {
        "colab": {
          "base_uri": "https://localhost:8080/"
        },
        "id": "vR0vHdKYOupy",
        "outputId": "56cee54b-c710-4a36-9da2-12a7c421cca3"
      },
      "execution_count": 49,
      "outputs": [
        {
          "output_type": "stream",
          "name": "stdout",
          "text": [
            "+-------+--------+-----------+--------+\n",
            "|  likes|   views|   video_id|dislikes|\n",
            "+-------+--------+-----------+--------+\n",
            "|3880071|39349927|7C2z4GqqS5E|   72707|\n",
            "|2055137|13945717|kTlv5_Bs8aw|   23888|\n",
            "|2050527|10695328|OK3GJ0WIQ8s|   14711|\n",
            "|1956202|10666323|p8npDG2ulKQ|   13966|\n",
            "|1735895|37736281|6ZfuNTqbHE8|   21969|\n",
            "|1634124|33523622|2Vv-BfVoq4g|   21082|\n",
            "|1572997| 7518332|kX0vO4vlJuU|    8113|\n",
            "|1437859| 5884233|D_6QmL6rExk|    6390|\n",
            "|1405355|31648454|VYOjWnS4cMY|   51547|\n",
            "|1401915| 5275672|8O_MwlZ2dEg|    6268|\n",
            "|1386616|15873034|ffxKSjUwKdU|   40714|\n",
            "|1366736|16884972|J2HytHu5VBI|   59930|\n",
            "|1290509| 6416697|2tDKp41nrw8|    4358|\n",
            "|1207457|13754992|_5d-sQ7Fh5M|  280675|\n",
            "|1167488| 8041970|oWjxSkJpxFU|  147643|\n",
            "|1149185|24782158|FlsCjmMhFmw|  483924|\n",
            "|1111592|38873543|i0p1bmr0EmE|   96407|\n",
            "|1065777|14089954|dfnCAmr569k|   47839|\n",
            "| 983693|14820746|tCXGJQYZ9JA|   44254|\n",
            "| 975715|19716689|QwievZ1Tx-8|    9118|\n",
            "+-------+--------+-----------+--------+\n",
            "only showing top 20 rows\n",
            "\n"
          ]
        }
      ]
    },
    {
      "cell_type": "markdown",
      "source": [
        "# OrderBy\n",
        "es mas relacional"
      ],
      "metadata": {
        "id": "AiPi5tRuO_tU"
      }
    },
    {
      "cell_type": "code",
      "source": [
        "dataframe.show()"
      ],
      "metadata": {
        "colab": {
          "base_uri": "https://localhost:8080/"
        },
        "id": "fMqUapFJPuF2",
        "outputId": "3fcbf53f-77c3-4153-ab29-61730d9abd82"
      },
      "execution_count": 50,
      "outputs": [
        {
          "output_type": "stream",
          "name": "stdout",
          "text": [
            "+---+-----+-------+\n",
            "| id|color|importe|\n",
            "+---+-----+-------+\n",
            "|  1| azul|    567|\n",
            "|  2| rojo|    487|\n",
            "|  1| azul|    345|\n",
            "|  2|verde|    783|\n",
            "+---+-----+-------+\n",
            "\n"
          ]
        }
      ]
    },
    {
      "cell_type": "code",
      "source": [
        "dataframe.orderBy(col('color').desc(), col('importe')).show()"
      ],
      "metadata": {
        "colab": {
          "base_uri": "https://localhost:8080/"
        },
        "id": "-dDH0n-dPv4P",
        "outputId": "aa462038-8f8a-4579-dab6-67f330ef98a6"
      },
      "execution_count": 52,
      "outputs": [
        {
          "output_type": "stream",
          "name": "stdout",
          "text": [
            "+---+-----+-------+\n",
            "| id|color|importe|\n",
            "+---+-----+-------+\n",
            "|  2|verde|    783|\n",
            "|  2| rojo|    487|\n",
            "|  1| azul|    345|\n",
            "|  1| azul|    567|\n",
            "+---+-----+-------+\n",
            "\n"
          ]
        }
      ]
    },
    {
      "cell_type": "markdown",
      "source": [
        "# Limit"
      ],
      "metadata": {
        "id": "Ir4m38QNQXh1"
      }
    },
    {
      "cell_type": "code",
      "source": [
        "top_10 = dft.orderBy(col('views').desc()).limit(10)"
      ],
      "metadata": {
        "id": "kYSxzWwbP50P"
      },
      "execution_count": 53,
      "outputs": []
    },
    {
      "cell_type": "code",
      "source": [
        "top_10.show()"
      ],
      "metadata": {
        "colab": {
          "base_uri": "https://localhost:8080/"
        },
        "id": "8GOLYD3gQk0X",
        "outputId": "60b60e95-aeb3-4283-a4e8-eba68f05c9ee"
      },
      "execution_count": 54,
      "outputs": [
        {
          "output_type": "stream",
          "name": "stdout",
          "text": [
            "+-----------+-------------+--------------------+-------------------+-----------+-------------------+--------------------+---------+-------+--------+-------------+--------------------+-----------------+----------------+----------------------+--------------------+\n",
            "|   video_id|trending_date|               title|      channel_title|category_id|       publish_time|                tags|    views|  likes|dislikes|comment_count|      thumbnail_link|comments_disabled|ratings_disabled|video_error_or_removed|         description|\n",
            "+-----------+-------------+--------------------+-------------------+-----------+-------------------+--------------------+---------+-------+--------+-------------+--------------------+-----------------+----------------+----------------------+--------------------+\n",
            "|VYOjWnS4cMY|     18.02.06|Childish Gambino ...|ChildishGambinoVEVO|         10|2018-05-06 04:00:07|\"Childish Gambino...|225211923|5023450|  343541|       517232|https://i.ytimg.c...|            False|           False|                 False|“This is America”...|\n",
            "|VYOjWnS4cMY|     18.01.06|Childish Gambino ...|ChildishGambinoVEVO|         10|2018-05-06 04:00:07|\"Childish Gambino...|220490543|4962403|  338105|       512337|https://i.ytimg.c...|            False|           False|                 False|“This is America”...|\n",
            "|VYOjWnS4cMY|     18.31.05|Childish Gambino ...|ChildishGambinoVEVO|         10|2018-05-06 04:00:07|\"Childish Gambino...|217750076|4934188|  335462|       509799|https://i.ytimg.c...|            False|           False|                 False|“This is America”...|\n",
            "|VYOjWnS4cMY|     18.30.05|Childish Gambino ...|ChildishGambinoVEVO|         10|2018-05-06 04:00:07|\"Childish Gambino...|210338856|4836448|  326902|       501722|https://i.ytimg.c...|            False|           False|                 False|“This is America”...|\n",
            "|VYOjWnS4cMY|     18.29.05|Childish Gambino ...|ChildishGambinoVEVO|         10|2018-05-06 04:00:07|\"Childish Gambino...|205643016|4776680|  321493|       496211|https://i.ytimg.c...|            False|           False|                 False|“This is America”...|\n",
            "|VYOjWnS4cMY|     18.28.05|Childish Gambino ...|ChildishGambinoVEVO|         10|2018-05-06 04:00:07|\"Childish Gambino...|200820941|4714942|  316129|       491005|https://i.ytimg.c...|            False|           False|                 False|“This is America”...|\n",
            "|VYOjWnS4cMY|     18.27.05|Childish Gambino ...|ChildishGambinoVEVO|         10|2018-05-06 04:00:07|\"Childish Gambino...|196222618|4656929|  311042|       485797|https://i.ytimg.c...|            False|           False|                 False|“This is America”...|\n",
            "|VYOjWnS4cMY|     18.26.05|Childish Gambino ...|ChildishGambinoVEVO|         10|2018-05-06 04:00:07|\"Childish Gambino...|190950401|4594931|  305435|       479917|https://i.ytimg.c...|            False|           False|                 False|“This is America”...|\n",
            "|VYOjWnS4cMY|     18.25.05|Childish Gambino ...|ChildishGambinoVEVO|         10|2018-05-06 04:00:07|\"Childish Gambino...|184446490|4512326|  298157|       473039|https://i.ytimg.c...|            False|           False|                 False|“This is America”...|\n",
            "|VYOjWnS4cMY|     18.24.05|Childish Gambino ...|ChildishGambinoVEVO|         10|2018-05-06 04:00:07|\"Childish Gambino...|179045286|4437175|  291098|       466470|https://i.ytimg.c...|            False|           False|                 False|“This is America”...|\n",
            "+-----------+-------------+--------------------+-------------------+-----------+-------------------+--------------------+---------+-------+--------+-------------+--------------------+-----------------+----------------+----------------------+--------------------+\n",
            "\n"
          ]
        }
      ]
    },
    {
      "cell_type": "code",
      "source": [
        "dft.select(col('likes'),col('views'),col('video_id'),col('dislikes')).dropDuplicates(['video_id']).orderBy(col('views').desc()).limit(10).show()"
      ],
      "metadata": {
        "colab": {
          "base_uri": "https://localhost:8080/"
        },
        "id": "96elXaP8Ql_P",
        "outputId": "58d926d9-b9df-44f7-d599-b19bc04d89f2"
      },
      "execution_count": 56,
      "outputs": [
        {
          "output_type": "stream",
          "name": "stdout",
          "text": [
            "+-------+--------+-----------+--------+\n",
            "|  likes|   views|   video_id|dislikes|\n",
            "+-------+--------+-----------+--------+\n",
            "| 609101|48431654|-BQJo3vK8O8|   52259|\n",
            "|3880071|39349927|7C2z4GqqS5E|   72707|\n",
            "|1111592|38873543|i0p1bmr0EmE|   96407|\n",
            "|1735895|37736281|6ZfuNTqbHE8|   21969|\n",
            "|1634124|33523622|2Vv-BfVoq4g|   21082|\n",
            "|1405355|31648454|VYOjWnS4cMY|   51547|\n",
            "| 850362|27973210|u9Mv98Gr5pY|   26541|\n",
            "|1149185|24782158|FlsCjmMhFmw|  483924|\n",
            "| 641546|24421448|U9BwWKXjVaI|   16517|\n",
            "| 587326|23758250|1J76wN0TPI4|   18799|\n",
            "+-------+--------+-----------+--------+\n",
            "\n"
          ]
        }
      ]
    },
    {
      "cell_type": "markdown",
      "source": [
        "# WithColumn"
      ],
      "metadata": {
        "id": "FxoF6zyqWGvA"
      }
    },
    {
      "cell_type": "markdown",
      "source": [
        "agregar una nueva columna"
      ],
      "metadata": {
        "id": "PyBOURNQWQ7G"
      }
    },
    {
      "cell_type": "code",
      "source": [
        "df_valoracion = dft.withColumn('valoracion',col('likes') - col('dislikes'))"
      ],
      "metadata": {
        "id": "EdoJFliCRFHX"
      },
      "execution_count": 57,
      "outputs": []
    },
    {
      "cell_type": "code",
      "source": [
        "df_valoracion.printSchema()"
      ],
      "metadata": {
        "colab": {
          "base_uri": "https://localhost:8080/"
        },
        "id": "Nnmh0YRLWlst",
        "outputId": "1044c82e-ae58-4b13-a31c-8be7c3e669ac"
      },
      "execution_count": 58,
      "outputs": [
        {
          "output_type": "stream",
          "name": "stdout",
          "text": [
            "root\n",
            " |-- video_id: string (nullable = true)\n",
            " |-- trending_date: string (nullable = true)\n",
            " |-- title: string (nullable = true)\n",
            " |-- channel_title: string (nullable = true)\n",
            " |-- category_id: string (nullable = true)\n",
            " |-- publish_time: timestamp (nullable = true)\n",
            " |-- tags: string (nullable = true)\n",
            " |-- views: integer (nullable = true)\n",
            " |-- likes: integer (nullable = true)\n",
            " |-- dislikes: integer (nullable = true)\n",
            " |-- comment_count: integer (nullable = true)\n",
            " |-- thumbnail_link: string (nullable = true)\n",
            " |-- comments_disabled: string (nullable = true)\n",
            " |-- ratings_disabled: string (nullable = true)\n",
            " |-- video_error_or_removed: string (nullable = true)\n",
            " |-- description: string (nullable = true)\n",
            " |-- valoracion: integer (nullable = true)\n",
            "\n"
          ]
        }
      ]
    },
    {
      "cell_type": "code",
      "source": [
        "df_valoracion1 = (dft.withColumn('valoracion',col('likes') - col('dislikes'))\n",
        "                     .withColumn('res_div',col('valoracion') % 10)\n",
        ")"
      ],
      "metadata": {
        "id": "EGoTDlsUWrGg"
      },
      "execution_count": 59,
      "outputs": []
    },
    {
      "cell_type": "code",
      "source": [
        "df_valoracion1.printSchema()"
      ],
      "metadata": {
        "colab": {
          "base_uri": "https://localhost:8080/"
        },
        "id": "8lzFbNvUXsTe",
        "outputId": "73fc491f-e635-41e6-cdfa-175b3d52ff66"
      },
      "execution_count": 60,
      "outputs": [
        {
          "output_type": "stream",
          "name": "stdout",
          "text": [
            "root\n",
            " |-- video_id: string (nullable = true)\n",
            " |-- trending_date: string (nullable = true)\n",
            " |-- title: string (nullable = true)\n",
            " |-- channel_title: string (nullable = true)\n",
            " |-- category_id: string (nullable = true)\n",
            " |-- publish_time: timestamp (nullable = true)\n",
            " |-- tags: string (nullable = true)\n",
            " |-- views: integer (nullable = true)\n",
            " |-- likes: integer (nullable = true)\n",
            " |-- dislikes: integer (nullable = true)\n",
            " |-- comment_count: integer (nullable = true)\n",
            " |-- thumbnail_link: string (nullable = true)\n",
            " |-- comments_disabled: string (nullable = true)\n",
            " |-- ratings_disabled: string (nullable = true)\n",
            " |-- video_error_or_removed: string (nullable = true)\n",
            " |-- description: string (nullable = true)\n",
            " |-- valoracion: integer (nullable = true)\n",
            " |-- res_div: integer (nullable = true)\n",
            "\n"
          ]
        }
      ]
    },
    {
      "cell_type": "code",
      "source": [
        "df_valoracion1.select(col('likes'), col('dislikes'), col('valoracion'), col('res_div')).show()"
      ],
      "metadata": {
        "colab": {
          "base_uri": "https://localhost:8080/"
        },
        "id": "ylxd9Q05XvWO",
        "outputId": "cfe65232-3435-4b78-d99b-95decfa00b86"
      },
      "execution_count": 61,
      "outputs": [
        {
          "output_type": "stream",
          "name": "stdout",
          "text": [
            "+------+--------+----------+-------+\n",
            "| likes|dislikes|valoracion|res_div|\n",
            "+------+--------+----------+-------+\n",
            "| 57527|    2966|     54561|      1|\n",
            "| 97185|    6146|     91039|      9|\n",
            "|146033|    5339|    140694|      4|\n",
            "| 10172|     666|      9506|      6|\n",
            "|132235|    1989|    130246|      6|\n",
            "|  9763|     511|      9252|      2|\n",
            "| 15993|    2445|     13548|      8|\n",
            "| 23663|     778|     22885|      5|\n",
            "|  3543|     119|      3424|      4|\n",
            "| 12654|    1363|     11291|      1|\n",
            "|   655|      25|       630|      0|\n",
            "|  1576|     303|      1273|      3|\n",
            "|114188|    1333|    112855|      5|\n",
            "|  7848|    1171|      6677|      7|\n",
            "|  7473|     246|      7227|      7|\n",
            "|  9419|      52|      9367|      7|\n",
            "|  8011|     638|      7373|      3|\n",
            "|  5398|      53|      5345|      5|\n",
            "| 11963|      36|     11927|      7|\n",
            "|  8421|     191|      8230|      0|\n",
            "+------+--------+----------+-------+\n",
            "only showing top 20 rows\n",
            "\n"
          ]
        }
      ]
    },
    {
      "cell_type": "markdown",
      "source": [
        "# With Column Renamed\n",
        "cambiar el nombre de la columna"
      ],
      "metadata": {
        "id": "dz2BYaY6ePBG"
      }
    },
    {
      "cell_type": "code",
      "source": [
        "dataframe.show()"
      ],
      "metadata": {
        "colab": {
          "base_uri": "https://localhost:8080/"
        },
        "id": "YFcebnpLX8-l",
        "outputId": "1940caf0-6f2e-4deb-b4b7-2538689d6b21"
      },
      "execution_count": 15,
      "outputs": [
        {
          "output_type": "stream",
          "name": "stdout",
          "text": [
            "+---+-----+-------+\n",
            "| id|color|importe|\n",
            "+---+-----+-------+\n",
            "|  1| azul|    567|\n",
            "|  2| rojo|    487|\n",
            "|  1| azul|    345|\n",
            "|  2|verde|    783|\n",
            "+---+-----+-------+\n",
            "\n"
          ]
        }
      ]
    },
    {
      "cell_type": "code",
      "source": [
        "df_renombrado = dataframe.withColumnRenamed('importe','Importe total')"
      ],
      "metadata": {
        "id": "9sLKS7affmFM"
      },
      "execution_count": 16,
      "outputs": []
    },
    {
      "cell_type": "code",
      "source": [
        "df_renombrado.show()"
      ],
      "metadata": {
        "colab": {
          "base_uri": "https://localhost:8080/"
        },
        "id": "an3txhspfyaY",
        "outputId": "cb74d3e7-c095-4583-cfd3-f0d3db807492"
      },
      "execution_count": 17,
      "outputs": [
        {
          "output_type": "stream",
          "name": "stdout",
          "text": [
            "+---+-----+-------------+\n",
            "| id|color|Importe total|\n",
            "+---+-----+-------------+\n",
            "|  1| azul|          567|\n",
            "|  2| rojo|          487|\n",
            "|  1| azul|          345|\n",
            "|  2|verde|          783|\n",
            "+---+-----+-------------+\n",
            "\n"
          ]
        }
      ]
    },
    {
      "cell_type": "markdown",
      "source": [
        "Nota* si la columna no existe no te manda error"
      ],
      "metadata": {
        "id": "8uTKNf-ahDbT"
      }
    },
    {
      "cell_type": "markdown",
      "source": [
        "# Transformaciones"
      ],
      "metadata": {
        "id": "cEX4frsNhW24"
      }
    },
    {
      "cell_type": "code",
      "source": [
        "dataf = spark.read.parquet('./datos.parquet')"
      ],
      "metadata": {
        "id": "9-rPilqOhWmx"
      },
      "execution_count": 20,
      "outputs": []
    },
    {
      "cell_type": "code",
      "source": [
        "dataf.show()"
      ],
      "metadata": {
        "colab": {
          "base_uri": "https://localhost:8080/"
        },
        "id": "odQwAjdGhnQZ",
        "outputId": "c9c04fc9-bfba-4bc6-b747-b61747bd3a0d"
      },
      "execution_count": 22,
      "outputs": [
        {
          "output_type": "stream",
          "name": "stdout",
          "text": [
            "+-----------+-------------+--------------------+--------------------+-----------+-------------------+--------------------+-------+------+--------+-------------+--------------------+-----------------+----------------+----------------------+--------------------+\n",
            "|   video_id|trending_date|               title|       channel_title|category_id|       publish_time|                tags|  views| likes|dislikes|comment_count|      thumbnail_link|comments_disabled|ratings_disabled|video_error_or_removed|         description|\n",
            "+-----------+-------------+--------------------+--------------------+-----------+-------------------+--------------------+-------+------+--------+-------------+--------------------+-----------------+----------------+----------------------+--------------------+\n",
            "|2kyS6SvSYSE|     17.14.11|WE WANT TO TALK A...|        CaseyNeistat|         22|2017-11-13 17:13:01|     SHANtell martin| 748374| 57527|    2966|        15954|https://i.ytimg.c...|            False|           False|                 False|SHANTELL'S CHANNE...|\n",
            "|1ZAPwfrtAFY|     17.14.11|The Trump Preside...|     LastWeekTonight|         24|2017-11-13 07:30:00|\"last week tonigh...|2418783| 97185|    6146|        12703|https://i.ytimg.c...|            False|           False|                 False|One year after th...|\n",
            "|5qpjK5DgCt4|     17.14.11|Racist Superman |...|        Rudy Mancuso|         23|2017-11-12 19:05:24|\"racist superman\"...|3191434|146033|    5339|         8181|https://i.ytimg.c...|            False|           False|                 False|WATCH MY PREVIOUS...|\n",
            "|puqaWrEC7tY|     17.14.11|Nickelback Lyrics...|Good Mythical Mor...|         24|2017-11-13 11:00:04|\"rhett and link\"|...| 343168| 10172|     666|         2146|https://i.ytimg.c...|            False|           False|                 False|Today we find out...|\n",
            "|d380meD0W0M|     17.14.11|I Dare You: GOING...|            nigahiga|         24|2017-11-12 18:01:41|\"ryan\"|\"higa\"|\"hi...|2095731|132235|    1989|        17518|https://i.ytimg.c...|            False|           False|                 False|I know it's been ...|\n",
            "|gHZ1Qz0KiKM|     17.14.11|2 Weeks with iPho...|            iJustine|         28|2017-11-13 19:07:23|\"ijustine\"|\"week ...| 119180|  9763|     511|         1434|https://i.ytimg.c...|            False|           False|                 False|Using the iPhone ...|\n",
            "|39idVpFF7NQ|     17.14.11|Roy Moore & Jeff ...| Saturday Night Live|         24|2017-11-12 05:37:17|\"SNL\"|\"Saturday N...|2103417| 15993|    2445|         1970|https://i.ytimg.c...|            False|           False|                 False|Embattled Alabama...|\n",
            "|nc99ccSXST0|     17.14.11|5 Ice Cream Gadge...|  CrazyRussianHacker|         28|2017-11-12 21:50:37|\"5 Ice Cream Gadg...| 817732| 23663|     778|         3432|https://i.ytimg.c...|            False|           False|                 False|Ice Cream Pint Co...|\n",
            "|jr9QtXwC9vc|     17.14.11|The Greatest Show...|    20th Century Fox|          1|2017-11-13 14:00:23|\"Trailer\"|\"Hugh J...| 826059|  3543|     119|          340|https://i.ytimg.c...|            False|           False|                 False|Inspired by the i...|\n",
            "|TUmyygCMMGA|     17.14.11|Why the rise of t...|                 Vox|         25|2017-11-13 13:45:16|\"vox.com\"|\"vox\"|\"...| 256426| 12654|    1363|         2368|https://i.ytimg.c...|            False|           False|                 False|For now, at least...|\n",
            "|9wRQljFNDW8|     17.14.11|Dion Lewis' 103-Y...|                 NFL|         17|2017-11-13 02:05:26|\"NFL\"|\"Football\"|...|  81377|   655|      25|          177|https://i.ytimg.c...|            False|           False|                 False|New England Patri...|\n",
            "|VifQlJit6A0|     17.14.11|(SPOILERS) 'Shiva...|                 amc|         24|2017-11-13 03:00:00|\"The Walking Dead...| 104578|  1576|     303|         1279|https://i.ytimg.c...|            False|           False|                 False|Shiva arrives jus...|\n",
            "|5E4ZBSInqUU|     17.14.11|Marshmello - Bloc...|          marshmello|         10|2017-11-13 17:00:00|\"marshmello\"|\"blo...| 687582|114188|    1333|         8371|https://i.ytimg.c...|            False|           False|                 False|WATCH SILENCE MUS...|\n",
            "|GgVmn66oK_A|     17.14.11|Which Countries A...|       NowThis World|         25|2017-11-12 14:00:00|\"nowthis\"|\"nowthi...| 544770|  7848|    1171|         3981|https://i.ytimg.c...|            False|           False|                 False|The world at larg...|\n",
            "|TaTleo4cOs8|     17.14.11|SHOPPING FOR NEW ...|     The king of DIY|         15|2017-11-12 18:30:01|\"shopping for new...| 207532|  7473|     246|         2120|https://i.ytimg.c...|            False|           False|                 False|Today we go shopp...|\n",
            "|kgaO45SyaO4|     17.14.11|    The New SpotMini|      BostonDynamics|         28|2017-11-13 20:09:58|\"Robots\"|\"Boston ...|  75752|  9419|      52|         1230|https://i.ytimg.c...|            False|           False|                 False|For more informat...|\n",
            "|ZAQs-ctOqXQ|     17.14.11|One Change That W...|             Cracked|         23|2017-11-12 17:00:05|\"pacific rim\"|\"pa...| 295639|  8011|     638|         1256|https://i.ytimg.c...|            False|           False|                 False|Pacific Rim was s...|\n",
            "|YVfyYrEmzgM|     17.14.11|How does your bod...|              TED-Ed|         27|2017-11-13 16:00:07|\"TED\"|\"TED-Ed\"|\"T...|  78044|  5398|      53|          385|https://i.ytimg.c...|            False|           False|                 False|Check out our Pat...|\n",
            "|eNSN6qet1kE|     17.14.11|HomeMade Electric...|         PeterSripol|         28|2017-11-13 15:30:17|\"ultralight\"|\"air...|  97007| 11963|      36|         2211|https://i.ytimg.c...|            False|           False|                 False|aaaannnd now to f...|\n",
            "|B5HORANmzHw|     17.14.11|Founding An Inbre...|             SciShow|         27|2017-11-12 22:00:01|\"SciShow\"|\"scienc...| 223871|  8421|     191|         1214|https://i.ytimg.c...|            False|           False|                 False|Thanks to 23AndMe...|\n",
            "+-----------+-------------+--------------------+--------------------+-----------+-------------------+--------------------+-------+------+--------+-------------+--------------------+-----------------+----------------+----------------------+--------------------+\n",
            "only showing top 20 rows\n",
            "\n"
          ]
        }
      ]
    },
    {
      "cell_type": "markdown",
      "source": [
        "# drop"
      ],
      "metadata": {
        "id": "AExbKMdakjce"
      }
    },
    {
      "cell_type": "code",
      "source": [
        "dataf.printSchema()"
      ],
      "metadata": {
        "colab": {
          "base_uri": "https://localhost:8080/"
        },
        "id": "NKXDTWLtkjKG",
        "outputId": "7060e4e3-573c-4615-ef51-cf5f355950e1"
      },
      "execution_count": 23,
      "outputs": [
        {
          "output_type": "stream",
          "name": "stdout",
          "text": [
            "root\n",
            " |-- video_id: string (nullable = true)\n",
            " |-- trending_date: string (nullable = true)\n",
            " |-- title: string (nullable = true)\n",
            " |-- channel_title: string (nullable = true)\n",
            " |-- category_id: string (nullable = true)\n",
            " |-- publish_time: timestamp (nullable = true)\n",
            " |-- tags: string (nullable = true)\n",
            " |-- views: integer (nullable = true)\n",
            " |-- likes: integer (nullable = true)\n",
            " |-- dislikes: integer (nullable = true)\n",
            " |-- comment_count: integer (nullable = true)\n",
            " |-- thumbnail_link: string (nullable = true)\n",
            " |-- comments_disabled: string (nullable = true)\n",
            " |-- ratings_disabled: string (nullable = true)\n",
            " |-- video_error_or_removed: string (nullable = true)\n",
            " |-- description: string (nullable = true)\n",
            "\n"
          ]
        }
      ]
    },
    {
      "cell_type": "code",
      "source": [
        "df_util = dataf.drop('comments_disabled')"
      ],
      "metadata": {
        "id": "SKuEqnbJjWNt"
      },
      "execution_count": 24,
      "outputs": []
    },
    {
      "cell_type": "code",
      "source": [
        "df_util.printSchema()"
      ],
      "metadata": {
        "colab": {
          "base_uri": "https://localhost:8080/"
        },
        "id": "5p3eXgbylJC-",
        "outputId": "fa282a2b-6f3e-4a1f-d64a-db496f5bb0bb"
      },
      "execution_count": 25,
      "outputs": [
        {
          "output_type": "stream",
          "name": "stdout",
          "text": [
            "root\n",
            " |-- video_id: string (nullable = true)\n",
            " |-- trending_date: string (nullable = true)\n",
            " |-- title: string (nullable = true)\n",
            " |-- channel_title: string (nullable = true)\n",
            " |-- category_id: string (nullable = true)\n",
            " |-- publish_time: timestamp (nullable = true)\n",
            " |-- tags: string (nullable = true)\n",
            " |-- views: integer (nullable = true)\n",
            " |-- likes: integer (nullable = true)\n",
            " |-- dislikes: integer (nullable = true)\n",
            " |-- comment_count: integer (nullable = true)\n",
            " |-- thumbnail_link: string (nullable = true)\n",
            " |-- ratings_disabled: string (nullable = true)\n",
            " |-- video_error_or_removed: string (nullable = true)\n",
            " |-- description: string (nullable = true)\n",
            "\n"
          ]
        }
      ]
    },
    {
      "cell_type": "code",
      "source": [
        "df_util = dataf.drop('comments_disabled','ratings_disabled','thumbnail_link')"
      ],
      "metadata": {
        "id": "HEQ62OQBlK9d"
      },
      "execution_count": 26,
      "outputs": []
    },
    {
      "cell_type": "code",
      "source": [
        "df_util.printSchema()"
      ],
      "metadata": {
        "colab": {
          "base_uri": "https://localhost:8080/"
        },
        "id": "7MWmWbdVlXvt",
        "outputId": "b29acf6b-f6ac-40e1-f7f4-7c847fd411c0"
      },
      "execution_count": 30,
      "outputs": [
        {
          "output_type": "stream",
          "name": "stdout",
          "text": [
            "root\n",
            " |-- video_id: string (nullable = true)\n",
            " |-- trending_date: string (nullable = true)\n",
            " |-- title: string (nullable = true)\n",
            " |-- channel_title: string (nullable = true)\n",
            " |-- category_id: string (nullable = true)\n",
            " |-- publish_time: timestamp (nullable = true)\n",
            " |-- tags: string (nullable = true)\n",
            " |-- views: integer (nullable = true)\n",
            " |-- likes: integer (nullable = true)\n",
            " |-- dislikes: integer (nullable = true)\n",
            " |-- comment_count: integer (nullable = true)\n",
            " |-- video_error_or_removed: string (nullable = true)\n",
            " |-- description: string (nullable = true)\n",
            "\n"
          ]
        }
      ]
    },
    {
      "cell_type": "markdown",
      "source": [
        "*Nota no muestra error si borrar un nombre inexistente texto en cursiva*"
      ],
      "metadata": {
        "id": "vSTCAm5uldrj"
      }
    },
    {
      "cell_type": "markdown",
      "source": [
        "# Sample"
      ],
      "metadata": {
        "id": "TSH6u9rcmzbb"
      }
    },
    {
      "cell_type": "markdown",
      "source": [
        "hacer un muestreo"
      ],
      "metadata": {
        "id": "pV2POCNDm_2U"
      }
    },
    {
      "cell_type": "code",
      "source": [
        "df_muestra = dataf.sample(0.8)"
      ],
      "metadata": {
        "id": "k5TaIOV5lZtd"
      },
      "execution_count": 28,
      "outputs": []
    },
    {
      "cell_type": "code",
      "source": [
        "#Practicar\n",
        "#igual con ramdonsplit"
      ],
      "metadata": {
        "id": "9-kWXp_AnJRD"
      },
      "execution_count": null,
      "outputs": []
    },
    {
      "cell_type": "markdown",
      "source": [
        "# Datos incorrecta o faltantes"
      ],
      "metadata": {
        "id": "58GZP-yT9vy_"
      }
    },
    {
      "cell_type": "code",
      "source": [
        "dataf.count()"
      ],
      "metadata": {
        "colab": {
          "base_uri": "https://localhost:8080/"
        },
        "id": "S3Ga6YTk91li",
        "outputId": "7a1553cd-4be0-41db-aea3-13eb659a9124"
      },
      "execution_count": 31,
      "outputs": [
        {
          "output_type": "execute_result",
          "data": {
            "text/plain": [
              "48137"
            ]
          },
          "metadata": {},
          "execution_count": 31
        }
      ]
    },
    {
      "cell_type": "code",
      "source": [
        "dataf.na.drop().count()"
      ],
      "metadata": {
        "colab": {
          "base_uri": "https://localhost:8080/"
        },
        "id": "JCuISYbR-AS5",
        "outputId": "6260641b-1352-4c7c-81b1-83de9bb6a04a"
      },
      "execution_count": 32,
      "outputs": [
        {
          "output_type": "execute_result",
          "data": {
            "text/plain": [
              "40379"
            ]
          },
          "metadata": {},
          "execution_count": 32
        }
      ]
    },
    {
      "cell_type": "code",
      "source": [
        "dataf.na.drop('any').count()"
      ],
      "metadata": {
        "colab": {
          "base_uri": "https://localhost:8080/"
        },
        "id": "-jWyiiUX-KpR",
        "outputId": "c1895235-fc87-48e1-c677-e0a0430b9361"
      },
      "execution_count": 33,
      "outputs": [
        {
          "output_type": "execute_result",
          "data": {
            "text/plain": [
              "40379"
            ]
          },
          "metadata": {},
          "execution_count": 33
        }
      ]
    },
    {
      "cell_type": "code",
      "source": [
        "dataf.dropna().count()"
      ],
      "metadata": {
        "colab": {
          "base_uri": "https://localhost:8080/"
        },
        "id": "Cv0bRAJd-alB",
        "outputId": "05ecb447-0a57-447f-cb02-517b4bfab62c"
      },
      "execution_count": 34,
      "outputs": [
        {
          "output_type": "execute_result",
          "data": {
            "text/plain": [
              "40379"
            ]
          },
          "metadata": {},
          "execution_count": 34
        }
      ]
    },
    {
      "cell_type": "code",
      "source": [
        "#nulos eliminados de la colmn view\n",
        "dataf.na.drop(subset=['views']).count()"
      ],
      "metadata": {
        "colab": {
          "base_uri": "https://localhost:8080/"
        },
        "id": "dfeCcbzy-hlS",
        "outputId": "f85d17d5-876e-4b3a-ca8d-b532c9248fa4"
      },
      "execution_count": 36,
      "outputs": [
        {
          "output_type": "execute_result",
          "data": {
            "text/plain": [
              "40949"
            ]
          },
          "metadata": {},
          "execution_count": 36
        }
      ]
    },
    {
      "cell_type": "code",
      "source": [
        "dataf.na.drop(subset=['views','dislikes']).count()"
      ],
      "metadata": {
        "colab": {
          "base_uri": "https://localhost:8080/"
        },
        "id": "OF5sw2w8_G65",
        "outputId": "7d9f1b68-0060-4738-8c80-63d5f9ba1b8e"
      },
      "execution_count": 38,
      "outputs": [
        {
          "output_type": "execute_result",
          "data": {
            "text/plain": [
              "40949"
            ]
          },
          "metadata": {},
          "execution_count": 38
        }
      ]
    },
    {
      "cell_type": "code",
      "source": [
        "dataf.orderBy(col('views')).select(col('views'),col('likes'), col('dislikes')).show()"
      ],
      "metadata": {
        "colab": {
          "base_uri": "https://localhost:8080/"
        },
        "id": "pAKE4ECz_vH_",
        "outputId": "90b19b3a-e42a-4825-9042-fe53d0107c75"
      },
      "execution_count": 22,
      "outputs": [
        {
          "output_type": "stream",
          "name": "stdout",
          "text": [
            "+-----+-----+--------+\n",
            "|views|likes|dislikes|\n",
            "+-----+-----+--------+\n",
            "| null| null|    null|\n",
            "| null| null|    null|\n",
            "| null| null|    null|\n",
            "| null| null|    null|\n",
            "| null| null|    null|\n",
            "| null| null|    null|\n",
            "| null| null|    null|\n",
            "| null| null|    null|\n",
            "| null| null|    null|\n",
            "| null| null|    null|\n",
            "| null| null|    null|\n",
            "| null| null|    null|\n",
            "| null| null|    null|\n",
            "| null| null|    null|\n",
            "| null| null|    null|\n",
            "| null| null|    null|\n",
            "| null| null|    null|\n",
            "| null| null|    null|\n",
            "| null| null|    null|\n",
            "| null| null|    null|\n",
            "+-----+-----+--------+\n",
            "only showing top 20 rows\n",
            "\n"
          ]
        }
      ]
    },
    {
      "cell_type": "markdown",
      "source": [
        "imputarlos con un valor sustituir"
      ],
      "metadata": {
        "id": "3o_u35uZ4RxS"
      }
    },
    {
      "cell_type": "code",
      "source": [
        "dataf.fillna(0).orderBy(col('views')).select(col('views'),col('likes'), col('dislikes')).show()"
      ],
      "metadata": {
        "colab": {
          "base_uri": "https://localhost:8080/"
        },
        "id": "bTfl_9Ss4Wuo",
        "outputId": "2cc9b83a-1459-42d7-bdbd-695b6977e8b2"
      },
      "execution_count": 24,
      "outputs": [
        {
          "output_type": "stream",
          "name": "stdout",
          "text": [
            "+-----+-----+--------+\n",
            "|views|likes|dislikes|\n",
            "+-----+-----+--------+\n",
            "|    0|    0|       0|\n",
            "|    0|    0|       0|\n",
            "|    0|    0|       0|\n",
            "|    0|    0|       0|\n",
            "|    0|    0|       0|\n",
            "|    0|    0|       0|\n",
            "|    0|    0|       0|\n",
            "|    0|    0|       0|\n",
            "|    0|    0|       0|\n",
            "|    0|    0|       0|\n",
            "|    0|    0|       0|\n",
            "|    0|    0|       0|\n",
            "|    0|    0|       0|\n",
            "|    0|    0|       0|\n",
            "|    0|    0|       0|\n",
            "|    0|    0|       0|\n",
            "|    0|    0|       0|\n",
            "|    0|    0|       0|\n",
            "|    0|    0|       0|\n",
            "|    0|    0|       0|\n",
            "+-----+-----+--------+\n",
            "only showing top 20 rows\n",
            "\n"
          ]
        }
      ]
    },
    {
      "cell_type": "markdown",
      "source": [
        "rellenar solo ciertas columnas"
      ],
      "metadata": {
        "id": "ti4gZ1uo4oZv"
      }
    },
    {
      "cell_type": "code",
      "source": [
        "dataf.fillna(0, subset=['likes','dislikes']).orderBy(col('views')).select(col('views'),col('likes'), col('dislikes')).show()"
      ],
      "metadata": {
        "colab": {
          "base_uri": "https://localhost:8080/"
        },
        "id": "pniKUKaJ4qPo",
        "outputId": "a67d8766-7d92-4aee-ce86-ef67e22ce6a2"
      },
      "execution_count": 25,
      "outputs": [
        {
          "output_type": "stream",
          "name": "stdout",
          "text": [
            "+-----+-----+--------+\n",
            "|views|likes|dislikes|\n",
            "+-----+-----+--------+\n",
            "| null|    0|       0|\n",
            "| null|    0|       0|\n",
            "| null|    0|       0|\n",
            "| null|    0|       0|\n",
            "| null|    0|       0|\n",
            "| null|    0|       0|\n",
            "| null|    0|       0|\n",
            "| null|    0|       0|\n",
            "| null|    0|       0|\n",
            "| null|    0|       0|\n",
            "| null|    0|       0|\n",
            "| null|    0|       0|\n",
            "| null|    0|       0|\n",
            "| null|    0|       0|\n",
            "| null|    0|       0|\n",
            "| null|    0|       0|\n",
            "| null|    0|       0|\n",
            "| null|    0|       0|\n",
            "| null|    0|       0|\n",
            "| null|    0|       0|\n",
            "+-----+-----+--------+\n",
            "only showing top 20 rows\n",
            "\n"
          ]
        }
      ]
    },
    {
      "cell_type": "markdown",
      "source": [
        "# Acciones\n",
        "\n"
      ],
      "metadata": {
        "id": "z_wycMwH6LGc"
      }
    },
    {
      "cell_type": "code",
      "source": [
        "dataf.show()"
      ],
      "metadata": {
        "colab": {
          "base_uri": "https://localhost:8080/"
        },
        "id": "LyMICMKZ6Wsh",
        "outputId": "fc5594a7-9ecb-4412-d9af-e91afaa7cd55"
      },
      "execution_count": 27,
      "outputs": [
        {
          "output_type": "stream",
          "name": "stdout",
          "text": [
            "+-----------+-------------+--------------------+--------------------+-----------+-------------------+--------------------+-------+------+--------+-------------+--------------------+-----------------+----------------+----------------------+--------------------+\n",
            "|   video_id|trending_date|               title|       channel_title|category_id|       publish_time|                tags|  views| likes|dislikes|comment_count|      thumbnail_link|comments_disabled|ratings_disabled|video_error_or_removed|         description|\n",
            "+-----------+-------------+--------------------+--------------------+-----------+-------------------+--------------------+-------+------+--------+-------------+--------------------+-----------------+----------------+----------------------+--------------------+\n",
            "|2kyS6SvSYSE|     17.14.11|WE WANT TO TALK A...|        CaseyNeistat|         22|2017-11-13 17:13:01|     SHANtell martin| 748374| 57527|    2966|        15954|https://i.ytimg.c...|            False|           False|                 False|SHANTELL'S CHANNE...|\n",
            "|1ZAPwfrtAFY|     17.14.11|The Trump Preside...|     LastWeekTonight|         24|2017-11-13 07:30:00|\"last week tonigh...|2418783| 97185|    6146|        12703|https://i.ytimg.c...|            False|           False|                 False|One year after th...|\n",
            "|5qpjK5DgCt4|     17.14.11|Racist Superman |...|        Rudy Mancuso|         23|2017-11-12 19:05:24|\"racist superman\"...|3191434|146033|    5339|         8181|https://i.ytimg.c...|            False|           False|                 False|WATCH MY PREVIOUS...|\n",
            "|puqaWrEC7tY|     17.14.11|Nickelback Lyrics...|Good Mythical Mor...|         24|2017-11-13 11:00:04|\"rhett and link\"|...| 343168| 10172|     666|         2146|https://i.ytimg.c...|            False|           False|                 False|Today we find out...|\n",
            "|d380meD0W0M|     17.14.11|I Dare You: GOING...|            nigahiga|         24|2017-11-12 18:01:41|\"ryan\"|\"higa\"|\"hi...|2095731|132235|    1989|        17518|https://i.ytimg.c...|            False|           False|                 False|I know it's been ...|\n",
            "|gHZ1Qz0KiKM|     17.14.11|2 Weeks with iPho...|            iJustine|         28|2017-11-13 19:07:23|\"ijustine\"|\"week ...| 119180|  9763|     511|         1434|https://i.ytimg.c...|            False|           False|                 False|Using the iPhone ...|\n",
            "|39idVpFF7NQ|     17.14.11|Roy Moore & Jeff ...| Saturday Night Live|         24|2017-11-12 05:37:17|\"SNL\"|\"Saturday N...|2103417| 15993|    2445|         1970|https://i.ytimg.c...|            False|           False|                 False|Embattled Alabama...|\n",
            "|nc99ccSXST0|     17.14.11|5 Ice Cream Gadge...|  CrazyRussianHacker|         28|2017-11-12 21:50:37|\"5 Ice Cream Gadg...| 817732| 23663|     778|         3432|https://i.ytimg.c...|            False|           False|                 False|Ice Cream Pint Co...|\n",
            "|jr9QtXwC9vc|     17.14.11|The Greatest Show...|    20th Century Fox|          1|2017-11-13 14:00:23|\"Trailer\"|\"Hugh J...| 826059|  3543|     119|          340|https://i.ytimg.c...|            False|           False|                 False|Inspired by the i...|\n",
            "|TUmyygCMMGA|     17.14.11|Why the rise of t...|                 Vox|         25|2017-11-13 13:45:16|\"vox.com\"|\"vox\"|\"...| 256426| 12654|    1363|         2368|https://i.ytimg.c...|            False|           False|                 False|For now, at least...|\n",
            "|9wRQljFNDW8|     17.14.11|Dion Lewis' 103-Y...|                 NFL|         17|2017-11-13 02:05:26|\"NFL\"|\"Football\"|...|  81377|   655|      25|          177|https://i.ytimg.c...|            False|           False|                 False|New England Patri...|\n",
            "|VifQlJit6A0|     17.14.11|(SPOILERS) 'Shiva...|                 amc|         24|2017-11-13 03:00:00|\"The Walking Dead...| 104578|  1576|     303|         1279|https://i.ytimg.c...|            False|           False|                 False|Shiva arrives jus...|\n",
            "|5E4ZBSInqUU|     17.14.11|Marshmello - Bloc...|          marshmello|         10|2017-11-13 17:00:00|\"marshmello\"|\"blo...| 687582|114188|    1333|         8371|https://i.ytimg.c...|            False|           False|                 False|WATCH SILENCE MUS...|\n",
            "|GgVmn66oK_A|     17.14.11|Which Countries A...|       NowThis World|         25|2017-11-12 14:00:00|\"nowthis\"|\"nowthi...| 544770|  7848|    1171|         3981|https://i.ytimg.c...|            False|           False|                 False|The world at larg...|\n",
            "|TaTleo4cOs8|     17.14.11|SHOPPING FOR NEW ...|     The king of DIY|         15|2017-11-12 18:30:01|\"shopping for new...| 207532|  7473|     246|         2120|https://i.ytimg.c...|            False|           False|                 False|Today we go shopp...|\n",
            "|kgaO45SyaO4|     17.14.11|    The New SpotMini|      BostonDynamics|         28|2017-11-13 20:09:58|\"Robots\"|\"Boston ...|  75752|  9419|      52|         1230|https://i.ytimg.c...|            False|           False|                 False|For more informat...|\n",
            "|ZAQs-ctOqXQ|     17.14.11|One Change That W...|             Cracked|         23|2017-11-12 17:00:05|\"pacific rim\"|\"pa...| 295639|  8011|     638|         1256|https://i.ytimg.c...|            False|           False|                 False|Pacific Rim was s...|\n",
            "|YVfyYrEmzgM|     17.14.11|How does your bod...|              TED-Ed|         27|2017-11-13 16:00:07|\"TED\"|\"TED-Ed\"|\"T...|  78044|  5398|      53|          385|https://i.ytimg.c...|            False|           False|                 False|Check out our Pat...|\n",
            "|eNSN6qet1kE|     17.14.11|HomeMade Electric...|         PeterSripol|         28|2017-11-13 15:30:17|\"ultralight\"|\"air...|  97007| 11963|      36|         2211|https://i.ytimg.c...|            False|           False|                 False|aaaannnd now to f...|\n",
            "|B5HORANmzHw|     17.14.11|Founding An Inbre...|             SciShow|         27|2017-11-12 22:00:01|\"SciShow\"|\"scienc...| 223871|  8421|     191|         1214|https://i.ytimg.c...|            False|           False|                 False|Thanks to 23AndMe...|\n",
            "+-----------+-------------+--------------------+--------------------+-----------+-------------------+--------------------+-------+------+--------+-------------+--------------------+-----------------+----------------+----------------------+--------------------+\n",
            "only showing top 20 rows\n",
            "\n"
          ]
        }
      ]
    },
    {
      "cell_type": "code",
      "source": [
        "# configurar la acción show()\n",
        "# mostrar solo 5\n",
        "dataf.show(5)"
      ],
      "metadata": {
        "colab": {
          "base_uri": "https://localhost:8080/"
        },
        "id": "BiYXJbr_6XvN",
        "outputId": "20c2a5a8-54ef-43c3-926e-635b1a807d0f"
      },
      "execution_count": 29,
      "outputs": [
        {
          "output_type": "stream",
          "name": "stdout",
          "text": [
            "+-----------+-------------+--------------------+--------------------+-----------+-------------------+--------------------+-------+------+--------+-------------+--------------------+-----------------+----------------+----------------------+--------------------+\n",
            "|   video_id|trending_date|               title|       channel_title|category_id|       publish_time|                tags|  views| likes|dislikes|comment_count|      thumbnail_link|comments_disabled|ratings_disabled|video_error_or_removed|         description|\n",
            "+-----------+-------------+--------------------+--------------------+-----------+-------------------+--------------------+-------+------+--------+-------------+--------------------+-----------------+----------------+----------------------+--------------------+\n",
            "|2kyS6SvSYSE|     17.14.11|WE WANT TO TALK A...|        CaseyNeistat|         22|2017-11-13 17:13:01|     SHANtell martin| 748374| 57527|    2966|        15954|https://i.ytimg.c...|            False|           False|                 False|SHANTELL'S CHANNE...|\n",
            "|1ZAPwfrtAFY|     17.14.11|The Trump Preside...|     LastWeekTonight|         24|2017-11-13 07:30:00|\"last week tonigh...|2418783| 97185|    6146|        12703|https://i.ytimg.c...|            False|           False|                 False|One year after th...|\n",
            "|5qpjK5DgCt4|     17.14.11|Racist Superman |...|        Rudy Mancuso|         23|2017-11-12 19:05:24|\"racist superman\"...|3191434|146033|    5339|         8181|https://i.ytimg.c...|            False|           False|                 False|WATCH MY PREVIOUS...|\n",
            "|puqaWrEC7tY|     17.14.11|Nickelback Lyrics...|Good Mythical Mor...|         24|2017-11-13 11:00:04|\"rhett and link\"|...| 343168| 10172|     666|         2146|https://i.ytimg.c...|            False|           False|                 False|Today we find out...|\n",
            "|d380meD0W0M|     17.14.11|I Dare You: GOING...|            nigahiga|         24|2017-11-12 18:01:41|\"ryan\"|\"higa\"|\"hi...|2095731|132235|    1989|        17518|https://i.ytimg.c...|            False|           False|                 False|I know it's been ...|\n",
            "+-----------+-------------+--------------------+--------------------+-----------+-------------------+--------------------+-------+------+--------+-------------+--------------------+-----------------+----------------+----------------------+--------------------+\n",
            "only showing top 5 rows\n",
            "\n"
          ]
        }
      ]
    },
    {
      "cell_type": "code",
      "source": [
        "# mostrar solo 5 y mostrar todo el contenido\n",
        "dataf.show(5, truncate=False)"
      ],
      "metadata": {
        "colab": {
          "base_uri": "https://localhost:8080/"
        },
        "id": "xThyt-mn6gCl",
        "outputId": "c6e64ba6-94fb-4769-8297-eb7948cccdcc"
      },
      "execution_count": 30,
      "outputs": [
        {
          "output_type": "stream",
          "name": "stdout",
          "text": [
            "+-----------+-------------+--------------------------------------------------------------+---------------------+-----------+-------------------+-----------------------------------------------------------------------------------------------------------------------------------------------------------------------------------------------------------------------------------------------------------------------------------------------------------------------------------------------------------------------------------------------------------------------------------------------------------------------------------------------+-------+------+--------+-------------+----------------------------------------------+-----------------+----------------+----------------------+------------------------------------------------------------------------------------------------------------------------------------------------------------------------------------------------------------------------------------------------------------------------------------------------------------------------------------------------------------------------------------------------------------------------------------------------------------------------------------------------------------------------------------------------------------------------------------------------------------------------------------------------------------------------------------------------------------------------------------------------------------------------------------------------------------------------------------------------------------------------------------------------------------------------------------------------------------------------------------------------------------------------------------------------------------------------------------------------------------------------------------------------------------------------------------------------------------------------------------------------------------------------------------------------------------------------------------------------------------------------------------------------------------------------------------------------------------------+\n",
            "|video_id   |trending_date|title                                                         |channel_title        |category_id|publish_time       |tags                                                                                                                                                                                                                                                                                                                                                                                                                                                                                           |views  |likes |dislikes|comment_count|thumbnail_link                                |comments_disabled|ratings_disabled|video_error_or_removed|description                                                                                                                                                                                                                                                                                                                                                                                                                                                                                                                                                                                                                                                                                                                                                                                                                                                                                                                                                                                                                                                                                                                                                                                                                                                                                                                                                                                                                                                       |\n",
            "+-----------+-------------+--------------------------------------------------------------+---------------------+-----------+-------------------+-----------------------------------------------------------------------------------------------------------------------------------------------------------------------------------------------------------------------------------------------------------------------------------------------------------------------------------------------------------------------------------------------------------------------------------------------------------------------------------------------+-------+------+--------+-------------+----------------------------------------------+-----------------+----------------+----------------------+------------------------------------------------------------------------------------------------------------------------------------------------------------------------------------------------------------------------------------------------------------------------------------------------------------------------------------------------------------------------------------------------------------------------------------------------------------------------------------------------------------------------------------------------------------------------------------------------------------------------------------------------------------------------------------------------------------------------------------------------------------------------------------------------------------------------------------------------------------------------------------------------------------------------------------------------------------------------------------------------------------------------------------------------------------------------------------------------------------------------------------------------------------------------------------------------------------------------------------------------------------------------------------------------------------------------------------------------------------------------------------------------------------------------------------------------------------------+\n",
            "|2kyS6SvSYSE|17.14.11     |WE WANT TO TALK ABOUT OUR MARRIAGE                            |CaseyNeistat         |22         |2017-11-13 17:13:01|SHANtell martin                                                                                                                                                                                                                                                                                                                                                                                                                                                                                |748374 |57527 |2966    |15954        |https://i.ytimg.com/vi/2kyS6SvSYSE/default.jpg|False            |False           |False                 |SHANTELL'S CHANNEL - https://www.youtube.com/shantellmartin\\nCANDICE - https://www.lovebilly.com\\n\\nfilmed this video in 4k on this -- http://amzn.to/2sTDnRZ\\nwith this lens -- http://amzn.to/2rUJOmD\\nbig drone - http://tinyurl.com/h4ft3oy\\nOTHER GEAR ---  http://amzn.to/2o3GLX5\\nSony CAMERA http://amzn.to/2nOBmnv\\nOLD CAMERA; http://amzn.to/2o2cQBT\\nMAIN LENS; http://amzn.to/2od5gBJ\\nBIG SONY CAMERA; http://amzn.to/2nrdJRO\\nBIG Canon CAMERA; http://tinyurl.com/jn4q4vz\\nBENDY TRIPOD THING; http://tinyurl.com/gw3ylz2\\nYOU NEED THIS FOR THE BENDY TRIPOD; http://tinyurl.com/j8mzzua\\nWIDE LENS; http://tinyurl.com/jkfcm8t\\nMORE EXPENSIVE WIDE LENS; http://tinyurl.com/zrdgtou\\nSMALL CAMERA; http://tinyurl.com/hrrzhor\\nMICROPHONE; http://tinyurl.com/zefm4jy\\nOTHER MICROPHONE; http://tinyurl.com/jxgpj86\\nOLD DRONE (cheaper but still great);http://tinyurl.com/zcfmnmd\\n\\nfollow me; on http://instagram.com/caseyneistat\\non https://www.facebook.com/cneistat\\non https://twitter.com/CaseyNeistat\\n\\namazing intro song by https://soundcloud.com/discoteeth\\n\\nad disclosure.  THIS IS NOT AN AD.  not selling or promoting anything.  but samsung did produce the Shantell Video as a 'GALAXY PROJECT' which is an initiative that enables creators like Shantell and me to make projects we might otherwise not have the opportunity to make.  hope that's clear.  if not ask in the comments and i'll answer any specifics.|\n",
            "|1ZAPwfrtAFY|17.14.11     |The Trump Presidency: Last Week Tonight with John Oliver (HBO)|LastWeekTonight      |24         |2017-11-13 07:30:00|\"last week tonight trump presidency\"|\"last week tonight donald trump\"|\"john oliver trump\"|\"donald trump\"                                                                                                                                                                                                                                                                                                                                                                                       |2418783|97185 |6146    |12703        |https://i.ytimg.com/vi/1ZAPwfrtAFY/default.jpg|False            |False           |False                 |One year after the presidential election, John Oliver discusses what we've learned so far and enlists our catheter cowboy to teach Donald Trump what he hasn't.\\n\\nConnect with Last Week Tonight online...\\n\\nSubscribe to the Last Week Tonight YouTube channel for more almost news as it almost happens: www.youtube.com/user/LastWeekTonight\\n\\nFind Last Week Tonight on Facebook like your mom would: http://Facebook.com/LastWeekTonight\\n\\nFollow us on Twitter for news about jokes and jokes about news: http://Twitter.com/LastWeekTonight\\n\\nVisit our official site for all that other stuff at once: http://www.hbo.com/lastweektonight                                                                                                                                                                                                                                                                                                                                                                                                                                                                                                                                                                                                                                                                                                                                                                                                            |\n",
            "|5qpjK5DgCt4|17.14.11     |Racist Superman | Rudy Mancuso, King Bach & Lele Pons         |Rudy Mancuso         |23         |2017-11-12 19:05:24|\"racist superman\"|\"rudy\"|\"mancuso\"|\"king\"|\"bach\"|\"racist\"|\"superman\"|\"love\"|\"rudy mancuso poo bear black white official music video\"|\"iphone x by pineapple\"|\"lelepons\"|\"hannahstocking\"|\"rudymancuso\"|\"inanna\"|\"anwar\"|\"sarkis\"|\"shots\"|\"shotsstudios\"|\"alesso\"|\"anitta\"|\"brazil\"|\"Getting My Driver's License | Lele Pons\"                                                                                                                                                                   |3191434|146033|5339    |8181         |https://i.ytimg.com/vi/5qpjK5DgCt4/default.jpg|False            |False           |False                 |WATCH MY PREVIOUS VIDEO ▶ \\n\\nSUBSCRIBE ► https://www.youtube.com/channel/UC5jkXpfnBhlDjqh0ir5FsIQ?sub_confirmation=1\\n\\nTHANKS FOR WATCHING! LIKE & SUBSCRIBE FOR MORE VIDEOS!\\n-----------------------------------------------------------\\nFIND ME ON: \\nInstagram | http://instagram.com/rudymancuso\\nTwitter | http://twitter.com/rudymancuso\\nFacebook | http://facebook.com/rudymancuso\\n\\nCAST: \\nRudy Mancuso | http://youtube.com/c/rudymancuso\\nLele Pons | http://youtube.com/c/lelepons\\nKing Bach | https://youtube.com/user/BachelorsPadTv\\n\\nVideo Effects: \\nCaleb Natale | https://instagram.com/calebnatale\\n\\nPA:\\nPaulina Gregory\\n\\n\\nShots Studios Channels:\\nAlesso | https://youtube.com/c/alesso\\nAnitta | http://youtube.com/c/anitta\\nAnwar Jibawi | http://youtube.com/c/anwar\\nAwkward Puppets | http://youtube.com/c/awkwardpuppets\\nHannah Stocking | http://youtube.com/c/hannahstocking\\nInanna Sarkis | http://youtube.com/c/inanna\\nLele Pons | http://youtube.com/c/lelepons\\nMaejor | http://youtube.com/c/maejor\\nMike Tyson | http://youtube.com/c/miketyson \\nRudy Mancuso | http://youtube.com/c/rudymancuso\\nShots Studios | http://youtube.com/c/shots\\n\\n#Rudy\\n#RudyMancuso                                                                                                                                                                                                                                         |\n",
            "|puqaWrEC7tY|17.14.11     |Nickelback Lyrics: Real or Fake?                              |Good Mythical Morning|24         |2017-11-13 11:00:04|\"rhett and link\"|\"gmm\"|\"good mythical morning\"|\"rhett and link good mythical morning\"|\"good mythical morning rhett and link\"|\"mythical morning\"|\"Season 12\"|\"nickelback lyrics\"|\"nickelback lyrics real or fake\"|\"nickelback\"|\"nickelback songs\"|\"nickelback song\"|\"rhett link nickelback\"|\"gmm nickelback\"|\"lyrics (website category)\"|\"nickelback (musical group)\"|\"rock\"|\"music\"|\"lyrics\"|\"chad kroeger\"|\"canada\"|\"music (industry)\"|\"mythical\"|\"gmm challenge\"|\"comedy\"|\"funny\"|\"challenge\"|343168 |10172 |666     |2146         |https://i.ytimg.com/vi/puqaWrEC7tY/default.jpg|False            |False           |False                 |Today we find out if Link is a Nickelback amateur or a secret Nickelback devotee. GMM #1218\\nDon't miss an all new Ear Biscuits: https://goo.gl/xeZNQt\\nWatch Part 4: https://youtu.be/MhCdiiB8CQg | Watch Part 2: https://youtu.be/7qiOrNao9fg\\nWatch today's episode from the start: http://bit.ly/GMM1218\\n\\nPick up all of the official GMM merch only at https://mythical.store\\n\\nFollow Rhett & Link: \\nInstagram: https://instagram.com/rhettandlink\\nFacebook: https://facebook.com/rhettandlink\\nTwitter: https://twitter.com/rhettandlink\\nTumblr: https://rhettandlink.tumblr.com\\nSnapchat: @realrhettlink\\nWebsite: https://mythical.co/\\n\\nCheck Out Our Other Mythical Channels:\\nGood Mythical MORE: https://youtube.com/goodmythicalmore\\nRhett & Link: https://youtube.com/rhettandlink\\nThis Is Mythical: https://youtube.com/thisismythical\\nEar Biscuits: https://applepodcasts.com/earbiscuits\\n\\nWant to send us something? https://mythical.co/contact\\nHave you made a Wheel of Mythicality intro video? Submit it here: https://bit.ly/GMMWheelIntro\\n\\nIntro Animation by Digital Twigs: https://www.digitaltwigs.com\\nIntro & Outro Music by Jeff Zeigler & Sarah Schimeneck https://www.jeffzeigler.com\\nWheel of Mythicality theme: https://www.royaltyfreemusiclibrary.com/\\nAll Supplemental Music fromOpus 1 Music: https://opus1.sourceaudio.com/\\nWe use ‘The Mouse’ by Blue Microphones https://www.bluemic.com/mouse/       |\n",
            "|d380meD0W0M|17.14.11     |I Dare You: GOING BALD!?                                      |nigahiga             |24         |2017-11-12 18:01:41|\"ryan\"|\"higa\"|\"higatv\"|\"nigahiga\"|\"i dare you\"|\"idy\"|\"rhpc\"|\"dares\"|\"no truth\"|\"comments\"|\"comedy\"|\"funny\"|\"stupid\"|\"fail\"                                                                                                                                                                                                                                                                                                                                                                     |2095731|132235|1989    |17518        |https://i.ytimg.com/vi/d380meD0W0M/default.jpg|False            |False           |False                 |I know it's been a while since we did this show, but we're back with what might be the best episode yet!\\nLeave your dares in the comment section! \\n\\nOrder my book how to write good \\nhttp://higatv.com/ryan-higas-how-to-write-good-pre-order-links/\\n\\nJust Launched New Official Store\\nhttps://www.gianthugs.com/collections/ryan\\n\\nHigaTV Channel\\nhttp://www.youtube.com/higatv\\n\\nTwitter\\nhttp://www.twitter.com/therealryanhiga\\n\\nFacebook\\nhttp://www.facebook.com/higatv\\n\\nWebsite\\nhttp://www.higatv.com\\n\\nInstagram\\nhttp://www.instagram.com/notryanhiga\\n\\nSend us mail or whatever you want here!\\nPO Box 232355\\nLas Vegas, NV 89105                                                                                                                                                                                                                                                                                                                                                                                                                                                                                                                                                                                                                                                                                                                                                                                                      |\n",
            "+-----------+-------------+--------------------------------------------------------------+---------------------+-----------+-------------------+-----------------------------------------------------------------------------------------------------------------------------------------------------------------------------------------------------------------------------------------------------------------------------------------------------------------------------------------------------------------------------------------------------------------------------------------------------------------------------------------------+-------+------+--------+-------------+----------------------------------------------+-----------------+----------------+----------------------+------------------------------------------------------------------------------------------------------------------------------------------------------------------------------------------------------------------------------------------------------------------------------------------------------------------------------------------------------------------------------------------------------------------------------------------------------------------------------------------------------------------------------------------------------------------------------------------------------------------------------------------------------------------------------------------------------------------------------------------------------------------------------------------------------------------------------------------------------------------------------------------------------------------------------------------------------------------------------------------------------------------------------------------------------------------------------------------------------------------------------------------------------------------------------------------------------------------------------------------------------------------------------------------------------------------------------------------------------------------------------------------------------------------------------------------------------------------+\n",
            "only showing top 5 rows\n",
            "\n"
          ]
        }
      ]
    },
    {
      "cell_type": "code",
      "source": [
        "#take toma las n filas que se desee\n",
        "dataf.take(1)"
      ],
      "metadata": {
        "colab": {
          "base_uri": "https://localhost:8080/"
        },
        "id": "sFYX4TcO6w97",
        "outputId": "63acee87-f017-4284-f14c-bc7878222d8f"
      },
      "execution_count": 31,
      "outputs": [
        {
          "output_type": "execute_result",
          "data": {
            "text/plain": [
              "[Row(video_id='2kyS6SvSYSE', trending_date='17.14.11', title='WE WANT TO TALK ABOUT OUR MARRIAGE', channel_title='CaseyNeistat', category_id='22', publish_time=datetime.datetime(2017, 11, 13, 17, 13, 1), tags='SHANtell martin', views=748374, likes=57527, dislikes=2966, comment_count=15954, thumbnail_link='https://i.ytimg.com/vi/2kyS6SvSYSE/default.jpg', comments_disabled='False', ratings_disabled='False', video_error_or_removed='False', description=\"SHANTELL'S CHANNEL - https://www.youtube.com/shantellmartin\\\\nCANDICE - https://www.lovebilly.com\\\\n\\\\nfilmed this video in 4k on this -- http://amzn.to/2sTDnRZ\\\\nwith this lens -- http://amzn.to/2rUJOmD\\\\nbig drone - http://tinyurl.com/h4ft3oy\\\\nOTHER GEAR ---  http://amzn.to/2o3GLX5\\\\nSony CAMERA http://amzn.to/2nOBmnv\\\\nOLD CAMERA; http://amzn.to/2o2cQBT\\\\nMAIN LENS; http://amzn.to/2od5gBJ\\\\nBIG SONY CAMERA; http://amzn.to/2nrdJRO\\\\nBIG Canon CAMERA; http://tinyurl.com/jn4q4vz\\\\nBENDY TRIPOD THING; http://tinyurl.com/gw3ylz2\\\\nYOU NEED THIS FOR THE BENDY TRIPOD; http://tinyurl.com/j8mzzua\\\\nWIDE LENS; http://tinyurl.com/jkfcm8t\\\\nMORE EXPENSIVE WIDE LENS; http://tinyurl.com/zrdgtou\\\\nSMALL CAMERA; http://tinyurl.com/hrrzhor\\\\nMICROPHONE; http://tinyurl.com/zefm4jy\\\\nOTHER MICROPHONE; http://tinyurl.com/jxgpj86\\\\nOLD DRONE (cheaper but still great);http://tinyurl.com/zcfmnmd\\\\n\\\\nfollow me; on http://instagram.com/caseyneistat\\\\non https://www.facebook.com/cneistat\\\\non https://twitter.com/CaseyNeistat\\\\n\\\\namazing intro song by https://soundcloud.com/discoteeth\\\\n\\\\nad disclosure.  THIS IS NOT AN AD.  not selling or promoting anything.  but samsung did produce the Shantell Video as a 'GALAXY PROJECT' which is an initiative that enables creators like Shantell and me to make projects we might otherwise not have the opportunity to make.  hope that's clear.  if not ask in the comments and i'll answer any specifics.\")]"
            ]
          },
          "metadata": {},
          "execution_count": 31
        }
      ]
    },
    {
      "cell_type": "code",
      "source": [
        "#head\n",
        "dataf.head(1)"
      ],
      "metadata": {
        "colab": {
          "base_uri": "https://localhost:8080/"
        },
        "id": "PJNPHWg08MfC",
        "outputId": "5ca18a62-b47d-4ceb-df75-86f4852641e0"
      },
      "execution_count": 32,
      "outputs": [
        {
          "output_type": "execute_result",
          "data": {
            "text/plain": [
              "[Row(video_id='2kyS6SvSYSE', trending_date='17.14.11', title='WE WANT TO TALK ABOUT OUR MARRIAGE', channel_title='CaseyNeistat', category_id='22', publish_time=datetime.datetime(2017, 11, 13, 17, 13, 1), tags='SHANtell martin', views=748374, likes=57527, dislikes=2966, comment_count=15954, thumbnail_link='https://i.ytimg.com/vi/2kyS6SvSYSE/default.jpg', comments_disabled='False', ratings_disabled='False', video_error_or_removed='False', description=\"SHANTELL'S CHANNEL - https://www.youtube.com/shantellmartin\\\\nCANDICE - https://www.lovebilly.com\\\\n\\\\nfilmed this video in 4k on this -- http://amzn.to/2sTDnRZ\\\\nwith this lens -- http://amzn.to/2rUJOmD\\\\nbig drone - http://tinyurl.com/h4ft3oy\\\\nOTHER GEAR ---  http://amzn.to/2o3GLX5\\\\nSony CAMERA http://amzn.to/2nOBmnv\\\\nOLD CAMERA; http://amzn.to/2o2cQBT\\\\nMAIN LENS; http://amzn.to/2od5gBJ\\\\nBIG SONY CAMERA; http://amzn.to/2nrdJRO\\\\nBIG Canon CAMERA; http://tinyurl.com/jn4q4vz\\\\nBENDY TRIPOD THING; http://tinyurl.com/gw3ylz2\\\\nYOU NEED THIS FOR THE BENDY TRIPOD; http://tinyurl.com/j8mzzua\\\\nWIDE LENS; http://tinyurl.com/jkfcm8t\\\\nMORE EXPENSIVE WIDE LENS; http://tinyurl.com/zrdgtou\\\\nSMALL CAMERA; http://tinyurl.com/hrrzhor\\\\nMICROPHONE; http://tinyurl.com/zefm4jy\\\\nOTHER MICROPHONE; http://tinyurl.com/jxgpj86\\\\nOLD DRONE (cheaper but still great);http://tinyurl.com/zcfmnmd\\\\n\\\\nfollow me; on http://instagram.com/caseyneistat\\\\non https://www.facebook.com/cneistat\\\\non https://twitter.com/CaseyNeistat\\\\n\\\\namazing intro song by https://soundcloud.com/discoteeth\\\\n\\\\nad disclosure.  THIS IS NOT AN AD.  not selling or promoting anything.  but samsung did produce the Shantell Video as a 'GALAXY PROJECT' which is an initiative that enables creators like Shantell and me to make projects we might otherwise not have the opportunity to make.  hope that's clear.  if not ask in the comments and i'll answer any specifics.\")]"
            ]
          },
          "metadata": {},
          "execution_count": 32
        }
      ]
    },
    {
      "cell_type": "code",
      "source": [
        "# obtiene una lista de la columna\n",
        "dataf.select(col('likes')).collect()"
      ],
      "metadata": {
        "colab": {
          "base_uri": "https://localhost:8080/"
        },
        "id": "7q2j5Cpd8a9C",
        "outputId": "f90c0b6b-cd4a-477e-f3f6-7673a5931ce4"
      },
      "execution_count": 33,
      "outputs": [
        {
          "output_type": "execute_result",
          "data": {
            "text/plain": [
              "[Row(likes=57527),\n",
              " Row(likes=97185),\n",
              " Row(likes=146033),\n",
              " Row(likes=10172),\n",
              " Row(likes=132235),\n",
              " Row(likes=9763),\n",
              " Row(likes=15993),\n",
              " Row(likes=23663),\n",
              " Row(likes=3543),\n",
              " Row(likes=12654),\n",
              " Row(likes=655),\n",
              " Row(likes=1576),\n",
              " Row(likes=114188),\n",
              " Row(likes=7848),\n",
              " Row(likes=7473),\n",
              " Row(likes=9419),\n",
              " Row(likes=8011),\n",
              " Row(likes=5398),\n",
              " Row(likes=11963),\n",
              " Row(likes=8421),\n",
              " Row(likes=9586),\n",
              " Row(likes=3585),\n",
              " Row(likes=11758),\n",
              " Row(likes=1707),\n",
              " Row(likes=4884),\n",
              " Row(likes=8676),\n",
              " Row(likes=4687),\n",
              " Row(likes=9033),\n",
              " Row(likes=156),\n",
              " Row(likes=715),\n",
              " Row(likes=4035),\n",
              " Row(likes=119),\n",
              " Row(likes=787419),\n",
              " Row(likes=3781),\n",
              " Row(likes=1661),\n",
              " Row(likes=2486),\n",
              " Row(likes=7515),\n",
              " Row(likes=1318),\n",
              " Row(likes=38397),\n",
              " Row(likes=6927),\n",
              " Row(likes=5389),\n",
              " Row(likes=308),\n",
              " Row(likes=7),\n",
              " Row(likes=15186),\n",
              " Row(likes=4451),\n",
              " Row(likes=33505),\n",
              " Row(likes=3417),\n",
              " Row(likes=2017),\n",
              " Row(likes=35),\n",
              " Row(likes=45406),\n",
              " Row(likes=99086),\n",
              " Row(likes=205),\n",
              " Row(likes=15397),\n",
              " Row(likes=None),\n",
              " Row(likes=None),\n",
              " Row(likes=None),\n",
              " Row(likes=190083),\n",
              " Row(likes=7250),\n",
              " Row(likes=16116),\n",
              " Row(likes=5734),\n",
              " Row(likes=21),\n",
              " Row(likes=89),\n",
              " Row(likes=8209),\n",
              " Row(likes=10237),\n",
              " Row(likes=52),\n",
              " Row(likes=26917),\n",
              " Row(likes=115795),\n",
              " Row(likes=493),\n",
              " Row(likes=8231),\n",
              " Row(likes=115426),\n",
              " Row(likes=120876),\n",
              " Row(likes=203),\n",
              " Row(likes=55681),\n",
              " Row(likes=1634124),\n",
              " Row(likes=2233),\n",
              " Row(likes=2978),\n",
              " Row(likes=1550),\n",
              " Row(likes=18603),\n",
              " Row(likes=2429),\n",
              " Row(likes=1896),\n",
              " Row(likes=37669),\n",
              " Row(likes=15504),\n",
              " Row(likes=355),\n",
              " Row(likes=23296),\n",
              " Row(likes=8133),\n",
              " Row(likes=2323),\n",
              " Row(likes=None),\n",
              " Row(likes=None),\n",
              " Row(likes=None),\n",
              " Row(likes=67),\n",
              " Row(likes=3571),\n",
              " Row(likes=6271),\n",
              " Row(likes=16430),\n",
              " Row(likes=439),\n",
              " Row(likes=34839),\n",
              " Row(likes=82320),\n",
              " Row(likes=438),\n",
              " Row(likes=72593),\n",
              " Row(likes=2282),\n",
              " Row(likes=98804),\n",
              " Row(likes=58967),\n",
              " Row(likes=8599),\n",
              " Row(likes=40195),\n",
              " Row(likes=16396),\n",
              " Row(likes=202676),\n",
              " Row(likes=14338),\n",
              " Row(likes=43875),\n",
              " Row(likes=22326),\n",
              " Row(likes=1731),\n",
              " Row(likes=3283),\n",
              " Row(likes=286268),\n",
              " Row(likes=307435),\n",
              " Row(likes=3305),\n",
              " Row(likes=10138),\n",
              " Row(likes=3327),\n",
              " Row(likes=5048),\n",
              " Row(likes=53572),\n",
              " Row(likes=7999),\n",
              " Row(likes=88417),\n",
              " Row(likes=52829),\n",
              " Row(likes=25115),\n",
              " Row(likes=14303),\n",
              " Row(likes=7693),\n",
              " Row(likes=25122),\n",
              " Row(likes=None),\n",
              " Row(likes=None),\n",
              " Row(likes=None),\n",
              " Row(likes=None),\n",
              " Row(likes=None),\n",
              " Row(likes=None),\n",
              " Row(likes=None),\n",
              " Row(likes=None),\n",
              " Row(likes=None),\n",
              " Row(likes=None),\n",
              " Row(likes=None),\n",
              " Row(likes=None),\n",
              " Row(likes=None),\n",
              " Row(likes=4417),\n",
              " Row(likes=5505),\n",
              " Row(likes=15247),\n",
              " Row(likes=11616),\n",
              " Row(likes=9312),\n",
              " Row(likes=9091),\n",
              " Row(likes=84426),\n",
              " Row(likes=935),\n",
              " Row(likes=11198),\n",
              " Row(likes=2926),\n",
              " Row(likes=19323),\n",
              " Row(likes=1365),\n",
              " Row(likes=32648),\n",
              " Row(likes=7683),\n",
              " Row(likes=3652),\n",
              " Row(likes=4364),\n",
              " Row(likes=11736),\n",
              " Row(likes=1345),\n",
              " Row(likes=1354),\n",
              " Row(likes=2163),\n",
              " Row(likes=443),\n",
              " Row(likes=909),\n",
              " Row(likes=4604),\n",
              " Row(likes=35765),\n",
              " Row(likes=7158),\n",
              " Row(likes=1991),\n",
              " Row(likes=5642),\n",
              " Row(likes=9210),\n",
              " Row(likes=15909),\n",
              " Row(likes=242),\n",
              " Row(likes=65854),\n",
              " Row(likes=810895),\n",
              " Row(likes=16106),\n",
              " Row(likes=11985),\n",
              " Row(likes=20159),\n",
              " Row(likes=10175),\n",
              " Row(likes=31892),\n",
              " Row(likes=49),\n",
              " Row(likes=4989),\n",
              " Row(likes=3809),\n",
              " Row(likes=5894),\n",
              " Row(likes=1170),\n",
              " Row(likes=2),\n",
              " Row(likes=5075),\n",
              " Row(likes=3959),\n",
              " Row(likes=22),\n",
              " Row(likes=10844),\n",
              " Row(likes=23338),\n",
              " Row(likes=3454),\n",
              " Row(likes=4250),\n",
              " Row(likes=681),\n",
              " Row(likes=40),\n",
              " Row(likes=569),\n",
              " Row(likes=23634),\n",
              " Row(likes=47793),\n",
              " Row(likes=420),\n",
              " Row(likes=5748),\n",
              " Row(likes=3),\n",
              " Row(likes=2707),\n",
              " Row(likes=258),\n",
              " Row(likes=1666),\n",
              " Row(likes=5723),\n",
              " Row(likes=1211),\n",
              " Row(likes=6243),\n",
              " Row(likes=121),\n",
              " Row(likes=86207),\n",
              " Row(likes=633),\n",
              " Row(likes=998),\n",
              " Row(likes=15130),\n",
              " Row(likes=426),\n",
              " Row(likes=2195),\n",
              " Row(likes=56867),\n",
              " Row(likes=67227),\n",
              " Row(likes=20289),\n",
              " Row(likes=0),\n",
              " Row(likes=4037),\n",
              " Row(likes=147),\n",
              " Row(likes=57),\n",
              " Row(likes=8388),\n",
              " Row(likes=16352),\n",
              " Row(likes=None),\n",
              " Row(likes=None),\n",
              " Row(likes=None),\n",
              " Row(likes=None),\n",
              " Row(likes=None),\n",
              " Row(likes=None),\n",
              " Row(likes=None),\n",
              " Row(likes=None),\n",
              " Row(likes=None),\n",
              " Row(likes=None),\n",
              " Row(likes=None),\n",
              " Row(likes=None),\n",
              " Row(likes=None),\n",
              " Row(likes=None),\n",
              " Row(likes=5684),\n",
              " Row(likes=29990),\n",
              " Row(likes=14132),\n",
              " Row(likes=4854),\n",
              " Row(likes=63995),\n",
              " Row(likes=28647),\n",
              " Row(likes=87615),\n",
              " Row(likes=3687),\n",
              " Row(likes=58474),\n",
              " Row(likes=60983),\n",
              " Row(likes=35529),\n",
              " Row(likes=56561),\n",
              " Row(likes=25109),\n",
              " Row(likes=5939),\n",
              " Row(likes=580),\n",
              " Row(likes=122347),\n",
              " Row(likes=17130),\n",
              " Row(likes=478),\n",
              " Row(likes=16754),\n",
              " Row(likes=88099),\n",
              " Row(likes=25188),\n",
              " Row(likes=20518),\n",
              " Row(likes=1197),\n",
              " Row(likes=131784),\n",
              " Row(likes=6310),\n",
              " Row(likes=19138),\n",
              " Row(likes=5198),\n",
              " Row(likes=12699),\n",
              " Row(likes=4553),\n",
              " Row(likes=6095),\n",
              " Row(likes=62),\n",
              " Row(likes=None),\n",
              " Row(likes=None),\n",
              " Row(likes=None),\n",
              " Row(likes=None),\n",
              " Row(likes=None),\n",
              " Row(likes=None),\n",
              " Row(likes=None),\n",
              " Row(likes=None),\n",
              " Row(likes=None),\n",
              " Row(likes=None),\n",
              " Row(likes=None),\n",
              " Row(likes=None),\n",
              " Row(likes=None),\n",
              " Row(likes=None),\n",
              " Row(likes=None),\n",
              " Row(likes=None),\n",
              " Row(likes=9805),\n",
              " Row(likes=1145),\n",
              " Row(likes=15301),\n",
              " Row(likes=10410),\n",
              " Row(likes=12229),\n",
              " Row(likes=180284),\n",
              " Row(likes=11131),\n",
              " Row(likes=975),\n",
              " Row(likes=16433),\n",
              " Row(likes=167696),\n",
              " Row(likes=1950),\n",
              " Row(likes=61),\n",
              " Row(likes=75),\n",
              " Row(likes=20721),\n",
              " Row(likes=8177),\n",
              " Row(likes=87),\n",
              " Row(likes=11162),\n",
              " Row(likes=5162),\n",
              " Row(likes=144816),\n",
              " Row(likes=1440),\n",
              " Row(likes=143),\n",
              " Row(likes=136),\n",
              " Row(likes=2279),\n",
              " Row(likes=8996),\n",
              " Row(likes=831),\n",
              " Row(likes=563),\n",
              " Row(likes=None),\n",
              " Row(likes=None),\n",
              " Row(likes=None),\n",
              " Row(likes=26813),\n",
              " Row(likes=6310),\n",
              " Row(likes=5715),\n",
              " Row(likes=7129),\n",
              " Row(likes=276),\n",
              " Row(likes=4303),\n",
              " Row(likes=5246),\n",
              " Row(likes=None),\n",
              " Row(likes=None),\n",
              " Row(likes=None),\n",
              " Row(likes=None),\n",
              " Row(likes=None),\n",
              " Row(likes=None),\n",
              " Row(likes=None),\n",
              " Row(likes=None),\n",
              " Row(likes=16612),\n",
              " Row(likes=19970),\n",
              " Row(likes=17959),\n",
              " Row(likes=10915),\n",
              " Row(likes=11576),\n",
              " Row(likes=83),\n",
              " Row(likes=398),\n",
              " Row(likes=2530),\n",
              " Row(likes=8339),\n",
              " Row(likes=9086),\n",
              " Row(likes=4719),\n",
              " Row(likes=2229),\n",
              " Row(likes=586),\n",
              " Row(likes=126),\n",
              " Row(likes=9211),\n",
              " Row(likes=6587),\n",
              " Row(likes=930),\n",
              " Row(likes=9606),\n",
              " Row(likes=4212),\n",
              " Row(likes=2265),\n",
              " Row(likes=6240),\n",
              " Row(likes=12862),\n",
              " Row(likes=33),\n",
              " Row(likes=1322),\n",
              " Row(likes=5847),\n",
              " Row(likes=23),\n",
              " Row(likes=4566),\n",
              " Row(likes=2425),\n",
              " Row(likes=217),\n",
              " Row(likes=386),\n",
              " Row(likes=9576),\n",
              " Row(likes=4293),\n",
              " Row(likes=305),\n",
              " Row(likes=18),\n",
              " Row(likes=4170),\n",
              " Row(likes=3218),\n",
              " Row(likes=840642),\n",
              " Row(likes=732),\n",
              " Row(likes=296),\n",
              " Row(likes=44513),\n",
              " Row(likes=136),\n",
              " Row(likes=2896),\n",
              " Row(likes=828),\n",
              " Row(likes=15873),\n",
              " Row(likes=37124),\n",
              " Row(likes=11),\n",
              " Row(likes=4548),\n",
              " Row(likes=4657),\n",
              " Row(likes=216319),\n",
              " Row(likes=103407),\n",
              " Row(likes=2133),\n",
              " Row(likes=47),\n",
              " Row(likes=48000),\n",
              " Row(likes=16060),\n",
              " Row(likes=None),\n",
              " Row(likes=None),\n",
              " Row(likes=None),\n",
              " Row(likes=250),\n",
              " Row(likes=408618),\n",
              " Row(likes=170),\n",
              " Row(likes=7589),\n",
              " Row(likes=6073),\n",
              " Row(likes=8409),\n",
              " Row(likes=27068),\n",
              " Row(likes=130373),\n",
              " Row(likes=10429),\n",
              " Row(likes=119348),\n",
              " Row(likes=8795),\n",
              " Row(likes=125205),\n",
              " Row(likes=73),\n",
              " Row(likes=58209),\n",
              " Row(likes=487),\n",
              " Row(likes=19783),\n",
              " Row(likes=44007),\n",
              " Row(likes=374),\n",
              " Row(likes=2556),\n",
              " Row(likes=24115),\n",
              " Row(likes=1721383),\n",
              " Row(likes=2540),\n",
              " Row(likes=36365),\n",
              " Row(likes=9052),\n",
              " Row(likes=382),\n",
              " Row(likes=7108),\n",
              " Row(likes=3085),\n",
              " Row(likes=17),\n",
              " Row(likes=102199),\n",
              " Row(likes=2332),\n",
              " Row(likes=453),\n",
              " Row(likes=9321),\n",
              " Row(likes=3128),\n",
              " Row(likes=None),\n",
              " Row(likes=None),\n",
              " Row(likes=None),\n",
              " Row(likes=None),\n",
              " Row(likes=None),\n",
              " Row(likes=48219),\n",
              " Row(likes=75023),\n",
              " Row(likes=14843),\n",
              " Row(likes=2284),\n",
              " Row(likes=17023),\n",
              " Row(likes=18992),\n",
              " Row(likes=1576),\n",
              " Row(likes=3823),\n",
              " Row(likes=101831),\n",
              " Row(likes=60500),\n",
              " Row(likes=2404),\n",
              " Row(likes=None),\n",
              " Row(likes=None),\n",
              " Row(likes=None),\n",
              " Row(likes=212004),\n",
              " Row(likes=26180),\n",
              " Row(likes=5405),\n",
              " Row(likes=55001),\n",
              " Row(likes=10801),\n",
              " Row(likes=314872),\n",
              " Row(likes=45513),\n",
              " Row(likes=9072),\n",
              " Row(likes=96850),\n",
              " Row(likes=4099),\n",
              " Row(likes=29425),\n",
              " Row(likes=53901),\n",
              " Row(likes=3330),\n",
              " Row(likes=5934),\n",
              " Row(likes=9278),\n",
              " Row(likes=5659),\n",
              " Row(likes=88072),\n",
              " Row(likes=11702),\n",
              " Row(likes=14766),\n",
              " Row(likes=1012),\n",
              " Row(likes=12261),\n",
              " Row(likes=2400),\n",
              " Row(likes=15765),\n",
              " Row(likes=1351),\n",
              " Row(likes=1561),\n",
              " Row(likes=7822),\n",
              " Row(likes=19962),\n",
              " Row(likes=3756),\n",
              " Row(likes=12347),\n",
              " Row(likes=36686),\n",
              " Row(likes=12961),\n",
              " Row(likes=4621),\n",
              " Row(likes=7803),\n",
              " Row(likes=4472),\n",
              " Row(likes=211),\n",
              " Row(likes=None),\n",
              " Row(likes=None),\n",
              " Row(likes=None),\n",
              " Row(likes=None),\n",
              " Row(likes=None),\n",
              " Row(likes=None),\n",
              " Row(likes=None),\n",
              " Row(likes=None),\n",
              " Row(likes=None),\n",
              " Row(likes=None),\n",
              " Row(likes=None),\n",
              " Row(likes=None),\n",
              " Row(likes=None),\n",
              " Row(likes=None),\n",
              " Row(likes=None),\n",
              " Row(likes=None),\n",
              " Row(likes=None),\n",
              " Row(likes=None),\n",
              " Row(likes=None),\n",
              " Row(likes=None),\n",
              " Row(likes=None),\n",
              " Row(likes=None),\n",
              " Row(likes=7800),\n",
              " Row(likes=38734),\n",
              " Row(likes=7979),\n",
              " Row(likes=477),\n",
              " Row(likes=10372),\n",
              " Row(likes=151850),\n",
              " Row(likes=24442),\n",
              " Row(likes=57470),\n",
              " Row(likes=141681),\n",
              " Row(likes=20036),\n",
              " Row(likes=17784),\n",
              " Row(likes=31832),\n",
              " Row(likes=8970),\n",
              " Row(likes=24672),\n",
              " Row(likes=93039),\n",
              " Row(likes=12633),\n",
              " Row(likes=29898),\n",
              " Row(likes=37329),\n",
              " Row(likes=13283),\n",
              " Row(likes=142740),\n",
              " Row(likes=114661),\n",
              " Row(likes=6260),\n",
              " Row(likes=2665),\n",
              " Row(likes=21334),\n",
              " Row(likes=9435),\n",
              " Row(likes=None),\n",
              " Row(likes=None),\n",
              " Row(likes=None),\n",
              " Row(likes=None),\n",
              " Row(likes=None),\n",
              " Row(likes=None),\n",
              " Row(likes=None),\n",
              " Row(likes=None),\n",
              " Row(likes=None),\n",
              " Row(likes=None),\n",
              " Row(likes=None),\n",
              " Row(likes=None),\n",
              " Row(likes=None),\n",
              " Row(likes=None),\n",
              " Row(likes=None),\n",
              " Row(likes=None),\n",
              " Row(likes=None),\n",
              " Row(likes=None),\n",
              " Row(likes=43974),\n",
              " Row(likes=3802),\n",
              " Row(likes=76806),\n",
              " Row(likes=72727),\n",
              " Row(likes=17286),\n",
              " Row(likes=85208),\n",
              " Row(likes=3557),\n",
              " Row(likes=35595),\n",
              " Row(likes=2207),\n",
              " Row(likes=77531),\n",
              " Row(likes=32186),\n",
              " Row(likes=259),\n",
              " Row(likes=2793),\n",
              " Row(likes=979),\n",
              " Row(likes=7517),\n",
              " Row(likes=660),\n",
              " Row(likes=17929),\n",
              " Row(likes=None),\n",
              " Row(likes=None),\n",
              " Row(likes=None),\n",
              " Row(likes=175),\n",
              " Row(likes=None),\n",
              " Row(likes=None),\n",
              " Row(likes=None),\n",
              " Row(likes=None),\n",
              " Row(likes=None),\n",
              " Row(likes=None),\n",
              " Row(likes=None),\n",
              " Row(likes=None),\n",
              " Row(likes=None),\n",
              " Row(likes=None),\n",
              " Row(likes=None),\n",
              " Row(likes=None),\n",
              " Row(likes=None),\n",
              " Row(likes=None),\n",
              " Row(likes=None),\n",
              " Row(likes=None),\n",
              " Row(likes=6932),\n",
              " Row(likes=9576),\n",
              " Row(likes=2325),\n",
              " Row(likes=23472),\n",
              " Row(likes=84),\n",
              " Row(likes=152975),\n",
              " Row(likes=309),\n",
              " Row(likes=28187),\n",
              " Row(likes=7),\n",
              " Row(likes=1546),\n",
              " Row(likes=91111),\n",
              " Row(likes=6305),\n",
              " Row(likes=21642),\n",
              " Row(likes=3835),\n",
              " Row(likes=5930),\n",
              " Row(likes=455),\n",
              " Row(likes=137819),\n",
              " Row(likes=20489),\n",
              " Row(likes=19),\n",
              " Row(likes=6989),\n",
              " Row(likes=11891),\n",
              " Row(likes=1935),\n",
              " Row(likes=93),\n",
              " Row(likes=2349),\n",
              " Row(likes=4369),\n",
              " Row(likes=1741),\n",
              " Row(likes=1350),\n",
              " Row(likes=252),\n",
              " Row(likes=11251),\n",
              " Row(likes=11933),\n",
              " Row(likes=5140),\n",
              " Row(likes=194199),\n",
              " Row(likes=8895),\n",
              " Row(likes=15887),\n",
              " Row(likes=17988),\n",
              " Row(likes=8451),\n",
              " Row(likes=1445),\n",
              " Row(likes=172379),\n",
              " Row(likes=12958),\n",
              " Row(likes=730),\n",
              " Row(likes=None),\n",
              " Row(likes=None),\n",
              " Row(likes=None),\n",
              " Row(likes=5447),\n",
              " Row(likes=9381),\n",
              " Row(likes=4064),\n",
              " Row(likes=1699),\n",
              " Row(likes=9045),\n",
              " Row(likes=127),\n",
              " Row(likes=147110),\n",
              " Row(likes=15482),\n",
              " Row(likes=2338),\n",
              " Row(likes=8012),\n",
              " Row(likes=2892),\n",
              " Row(likes=716),\n",
              " Row(likes=4934),\n",
              " Row(likes=54),\n",
              " Row(likes=7049),\n",
              " Row(likes=None),\n",
              " Row(likes=None),\n",
              " Row(likes=None),\n",
              " Row(likes=None),\n",
              " Row(likes=None),\n",
              " Row(likes=None),\n",
              " Row(likes=None),\n",
              " Row(likes=None),\n",
              " Row(likes=1814),\n",
              " Row(likes=27632),\n",
              " Row(likes=5855),\n",
              " Row(likes=16946),\n",
              " Row(likes=5320),\n",
              " Row(likes=145),\n",
              " Row(likes=17086),\n",
              " Row(likes=1170),\n",
              " Row(likes=21214),\n",
              " Row(likes=18425),\n",
              " Row(likes=2376),\n",
              " Row(likes=8480),\n",
              " Row(likes=19069),\n",
              " Row(likes=130),\n",
              " Row(likes=9459),\n",
              " Row(likes=143),\n",
              " Row(likes=278),\n",
              " Row(likes=318),\n",
              " Row(likes=2323),\n",
              " Row(likes=423),\n",
              " Row(likes=6345),\n",
              " Row(likes=9431),\n",
              " Row(likes=7010),\n",
              " Row(likes=1679),\n",
              " Row(likes=13613),\n",
              " Row(likes=4345),\n",
              " Row(likes=39),\n",
              " Row(likes=2581),\n",
              " Row(likes=6161),\n",
              " Row(likes=23),\n",
              " Row(likes=83),\n",
              " Row(likes=5012),\n",
              " Row(likes=9905),\n",
              " Row(likes=1801),\n",
              " Row(likes=4511),\n",
              " Row(likes=607),\n",
              " Row(likes=225),\n",
              " Row(likes=4355),\n",
              " Row(likes=154),\n",
              " Row(likes=303),\n",
              " Row(likes=46439),\n",
              " Row(likes=869304),\n",
              " Row(likes=18),\n",
              " Row(likes=4),\n",
              " Row(likes=828),\n",
              " Row(likes=2901),\n",
              " Row(likes=4720),\n",
              " Row(likes=37692),\n",
              " Row(likes=6),\n",
              " Row(likes=769),\n",
              " Row(likes=424406),\n",
              " Row(likes=16467),\n",
              " Row(likes=11),\n",
              " Row(likes=10),\n",
              " Row(likes=6369),\n",
              " Row(likes=106243),\n",
              " Row(likes=4735),\n",
              " Row(likes=280),\n",
              " Row(likes=48),\n",
              " Row(likes=48904),\n",
              " Row(likes=254),\n",
              " Row(likes=233172),\n",
              " Row(likes=182),\n",
              " Row(likes=427),\n",
              " Row(likes=7715),\n",
              " Row(likes=20),\n",
              " Row(likes=139054),\n",
              " Row(likes=1988),\n",
              " Row(likes=10497),\n",
              " Row(likes=8926),\n",
              " Row(likes=121285),\n",
              " Row(likes=77),\n",
              " Row(likes=127412),\n",
              " Row(likes=2691),\n",
              " Row(likes=27121),\n",
              " Row(likes=48511),\n",
              " Row(likes=59673),\n",
              " Row(likes=20371),\n",
              " Row(likes=19),\n",
              " Row(likes=2586),\n",
              " Row(likes=519),\n",
              " Row(likes=1788960),\n",
              " Row(likes=24412),\n",
              " Row(likes=9474),\n",
              " Row(likes=3912),\n",
              " Row(likes=2286),\n",
              " Row(likes=7782),\n",
              " Row(likes=111),\n",
              " Row(likes=2412),\n",
              " Row(likes=3124),\n",
              " Row(likes=115781),\n",
              " Row(likes=460),\n",
              " Row(likes=3869),\n",
              " Row(likes=None),\n",
              " Row(likes=None),\n",
              " Row(likes=None),\n",
              " Row(likes=None),\n",
              " Row(likes=None),\n",
              " Row(likes=17267),\n",
              " Row(likes=9725),\n",
              " Row(likes=15071),\n",
              " Row(likes=75930),\n",
              " Row(likes=57838),\n",
              " Row(likes=1581),\n",
              " Row(likes=379),\n",
              " Row(likes=20085),\n",
              " Row(likes=102726),\n",
              " Row(likes=37129),\n",
              " Row(likes=28119),\n",
              " Row(likes=386),\n",
              " Row(likes=55628),\n",
              " Row(likes=216119),\n",
              " Row(likes=65594),\n",
              " Row(likes=40775),\n",
              " Row(likes=119107),\n",
              " Row(likes=223821),\n",
              " Row(likes=39816),\n",
              " Row(likes=6729),\n",
              " Row(likes=28309),\n",
              " Row(likes=12594),\n",
              " Row(likes=None),\n",
              " Row(likes=None),\n",
              " Row(likes=None),\n",
              " Row(likes=None),\n",
              " Row(likes=135292),\n",
              " Row(likes=88541),\n",
              " Row(likes=281095),\n",
              " Row(likes=None),\n",
              " Row(likes=None),\n",
              " Row(likes=None),\n",
              " Row(likes=None),\n",
              " Row(likes=None),\n",
              " Row(likes=None),\n",
              " Row(likes=None),\n",
              " Row(likes=5666),\n",
              " Row(likes=789750),\n",
              " Row(likes=23207),\n",
              " Row(likes=14355),\n",
              " Row(likes=6593),\n",
              " Row(likes=50946),\n",
              " Row(likes=61075),\n",
              " Row(likes=31301),\n",
              " Row(likes=25840),\n",
              " Row(likes=1326),\n",
              " Row(likes=70960),\n",
              " Row(likes=5474),\n",
              " Row(likes=18816),\n",
              " Row(likes=11492),\n",
              " Row(likes=5155),\n",
              " Row(likes=18022),\n",
              " Row(likes=21013),\n",
              " Row(likes=61484),\n",
              " Row(likes=84669),\n",
              " Row(likes=29135),\n",
              " Row(likes=23939),\n",
              " Row(likes=108),\n",
              " Row(likes=32749),\n",
              " Row(likes=3849),\n",
              " Row(likes=6133),\n",
              " Row(likes=10814),\n",
              " Row(likes=135815),\n",
              " Row(likes=9821),\n",
              " Row(likes=35950),\n",
              " Row(likes=1389),\n",
              " Row(likes=8184),\n",
              " Row(likes=58902),\n",
              " Row(likes=5172),\n",
              " Row(likes=14353),\n",
              " Row(likes=None),\n",
              " Row(likes=None),\n",
              " Row(likes=None),\n",
              " Row(likes=None),\n",
              " Row(likes=None),\n",
              " Row(likes=None),\n",
              " Row(likes=None),\n",
              " Row(likes=None),\n",
              " Row(likes=None),\n",
              " Row(likes=None),\n",
              " Row(likes=None),\n",
              " Row(likes=None),\n",
              " Row(likes=None),\n",
              " Row(likes=None),\n",
              " Row(likes=None),\n",
              " Row(likes=None),\n",
              " Row(likes=None),\n",
              " Row(likes=None),\n",
              " Row(likes=5340),\n",
              " Row(likes=None),\n",
              " Row(likes=None),\n",
              " Row(likes=None),\n",
              " Row(likes=18708),\n",
              " Row(likes=98182),\n",
              " Row(likes=3657),\n",
              " Row(likes=21523),\n",
              " Row(likes=41976),\n",
              " Row(likes=151277),\n",
              " Row(likes=3871),\n",
              " Row(likes=46900),\n",
              " Row(likes=5188),\n",
              " Row(likes=2750),\n",
              " Row(likes=5023),\n",
              " Row(likes=3539),\n",
              " Row(likes=2001),\n",
              " Row(likes=1026),\n",
              " Row(likes=4468),\n",
              " Row(likes=91834),\n",
              " Row(likes=4208),\n",
              " Row(likes=314),\n",
              " Row(likes=1184),\n",
              " Row(likes=28058),\n",
              " Row(likes=38795),\n",
              " Row(likes=365),\n",
              " Row(likes=111),\n",
              " Row(likes=4237),\n",
              " Row(likes=33595),\n",
              " Row(likes=8122),\n",
              " Row(likes=30255),\n",
              " Row(likes=174),\n",
              " Row(likes=204),\n",
              " Row(likes=None),\n",
              " Row(likes=None),\n",
              " Row(likes=None),\n",
              " Row(likes=None),\n",
              " Row(likes=None),\n",
              " Row(likes=None),\n",
              " Row(likes=None),\n",
              " Row(likes=None),\n",
              " Row(likes=None),\n",
              " Row(likes=None),\n",
              " Row(likes=None),\n",
              " Row(likes=None),\n",
              " Row(likes=None),\n",
              " Row(likes=None),\n",
              " Row(likes=None),\n",
              " Row(likes=None),\n",
              " Row(likes=10327),\n",
              " Row(likes=86),\n",
              " Row(likes=370),\n",
              " Row(likes=10),\n",
              " Row(likes=25373),\n",
              " Row(likes=159600),\n",
              " Row(likes=5189),\n",
              " Row(likes=681),\n",
              " Row(likes=4287),\n",
              " Row(likes=29299),\n",
              " Row(likes=2738),\n",
              " Row(likes=7464),\n",
              " Row(likes=6282),\n",
              " Row(likes=1693),\n",
              " Row(likes=92831),\n",
              " Row(likes=22111),\n",
              " Row(likes=921),\n",
              " Row(likes=21174),\n",
              " Row(likes=142006),\n",
              " Row(likes=1623),\n",
              " Row(likes=7229),\n",
              " Row(likes=12694),\n",
              " Row(likes=5906),\n",
              " Row(likes=37),\n",
              " Row(likes=1834),\n",
              " Row(likes=1990),\n",
              " Row(likes=4544),\n",
              " Row(likes=11637),\n",
              " Row(likes=204840),\n",
              " Row(likes=5562),\n",
              " Row(likes=12392),\n",
              " Row(likes=197),\n",
              " Row(likes=10058),\n",
              " Row(likes=10718),\n",
              " Row(likes=16213),\n",
              " Row(likes=18528),\n",
              " Row(likes=14253),\n",
              " Row(likes=206),\n",
              " Row(likes=175762),\n",
              " Row(likes=1572),\n",
              " Row(likes=5591),\n",
              " Row(likes=4288),\n",
              " Row(likes=10079),\n",
              " Row(likes=2023),\n",
              " Row(likes=8593),\n",
              " Row(likes=16242),\n",
              " Row(likes=2366),\n",
              " Row(likes=149105),\n",
              " Row(likes=1932),\n",
              " Row(likes=28677),\n",
              " Row(likes=28200),\n",
              " Row(likes=17313),\n",
              " Row(likes=5954),\n",
              " Row(likes=146),\n",
              " Row(likes=21839),\n",
              " Row(likes=2448),\n",
              " Row(likes=3194),\n",
              " Row(likes=280),\n",
              " Row(likes=8575),\n",
              " Row(likes=18741),\n",
              " Row(likes=1933),\n",
              " Row(likes=6418),\n",
              " Row(likes=5682),\n",
              " Row(likes=9848),\n",
              " Row(likes=1288),\n",
              " Row(likes=58),\n",
              " Row(likes=7193),\n",
              " Row(likes=430),\n",
              " Row(likes=5065),\n",
              " Row(likes=410),\n",
              " Row(likes=92),\n",
              " Row(likes=131),\n",
              " Row(likes=2742),\n",
              " Row(likes=9519),\n",
              " Row(likes=6408),\n",
              " Row(likes=83),\n",
              " Row(likes=5190),\n",
              " Row(likes=13909),\n",
              " Row(likes=10118),\n",
              " Row(likes=3578),\n",
              " Row(likes=4603),\n",
              " Row(likes=4447),\n",
              " Row(likes=243),\n",
              " Row(likes=1941),\n",
              " Row(likes=620),\n",
              " Row(likes=39),\n",
              " Row(likes=230),\n",
              " Row(likes=4455),\n",
              " Row(likes=309),\n",
              " Row(likes=47602),\n",
              " Row(likes=20),\n",
              " Row(likes=891282),\n",
              " Row(likes=4),\n",
              " Row(likes=438470),\n",
              " Row(likes=831),\n",
              " Row(likes=2908),\n",
              " Row(likes=782),\n",
              " Row(likes=292),\n",
              " Row(likes=11),\n",
              " Row(likes=7),\n",
              " Row(likes=4836),\n",
              " Row(likes=38114),\n",
              " Row(likes=10),\n",
              " Row(likes=16805),\n",
              " Row(likes=4782),\n",
              " Row(likes=48),\n",
              " Row(likes=447),\n",
              " Row(likes=261),\n",
              " Row(likes=248909),\n",
              " Row(likes=49509),\n",
              " Row(likes=146732),\n",
              " Row(likes=6466),\n",
              " Row(likes=20),\n",
              " Row(likes=7773),\n",
              " Row(likes=2028),\n",
              " Row(likes=8985),\n",
              " Row(likes=60434),\n",
              " Row(likes=129182),\n",
              " Row(likes=86),\n",
              " Row(likes=8665),\n",
              " Row(likes=52519),\n",
              " Row(likes=76529),\n",
              " Row(likes=20780),\n",
              " Row(likes=2609),\n",
              " Row(likes=22),\n",
              " Row(likes=150015),\n",
              " Row(likes=1002549),\n",
              " Row(likes=94545),\n",
              " Row(likes=16081),\n",
              " Row(likes=89055),\n",
              " Row(likes=61135),\n",
              " ...]"
            ]
          },
          "metadata": {},
          "execution_count": 33
        }
      ]
    },
    {
      "cell_type": "markdown",
      "source": [
        "# Escritura de DataFrame"
      ],
      "metadata": {
        "id": "KtxZn-5P9h0o"
      }
    },
    {
      "cell_type": "code",
      "source": [
        "dff1 = dataf.repartition(2)"
      ],
      "metadata": {
        "id": "7C3iMQZh8wDC"
      },
      "execution_count": 34,
      "outputs": []
    },
    {
      "cell_type": "code",
      "source": [
        "#Agregar un formatao distinto y asignar un separador\n",
        "dff1.write.format('csv').option('sep','|').save('./salida/csv')"
      ],
      "metadata": {
        "id": "emY7PoXN-eRZ"
      },
      "execution_count": 35,
      "outputs": []
    },
    {
      "cell_type": "code",
      "source": [
        "dff1.coalesce(1).write.format('csv').option('sep','|').save('./salida/csv1')"
      ],
      "metadata": {
        "id": "I_cpi4wf_EKK"
      },
      "execution_count": 36,
      "outputs": []
    },
    {
      "cell_type": "code",
      "source": [
        "dataf.printSchema()"
      ],
      "metadata": {
        "colab": {
          "base_uri": "https://localhost:8080/"
        },
        "id": "xE9zXcHKAGvT",
        "outputId": "e0ad313a-1c72-4a1a-ae16-03931d1eb218"
      },
      "execution_count": 37,
      "outputs": [
        {
          "output_type": "stream",
          "name": "stdout",
          "text": [
            "root\n",
            " |-- video_id: string (nullable = true)\n",
            " |-- trending_date: string (nullable = true)\n",
            " |-- title: string (nullable = true)\n",
            " |-- channel_title: string (nullable = true)\n",
            " |-- category_id: string (nullable = true)\n",
            " |-- publish_time: timestamp (nullable = true)\n",
            " |-- tags: string (nullable = true)\n",
            " |-- views: integer (nullable = true)\n",
            " |-- likes: integer (nullable = true)\n",
            " |-- dislikes: integer (nullable = true)\n",
            " |-- comment_count: integer (nullable = true)\n",
            " |-- thumbnail_link: string (nullable = true)\n",
            " |-- comments_disabled: string (nullable = true)\n",
            " |-- ratings_disabled: string (nullable = true)\n",
            " |-- video_error_or_removed: string (nullable = true)\n",
            " |-- description: string (nullable = true)\n",
            "\n"
          ]
        }
      ]
    },
    {
      "cell_type": "code",
      "source": [
        "dataf.select('comments_disabled').distinct().show()"
      ],
      "metadata": {
        "colab": {
          "base_uri": "https://localhost:8080/"
        },
        "id": "ADsUTXmlAKT_",
        "outputId": "99e1504d-1913-4790-9798-317408d78c05"
      },
      "execution_count": 38,
      "outputs": [
        {
          "output_type": "stream",
          "name": "stdout",
          "text": [
            "+-----------------+\n",
            "|comments_disabled|\n",
            "+-----------------+\n",
            "|            False|\n",
            "|             null|\n",
            "| sports and more.|\n",
            "|          Wiz Kid|\n",
            "|             True|\n",
            "|         farfalle|\n",
            "+-----------------+\n",
            "\n"
          ]
        }
      ]
    },
    {
      "cell_type": "code",
      "source": [
        "df_limpio=dataf.filter(col('comments_disabled').isin('True','False'))"
      ],
      "metadata": {
        "id": "bjtIdoX0ATln"
      },
      "execution_count": 39,
      "outputs": []
    },
    {
      "cell_type": "code",
      "source": [
        "df_limpio.write.partitionBy('comments_disabled').parquet('./salida/parquet')"
      ],
      "metadata": {
        "id": "SMxCg2QeAqWV"
      },
      "execution_count": 40,
      "outputs": []
    },
    {
      "cell_type": "markdown",
      "source": [
        "# Persistencia\n"
      ],
      "metadata": {
        "id": "_vLngHSmA4Nr"
      }
    },
    {
      "cell_type": "code",
      "source": [
        "dframe = spark.createDataFrame([(1,'a'),(2,'b'),(3,'c')],['id','valor'])"
      ],
      "metadata": {
        "id": "l37nAlFrBHit"
      },
      "execution_count": 41,
      "outputs": []
    },
    {
      "cell_type": "code",
      "source": [
        "dframe.show()"
      ],
      "metadata": {
        "colab": {
          "base_uri": "https://localhost:8080/"
        },
        "id": "SRp5AXfxBdul",
        "outputId": "7405cae9-d610-4d37-aff0-6b0d56576b9a"
      },
      "execution_count": 42,
      "outputs": [
        {
          "output_type": "stream",
          "name": "stdout",
          "text": [
            "+---+-----+\n",
            "| id|valor|\n",
            "+---+-----+\n",
            "|  1|    a|\n",
            "|  2|    b|\n",
            "|  3|    c|\n",
            "+---+-----+\n",
            "\n"
          ]
        }
      ]
    },
    {
      "cell_type": "code",
      "source": [
        "dframe.persist()"
      ],
      "metadata": {
        "colab": {
          "base_uri": "https://localhost:8080/"
        },
        "id": "y8I-sJebBemw",
        "outputId": "10613e28-71a8-4677-94d6-1f44d0aedd0a"
      },
      "execution_count": 43,
      "outputs": [
        {
          "output_type": "execute_result",
          "data": {
            "text/plain": [
              "DataFrame[id: bigint, valor: string]"
            ]
          },
          "metadata": {},
          "execution_count": 43
        }
      ]
    },
    {
      "cell_type": "code",
      "source": [
        "dframe.unpersist()"
      ],
      "metadata": {
        "colab": {
          "base_uri": "https://localhost:8080/"
        },
        "id": "6BSgyzhUBqWA",
        "outputId": "bc565f28-3bd1-4ab5-9978-dc6a127682ad"
      },
      "execution_count": 44,
      "outputs": [
        {
          "output_type": "execute_result",
          "data": {
            "text/plain": [
              "DataFrame[id: bigint, valor: string]"
            ]
          },
          "metadata": {},
          "execution_count": 44
        }
      ]
    },
    {
      "cell_type": "code",
      "source": [
        "from pyspark.storagelevel import StorageLevel"
      ],
      "metadata": {
        "id": "90Rqe8nYBsYQ"
      },
      "execution_count": 46,
      "outputs": []
    },
    {
      "cell_type": "code",
      "source": [
        "dframe.persist(StorageLevel.DISK_ONLY)"
      ],
      "metadata": {
        "colab": {
          "base_uri": "https://localhost:8080/"
        },
        "id": "XK5Ui0QmB2lw",
        "outputId": "50ca2bd9-d7a7-416c-da97-4487b62006fb"
      },
      "execution_count": 47,
      "outputs": [
        {
          "output_type": "execute_result",
          "data": {
            "text/plain": [
              "DataFrame[id: bigint, valor: string]"
            ]
          },
          "metadata": {},
          "execution_count": 47
        }
      ]
    },
    {
      "cell_type": "markdown",
      "source": [
        "# Ejercicios\n",
        "\n",
        "Los datos adjuntos a esta lección forman parte de la base de datos [NeurIPS 2020] Data Science for COVID-19 (DS4C) disponible en Kaggle. Estos datos hacen referencia a los casos de contagio de covid-19 en Corea del Sur.\n",
        "\n",
        "\n",
        "El archivo csv Case contiene los casos reportados y el archivo csv PatientInfo contiene la información de los pacientes.\n",
        "\n",
        "1. A partir del archivo csv Case, determine las tres ciudades con más casos confirmados de la enfermedad. La salida debe contener tres columnas: provincia, ciudad y casos confirmados. El resultado debe contener exactamente los tres nombre de ciudades con más casos confirmados ya que no se admiten otros valores.\n",
        "\n",
        "2. Cree un dataframe a partir del archivo csv PatientInfo. Asegúrese de que su dataframe no contenga pacientes duplicados.\n",
        "\n",
        "  a. ¿Cuántos pacientes tienen informado por quién se contagiaron(columna infected_by)? Obtenga solo los pacientes que tengan informado por quién se contagiaron.\n",
        "\n",
        "  b. A partir de la salida del inciso anterior obtenga solo los pacientes femeninos. La salida no debe contener las columnas released_date y deceased_date.\n",
        "\n",
        "  c. Establezca el número de particiones del dataframe resultante del inciso anterior en dos. Escriba el dataframe resultante en un archivo parquet. La salida debe estar particionada por la provincia y el modo de escritura debe ser overwrite."
      ],
      "metadata": {
        "id": "-1v59PXEDASo"
      }
    },
    {
      "cell_type": "code",
      "source": [
        "casos = spark.read.option('header','true').option('inferSchema','true').csv('./Case.csv')\n",
        "pacientes_info = spark.read.option('header','true').option('inferSchema','true').csv('./PatientInfo.csv')"
      ],
      "metadata": {
        "id": "a4ba6Z41DsZj"
      },
      "execution_count": 48,
      "outputs": []
    },
    {
      "cell_type": "code",
      "source": [
        "casos.printSchema()"
      ],
      "metadata": {
        "colab": {
          "base_uri": "https://localhost:8080/"
        },
        "id": "_tqu-lmbEd_S",
        "outputId": "f4c55ff4-d68d-4fa8-e473-75c747608405"
      },
      "execution_count": 49,
      "outputs": [
        {
          "output_type": "stream",
          "name": "stdout",
          "text": [
            "root\n",
            " |--  case_id: integer (nullable = true)\n",
            " |-- province: string (nullable = true)\n",
            " |-- city: string (nullable = true)\n",
            " |-- group: boolean (nullable = true)\n",
            " |-- infection_case: string (nullable = true)\n",
            " |-- confirmed: integer (nullable = true)\n",
            " |-- latitude: string (nullable = true)\n",
            " |-- longitude: string (nullable = true)\n",
            "\n"
          ]
        }
      ]
    },
    {
      "cell_type": "code",
      "source": [
        "casos = casos.withColumnRenamed(' case_id', 'case_id')\n",
        "casos.printSchema()"
      ],
      "metadata": {
        "colab": {
          "base_uri": "https://localhost:8080/"
        },
        "id": "RJkmFF3pEfB9",
        "outputId": "ddd5715a-a360-40d8-cdf4-48fca8c610ad"
      },
      "execution_count": 51,
      "outputs": [
        {
          "output_type": "stream",
          "name": "stdout",
          "text": [
            "root\n",
            " |-- case_id: integer (nullable = true)\n",
            " |-- province: string (nullable = true)\n",
            " |-- city: string (nullable = true)\n",
            " |-- group: boolean (nullable = true)\n",
            " |-- infection_case: string (nullable = true)\n",
            " |-- confirmed: integer (nullable = true)\n",
            " |-- latitude: string (nullable = true)\n",
            " |-- longitude: string (nullable = true)\n",
            "\n"
          ]
        }
      ]
    },
    {
      "cell_type": "code",
      "source": [
        "casos.show()"
      ],
      "metadata": {
        "colab": {
          "base_uri": "https://localhost:8080/"
        },
        "id": "k_p_83BwEwDF",
        "outputId": "5176e572-738f-4341-ec87-a7fc14dbd400"
      },
      "execution_count": 52,
      "outputs": [
        {
          "output_type": "stream",
          "name": "stdout",
          "text": [
            "+-------+--------+---------------+-----+--------------------+---------+---------+----------+\n",
            "|case_id|province|           city|group|      infection_case|confirmed| latitude| longitude|\n",
            "+-------+--------+---------------+-----+--------------------+---------+---------+----------+\n",
            "|1000001|   Seoul|     Yongsan-gu| true|       Itaewon Clubs|      139|37.538621|126.992652|\n",
            "|1000002|   Seoul|      Gwanak-gu| true|             Richway|      119| 37.48208|126.901384|\n",
            "|1000003|   Seoul|        Guro-gu| true| Guro-gu Call Center|       95|37.508163|126.884387|\n",
            "|1000004|   Seoul|   Yangcheon-gu| true|Yangcheon Table T...|       43|37.546061|126.874209|\n",
            "|1000005|   Seoul|      Dobong-gu| true|     Day Care Center|       43|37.679422|127.044374|\n",
            "|1000006|   Seoul|        Guro-gu| true|Manmin Central Ch...|       41|37.481059|126.894343|\n",
            "|1000007|   Seoul|from other city| true|SMR Newly Planted...|       36|        -|         -|\n",
            "|1000008|   Seoul|  Dongdaemun-gu| true|       Dongan Church|       17|37.592888|127.056766|\n",
            "|1000009|   Seoul|from other city| true|Coupang Logistics...|       25|        -|         -|\n",
            "|1000010|   Seoul|      Gwanak-gu| true|     Wangsung Church|       30|37.481735|126.930121|\n",
            "|1000011|   Seoul|   Eunpyeong-gu| true|Eunpyeong St. Mar...|       14| 37.63369|  126.9165|\n",
            "|1000012|   Seoul|   Seongdong-gu| true|    Seongdong-gu APT|       13| 37.55713|  127.0403|\n",
            "|1000013|   Seoul|      Jongno-gu| true|Jongno Community ...|       10| 37.57681|   127.006|\n",
            "|1000014|   Seoul|     Gangnam-gu| true|Samsung Medical C...|        7| 37.48825| 127.08559|\n",
            "|1000015|   Seoul|        Jung-gu| true|Jung-gu Fashion C...|        7|37.562405|126.984377|\n",
            "|1000016|   Seoul|   Seodaemun-gu| true|  Yeonana News Class|        5|37.558147|126.943799|\n",
            "|1000017|   Seoul|      Jongno-gu| true|Korea Campus Crus...|        7|37.594782|126.968022|\n",
            "|1000018|   Seoul|     Gangnam-gu| true|Gangnam Yeoksam-d...|        6|        -|         -|\n",
            "|1000019|   Seoul|from other city| true|Daejeon door-to-d...|        1|        -|         -|\n",
            "|1000020|   Seoul|   Geumcheon-gu| true|Geumcheon-gu rice...|        6|        -|         -|\n",
            "+-------+--------+---------------+-----+--------------------+---------+---------+----------+\n",
            "only showing top 20 rows\n",
            "\n"
          ]
        }
      ]
    },
    {
      "cell_type": "code",
      "source": [
        "#determine las tres ciudades con más casos confirmado  provincia, ciudad y casos confirmados.\n",
        "casos.orderBy(desc('confirmed')).show()"
      ],
      "metadata": {
        "colab": {
          "base_uri": "https://localhost:8080/"
        },
        "id": "bYsIVqvfE3OC",
        "outputId": "08eb4629-aa79-4872-a797-76331536e393"
      },
      "execution_count": 53,
      "outputs": [
        {
          "output_type": "stream",
          "name": "stdout",
          "text": [
            "+-------+-----------------+---------------+-----+--------------------+---------+---------+----------+\n",
            "|case_id|         province|           city|group|      infection_case|confirmed| latitude| longitude|\n",
            "+-------+-----------------+---------------+-----+--------------------+---------+---------+----------+\n",
            "|1200001|            Daegu|         Nam-gu| true|  Shincheonji Church|     4511| 35.84008|  128.5667|\n",
            "|1200009|            Daegu|              -|false|contact with patient|      917|        -|         -|\n",
            "|1200010|            Daegu|              -|false|                 etc|      747|        -|         -|\n",
            "|6000001| Gyeongsangbuk-do|from other city| true|  Shincheonji Church|      566|        -|         -|\n",
            "|2000020|      Gyeonggi-do|              -|false|     overseas inflow|      305|        -|         -|\n",
            "|1000036|            Seoul|              -|false|     overseas inflow|      298|        -|         -|\n",
            "|1200002|            Daegu|   Dalseong-gun| true|Second Mi-Ju Hosp...|      196|35.857375|128.466651|\n",
            "|6000012| Gyeongsangbuk-do|              -|false|contact with patient|      190|        -|         -|\n",
            "|1000037|            Seoul|              -|false|contact with patient|      162|        -|         -|\n",
            "|1000001|            Seoul|     Yongsan-gu| true|       Itaewon Clubs|      139|37.538621|126.992652|\n",
            "|6000013| Gyeongsangbuk-do|              -|false|                 etc|      133|        -|         -|\n",
            "|1200003|            Daegu|         Seo-gu| true|Hansarang Convale...|      124|35.885592|128.556649|\n",
            "|1000002|            Seoul|      Gwanak-gu| true|             Richway|      119| 37.48208|126.901384|\n",
            "|6000002| Gyeongsangbuk-do|   Cheongdo-gun| true|Cheongdo Daenam H...|      119| 35.64887|  128.7368|\n",
            "|4100001|Chungcheongnam-do|     Cheonan-si| true|gym facility in C...|      103| 36.81503|  127.1139|\n",
            "|1200004|            Daegu|   Dalseong-gun| true|Daesil Convalesce...|      101|35.857393|128.466653|\n",
            "|1000038|            Seoul|              -|false|                 etc|      100|        -|         -|\n",
            "|1000003|            Seoul|        Guro-gu| true| Guro-gu Call Center|       95|37.508163|126.884387|\n",
            "|2000022|      Gyeonggi-do|              -|false|                 etc|       84|        -|         -|\n",
            "|1400005|          Incheon|              -|false|     overseas inflow|       68|        -|         -|\n",
            "+-------+-----------------+---------------+-----+--------------------+---------+---------+----------+\n",
            "only showing top 20 rows\n",
            "\n"
          ]
        }
      ]
    },
    {
      "cell_type": "code",
      "source": [
        "#Quitar los - en la ciudad\n",
        "casos.filter(col('city') != '-').orderBy(desc('confirmed')).show()"
      ],
      "metadata": {
        "colab": {
          "base_uri": "https://localhost:8080/"
        },
        "id": "qu2U2OhXFpwK",
        "outputId": "1c61cd17-f360-4cc2-86e8-0df4cadac83d"
      },
      "execution_count": 54,
      "outputs": [
        {
          "output_type": "stream",
          "name": "stdout",
          "text": [
            "+-------+-----------------+---------------+-----+--------------------+---------+---------+----------+\n",
            "|case_id|         province|           city|group|      infection_case|confirmed| latitude| longitude|\n",
            "+-------+-----------------+---------------+-----+--------------------+---------+---------+----------+\n",
            "|1200001|            Daegu|         Nam-gu| true|  Shincheonji Church|     4511| 35.84008|  128.5667|\n",
            "|6000001| Gyeongsangbuk-do|from other city| true|  Shincheonji Church|      566|        -|         -|\n",
            "|1200002|            Daegu|   Dalseong-gun| true|Second Mi-Ju Hosp...|      196|35.857375|128.466651|\n",
            "|1000001|            Seoul|     Yongsan-gu| true|       Itaewon Clubs|      139|37.538621|126.992652|\n",
            "|1200003|            Daegu|         Seo-gu| true|Hansarang Convale...|      124|35.885592|128.556649|\n",
            "|6000002| Gyeongsangbuk-do|   Cheongdo-gun| true|Cheongdo Daenam H...|      119| 35.64887|  128.7368|\n",
            "|1000002|            Seoul|      Gwanak-gu| true|             Richway|      119| 37.48208|126.901384|\n",
            "|4100001|Chungcheongnam-do|     Cheonan-si| true|gym facility in C...|      103| 36.81503|  127.1139|\n",
            "|1200004|            Daegu|   Dalseong-gun| true|Daesil Convalesce...|      101|35.857393|128.466653|\n",
            "|1000003|            Seoul|        Guro-gu| true| Guro-gu Call Center|       95|37.508163|126.884387|\n",
            "|6000003| Gyeongsangbuk-do|    Bonghwa-gun| true|Bonghwa Pureun Nu...|       68| 36.92757|  128.9099|\n",
            "|2000001|      Gyeonggi-do|    Seongnam-si| true|River of Grace Co...|       67|37.455687|127.161627|\n",
            "|2000002|      Gyeonggi-do|     Bucheon-si| true|Coupang Logistics...|       67|37.530579|126.775254|\n",
            "|6000004| Gyeongsangbuk-do|   Gyeongsan-si| true|Gyeongsan Seorin ...|       66|35.782149|128.801498|\n",
            "|2000003|      Gyeonggi-do|from other city| true|       Itaewon Clubs|       59|        -|         -|\n",
            "|2000004|      Gyeonggi-do|from other city| true|             Richway|       58|        -|         -|\n",
            "|1400001|          Incheon|from other city| true|       Itaewon Clubs|       53|        -|         -|\n",
            "|2000005|      Gyeonggi-do|   Uijeongbu-si| true|Uijeongbu St. Mar...|       50|37.758635|127.077716|\n",
            "|2000006|      Gyeonggi-do|from other city| true| Guro-gu Call Center|       50|        -|         -|\n",
            "|1000005|            Seoul|      Dobong-gu| true|     Day Care Center|       43|37.679422|127.044374|\n",
            "+-------+-----------------+---------------+-----+--------------------+---------+---------+----------+\n",
            "only showing top 20 rows\n",
            "\n"
          ]
        }
      ]
    },
    {
      "cell_type": "code",
      "source": [
        "#Quitar el 'From other city'\n",
        "casos.filter(col('city') != '-').filter(col('city') != 'from other city').orderBy(desc('confirmed')).show()\n",
        "# casos.filter(col('city') != '-') & (col('city') != 'from other city').orderBy(desc('confirmed')).show()"
      ],
      "metadata": {
        "colab": {
          "base_uri": "https://localhost:8080/"
        },
        "id": "2_uGPggpG5u7",
        "outputId": "d35aa409-9c80-468e-99ca-34bb90fb430e"
      },
      "execution_count": 55,
      "outputs": [
        {
          "output_type": "stream",
          "name": "stdout",
          "text": [
            "+-------+-----------------+------------+-----+--------------------+---------+---------+----------+\n",
            "|case_id|         province|        city|group|      infection_case|confirmed| latitude| longitude|\n",
            "+-------+-----------------+------------+-----+--------------------+---------+---------+----------+\n",
            "|1200001|            Daegu|      Nam-gu| true|  Shincheonji Church|     4511| 35.84008|  128.5667|\n",
            "|1200002|            Daegu|Dalseong-gun| true|Second Mi-Ju Hosp...|      196|35.857375|128.466651|\n",
            "|1000001|            Seoul|  Yongsan-gu| true|       Itaewon Clubs|      139|37.538621|126.992652|\n",
            "|1200003|            Daegu|      Seo-gu| true|Hansarang Convale...|      124|35.885592|128.556649|\n",
            "|1000002|            Seoul|   Gwanak-gu| true|             Richway|      119| 37.48208|126.901384|\n",
            "|6000002| Gyeongsangbuk-do|Cheongdo-gun| true|Cheongdo Daenam H...|      119| 35.64887|  128.7368|\n",
            "|4100001|Chungcheongnam-do|  Cheonan-si| true|gym facility in C...|      103| 36.81503|  127.1139|\n",
            "|1200004|            Daegu|Dalseong-gun| true|Daesil Convalesce...|      101|35.857393|128.466653|\n",
            "|1000003|            Seoul|     Guro-gu| true| Guro-gu Call Center|       95|37.508163|126.884387|\n",
            "|6000003| Gyeongsangbuk-do| Bonghwa-gun| true|Bonghwa Pureun Nu...|       68| 36.92757|  128.9099|\n",
            "|2000002|      Gyeonggi-do|  Bucheon-si| true|Coupang Logistics...|       67|37.530579|126.775254|\n",
            "|2000001|      Gyeonggi-do| Seongnam-si| true|River of Grace Co...|       67|37.455687|127.161627|\n",
            "|6000004| Gyeongsangbuk-do|Gyeongsan-si| true|Gyeongsan Seorin ...|       66|35.782149|128.801498|\n",
            "|2000005|      Gyeonggi-do|Uijeongbu-si| true|Uijeongbu St. Mar...|       50|37.758635|127.077716|\n",
            "|1000004|            Seoul|Yangcheon-gu| true|Yangcheon Table T...|       43|37.546061|126.874209|\n",
            "|1000005|            Seoul|   Dobong-gu| true|     Day Care Center|       43|37.679422|127.044374|\n",
            "|1000006|            Seoul|     Guro-gu| true|Manmin Central Ch...|       41|37.481059|126.894343|\n",
            "|6000006| Gyeongsangbuk-do|  Yechun-gun| true|          Yechun-gun|       40|36.646845|128.437416|\n",
            "|1100001|            Busan|  Dongnae-gu| true|       Onchun Church|       39| 35.21628|  129.0771|\n",
            "|1200005|            Daegu|     Dong-gu| true|     Fatima Hospital|       39| 35.88395|128.624059|\n",
            "+-------+-----------------+------------+-----+--------------------+---------+---------+----------+\n",
            "only showing top 20 rows\n",
            "\n"
          ]
        }
      ]
    },
    {
      "cell_type": "code",
      "source": [
        "# 3 columnas\n",
        "casos.filter(col('city') != '-').filter(col('city') != 'from other city').orderBy(desc('confirmed')).select('province','city','confirmed').show()"
      ],
      "metadata": {
        "colab": {
          "base_uri": "https://localhost:8080/"
        },
        "id": "EjHVb14THGxm",
        "outputId": "355bfcdd-c6f3-494c-d56a-490529fb3252"
      },
      "execution_count": 56,
      "outputs": [
        {
          "output_type": "stream",
          "name": "stdout",
          "text": [
            "+-----------------+------------+---------+\n",
            "|         province|        city|confirmed|\n",
            "+-----------------+------------+---------+\n",
            "|            Daegu|      Nam-gu|     4511|\n",
            "|            Daegu|Dalseong-gun|      196|\n",
            "|            Seoul|  Yongsan-gu|      139|\n",
            "|            Daegu|      Seo-gu|      124|\n",
            "|            Seoul|   Gwanak-gu|      119|\n",
            "| Gyeongsangbuk-do|Cheongdo-gun|      119|\n",
            "|Chungcheongnam-do|  Cheonan-si|      103|\n",
            "|            Daegu|Dalseong-gun|      101|\n",
            "|            Seoul|     Guro-gu|       95|\n",
            "| Gyeongsangbuk-do| Bonghwa-gun|       68|\n",
            "|      Gyeonggi-do|  Bucheon-si|       67|\n",
            "|      Gyeonggi-do| Seongnam-si|       67|\n",
            "| Gyeongsangbuk-do|Gyeongsan-si|       66|\n",
            "|      Gyeonggi-do|Uijeongbu-si|       50|\n",
            "|            Seoul|Yangcheon-gu|       43|\n",
            "|            Seoul|   Dobong-gu|       43|\n",
            "|            Seoul|     Guro-gu|       41|\n",
            "| Gyeongsangbuk-do|  Yechun-gun|       40|\n",
            "|            Busan|  Dongnae-gu|       39|\n",
            "|            Daegu|     Dong-gu|       39|\n",
            "+-----------------+------------+---------+\n",
            "only showing top 20 rows\n",
            "\n"
          ]
        }
      ]
    },
    {
      "cell_type": "markdown",
      "source": [
        "2"
      ],
      "metadata": {
        "id": "Q5r4oLdTHtv1"
      }
    },
    {
      "cell_type": "code",
      "source": [
        "pacientes_info.printSchema()"
      ],
      "metadata": {
        "colab": {
          "base_uri": "https://localhost:8080/"
        },
        "id": "QOOZzY_cHk0X",
        "outputId": "02fcc8cb-13dd-4a15-a85f-8cd66465be39"
      },
      "execution_count": 57,
      "outputs": [
        {
          "output_type": "stream",
          "name": "stdout",
          "text": [
            "root\n",
            " |-- patient_id: long (nullable = true)\n",
            " |-- sex: string (nullable = true)\n",
            " |-- age: string (nullable = true)\n",
            " |-- country: string (nullable = true)\n",
            " |-- province: string (nullable = true)\n",
            " |-- city: string (nullable = true)\n",
            " |-- infection_case: string (nullable = true)\n",
            " |-- infected_by: string (nullable = true)\n",
            " |-- contact_number: string (nullable = true)\n",
            " |-- symptom_onset_date: string (nullable = true)\n",
            " |-- confirmed_date: timestamp (nullable = true)\n",
            " |-- released_date: timestamp (nullable = true)\n",
            " |-- deceased_date: timestamp (nullable = true)\n",
            " |-- state: string (nullable = true)\n",
            "\n"
          ]
        }
      ]
    },
    {
      "cell_type": "code",
      "source": [
        "pacientes_info.show()"
      ],
      "metadata": {
        "colab": {
          "base_uri": "https://localhost:8080/"
        },
        "id": "CEoJDh9AHx4v",
        "outputId": "22b8288c-655c-4c21-a48e-498595a94af0"
      },
      "execution_count": 58,
      "outputs": [
        {
          "output_type": "stream",
          "name": "stdout",
          "text": [
            "+----------+------+---+-------+--------+------------+--------------------+-----------+--------------+------------------+-------------------+-------------------+-------------+--------+\n",
            "|patient_id|   sex|age|country|province|        city|      infection_case|infected_by|contact_number|symptom_onset_date|     confirmed_date|      released_date|deceased_date|   state|\n",
            "+----------+------+---+-------+--------+------------+--------------------+-----------+--------------+------------------+-------------------+-------------------+-------------+--------+\n",
            "|1000000001|  male|50s|  Korea|   Seoul|  Gangseo-gu|     overseas inflow|       null|            75|        2020-01-22|2020-01-23 00:00:00|2020-02-05 00:00:00|         null|released|\n",
            "|1000000002|  male|30s|  Korea|   Seoul| Jungnang-gu|     overseas inflow|       null|            31|              null|2020-01-30 00:00:00|2020-03-02 00:00:00|         null|released|\n",
            "|1000000003|  male|50s|  Korea|   Seoul|   Jongno-gu|contact with patient| 2002000001|            17|              null|2020-01-30 00:00:00|2020-02-19 00:00:00|         null|released|\n",
            "|1000000004|  male|20s|  Korea|   Seoul|     Mapo-gu|     overseas inflow|       null|             9|        2020-01-26|2020-01-30 00:00:00|2020-02-15 00:00:00|         null|released|\n",
            "|1000000005|female|20s|  Korea|   Seoul| Seongbuk-gu|contact with patient| 1000000002|             2|              null|2020-01-31 00:00:00|2020-02-24 00:00:00|         null|released|\n",
            "|1000000006|female|50s|  Korea|   Seoul|   Jongno-gu|contact with patient| 1000000003|            43|              null|2020-01-31 00:00:00|2020-02-19 00:00:00|         null|released|\n",
            "|1000000007|  male|20s|  Korea|   Seoul|   Jongno-gu|contact with patient| 1000000003|             0|              null|2020-01-31 00:00:00|2020-02-10 00:00:00|         null|released|\n",
            "|1000000008|  male|20s|  Korea|   Seoul|         etc|     overseas inflow|       null|             0|              null|2020-02-02 00:00:00|2020-02-24 00:00:00|         null|released|\n",
            "|1000000009|  male|30s|  Korea|   Seoul|   Songpa-gu|     overseas inflow|       null|            68|              null|2020-02-05 00:00:00|2020-02-21 00:00:00|         null|released|\n",
            "|1000000010|female|60s|  Korea|   Seoul| Seongbuk-gu|contact with patient| 1000000003|             6|              null|2020-02-05 00:00:00|2020-02-29 00:00:00|         null|released|\n",
            "|1000000011|female|50s|  China|   Seoul|Seodaemun-gu|     overseas inflow|       null|            23|              null|2020-02-06 00:00:00|2020-02-29 00:00:00|         null|released|\n",
            "|1000000012|  male|20s|  Korea|   Seoul|         etc|     overseas inflow|       null|             0|              null|2020-02-07 00:00:00|2020-02-27 00:00:00|         null|released|\n",
            "|1000000013|  male|80s|  Korea|   Seoul|   Jongno-gu|contact with patient| 1000000017|           117|              null|2020-02-16 00:00:00|               null|         null|deceased|\n",
            "|1000000014|female|60s|  Korea|   Seoul|   Jongno-gu|contact with patient| 1000000013|            27|        2020-02-06|2020-02-16 00:00:00|2020-03-12 00:00:00|         null|released|\n",
            "|1000000015|  male|70s|  Korea|   Seoul|Seongdong-gu|    Seongdong-gu APT|       null|             8|        2020-02-11|2020-02-19 00:00:00|               null|         null|released|\n",
            "|1000000016|  male|70s|  Korea|   Seoul|   Jongno-gu|contact with patient| 1000000017|          null|              null|2020-02-19 00:00:00|2020-03-11 00:00:00|         null|released|\n",
            "|1000000017|  male|70s|  Korea|   Seoul|   Jongno-gu|contact with patient| 1000000003|          null|              null|2020-02-20 00:00:00|2020-03-01 00:00:00|         null|released|\n",
            "|1000000018|  male|20s|  Korea|   Seoul|         etc|                 etc|       null|          null|              null|2020-02-20 00:00:00|               null|         null|released|\n",
            "|1000000019|female|70s|  Korea|   Seoul|   Jongno-gu|contact with patient| 1000000021|          null|              null|2020-02-20 00:00:00|2020-03-08 00:00:00|         null|released|\n",
            "|1000000020|female|70s|  Korea|   Seoul|Seongdong-gu|    Seongdong-gu APT| 1000000015|          null|              null|2020-02-20 00:00:00|               null|         null|released|\n",
            "+----------+------+---+-------+--------+------------+--------------------+-----------+--------------+------------------+-------------------+-------------------+-------------+--------+\n",
            "only showing top 20 rows\n",
            "\n"
          ]
        }
      ]
    },
    {
      "cell_type": "code",
      "source": [
        "pacientes_info.select(col('patient_id')).count()"
      ],
      "metadata": {
        "colab": {
          "base_uri": "https://localhost:8080/"
        },
        "id": "suHBOZu5H4Av",
        "outputId": "206e5df6-a580-4c46-eac0-c0097cf926c7"
      },
      "execution_count": 59,
      "outputs": [
        {
          "output_type": "execute_result",
          "data": {
            "text/plain": [
              "5165"
            ]
          },
          "metadata": {},
          "execution_count": 59
        }
      ]
    },
    {
      "cell_type": "code",
      "source": [
        "pacientes_info.select(col('patient_id')).distinct().count()"
      ],
      "metadata": {
        "colab": {
          "base_uri": "https://localhost:8080/"
        },
        "id": "F1s-RtpyIDP3",
        "outputId": "55de33fb-441f-486f-ba17-cf10250fa39e"
      },
      "execution_count": 60,
      "outputs": [
        {
          "output_type": "execute_result",
          "data": {
            "text/plain": [
              "5164"
            ]
          },
          "metadata": {},
          "execution_count": 60
        }
      ]
    },
    {
      "cell_type": "code",
      "source": [
        "pacientes_info = pacientes_info.dropDuplicates(['patient_id'])"
      ],
      "metadata": {
        "id": "i9rCDK5cIJh3"
      },
      "execution_count": 61,
      "outputs": []
    },
    {
      "cell_type": "code",
      "source": [
        "pacientes_info.count()"
      ],
      "metadata": {
        "colab": {
          "base_uri": "https://localhost:8080/"
        },
        "id": "yK2avBr7Ifrw",
        "outputId": "175deee4-9915-49ba-dcc5-41998a5a7d04"
      },
      "execution_count": 62,
      "outputs": [
        {
          "output_type": "execute_result",
          "data": {
            "text/plain": [
              "5164"
            ]
          },
          "metadata": {},
          "execution_count": 62
        }
      ]
    },
    {
      "cell_type": "code",
      "source": [
        "from pyspark.sql.functions import count"
      ],
      "metadata": {
        "id": "XYARtGFCJurj"
      },
      "execution_count": 64,
      "outputs": []
    },
    {
      "cell_type": "code",
      "source": [
        "pacientes_info.select(count('infected_by').alias('conteo')).show()"
      ],
      "metadata": {
        "colab": {
          "base_uri": "https://localhost:8080/"
        },
        "id": "soXmMtKpIhNg",
        "outputId": "47c9ea9a-34e6-44c1-d84f-23a3ea9668e2"
      },
      "execution_count": 65,
      "outputs": [
        {
          "output_type": "stream",
          "name": "stdout",
          "text": [
            "+------+\n",
            "|conteo|\n",
            "+------+\n",
            "|  1346|\n",
            "+------+\n",
            "\n"
          ]
        }
      ]
    },
    {
      "cell_type": "code",
      "source": [
        "contagiados = pacientes_info.na.drop(subset=['infected_by'])"
      ],
      "metadata": {
        "id": "tf2qXQzzJ4Sa"
      },
      "execution_count": 66,
      "outputs": []
    },
    {
      "cell_type": "code",
      "source": [
        "contagiados.count()"
      ],
      "metadata": {
        "colab": {
          "base_uri": "https://localhost:8080/"
        },
        "id": "DIHY5PAwKAuy",
        "outputId": "a325f511-aadb-4ed7-d6a3-f1ec83e83df3"
      },
      "execution_count": 67,
      "outputs": [
        {
          "output_type": "execute_result",
          "data": {
            "text/plain": [
              "1346"
            ]
          },
          "metadata": {},
          "execution_count": 67
        }
      ]
    },
    {
      "cell_type": "code",
      "source": [
        "contagiados.show()"
      ],
      "metadata": {
        "colab": {
          "base_uri": "https://localhost:8080/"
        },
        "id": "ceSXGtnYKCld",
        "outputId": "4cb0a5d5-66a9-4c1a-bf0c-2b599cc966f4"
      },
      "execution_count": 68,
      "outputs": [
        {
          "output_type": "stream",
          "name": "stdout",
          "text": [
            "+----------+------+---+-------+--------+------------+--------------------+-----------+--------------+------------------+-------------------+-------------------+-------------+--------+\n",
            "|patient_id|   sex|age|country|province|        city|      infection_case|infected_by|contact_number|symptom_onset_date|     confirmed_date|      released_date|deceased_date|   state|\n",
            "+----------+------+---+-------+--------+------------+--------------------+-----------+--------------+------------------+-------------------+-------------------+-------------+--------+\n",
            "|1000000003|  male|50s|  Korea|   Seoul|   Jongno-gu|contact with patient| 2002000001|            17|              null|2020-01-30 00:00:00|2020-02-19 00:00:00|         null|released|\n",
            "|1000000005|female|20s|  Korea|   Seoul| Seongbuk-gu|contact with patient| 1000000002|             2|              null|2020-01-31 00:00:00|2020-02-24 00:00:00|         null|released|\n",
            "|1000000006|female|50s|  Korea|   Seoul|   Jongno-gu|contact with patient| 1000000003|            43|              null|2020-01-31 00:00:00|2020-02-19 00:00:00|         null|released|\n",
            "|1000000007|  male|20s|  Korea|   Seoul|   Jongno-gu|contact with patient| 1000000003|             0|              null|2020-01-31 00:00:00|2020-02-10 00:00:00|         null|released|\n",
            "|1000000010|female|60s|  Korea|   Seoul| Seongbuk-gu|contact with patient| 1000000003|             6|              null|2020-02-05 00:00:00|2020-02-29 00:00:00|         null|released|\n",
            "|1000000013|  male|80s|  Korea|   Seoul|   Jongno-gu|contact with patient| 1000000017|           117|              null|2020-02-16 00:00:00|               null|         null|deceased|\n",
            "|1000000014|female|60s|  Korea|   Seoul|   Jongno-gu|contact with patient| 1000000013|            27|        2020-02-06|2020-02-16 00:00:00|2020-03-12 00:00:00|         null|released|\n",
            "|1000000016|  male|70s|  Korea|   Seoul|   Jongno-gu|contact with patient| 1000000017|          null|              null|2020-02-19 00:00:00|2020-03-11 00:00:00|         null|released|\n",
            "|1000000017|  male|70s|  Korea|   Seoul|   Jongno-gu|contact with patient| 1000000003|          null|              null|2020-02-20 00:00:00|2020-03-01 00:00:00|         null|released|\n",
            "|1000000019|female|70s|  Korea|   Seoul|   Jongno-gu|contact with patient| 1000000021|          null|              null|2020-02-20 00:00:00|2020-03-08 00:00:00|         null|released|\n",
            "|1000000020|female|70s|  Korea|   Seoul|Seongdong-gu|    Seongdong-gu APT| 1000000015|          null|              null|2020-02-20 00:00:00|               null|         null|released|\n",
            "|1000000021|  male|80s|  Korea|   Seoul|   Jongno-gu|contact with patient| 1000000016|          null|              null|2020-02-20 00:00:00|2020-03-08 00:00:00|         null|released|\n",
            "|1000000025|  male|60s|  Korea|   Seoul| Gangdong-gu|Eunpyeong St. Mar...| 1000000022|          null|              null|2020-02-22 00:00:00|               null|         null|released|\n",
            "|1000000029|female|20s|  Korea|   Seoul|   Jongno-gu|Eunpyeong St. Mar...| 1000000028|          null|        2020-02-11|2020-02-26 00:00:00|2020-03-11 00:00:00|         null|released|\n",
            "|1000000033|female|50s|  Korea|   Seoul|   Songpa-gu|contact with patient| 1000000031|          null|              null|2020-02-24 00:00:00|2020-03-10 00:00:00|         null|released|\n",
            "|1000000034|  male|20s|  Korea|   Seoul|   Songpa-gu|contact with patient| 1000000031|          null|              null|2020-02-24 00:00:00|2020-03-17 00:00:00|         null|released|\n",
            "|1000000037|female|40s|  Korea|   Seoul|   Songpa-gu|contact with patient| 1000000031|          null|              null|2020-02-25 00:00:00|2020-03-11 00:00:00|         null|released|\n",
            "|1000000040|female|60s|  Korea|   Seoul|   Gwanak-gu|     overseas inflow| 1500000002|          null|              null|2020-02-25 00:00:00|               null|         null|released|\n",
            "|1000000045|  male|40s|  Korea|   Seoul|   Songpa-gu|contact with patient| 1000000033|          null|              null|2020-02-26 00:00:00|2020-03-04 00:00:00|         null|released|\n",
            "|1000000046|female|20s|  Korea|   Seoul|         etc|contact with patient| 1000000041|          null|              null|2020-02-26 00:00:00|2020-03-03 00:00:00|         null|released|\n",
            "+----------+------+---+-------+--------+------------+--------------------+-----------+--------------+------------------+-------------------+-------------------+-------------+--------+\n",
            "only showing top 20 rows\n",
            "\n"
          ]
        }
      ]
    },
    {
      "cell_type": "code",
      "source": [
        "contagiados.filter(col('sex') == 'female').show()"
      ],
      "metadata": {
        "colab": {
          "base_uri": "https://localhost:8080/"
        },
        "id": "DA5Qp1Z5KEMF",
        "outputId": "7770f6fe-7da7-421c-a14e-40bfeed06cb9"
      },
      "execution_count": 69,
      "outputs": [
        {
          "output_type": "stream",
          "name": "stdout",
          "text": [
            "+----------+------+---+-------+--------+-------------+--------------------+-----------+--------------+------------------+-------------------+-------------------+-------------+--------+\n",
            "|patient_id|   sex|age|country|province|         city|      infection_case|infected_by|contact_number|symptom_onset_date|     confirmed_date|      released_date|deceased_date|   state|\n",
            "+----------+------+---+-------+--------+-------------+--------------------+-----------+--------------+------------------+-------------------+-------------------+-------------+--------+\n",
            "|1000000005|female|20s|  Korea|   Seoul|  Seongbuk-gu|contact with patient| 1000000002|             2|              null|2020-01-31 00:00:00|2020-02-24 00:00:00|         null|released|\n",
            "|1000000006|female|50s|  Korea|   Seoul|    Jongno-gu|contact with patient| 1000000003|            43|              null|2020-01-31 00:00:00|2020-02-19 00:00:00|         null|released|\n",
            "|1000000010|female|60s|  Korea|   Seoul|  Seongbuk-gu|contact with patient| 1000000003|             6|              null|2020-02-05 00:00:00|2020-02-29 00:00:00|         null|released|\n",
            "|1000000014|female|60s|  Korea|   Seoul|    Jongno-gu|contact with patient| 1000000013|            27|        2020-02-06|2020-02-16 00:00:00|2020-03-12 00:00:00|         null|released|\n",
            "|1000000019|female|70s|  Korea|   Seoul|    Jongno-gu|contact with patient| 1000000021|          null|              null|2020-02-20 00:00:00|2020-03-08 00:00:00|         null|released|\n",
            "|1000000020|female|70s|  Korea|   Seoul| Seongdong-gu|    Seongdong-gu APT| 1000000015|          null|              null|2020-02-20 00:00:00|               null|         null|released|\n",
            "|1000000029|female|20s|  Korea|   Seoul|    Jongno-gu|Eunpyeong St. Mar...| 1000000028|          null|        2020-02-11|2020-02-26 00:00:00|2020-03-11 00:00:00|         null|released|\n",
            "|1000000033|female|50s|  Korea|   Seoul|    Songpa-gu|contact with patient| 1000000031|          null|              null|2020-02-24 00:00:00|2020-03-10 00:00:00|         null|released|\n",
            "|1000000037|female|40s|  Korea|   Seoul|    Songpa-gu|contact with patient| 1000000031|          null|              null|2020-02-25 00:00:00|2020-03-11 00:00:00|         null|released|\n",
            "|1000000040|female|60s|  Korea|   Seoul|    Gwanak-gu|     overseas inflow| 1500000002|          null|              null|2020-02-25 00:00:00|               null|         null|released|\n",
            "|1000000046|female|20s|  Korea|   Seoul|          etc|contact with patient| 1000000041|          null|              null|2020-02-26 00:00:00|2020-03-03 00:00:00|         null|released|\n",
            "|1000000053|female|40s|  Korea|   Seoul| Eunpyeong-gu|Eunpyeong St. Mar...| 1000000054|          null|        2020-02-25|2020-02-27 00:00:00|2020-03-17 00:00:00|         null|released|\n",
            "|1000000059|female|60s|  Korea|   Seoul| Eunpyeong-gu|Eunpyeong St. Mar...| 1000000060|          null|              null|2020-02-28 00:00:00|               null|         null|released|\n",
            "|1000000064|female|30s|  Korea|   Seoul|   Gangnam-gu|contact with patient| 1000000047|          null|        2020-02-26|2020-02-29 00:00:00|2020-03-04 00:00:00|         null|released|\n",
            "|1000000067|female|20s|  Korea|   Seoul|    Songpa-gu|contact with patient| 1000000033|          null|              null|2020-02-29 00:00:00|               null|         null|released|\n",
            "|1000000113|female|60s|  Korea|   Seoul|   Gangbuk-gu|contact with patient| 1000000111|          null|        2020-02-24|2020-03-06 00:00:00|               null|         null|released|\n",
            "|1000000114|female|20s|  Korea|   Seoul| Yangcheon-gu|contact with patient| 1000000115|          null|              null|2020-03-07 00:00:00|               null|         null|released|\n",
            "|1000000121|female| 0s|  Korea|   Seoul|Dongdaemun-gu|contact with patient| 1000000120|          null|        2020-03-04|2020-03-08 00:00:00|               null|         null|released|\n",
            "|1000000126|female|30s|  Korea|   Seoul|Dongdaemun-gu|contact with patient| 1000000120|          null|        2020-03-04|2020-03-08 00:00:00|               null|         null|released|\n",
            "|1000000129|female|60s|  Korea|   Seoul|Dongdaemun-gu|contact with patient| 1000000120|          null|              null|2020-03-08 00:00:00|               null|         null|released|\n",
            "+----------+------+---+-------+--------+-------------+--------------------+-----------+--------------+------------------+-------------------+-------------------+-------------+--------+\n",
            "only showing top 20 rows\n",
            "\n"
          ]
        }
      ]
    },
    {
      "cell_type": "code",
      "source": [
        "#limpiar de nulos\n",
        "contagiados.filter((col('sex') == 'female') & (col('sex').isNotNull())).show()"
      ],
      "metadata": {
        "colab": {
          "base_uri": "https://localhost:8080/"
        },
        "id": "C2YhZdvSKXO-",
        "outputId": "b5b44322-e275-47ac-f46a-d65a1b171ad9"
      },
      "execution_count": 70,
      "outputs": [
        {
          "output_type": "stream",
          "name": "stdout",
          "text": [
            "+----------+------+---+-------+--------+-------------+--------------------+-----------+--------------+------------------+-------------------+-------------------+-------------+--------+\n",
            "|patient_id|   sex|age|country|province|         city|      infection_case|infected_by|contact_number|symptom_onset_date|     confirmed_date|      released_date|deceased_date|   state|\n",
            "+----------+------+---+-------+--------+-------------+--------------------+-----------+--------------+------------------+-------------------+-------------------+-------------+--------+\n",
            "|1000000005|female|20s|  Korea|   Seoul|  Seongbuk-gu|contact with patient| 1000000002|             2|              null|2020-01-31 00:00:00|2020-02-24 00:00:00|         null|released|\n",
            "|1000000006|female|50s|  Korea|   Seoul|    Jongno-gu|contact with patient| 1000000003|            43|              null|2020-01-31 00:00:00|2020-02-19 00:00:00|         null|released|\n",
            "|1000000010|female|60s|  Korea|   Seoul|  Seongbuk-gu|contact with patient| 1000000003|             6|              null|2020-02-05 00:00:00|2020-02-29 00:00:00|         null|released|\n",
            "|1000000014|female|60s|  Korea|   Seoul|    Jongno-gu|contact with patient| 1000000013|            27|        2020-02-06|2020-02-16 00:00:00|2020-03-12 00:00:00|         null|released|\n",
            "|1000000019|female|70s|  Korea|   Seoul|    Jongno-gu|contact with patient| 1000000021|          null|              null|2020-02-20 00:00:00|2020-03-08 00:00:00|         null|released|\n",
            "|1000000020|female|70s|  Korea|   Seoul| Seongdong-gu|    Seongdong-gu APT| 1000000015|          null|              null|2020-02-20 00:00:00|               null|         null|released|\n",
            "|1000000029|female|20s|  Korea|   Seoul|    Jongno-gu|Eunpyeong St. Mar...| 1000000028|          null|        2020-02-11|2020-02-26 00:00:00|2020-03-11 00:00:00|         null|released|\n",
            "|1000000033|female|50s|  Korea|   Seoul|    Songpa-gu|contact with patient| 1000000031|          null|              null|2020-02-24 00:00:00|2020-03-10 00:00:00|         null|released|\n",
            "|1000000037|female|40s|  Korea|   Seoul|    Songpa-gu|contact with patient| 1000000031|          null|              null|2020-02-25 00:00:00|2020-03-11 00:00:00|         null|released|\n",
            "|1000000040|female|60s|  Korea|   Seoul|    Gwanak-gu|     overseas inflow| 1500000002|          null|              null|2020-02-25 00:00:00|               null|         null|released|\n",
            "|1000000046|female|20s|  Korea|   Seoul|          etc|contact with patient| 1000000041|          null|              null|2020-02-26 00:00:00|2020-03-03 00:00:00|         null|released|\n",
            "|1000000053|female|40s|  Korea|   Seoul| Eunpyeong-gu|Eunpyeong St. Mar...| 1000000054|          null|        2020-02-25|2020-02-27 00:00:00|2020-03-17 00:00:00|         null|released|\n",
            "|1000000059|female|60s|  Korea|   Seoul| Eunpyeong-gu|Eunpyeong St. Mar...| 1000000060|          null|              null|2020-02-28 00:00:00|               null|         null|released|\n",
            "|1000000064|female|30s|  Korea|   Seoul|   Gangnam-gu|contact with patient| 1000000047|          null|        2020-02-26|2020-02-29 00:00:00|2020-03-04 00:00:00|         null|released|\n",
            "|1000000067|female|20s|  Korea|   Seoul|    Songpa-gu|contact with patient| 1000000033|          null|              null|2020-02-29 00:00:00|               null|         null|released|\n",
            "|1000000113|female|60s|  Korea|   Seoul|   Gangbuk-gu|contact with patient| 1000000111|          null|        2020-02-24|2020-03-06 00:00:00|               null|         null|released|\n",
            "|1000000114|female|20s|  Korea|   Seoul| Yangcheon-gu|contact with patient| 1000000115|          null|              null|2020-03-07 00:00:00|               null|         null|released|\n",
            "|1000000121|female| 0s|  Korea|   Seoul|Dongdaemun-gu|contact with patient| 1000000120|          null|        2020-03-04|2020-03-08 00:00:00|               null|         null|released|\n",
            "|1000000126|female|30s|  Korea|   Seoul|Dongdaemun-gu|contact with patient| 1000000120|          null|        2020-03-04|2020-03-08 00:00:00|               null|         null|released|\n",
            "|1000000129|female|60s|  Korea|   Seoul|Dongdaemun-gu|contact with patient| 1000000120|          null|              null|2020-03-08 00:00:00|               null|         null|released|\n",
            "+----------+------+---+-------+--------+-------------+--------------------+-----------+--------------+------------------+-------------------+-------------------+-------------+--------+\n",
            "only showing top 20 rows\n",
            "\n"
          ]
        }
      ]
    },
    {
      "cell_type": "code",
      "source": [
        "# Eliminar released - deceased \n",
        "contagiados.filter((col('sex') == 'female') & (col('sex').isNotNull())).drop('released_date','deceased_date').show()"
      ],
      "metadata": {
        "colab": {
          "base_uri": "https://localhost:8080/"
        },
        "id": "8god1kF6K2Rc",
        "outputId": "b0d5f057-5f66-4c3a-debc-c032fc2b669c"
      },
      "execution_count": 71,
      "outputs": [
        {
          "output_type": "stream",
          "name": "stdout",
          "text": [
            "+----------+------+---+-------+--------+-------------+--------------------+-----------+--------------+------------------+-------------------+--------+\n",
            "|patient_id|   sex|age|country|province|         city|      infection_case|infected_by|contact_number|symptom_onset_date|     confirmed_date|   state|\n",
            "+----------+------+---+-------+--------+-------------+--------------------+-----------+--------------+------------------+-------------------+--------+\n",
            "|1000000005|female|20s|  Korea|   Seoul|  Seongbuk-gu|contact with patient| 1000000002|             2|              null|2020-01-31 00:00:00|released|\n",
            "|1000000006|female|50s|  Korea|   Seoul|    Jongno-gu|contact with patient| 1000000003|            43|              null|2020-01-31 00:00:00|released|\n",
            "|1000000010|female|60s|  Korea|   Seoul|  Seongbuk-gu|contact with patient| 1000000003|             6|              null|2020-02-05 00:00:00|released|\n",
            "|1000000014|female|60s|  Korea|   Seoul|    Jongno-gu|contact with patient| 1000000013|            27|        2020-02-06|2020-02-16 00:00:00|released|\n",
            "|1000000019|female|70s|  Korea|   Seoul|    Jongno-gu|contact with patient| 1000000021|          null|              null|2020-02-20 00:00:00|released|\n",
            "|1000000020|female|70s|  Korea|   Seoul| Seongdong-gu|    Seongdong-gu APT| 1000000015|          null|              null|2020-02-20 00:00:00|released|\n",
            "|1000000029|female|20s|  Korea|   Seoul|    Jongno-gu|Eunpyeong St. Mar...| 1000000028|          null|        2020-02-11|2020-02-26 00:00:00|released|\n",
            "|1000000033|female|50s|  Korea|   Seoul|    Songpa-gu|contact with patient| 1000000031|          null|              null|2020-02-24 00:00:00|released|\n",
            "|1000000037|female|40s|  Korea|   Seoul|    Songpa-gu|contact with patient| 1000000031|          null|              null|2020-02-25 00:00:00|released|\n",
            "|1000000040|female|60s|  Korea|   Seoul|    Gwanak-gu|     overseas inflow| 1500000002|          null|              null|2020-02-25 00:00:00|released|\n",
            "|1000000046|female|20s|  Korea|   Seoul|          etc|contact with patient| 1000000041|          null|              null|2020-02-26 00:00:00|released|\n",
            "|1000000053|female|40s|  Korea|   Seoul| Eunpyeong-gu|Eunpyeong St. Mar...| 1000000054|          null|        2020-02-25|2020-02-27 00:00:00|released|\n",
            "|1000000059|female|60s|  Korea|   Seoul| Eunpyeong-gu|Eunpyeong St. Mar...| 1000000060|          null|              null|2020-02-28 00:00:00|released|\n",
            "|1000000064|female|30s|  Korea|   Seoul|   Gangnam-gu|contact with patient| 1000000047|          null|        2020-02-26|2020-02-29 00:00:00|released|\n",
            "|1000000067|female|20s|  Korea|   Seoul|    Songpa-gu|contact with patient| 1000000033|          null|              null|2020-02-29 00:00:00|released|\n",
            "|1000000113|female|60s|  Korea|   Seoul|   Gangbuk-gu|contact with patient| 1000000111|          null|        2020-02-24|2020-03-06 00:00:00|released|\n",
            "|1000000114|female|20s|  Korea|   Seoul| Yangcheon-gu|contact with patient| 1000000115|          null|              null|2020-03-07 00:00:00|released|\n",
            "|1000000121|female| 0s|  Korea|   Seoul|Dongdaemun-gu|contact with patient| 1000000120|          null|        2020-03-04|2020-03-08 00:00:00|released|\n",
            "|1000000126|female|30s|  Korea|   Seoul|Dongdaemun-gu|contact with patient| 1000000120|          null|        2020-03-04|2020-03-08 00:00:00|released|\n",
            "|1000000129|female|60s|  Korea|   Seoul|Dongdaemun-gu|contact with patient| 1000000120|          null|              null|2020-03-08 00:00:00|released|\n",
            "+----------+------+---+-------+--------+-------------+--------------------+-----------+--------------+------------------+-------------------+--------+\n",
            "only showing top 20 rows\n",
            "\n"
          ]
        }
      ]
    },
    {
      "cell_type": "code",
      "source": [
        "final_df = contagiados.filter((col('sex') == 'female') & (col('sex').isNotNull())).drop('released_date','deceased_date')"
      ],
      "metadata": {
        "id": "H202dIH8LF7f"
      },
      "execution_count": 72,
      "outputs": []
    },
    {
      "cell_type": "code",
      "source": [
        "final_df.coalesce(2).write.partitionBy('province').mode('overwrite').parquet('./FinalEjercicio2')"
      ],
      "metadata": {
        "id": "H28eu6H4LSrN"
      },
      "execution_count": 76,
      "outputs": []
    },
    {
      "cell_type": "code",
      "source": [],
      "metadata": {
        "id": "fWQqa0l8LXlY"
      },
      "execution_count": null,
      "outputs": []
    }
  ]
}
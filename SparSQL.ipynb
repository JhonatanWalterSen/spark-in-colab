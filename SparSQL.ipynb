{
  "nbformat": 4,
  "nbformat_minor": 0,
  "metadata": {
    "colab": {
      "provenance": [],
      "authorship_tag": "ABX9TyN9dpXx6IEu9jRYbrJczstf",
      "include_colab_link": true
    },
    "kernelspec": {
      "name": "python3",
      "display_name": "Python 3"
    },
    "language_info": {
      "name": "python"
    }
  },
  "cells": [
    {
      "cell_type": "markdown",
      "metadata": {
        "id": "view-in-github",
        "colab_type": "text"
      },
      "source": [
        "<a href=\"https://colab.research.google.com/github/JhonatanWalterSen/spark-in-colab/blob/main/SparSQL.ipynb\" target=\"_parent\"><img src=\"https://colab.research.google.com/assets/colab-badge.svg\" alt=\"Open In Colab\"/></a>"
      ]
    },
    {
      "cell_type": "markdown",
      "source": [
        "# Creando DataFrames"
      ],
      "metadata": {
        "id": "W9SCPbqny4YQ"
      }
    },
    {
      "cell_type": "markdown",
      "source": [
        "# Instalaciones"
      ],
      "metadata": {
        "id": "C-Pfuus_v8ql"
      }
    },
    {
      "cell_type": "code",
      "execution_count": 1,
      "metadata": {
        "id": "KIiDU7_LN11y"
      },
      "outputs": [],
      "source": [
        "# Instalar Java 8 scas\n",
        "!apt-get install openjdk-8-jdk-headless -qq > /dev/null"
      ]
    },
    {
      "cell_type": "code",
      "source": [
        "# Descargar Spark\n",
        "!wget -q http://apache.osuosl.org/spark/spark-3.3.1/spark-3.3.1-bin-hadoop3.tgz"
      ],
      "metadata": {
        "id": "W420l22MwHAM"
      },
      "execution_count": 2,
      "outputs": []
    },
    {
      "cell_type": "code",
      "source": [
        "# Descomprimir Spart\n",
        "!tar xf spark-3.3.1-bin-hadoop3.tgz"
      ],
      "metadata": {
        "id": "EREKbkkJw9-b"
      },
      "execution_count": 3,
      "outputs": []
    },
    {
      "cell_type": "code",
      "source": [
        "# Establecer las variables de Entorno\n",
        "import os \n",
        "os.environ[\"JAVA_HOME\"] = \"/usr/lib/jvm/java-8-openjdk-amd64\"\n",
        "os.environ[\"SPARK_HOME\"] = \"/content/spark-3.3.1-bin-hadoop3\""
      ],
      "metadata": {
        "id": "9y8bb_dOw-e1"
      },
      "execution_count": 4,
      "outputs": []
    },
    {
      "cell_type": "code",
      "source": [
        "# Instalar FindSpark en el sistema\n",
        "!pip install -q findspark"
      ],
      "metadata": {
        "id": "kYaVDgf5xFPj"
      },
      "execution_count": 5,
      "outputs": []
    },
    {
      "cell_type": "code",
      "source": [
        "import findspark"
      ],
      "metadata": {
        "id": "CxqAaLHvxdRL"
      },
      "execution_count": 6,
      "outputs": []
    },
    {
      "cell_type": "code",
      "source": [
        "findspark.init()"
      ],
      "metadata": {
        "id": "NuX9lXraxp5j"
      },
      "execution_count": 7,
      "outputs": []
    },
    {
      "cell_type": "code",
      "source": [
        "from pyspark.sql import SparkSession\n",
        "spark = SparkSession.builder.appName('DataFrame').master('local[*]').getOrCreate()"
      ],
      "metadata": {
        "id": "CzZ45rk3xuMi"
      },
      "execution_count": 8,
      "outputs": []
    },
    {
      "cell_type": "code",
      "source": [
        "spark\n"
      ],
      "metadata": {
        "colab": {
          "base_uri": "https://localhost:8080/",
          "height": 219
        },
        "id": "XirW4wEAyFwr",
        "outputId": "a4dc32fa-de79-41e8-a1d2-c28bc8e03540"
      },
      "execution_count": 9,
      "outputs": [
        {
          "output_type": "execute_result",
          "data": {
            "text/plain": [
              "<pyspark.sql.session.SparkSession at 0x7f6732de8610>"
            ],
            "text/html": [
              "\n",
              "            <div>\n",
              "                <p><b>SparkSession - in-memory</b></p>\n",
              "                \n",
              "        <div>\n",
              "            <p><b>SparkContext</b></p>\n",
              "\n",
              "            <p><a href=\"http://2c2c37ec4c94:4040\">Spark UI</a></p>\n",
              "\n",
              "            <dl>\n",
              "              <dt>Version</dt>\n",
              "                <dd><code>v3.3.1</code></dd>\n",
              "              <dt>Master</dt>\n",
              "                <dd><code>local[*]</code></dd>\n",
              "              <dt>AppName</dt>\n",
              "                <dd><code>DataFrame</code></dd>\n",
              "            </dl>\n",
              "        </div>\n",
              "        \n",
              "            </div>\n",
              "        "
            ]
          },
          "metadata": {},
          "execution_count": 9
        }
      ]
    },
    {
      "cell_type": "code",
      "source": [
        "sc = spark.sparkContext"
      ],
      "metadata": {
        "id": "pwzBRwO4yx5r"
      },
      "execution_count": 10,
      "outputs": []
    },
    {
      "cell_type": "code",
      "source": [
        "rdd = sc.parallelize([item for item in range(10)]).map(lambda x: (x,x**2))"
      ],
      "metadata": {
        "id": "f3MnrpDdkvsy"
      },
      "execution_count": 11,
      "outputs": []
    },
    {
      "cell_type": "code",
      "source": [
        "rdd.collect()"
      ],
      "metadata": {
        "colab": {
          "base_uri": "https://localhost:8080/"
        },
        "id": "64sOaXlgkzhE",
        "outputId": "1c458474-6273-401b-d70d-5946a311b284"
      },
      "execution_count": 12,
      "outputs": [
        {
          "output_type": "execute_result",
          "data": {
            "text/plain": [
              "[(0, 0),\n",
              " (1, 1),\n",
              " (2, 4),\n",
              " (3, 9),\n",
              " (4, 16),\n",
              " (5, 25),\n",
              " (6, 36),\n",
              " (7, 49),\n",
              " (8, 64),\n",
              " (9, 81)]"
            ]
          },
          "metadata": {},
          "execution_count": 12
        }
      ]
    },
    {
      "cell_type": "code",
      "source": [
        "df = rdd.toDF(['numero','cuadrado'])"
      ],
      "metadata": {
        "id": "_OSZOQ-LoacO"
      },
      "execution_count": 13,
      "outputs": []
    },
    {
      "cell_type": "code",
      "source": [
        "df.printSchema()"
      ],
      "metadata": {
        "colab": {
          "base_uri": "https://localhost:8080/"
        },
        "id": "iAMW1mLAopDG",
        "outputId": "baa2e25f-8f92-49e3-dd63-e7e267acd93f"
      },
      "execution_count": 14,
      "outputs": [
        {
          "output_type": "stream",
          "name": "stdout",
          "text": [
            "root\n",
            " |-- numero: long (nullable = true)\n",
            " |-- cuadrado: long (nullable = true)\n",
            "\n"
          ]
        }
      ]
    },
    {
      "cell_type": "code",
      "source": [
        "df.show()"
      ],
      "metadata": {
        "colab": {
          "base_uri": "https://localhost:8080/"
        },
        "id": "w7_srkutpAKe",
        "outputId": "75bd97e8-a0c0-4512-b755-6a73a52517f0"
      },
      "execution_count": 15,
      "outputs": [
        {
          "output_type": "stream",
          "name": "stdout",
          "text": [
            "+------+--------+\n",
            "|numero|cuadrado|\n",
            "+------+--------+\n",
            "|     0|       0|\n",
            "|     1|       1|\n",
            "|     2|       4|\n",
            "|     3|       9|\n",
            "|     4|      16|\n",
            "|     5|      25|\n",
            "|     6|      36|\n",
            "|     7|      49|\n",
            "|     8|      64|\n",
            "|     9|      81|\n",
            "+------+--------+\n",
            "\n"
          ]
        }
      ]
    },
    {
      "cell_type": "markdown",
      "source": [
        "crear un dataframe a partir de un rdd con schema"
      ],
      "metadata": {
        "id": "inZu5HGjp_gV"
      }
    },
    {
      "cell_type": "code",
      "source": [
        "rdd1 = sc.parallelize([(1,'jose',35.5),(2,'Teresa',54.2),(3,'Karl',12.7)])"
      ],
      "metadata": {
        "id": "lbYrBYTSqCx1"
      },
      "execution_count": 16,
      "outputs": []
    },
    {
      "cell_type": "markdown",
      "source": [
        "importar"
      ],
      "metadata": {
        "id": "9OjVc1JMqlOG"
      }
    },
    {
      "cell_type": "code",
      "source": [
        "from pyspark.sql.types import StructType, StructField, IntegerType, StringType, DoubleType"
      ],
      "metadata": {
        "id": "nVTvgoqzqmVE"
      },
      "execution_count": 13,
      "outputs": []
    },
    {
      "cell_type": "code",
      "source": [
        "# Via uno\n",
        "\n",
        "esquema1 = StructType(\n",
        "    [\n",
        "        StructField('id', IntegerType(),True),\n",
        "        StructField('nombre', StringType(),True),\n",
        "        StructField('saldo', DoubleType(),True),\n",
        "    ]\n",
        ")"
      ],
      "metadata": {
        "id": "Kp-Vbb44q9ns"
      },
      "execution_count": 18,
      "outputs": []
    },
    {
      "cell_type": "code",
      "source": [
        "# Via dos\n",
        "esquema2 = \"`id` INT, `nombre` STRING, `saldo` DOUBLE\""
      ],
      "metadata": {
        "id": "Tsg-x4ty2ztD"
      },
      "execution_count": 19,
      "outputs": []
    },
    {
      "cell_type": "code",
      "source": [
        "df1 = spark.createDataFrame(rdd1, schema=esquema1)"
      ],
      "metadata": {
        "id": "k_28qCfu6-aB"
      },
      "execution_count": 20,
      "outputs": []
    },
    {
      "cell_type": "code",
      "source": [
        "df1.printSchema()"
      ],
      "metadata": {
        "colab": {
          "base_uri": "https://localhost:8080/"
        },
        "id": "ArzTJSEH7V__",
        "outputId": "b1a0ff57-da69-404d-d02c-3b161d9fbfc2"
      },
      "execution_count": 21,
      "outputs": [
        {
          "output_type": "stream",
          "name": "stdout",
          "text": [
            "root\n",
            " |-- id: integer (nullable = true)\n",
            " |-- nombre: string (nullable = true)\n",
            " |-- saldo: double (nullable = true)\n",
            "\n"
          ]
        }
      ]
    },
    {
      "cell_type": "code",
      "source": [
        "df1.show()"
      ],
      "metadata": {
        "colab": {
          "base_uri": "https://localhost:8080/"
        },
        "id": "hmTaKrVa7YNR",
        "outputId": "655389c6-9765-49f9-ad18-724feffaa55f"
      },
      "execution_count": 22,
      "outputs": [
        {
          "output_type": "stream",
          "name": "stdout",
          "text": [
            "+---+------+-----+\n",
            "| id|nombre|saldo|\n",
            "+---+------+-----+\n",
            "|  1|  jose| 35.5|\n",
            "|  2|Teresa| 54.2|\n",
            "|  3|  Karl| 12.7|\n",
            "+---+------+-----+\n",
            "\n"
          ]
        }
      ]
    },
    {
      "cell_type": "code",
      "source": [
        "df2 = spark.createDataFrame(rdd1, schema=esquema2)"
      ],
      "metadata": {
        "id": "RvOFrnQQ8Sbg"
      },
      "execution_count": 23,
      "outputs": []
    },
    {
      "cell_type": "code",
      "source": [
        "df2.printSchema()"
      ],
      "metadata": {
        "colab": {
          "base_uri": "https://localhost:8080/"
        },
        "id": "N9Pu3RCk9cvz",
        "outputId": "b4c31455-3e0a-4379-f4a1-5037ba3fb482"
      },
      "execution_count": 24,
      "outputs": [
        {
          "output_type": "stream",
          "name": "stdout",
          "text": [
            "root\n",
            " |-- id: integer (nullable = true)\n",
            " |-- nombre: string (nullable = true)\n",
            " |-- saldo: double (nullable = true)\n",
            "\n"
          ]
        }
      ]
    },
    {
      "cell_type": "code",
      "source": [
        "df2.show()"
      ],
      "metadata": {
        "colab": {
          "base_uri": "https://localhost:8080/"
        },
        "id": "ppGJQlaX9fwg",
        "outputId": "875ab797-d1a4-4e00-ff77-a723c0fff29a"
      },
      "execution_count": 26,
      "outputs": [
        {
          "output_type": "stream",
          "name": "stdout",
          "text": [
            "+---+------+-----+\n",
            "| id|nombre|saldo|\n",
            "+---+------+-----+\n",
            "|  1|  jose| 35.5|\n",
            "|  2|Teresa| 54.2|\n",
            "|  3|  Karl| 12.7|\n",
            "+---+------+-----+\n",
            "\n"
          ]
        }
      ]
    },
    {
      "cell_type": "markdown",
      "source": [
        "Crear DataFrame a partir de fuentes de datos"
      ],
      "metadata": {
        "id": "gMJG2onBYFQs"
      }
    },
    {
      "cell_type": "markdown",
      "source": [
        "TXT"
      ],
      "metadata": {
        "id": "Y7zbJhc5J8UK"
      }
    },
    {
      "cell_type": "code",
      "source": [
        "df = spark.read.text('./dataTXT.txt')"
      ],
      "metadata": {
        "id": "S12nDobV9hao"
      },
      "execution_count": 27,
      "outputs": []
    },
    {
      "cell_type": "code",
      "source": [
        "df.show()"
      ],
      "metadata": {
        "colab": {
          "base_uri": "https://localhost:8080/"
        },
        "id": "NpwLesvtJohH",
        "outputId": "640d95c7-37a8-49e6-90bf-d53aceebec1f"
      },
      "execution_count": 28,
      "outputs": [
        {
          "output_type": "stream",
          "name": "stdout",
          "text": [
            "+--------------------+\n",
            "|               value|\n",
            "+--------------------+\n",
            "|Estamos en el cur...|\n",
            "|En este capítulo ...|\n",
            "|En esta sección e...|\n",
            "|y en este ejemplo...|\n",
            "+--------------------+\n",
            "\n"
          ]
        }
      ]
    },
    {
      "cell_type": "code",
      "source": [
        "df.show(truncate=False)"
      ],
      "metadata": {
        "colab": {
          "base_uri": "https://localhost:8080/"
        },
        "id": "8jPvLyWuJpzW",
        "outputId": "626e98aa-11b6-4308-d1d6-69edb2570f8f"
      },
      "execution_count": 30,
      "outputs": [
        {
          "output_type": "stream",
          "name": "stdout",
          "text": [
            "+-----------------------------------------------------------------------+\n",
            "|value                                                                  |\n",
            "+-----------------------------------------------------------------------+\n",
            "|Estamos en el curso de pyspark                                         |\n",
            "|En este capítulo estamos estudiando el API SQL de Saprk                |\n",
            "|En esta sección estamos creado dataframes a partir de fuentes de datos,|\n",
            "|y en este ejemplo creamos un dataframe a partir de un texto plano      |\n",
            "+-----------------------------------------------------------------------+\n",
            "\n"
          ]
        }
      ]
    },
    {
      "cell_type": "markdown",
      "source": [
        "CSV"
      ],
      "metadata": {
        "id": "4BV-o194J92M"
      }
    },
    {
      "cell_type": "code",
      "source": [
        "df1=spark.read.csv('./dataCSV.csv')"
      ],
      "metadata": {
        "id": "z3l2pKwMJyQF"
      },
      "execution_count": 31,
      "outputs": []
    },
    {
      "cell_type": "code",
      "source": [
        "df1.show()"
      ],
      "metadata": {
        "colab": {
          "base_uri": "https://localhost:8080/"
        },
        "id": "OT9xj1tvKFDt",
        "outputId": "540c66bd-6085-4052-ac1a-a2fc4d0297b9"
      },
      "execution_count": 32,
      "outputs": [
        {
          "output_type": "stream",
          "name": "stdout",
          "text": [
            "+-----------+-------------+--------------------+--------------------+-----------+--------------------+--------------------+-------+------+--------+-------------+--------------------+-----------------+----------------+--------------------+--------------------+\n",
            "|        _c0|          _c1|                 _c2|                 _c3|        _c4|                 _c5|                 _c6|    _c7|   _c8|     _c9|         _c10|                _c11|             _c12|            _c13|                _c14|                _c15|\n",
            "+-----------+-------------+--------------------+--------------------+-----------+--------------------+--------------------+-------+------+--------+-------------+--------------------+-----------------+----------------+--------------------+--------------------+\n",
            "|   video_id|trending_date|               title|       channel_title|category_id|        publish_time|                tags|  views| likes|dislikes|comment_count|      thumbnail_link|comments_disabled|ratings_disabled|video_error_or_re...|         description|\n",
            "|2kyS6SvSYSE|     17.14.11|WE WANT TO TALK A...|        CaseyNeistat|         22|2017-11-13T17:13:...|     SHANtell martin| 748374| 57527|    2966|        15954|https://i.ytimg.c...|            False|           False|               False|SHANTELL'S CHANNE...|\n",
            "|1ZAPwfrtAFY|     17.14.11|The Trump Preside...|     LastWeekTonight|         24|2017-11-13T07:30:...|\"last week tonigh...|2418783| 97185|    6146|        12703|https://i.ytimg.c...|            False|           False|               False|One year after th...|\n",
            "|5qpjK5DgCt4|     17.14.11|Racist Superman |...|        Rudy Mancuso|         23|2017-11-12T19:05:...|\"racist superman\"...|3191434|146033|    5339|         8181|https://i.ytimg.c...|            False|           False|               False|WATCH MY PREVIOUS...|\n",
            "|puqaWrEC7tY|     17.14.11|Nickelback Lyrics...|Good Mythical Mor...|         24|2017-11-13T11:00:...|\"rhett and link\"|...| 343168| 10172|     666|         2146|https://i.ytimg.c...|            False|           False|               False|Today we find out...|\n",
            "|d380meD0W0M|     17.14.11|I Dare You: GOING...|            nigahiga|         24|2017-11-12T18:01:...|\"ryan\"|\"higa\"|\"hi...|2095731|132235|    1989|        17518|https://i.ytimg.c...|            False|           False|               False|I know it's been ...|\n",
            "|gHZ1Qz0KiKM|     17.14.11|2 Weeks with iPho...|            iJustine|         28|2017-11-13T19:07:...|\"ijustine\"|\"week ...| 119180|  9763|     511|         1434|https://i.ytimg.c...|            False|           False|               False|Using the iPhone ...|\n",
            "|39idVpFF7NQ|     17.14.11|Roy Moore & Jeff ...| Saturday Night Live|         24|2017-11-12T05:37:...|\"SNL\"|\"Saturday N...|2103417| 15993|    2445|         1970|https://i.ytimg.c...|            False|           False|               False|Embattled Alabama...|\n",
            "|nc99ccSXST0|     17.14.11|5 Ice Cream Gadge...|  CrazyRussianHacker|         28|2017-11-12T21:50:...|\"5 Ice Cream Gadg...| 817732| 23663|     778|         3432|https://i.ytimg.c...|            False|           False|               False|Ice Cream Pint Co...|\n",
            "|jr9QtXwC9vc|     17.14.11|The Greatest Show...|    20th Century Fox|          1|2017-11-13T14:00:...|\"Trailer\"|\"Hugh J...| 826059|  3543|     119|          340|https://i.ytimg.c...|            False|           False|               False|Inspired by the i...|\n",
            "|TUmyygCMMGA|     17.14.11|Why the rise of t...|                 Vox|         25|2017-11-13T13:45:...|\"vox.com\"|\"vox\"|\"...| 256426| 12654|    1363|         2368|https://i.ytimg.c...|            False|           False|               False|For now, at least...|\n",
            "|9wRQljFNDW8|     17.14.11|Dion Lewis' 103-Y...|                 NFL|         17|2017-11-13T02:05:...|\"NFL\"|\"Football\"|...|  81377|   655|      25|          177|https://i.ytimg.c...|            False|           False|               False|New England Patri...|\n",
            "|VifQlJit6A0|     17.14.11|(SPOILERS) 'Shiva...|                 amc|         24|2017-11-13T03:00:...|\"The Walking Dead...| 104578|  1576|     303|         1279|https://i.ytimg.c...|            False|           False|               False|Shiva arrives jus...|\n",
            "|5E4ZBSInqUU|     17.14.11|Marshmello - Bloc...|          marshmello|         10|2017-11-13T17:00:...|\"marshmello\"|\"blo...| 687582|114188|    1333|         8371|https://i.ytimg.c...|            False|           False|               False|WATCH SILENCE MUS...|\n",
            "|GgVmn66oK_A|     17.14.11|Which Countries A...|       NowThis World|         25|2017-11-12T14:00:...|\"nowthis\"|\"nowthi...| 544770|  7848|    1171|         3981|https://i.ytimg.c...|            False|           False|               False|The world at larg...|\n",
            "|TaTleo4cOs8|     17.14.11|SHOPPING FOR NEW ...|     The king of DIY|         15|2017-11-12T18:30:...|\"shopping for new...| 207532|  7473|     246|         2120|https://i.ytimg.c...|            False|           False|               False|Today we go shopp...|\n",
            "|kgaO45SyaO4|     17.14.11|    The New SpotMini|      BostonDynamics|         28|2017-11-13T20:09:...|\"Robots\"|\"Boston ...|  75752|  9419|      52|         1230|https://i.ytimg.c...|            False|           False|               False|For more informat...|\n",
            "|ZAQs-ctOqXQ|     17.14.11|One Change That W...|             Cracked|         23|2017-11-12T17:00:...|\"pacific rim\"|\"pa...| 295639|  8011|     638|         1256|https://i.ytimg.c...|            False|           False|               False|Pacific Rim was s...|\n",
            "|YVfyYrEmzgM|     17.14.11|How does your bod...|              TED-Ed|         27|2017-11-13T16:00:...|\"TED\"|\"TED-Ed\"|\"T...|  78044|  5398|      53|          385|https://i.ytimg.c...|            False|           False|               False|Check out our Pat...|\n",
            "|eNSN6qet1kE|     17.14.11|HomeMade Electric...|         PeterSripol|         28|2017-11-13T15:30:...|\"ultralight\"|\"air...|  97007| 11963|      36|         2211|https://i.ytimg.c...|            False|           False|               False|aaaannnd now to f...|\n",
            "+-----------+-------------+--------------------+--------------------+-----------+--------------------+--------------------+-------+------+--------+-------------+--------------------+-----------------+----------------+--------------------+--------------------+\n",
            "only showing top 20 rows\n",
            "\n"
          ]
        }
      ]
    },
    {
      "cell_type": "code",
      "source": [
        "df1 = spark.read.option('header','true').csv('./dataCSV.csv')"
      ],
      "metadata": {
        "id": "rtLf740MKG7A"
      },
      "execution_count": 34,
      "outputs": []
    },
    {
      "cell_type": "code",
      "source": [
        "df1.show()"
      ],
      "metadata": {
        "colab": {
          "base_uri": "https://localhost:8080/"
        },
        "id": "LxKlSkhrNaIC",
        "outputId": "fc09fe7d-7cb6-4bdd-d193-b3c82e67c635"
      },
      "execution_count": 35,
      "outputs": [
        {
          "output_type": "stream",
          "name": "stdout",
          "text": [
            "+-----------+-------------+--------------------+--------------------+-----------+--------------------+--------------------+-------+------+--------+-------------+--------------------+-----------------+----------------+----------------------+--------------------+\n",
            "|   video_id|trending_date|               title|       channel_title|category_id|        publish_time|                tags|  views| likes|dislikes|comment_count|      thumbnail_link|comments_disabled|ratings_disabled|video_error_or_removed|         description|\n",
            "+-----------+-------------+--------------------+--------------------+-----------+--------------------+--------------------+-------+------+--------+-------------+--------------------+-----------------+----------------+----------------------+--------------------+\n",
            "|2kyS6SvSYSE|     17.14.11|WE WANT TO TALK A...|        CaseyNeistat|         22|2017-11-13T17:13:...|     SHANtell martin| 748374| 57527|    2966|        15954|https://i.ytimg.c...|            False|           False|                 False|SHANTELL'S CHANNE...|\n",
            "|1ZAPwfrtAFY|     17.14.11|The Trump Preside...|     LastWeekTonight|         24|2017-11-13T07:30:...|\"last week tonigh...|2418783| 97185|    6146|        12703|https://i.ytimg.c...|            False|           False|                 False|One year after th...|\n",
            "|5qpjK5DgCt4|     17.14.11|Racist Superman |...|        Rudy Mancuso|         23|2017-11-12T19:05:...|\"racist superman\"...|3191434|146033|    5339|         8181|https://i.ytimg.c...|            False|           False|                 False|WATCH MY PREVIOUS...|\n",
            "|puqaWrEC7tY|     17.14.11|Nickelback Lyrics...|Good Mythical Mor...|         24|2017-11-13T11:00:...|\"rhett and link\"|...| 343168| 10172|     666|         2146|https://i.ytimg.c...|            False|           False|                 False|Today we find out...|\n",
            "|d380meD0W0M|     17.14.11|I Dare You: GOING...|            nigahiga|         24|2017-11-12T18:01:...|\"ryan\"|\"higa\"|\"hi...|2095731|132235|    1989|        17518|https://i.ytimg.c...|            False|           False|                 False|I know it's been ...|\n",
            "|gHZ1Qz0KiKM|     17.14.11|2 Weeks with iPho...|            iJustine|         28|2017-11-13T19:07:...|\"ijustine\"|\"week ...| 119180|  9763|     511|         1434|https://i.ytimg.c...|            False|           False|                 False|Using the iPhone ...|\n",
            "|39idVpFF7NQ|     17.14.11|Roy Moore & Jeff ...| Saturday Night Live|         24|2017-11-12T05:37:...|\"SNL\"|\"Saturday N...|2103417| 15993|    2445|         1970|https://i.ytimg.c...|            False|           False|                 False|Embattled Alabama...|\n",
            "|nc99ccSXST0|     17.14.11|5 Ice Cream Gadge...|  CrazyRussianHacker|         28|2017-11-12T21:50:...|\"5 Ice Cream Gadg...| 817732| 23663|     778|         3432|https://i.ytimg.c...|            False|           False|                 False|Ice Cream Pint Co...|\n",
            "|jr9QtXwC9vc|     17.14.11|The Greatest Show...|    20th Century Fox|          1|2017-11-13T14:00:...|\"Trailer\"|\"Hugh J...| 826059|  3543|     119|          340|https://i.ytimg.c...|            False|           False|                 False|Inspired by the i...|\n",
            "|TUmyygCMMGA|     17.14.11|Why the rise of t...|                 Vox|         25|2017-11-13T13:45:...|\"vox.com\"|\"vox\"|\"...| 256426| 12654|    1363|         2368|https://i.ytimg.c...|            False|           False|                 False|For now, at least...|\n",
            "|9wRQljFNDW8|     17.14.11|Dion Lewis' 103-Y...|                 NFL|         17|2017-11-13T02:05:...|\"NFL\"|\"Football\"|...|  81377|   655|      25|          177|https://i.ytimg.c...|            False|           False|                 False|New England Patri...|\n",
            "|VifQlJit6A0|     17.14.11|(SPOILERS) 'Shiva...|                 amc|         24|2017-11-13T03:00:...|\"The Walking Dead...| 104578|  1576|     303|         1279|https://i.ytimg.c...|            False|           False|                 False|Shiva arrives jus...|\n",
            "|5E4ZBSInqUU|     17.14.11|Marshmello - Bloc...|          marshmello|         10|2017-11-13T17:00:...|\"marshmello\"|\"blo...| 687582|114188|    1333|         8371|https://i.ytimg.c...|            False|           False|                 False|WATCH SILENCE MUS...|\n",
            "|GgVmn66oK_A|     17.14.11|Which Countries A...|       NowThis World|         25|2017-11-12T14:00:...|\"nowthis\"|\"nowthi...| 544770|  7848|    1171|         3981|https://i.ytimg.c...|            False|           False|                 False|The world at larg...|\n",
            "|TaTleo4cOs8|     17.14.11|SHOPPING FOR NEW ...|     The king of DIY|         15|2017-11-12T18:30:...|\"shopping for new...| 207532|  7473|     246|         2120|https://i.ytimg.c...|            False|           False|                 False|Today we go shopp...|\n",
            "|kgaO45SyaO4|     17.14.11|    The New SpotMini|      BostonDynamics|         28|2017-11-13T20:09:...|\"Robots\"|\"Boston ...|  75752|  9419|      52|         1230|https://i.ytimg.c...|            False|           False|                 False|For more informat...|\n",
            "|ZAQs-ctOqXQ|     17.14.11|One Change That W...|             Cracked|         23|2017-11-12T17:00:...|\"pacific rim\"|\"pa...| 295639|  8011|     638|         1256|https://i.ytimg.c...|            False|           False|                 False|Pacific Rim was s...|\n",
            "|YVfyYrEmzgM|     17.14.11|How does your bod...|              TED-Ed|         27|2017-11-13T16:00:...|\"TED\"|\"TED-Ed\"|\"T...|  78044|  5398|      53|          385|https://i.ytimg.c...|            False|           False|                 False|Check out our Pat...|\n",
            "|eNSN6qet1kE|     17.14.11|HomeMade Electric...|         PeterSripol|         28|2017-11-13T15:30:...|\"ultralight\"|\"air...|  97007| 11963|      36|         2211|https://i.ytimg.c...|            False|           False|                 False|aaaannnd now to f...|\n",
            "|B5HORANmzHw|     17.14.11|Founding An Inbre...|             SciShow|         27|2017-11-12T22:00:...|\"SciShow\"|\"scienc...| 223871|  8421|     191|         1214|https://i.ytimg.c...|            False|           False|                 False|Thanks to 23AndMe...|\n",
            "+-----------+-------------+--------------------+--------------------+-----------+--------------------+--------------------+-------+------+--------+-------------+--------------------+-----------------+----------------+----------------------+--------------------+\n",
            "only showing top 20 rows\n",
            "\n"
          ]
        }
      ]
    },
    {
      "cell_type": "markdown",
      "source": [
        "LEER ARCHIVOS DE TEXTO CON UN DELIMITADOR DIFERENTE"
      ],
      "metadata": {
        "id": "6wslEAnHS-Ad"
      }
    },
    {
      "cell_type": "code",
      "source": [
        "df2 = spark.read.option('header','true').option('delimiter','|').csv('./dataTab.txt')"
      ],
      "metadata": {
        "id": "sxpNRpwxNg9Q"
      },
      "execution_count": 38,
      "outputs": []
    },
    {
      "cell_type": "code",
      "source": [
        "df2.show()"
      ],
      "metadata": {
        "colab": {
          "base_uri": "https://localhost:8080/"
        },
        "id": "SW7mVoyOTSPQ",
        "outputId": "33d788b1-b137-4c00-a63a-1078d1747710"
      },
      "execution_count": 39,
      "outputs": [
        {
          "output_type": "stream",
          "name": "stdout",
          "text": [
            "+----+----+----------+-----+\n",
            "|pais|edad|     fecha|color|\n",
            "+----+----+----------+-----+\n",
            "|  MX|  23|2021-02-21| rojo|\n",
            "|  CA|  56|2021-06-10| azul|\n",
            "|  US|  32|2020-06-02|verde|\n",
            "+----+----+----------+-----+\n",
            "\n"
          ]
        }
      ]
    },
    {
      "cell_type": "markdown",
      "source": [
        "CREAR UN DATAFRAME A PARTIR DE UN JSON PROPORCIONANDO UN SCHEMA"
      ],
      "metadata": {
        "id": "Al3f5lA0TfR7"
      }
    },
    {
      "cell_type": "code",
      "source": [
        "from pyspark.sql.types import StructType, StructField, StringType, IntegerType, DateType\n",
        "\n",
        "json_schema = StructType(\n",
        "    [\n",
        "        StructField('color', StringType(),True),\n",
        "        StructField('edad', StringType(), True),\n",
        "        StructField('fecha', DateType(), True),\n",
        "        StructField('pais', StringType(), True)\n",
        "    ]\n",
        ")"
      ],
      "metadata": {
        "id": "ihxYK99TTUuV"
      },
      "execution_count": 40,
      "outputs": []
    },
    {
      "cell_type": "code",
      "source": [
        "df4 = spark.read.schema(json_schema).json('./dataJSON.json')"
      ],
      "metadata": {
        "id": "jGE8UGKgY9Ed"
      },
      "execution_count": 41,
      "outputs": []
    },
    {
      "cell_type": "code",
      "source": [
        "df4.show()"
      ],
      "metadata": {
        "colab": {
          "base_uri": "https://localhost:8080/"
        },
        "id": "JwwaOZxRcV_4",
        "outputId": "8f28ead6-6f0d-41f6-c31e-6cba8c166ca1"
      },
      "execution_count": 42,
      "outputs": [
        {
          "output_type": "stream",
          "name": "stdout",
          "text": [
            "+-----+----+----------+----+\n",
            "|color|edad|     fecha|pais|\n",
            "+-----+----+----------+----+\n",
            "| rojo|  23|2021-02-21|  MX|\n",
            "| azul|  56|2021-06-10|  CA|\n",
            "|verde|  32|2020-06-02|  US|\n",
            "+-----+----+----------+----+\n",
            "\n"
          ]
        }
      ]
    },
    {
      "cell_type": "code",
      "source": [
        "df4.printSchema()"
      ],
      "metadata": {
        "colab": {
          "base_uri": "https://localhost:8080/"
        },
        "id": "hcz_g3arcXHy",
        "outputId": "81b68f83-049d-4146-d1d6-1cc42238eb91"
      },
      "execution_count": 43,
      "outputs": [
        {
          "output_type": "stream",
          "name": "stdout",
          "text": [
            "root\n",
            " |-- color: string (nullable = true)\n",
            " |-- edad: string (nullable = true)\n",
            " |-- fecha: date (nullable = true)\n",
            " |-- pais: string (nullable = true)\n",
            "\n"
          ]
        }
      ]
    },
    {
      "cell_type": "markdown",
      "source": [
        "dataframe a partir de un parquet"
      ],
      "metadata": {
        "id": "T1I54rEonKaH"
      }
    },
    {
      "cell_type": "code",
      "source": [
        "df5 = spark.read.parquet('./dataPARQUET.parquet')"
      ],
      "metadata": {
        "id": "MyD4HKANcZ9g"
      },
      "execution_count": 44,
      "outputs": []
    },
    {
      "cell_type": "code",
      "source": [
        "df5.show()"
      ],
      "metadata": {
        "colab": {
          "base_uri": "https://localhost:8080/"
        },
        "id": "exNXrXMWncYA",
        "outputId": "13ef8571-14d7-4840-8174-bf031545368f"
      },
      "execution_count": 45,
      "outputs": [
        {
          "output_type": "stream",
          "name": "stdout",
          "text": [
            "+-----------+-------------+--------------------+--------------------+-----------+--------------------+--------------------+-------+------+--------+-------------+--------------------+-----------------+----------------+----------------------+--------------------+\n",
            "|   video_id|trending_date|               title|       channel_title|category_id|        publish_time|                tags|  views| likes|dislikes|comment_count|      thumbnail_link|comments_disabled|ratings_disabled|video_error_or_removed|         description|\n",
            "+-----------+-------------+--------------------+--------------------+-----------+--------------------+--------------------+-------+------+--------+-------------+--------------------+-----------------+----------------+----------------------+--------------------+\n",
            "|2kyS6SvSYSE|     17.14.11|WE WANT TO TALK A...|        CaseyNeistat|         22|2017-11-13T17:13:...|     SHANtell martin| 748374| 57527|    2966|        15954|https://i.ytimg.c...|            False|           False|                 False|SHANTELL'S CHANNE...|\n",
            "|1ZAPwfrtAFY|     17.14.11|The Trump Preside...|     LastWeekTonight|         24|2017-11-13T07:30:...|\"last week tonigh...|2418783| 97185|    6146|        12703|https://i.ytimg.c...|            False|           False|                 False|One year after th...|\n",
            "|5qpjK5DgCt4|     17.14.11|Racist Superman |...|        Rudy Mancuso|         23|2017-11-12T19:05:...|\"racist superman\"...|3191434|146033|    5339|         8181|https://i.ytimg.c...|            False|           False|                 False|WATCH MY PREVIOUS...|\n",
            "|puqaWrEC7tY|     17.14.11|Nickelback Lyrics...|Good Mythical Mor...|         24|2017-11-13T11:00:...|\"rhett and link\"|...| 343168| 10172|     666|         2146|https://i.ytimg.c...|            False|           False|                 False|Today we find out...|\n",
            "|d380meD0W0M|     17.14.11|I Dare You: GOING...|            nigahiga|         24|2017-11-12T18:01:...|\"ryan\"|\"higa\"|\"hi...|2095731|132235|    1989|        17518|https://i.ytimg.c...|            False|           False|                 False|I know it's been ...|\n",
            "|gHZ1Qz0KiKM|     17.14.11|2 Weeks with iPho...|            iJustine|         28|2017-11-13T19:07:...|\"ijustine\"|\"week ...| 119180|  9763|     511|         1434|https://i.ytimg.c...|            False|           False|                 False|Using the iPhone ...|\n",
            "|39idVpFF7NQ|     17.14.11|Roy Moore & Jeff ...| Saturday Night Live|         24|2017-11-12T05:37:...|\"SNL\"|\"Saturday N...|2103417| 15993|    2445|         1970|https://i.ytimg.c...|            False|           False|                 False|Embattled Alabama...|\n",
            "|nc99ccSXST0|     17.14.11|5 Ice Cream Gadge...|  CrazyRussianHacker|         28|2017-11-12T21:50:...|\"5 Ice Cream Gadg...| 817732| 23663|     778|         3432|https://i.ytimg.c...|            False|           False|                 False|Ice Cream Pint Co...|\n",
            "|jr9QtXwC9vc|     17.14.11|The Greatest Show...|    20th Century Fox|          1|2017-11-13T14:00:...|\"Trailer\"|\"Hugh J...| 826059|  3543|     119|          340|https://i.ytimg.c...|            False|           False|                 False|Inspired by the i...|\n",
            "|TUmyygCMMGA|     17.14.11|Why the rise of t...|                 Vox|         25|2017-11-13T13:45:...|\"vox.com\"|\"vox\"|\"...| 256426| 12654|    1363|         2368|https://i.ytimg.c...|            False|           False|                 False|For now, at least...|\n",
            "|9wRQljFNDW8|     17.14.11|Dion Lewis' 103-Y...|                 NFL|         17|2017-11-13T02:05:...|\"NFL\"|\"Football\"|...|  81377|   655|      25|          177|https://i.ytimg.c...|            False|           False|                 False|New England Patri...|\n",
            "|VifQlJit6A0|     17.14.11|(SPOILERS) 'Shiva...|                 amc|         24|2017-11-13T03:00:...|\"The Walking Dead...| 104578|  1576|     303|         1279|https://i.ytimg.c...|            False|           False|                 False|Shiva arrives jus...|\n",
            "|5E4ZBSInqUU|     17.14.11|Marshmello - Bloc...|          marshmello|         10|2017-11-13T17:00:...|\"marshmello\"|\"blo...| 687582|114188|    1333|         8371|https://i.ytimg.c...|            False|           False|                 False|WATCH SILENCE MUS...|\n",
            "|GgVmn66oK_A|     17.14.11|Which Countries A...|       NowThis World|         25|2017-11-12T14:00:...|\"nowthis\"|\"nowthi...| 544770|  7848|    1171|         3981|https://i.ytimg.c...|            False|           False|                 False|The world at larg...|\n",
            "|TaTleo4cOs8|     17.14.11|SHOPPING FOR NEW ...|     The king of DIY|         15|2017-11-12T18:30:...|\"shopping for new...| 207532|  7473|     246|         2120|https://i.ytimg.c...|            False|           False|                 False|Today we go shopp...|\n",
            "|kgaO45SyaO4|     17.14.11|    The New SpotMini|      BostonDynamics|         28|2017-11-13T20:09:...|\"Robots\"|\"Boston ...|  75752|  9419|      52|         1230|https://i.ytimg.c...|            False|           False|                 False|For more informat...|\n",
            "|ZAQs-ctOqXQ|     17.14.11|One Change That W...|             Cracked|         23|2017-11-12T17:00:...|\"pacific rim\"|\"pa...| 295639|  8011|     638|         1256|https://i.ytimg.c...|            False|           False|                 False|Pacific Rim was s...|\n",
            "|YVfyYrEmzgM|     17.14.11|How does your bod...|              TED-Ed|         27|2017-11-13T16:00:...|\"TED\"|\"TED-Ed\"|\"T...|  78044|  5398|      53|          385|https://i.ytimg.c...|            False|           False|                 False|Check out our Pat...|\n",
            "|eNSN6qet1kE|     17.14.11|HomeMade Electric...|         PeterSripol|         28|2017-11-13T15:30:...|\"ultralight\"|\"air...|  97007| 11963|      36|         2211|https://i.ytimg.c...|            False|           False|                 False|aaaannnd now to f...|\n",
            "|B5HORANmzHw|     17.14.11|Founding An Inbre...|             SciShow|         27|2017-11-12T22:00:...|\"SciShow\"|\"scienc...| 223871|  8421|     191|         1214|https://i.ytimg.c...|            False|           False|                 False|Thanks to 23AndMe...|\n",
            "+-----------+-------------+--------------------+--------------------+-----------+--------------------+--------------------+-------+------+--------+-------------+--------------------+-----------------+----------------+----------------------+--------------------+\n",
            "only showing top 20 rows\n",
            "\n"
          ]
        }
      ]
    },
    {
      "cell_type": "code",
      "source": [
        "df6 = spark.read.format('parquet').load('./dataPARQUET.parquet')"
      ],
      "metadata": {
        "id": "75OVQsrUncQ2"
      },
      "execution_count": 46,
      "outputs": []
    },
    {
      "cell_type": "code",
      "source": [
        "df6.printSchema()"
      ],
      "metadata": {
        "colab": {
          "base_uri": "https://localhost:8080/"
        },
        "id": "cou6SxJHtjEL",
        "outputId": "cb3d8b38-6ca3-4103-bbf9-bd0cf1b546c0"
      },
      "execution_count": 47,
      "outputs": [
        {
          "output_type": "stream",
          "name": "stdout",
          "text": [
            "root\n",
            " |-- video_id: string (nullable = true)\n",
            " |-- trending_date: string (nullable = true)\n",
            " |-- title: string (nullable = true)\n",
            " |-- channel_title: string (nullable = true)\n",
            " |-- category_id: string (nullable = true)\n",
            " |-- publish_time: string (nullable = true)\n",
            " |-- tags: string (nullable = true)\n",
            " |-- views: string (nullable = true)\n",
            " |-- likes: string (nullable = true)\n",
            " |-- dislikes: string (nullable = true)\n",
            " |-- comment_count: string (nullable = true)\n",
            " |-- thumbnail_link: string (nullable = true)\n",
            " |-- comments_disabled: string (nullable = true)\n",
            " |-- ratings_disabled: string (nullable = true)\n",
            " |-- video_error_or_removed: string (nullable = true)\n",
            " |-- description: string (nullable = true)\n",
            "\n"
          ]
        }
      ]
    },
    {
      "cell_type": "markdown",
      "source": [
        "# TRABAJO CON COLUMNAS"
      ],
      "metadata": {
        "id": "_m-CHo6XwCao"
      }
    },
    {
      "cell_type": "code",
      "source": [
        "df5.show()"
      ],
      "metadata": {
        "colab": {
          "base_uri": "https://localhost:8080/"
        },
        "id": "n29oqA6ZtlT5",
        "outputId": "116d8eb7-836a-499e-c205-753e3e6d8b69"
      },
      "execution_count": 48,
      "outputs": [
        {
          "output_type": "stream",
          "name": "stdout",
          "text": [
            "+-----------+-------------+--------------------+--------------------+-----------+--------------------+--------------------+-------+------+--------+-------------+--------------------+-----------------+----------------+----------------------+--------------------+\n",
            "|   video_id|trending_date|               title|       channel_title|category_id|        publish_time|                tags|  views| likes|dislikes|comment_count|      thumbnail_link|comments_disabled|ratings_disabled|video_error_or_removed|         description|\n",
            "+-----------+-------------+--------------------+--------------------+-----------+--------------------+--------------------+-------+------+--------+-------------+--------------------+-----------------+----------------+----------------------+--------------------+\n",
            "|2kyS6SvSYSE|     17.14.11|WE WANT TO TALK A...|        CaseyNeistat|         22|2017-11-13T17:13:...|     SHANtell martin| 748374| 57527|    2966|        15954|https://i.ytimg.c...|            False|           False|                 False|SHANTELL'S CHANNE...|\n",
            "|1ZAPwfrtAFY|     17.14.11|The Trump Preside...|     LastWeekTonight|         24|2017-11-13T07:30:...|\"last week tonigh...|2418783| 97185|    6146|        12703|https://i.ytimg.c...|            False|           False|                 False|One year after th...|\n",
            "|5qpjK5DgCt4|     17.14.11|Racist Superman |...|        Rudy Mancuso|         23|2017-11-12T19:05:...|\"racist superman\"...|3191434|146033|    5339|         8181|https://i.ytimg.c...|            False|           False|                 False|WATCH MY PREVIOUS...|\n",
            "|puqaWrEC7tY|     17.14.11|Nickelback Lyrics...|Good Mythical Mor...|         24|2017-11-13T11:00:...|\"rhett and link\"|...| 343168| 10172|     666|         2146|https://i.ytimg.c...|            False|           False|                 False|Today we find out...|\n",
            "|d380meD0W0M|     17.14.11|I Dare You: GOING...|            nigahiga|         24|2017-11-12T18:01:...|\"ryan\"|\"higa\"|\"hi...|2095731|132235|    1989|        17518|https://i.ytimg.c...|            False|           False|                 False|I know it's been ...|\n",
            "|gHZ1Qz0KiKM|     17.14.11|2 Weeks with iPho...|            iJustine|         28|2017-11-13T19:07:...|\"ijustine\"|\"week ...| 119180|  9763|     511|         1434|https://i.ytimg.c...|            False|           False|                 False|Using the iPhone ...|\n",
            "|39idVpFF7NQ|     17.14.11|Roy Moore & Jeff ...| Saturday Night Live|         24|2017-11-12T05:37:...|\"SNL\"|\"Saturday N...|2103417| 15993|    2445|         1970|https://i.ytimg.c...|            False|           False|                 False|Embattled Alabama...|\n",
            "|nc99ccSXST0|     17.14.11|5 Ice Cream Gadge...|  CrazyRussianHacker|         28|2017-11-12T21:50:...|\"5 Ice Cream Gadg...| 817732| 23663|     778|         3432|https://i.ytimg.c...|            False|           False|                 False|Ice Cream Pint Co...|\n",
            "|jr9QtXwC9vc|     17.14.11|The Greatest Show...|    20th Century Fox|          1|2017-11-13T14:00:...|\"Trailer\"|\"Hugh J...| 826059|  3543|     119|          340|https://i.ytimg.c...|            False|           False|                 False|Inspired by the i...|\n",
            "|TUmyygCMMGA|     17.14.11|Why the rise of t...|                 Vox|         25|2017-11-13T13:45:...|\"vox.com\"|\"vox\"|\"...| 256426| 12654|    1363|         2368|https://i.ytimg.c...|            False|           False|                 False|For now, at least...|\n",
            "|9wRQljFNDW8|     17.14.11|Dion Lewis' 103-Y...|                 NFL|         17|2017-11-13T02:05:...|\"NFL\"|\"Football\"|...|  81377|   655|      25|          177|https://i.ytimg.c...|            False|           False|                 False|New England Patri...|\n",
            "|VifQlJit6A0|     17.14.11|(SPOILERS) 'Shiva...|                 amc|         24|2017-11-13T03:00:...|\"The Walking Dead...| 104578|  1576|     303|         1279|https://i.ytimg.c...|            False|           False|                 False|Shiva arrives jus...|\n",
            "|5E4ZBSInqUU|     17.14.11|Marshmello - Bloc...|          marshmello|         10|2017-11-13T17:00:...|\"marshmello\"|\"blo...| 687582|114188|    1333|         8371|https://i.ytimg.c...|            False|           False|                 False|WATCH SILENCE MUS...|\n",
            "|GgVmn66oK_A|     17.14.11|Which Countries A...|       NowThis World|         25|2017-11-12T14:00:...|\"nowthis\"|\"nowthi...| 544770|  7848|    1171|         3981|https://i.ytimg.c...|            False|           False|                 False|The world at larg...|\n",
            "|TaTleo4cOs8|     17.14.11|SHOPPING FOR NEW ...|     The king of DIY|         15|2017-11-12T18:30:...|\"shopping for new...| 207532|  7473|     246|         2120|https://i.ytimg.c...|            False|           False|                 False|Today we go shopp...|\n",
            "|kgaO45SyaO4|     17.14.11|    The New SpotMini|      BostonDynamics|         28|2017-11-13T20:09:...|\"Robots\"|\"Boston ...|  75752|  9419|      52|         1230|https://i.ytimg.c...|            False|           False|                 False|For more informat...|\n",
            "|ZAQs-ctOqXQ|     17.14.11|One Change That W...|             Cracked|         23|2017-11-12T17:00:...|\"pacific rim\"|\"pa...| 295639|  8011|     638|         1256|https://i.ytimg.c...|            False|           False|                 False|Pacific Rim was s...|\n",
            "|YVfyYrEmzgM|     17.14.11|How does your bod...|              TED-Ed|         27|2017-11-13T16:00:...|\"TED\"|\"TED-Ed\"|\"T...|  78044|  5398|      53|          385|https://i.ytimg.c...|            False|           False|                 False|Check out our Pat...|\n",
            "|eNSN6qet1kE|     17.14.11|HomeMade Electric...|         PeterSripol|         28|2017-11-13T15:30:...|\"ultralight\"|\"air...|  97007| 11963|      36|         2211|https://i.ytimg.c...|            False|           False|                 False|aaaannnd now to f...|\n",
            "|B5HORANmzHw|     17.14.11|Founding An Inbre...|             SciShow|         27|2017-11-12T22:00:...|\"SciShow\"|\"scienc...| 223871|  8421|     191|         1214|https://i.ytimg.c...|            False|           False|                 False|Thanks to 23AndMe...|\n",
            "+-----------+-------------+--------------------+--------------------+-----------+--------------------+--------------------+-------+------+--------+-------------+--------------------+-----------------+----------------+----------------------+--------------------+\n",
            "only showing top 20 rows\n",
            "\n"
          ]
        }
      ]
    },
    {
      "cell_type": "code",
      "source": [
        "df5.select('title').show(truncate=False)"
      ],
      "metadata": {
        "colab": {
          "base_uri": "https://localhost:8080/"
        },
        "id": "d78jH1Bp0NfO",
        "outputId": "8ca614e5-f38a-48e9-ee47-15c425eba8ec"
      },
      "execution_count": 50,
      "outputs": [
        {
          "output_type": "stream",
          "name": "stdout",
          "text": [
            "+--------------------------------------------------------------------------------------+\n",
            "|title                                                                                 |\n",
            "+--------------------------------------------------------------------------------------+\n",
            "|WE WANT TO TALK ABOUT OUR MARRIAGE                                                    |\n",
            "|The Trump Presidency: Last Week Tonight with John Oliver (HBO)                        |\n",
            "|Racist Superman | Rudy Mancuso, King Bach & Lele Pons                                 |\n",
            "|Nickelback Lyrics: Real or Fake?                                                      |\n",
            "|I Dare You: GOING BALD!?                                                              |\n",
            "|2 Weeks with iPhone X                                                                 |\n",
            "|Roy Moore & Jeff Sessions Cold Open - SNL                                             |\n",
            "|5 Ice Cream Gadgets put to the Test                                                   |\n",
            "|The Greatest Showman | Official Trailer 2 [HD] | 20th Century FOX                     |\n",
            "|Why the rise of the robots won’t mean the end of work                                 |\n",
            "|Dion Lewis' 103-Yd Kick Return TD vs. Denver! | Can't-Miss Play | NFL Wk 10 Highlights|\n",
            "|(SPOILERS) 'Shiva Saves the Day' Talked About Scene Ep. 804 | The Walking Dead        |\n",
            "|Marshmello - Blocks (Official Music Video)                                            |\n",
            "|Which Countries Are About To Collapse?                                                |\n",
            "|SHOPPING FOR NEW FISH!!!                                                              |\n",
            "|The New SpotMini                                                                      |\n",
            "|One Change That Would Make Pacific Rim a Classic                                      |\n",
            "|How does your body know you're full? - Hilary Coller                                  |\n",
            "|HomeMade Electric Airplane                                                            |\n",
            "|Founding An Inbreeding-Free Space Colony                                              |\n",
            "+--------------------------------------------------------------------------------------+\n",
            "only showing top 20 rows\n",
            "\n"
          ]
        }
      ]
    },
    {
      "cell_type": "markdown",
      "source": [
        "# SELECT "
      ],
      "metadata": {
        "id": "7c6Phvom9WjZ"
      }
    },
    {
      "cell_type": "code",
      "source": [
        "dft=spark.read.parquet('./datos.parquet')"
      ],
      "metadata": {
        "id": "Vx3UiYJE1bXt"
      },
      "execution_count": 12,
      "outputs": []
    },
    {
      "cell_type": "code",
      "source": [
        "dft.show()"
      ],
      "metadata": {
        "colab": {
          "base_uri": "https://localhost:8080/"
        },
        "id": "59YEdsesDAFO",
        "outputId": "59d28c9d-00a0-4cab-f88f-66a7a41aa21d"
      },
      "execution_count": 13,
      "outputs": [
        {
          "output_type": "stream",
          "name": "stdout",
          "text": [
            "+-----------+-------------+--------------------+--------------------+-----------+-------------------+--------------------+-------+------+--------+-------------+--------------------+-----------------+----------------+----------------------+--------------------+\n",
            "|   video_id|trending_date|               title|       channel_title|category_id|       publish_time|                tags|  views| likes|dislikes|comment_count|      thumbnail_link|comments_disabled|ratings_disabled|video_error_or_removed|         description|\n",
            "+-----------+-------------+--------------------+--------------------+-----------+-------------------+--------------------+-------+------+--------+-------------+--------------------+-----------------+----------------+----------------------+--------------------+\n",
            "|2kyS6SvSYSE|     17.14.11|WE WANT TO TALK A...|        CaseyNeistat|         22|2017-11-13 17:13:01|     SHANtell martin| 748374| 57527|    2966|        15954|https://i.ytimg.c...|            False|           False|                 False|SHANTELL'S CHANNE...|\n",
            "|1ZAPwfrtAFY|     17.14.11|The Trump Preside...|     LastWeekTonight|         24|2017-11-13 07:30:00|\"last week tonigh...|2418783| 97185|    6146|        12703|https://i.ytimg.c...|            False|           False|                 False|One year after th...|\n",
            "|5qpjK5DgCt4|     17.14.11|Racist Superman |...|        Rudy Mancuso|         23|2017-11-12 19:05:24|\"racist superman\"...|3191434|146033|    5339|         8181|https://i.ytimg.c...|            False|           False|                 False|WATCH MY PREVIOUS...|\n",
            "|puqaWrEC7tY|     17.14.11|Nickelback Lyrics...|Good Mythical Mor...|         24|2017-11-13 11:00:04|\"rhett and link\"|...| 343168| 10172|     666|         2146|https://i.ytimg.c...|            False|           False|                 False|Today we find out...|\n",
            "|d380meD0W0M|     17.14.11|I Dare You: GOING...|            nigahiga|         24|2017-11-12 18:01:41|\"ryan\"|\"higa\"|\"hi...|2095731|132235|    1989|        17518|https://i.ytimg.c...|            False|           False|                 False|I know it's been ...|\n",
            "|gHZ1Qz0KiKM|     17.14.11|2 Weeks with iPho...|            iJustine|         28|2017-11-13 19:07:23|\"ijustine\"|\"week ...| 119180|  9763|     511|         1434|https://i.ytimg.c...|            False|           False|                 False|Using the iPhone ...|\n",
            "|39idVpFF7NQ|     17.14.11|Roy Moore & Jeff ...| Saturday Night Live|         24|2017-11-12 05:37:17|\"SNL\"|\"Saturday N...|2103417| 15993|    2445|         1970|https://i.ytimg.c...|            False|           False|                 False|Embattled Alabama...|\n",
            "|nc99ccSXST0|     17.14.11|5 Ice Cream Gadge...|  CrazyRussianHacker|         28|2017-11-12 21:50:37|\"5 Ice Cream Gadg...| 817732| 23663|     778|         3432|https://i.ytimg.c...|            False|           False|                 False|Ice Cream Pint Co...|\n",
            "|jr9QtXwC9vc|     17.14.11|The Greatest Show...|    20th Century Fox|          1|2017-11-13 14:00:23|\"Trailer\"|\"Hugh J...| 826059|  3543|     119|          340|https://i.ytimg.c...|            False|           False|                 False|Inspired by the i...|\n",
            "|TUmyygCMMGA|     17.14.11|Why the rise of t...|                 Vox|         25|2017-11-13 13:45:16|\"vox.com\"|\"vox\"|\"...| 256426| 12654|    1363|         2368|https://i.ytimg.c...|            False|           False|                 False|For now, at least...|\n",
            "|9wRQljFNDW8|     17.14.11|Dion Lewis' 103-Y...|                 NFL|         17|2017-11-13 02:05:26|\"NFL\"|\"Football\"|...|  81377|   655|      25|          177|https://i.ytimg.c...|            False|           False|                 False|New England Patri...|\n",
            "|VifQlJit6A0|     17.14.11|(SPOILERS) 'Shiva...|                 amc|         24|2017-11-13 03:00:00|\"The Walking Dead...| 104578|  1576|     303|         1279|https://i.ytimg.c...|            False|           False|                 False|Shiva arrives jus...|\n",
            "|5E4ZBSInqUU|     17.14.11|Marshmello - Bloc...|          marshmello|         10|2017-11-13 17:00:00|\"marshmello\"|\"blo...| 687582|114188|    1333|         8371|https://i.ytimg.c...|            False|           False|                 False|WATCH SILENCE MUS...|\n",
            "|GgVmn66oK_A|     17.14.11|Which Countries A...|       NowThis World|         25|2017-11-12 14:00:00|\"nowthis\"|\"nowthi...| 544770|  7848|    1171|         3981|https://i.ytimg.c...|            False|           False|                 False|The world at larg...|\n",
            "|TaTleo4cOs8|     17.14.11|SHOPPING FOR NEW ...|     The king of DIY|         15|2017-11-12 18:30:01|\"shopping for new...| 207532|  7473|     246|         2120|https://i.ytimg.c...|            False|           False|                 False|Today we go shopp...|\n",
            "|kgaO45SyaO4|     17.14.11|    The New SpotMini|      BostonDynamics|         28|2017-11-13 20:09:58|\"Robots\"|\"Boston ...|  75752|  9419|      52|         1230|https://i.ytimg.c...|            False|           False|                 False|For more informat...|\n",
            "|ZAQs-ctOqXQ|     17.14.11|One Change That W...|             Cracked|         23|2017-11-12 17:00:05|\"pacific rim\"|\"pa...| 295639|  8011|     638|         1256|https://i.ytimg.c...|            False|           False|                 False|Pacific Rim was s...|\n",
            "|YVfyYrEmzgM|     17.14.11|How does your bod...|              TED-Ed|         27|2017-11-13 16:00:07|\"TED\"|\"TED-Ed\"|\"T...|  78044|  5398|      53|          385|https://i.ytimg.c...|            False|           False|                 False|Check out our Pat...|\n",
            "|eNSN6qet1kE|     17.14.11|HomeMade Electric...|         PeterSripol|         28|2017-11-13 15:30:17|\"ultralight\"|\"air...|  97007| 11963|      36|         2211|https://i.ytimg.c...|            False|           False|                 False|aaaannnd now to f...|\n",
            "|B5HORANmzHw|     17.14.11|Founding An Inbre...|             SciShow|         27|2017-11-12 22:00:01|\"SciShow\"|\"scienc...| 223871|  8421|     191|         1214|https://i.ytimg.c...|            False|           False|                 False|Thanks to 23AndMe...|\n",
            "+-----------+-------------+--------------------+--------------------+-----------+-------------------+--------------------+-------+------+--------+-------------+--------------------+-----------------+----------------+----------------------+--------------------+\n",
            "only showing top 20 rows\n",
            "\n"
          ]
        }
      ]
    },
    {
      "cell_type": "code",
      "source": [
        "from pyspark.sql.functions import col\n",
        "dft.select(col('video_id')).show()"
      ],
      "metadata": {
        "colab": {
          "base_uri": "https://localhost:8080/"
        },
        "id": "eiMPUO69AefA",
        "outputId": "afb71a95-b8a1-4861-98a5-7a734a54b9ad"
      },
      "execution_count": 15,
      "outputs": [
        {
          "output_type": "stream",
          "name": "stdout",
          "text": [
            "+-----------+\n",
            "|   video_id|\n",
            "+-----------+\n",
            "|2kyS6SvSYSE|\n",
            "|1ZAPwfrtAFY|\n",
            "|5qpjK5DgCt4|\n",
            "|puqaWrEC7tY|\n",
            "|d380meD0W0M|\n",
            "|gHZ1Qz0KiKM|\n",
            "|39idVpFF7NQ|\n",
            "|nc99ccSXST0|\n",
            "|jr9QtXwC9vc|\n",
            "|TUmyygCMMGA|\n",
            "|9wRQljFNDW8|\n",
            "|VifQlJit6A0|\n",
            "|5E4ZBSInqUU|\n",
            "|GgVmn66oK_A|\n",
            "|TaTleo4cOs8|\n",
            "|kgaO45SyaO4|\n",
            "|ZAQs-ctOqXQ|\n",
            "|YVfyYrEmzgM|\n",
            "|eNSN6qet1kE|\n",
            "|B5HORANmzHw|\n",
            "+-----------+\n",
            "only showing top 20 rows\n",
            "\n"
          ]
        }
      ]
    },
    {
      "cell_type": "code",
      "source": [
        "# Esto sale error\n",
        "# dft= select ('likes','dislikes'('likes','dislikes')).show()"
      ],
      "metadata": {
        "id": "V9Fg8kNsC0FQ"
      },
      "execution_count": 16,
      "outputs": []
    },
    {
      "cell_type": "code",
      "source": [
        "dft.select(\n",
        "    col('likes'),\n",
        "    col('dislikes'),\n",
        "    (col('likes')-col('dislikes')).alias('aceptación')\n",
        ").show()"
      ],
      "metadata": {
        "colab": {
          "base_uri": "https://localhost:8080/"
        },
        "id": "8j79GPeYxTSd",
        "outputId": "6e1f489e-da4a-4c3e-90d8-1499fa536237"
      },
      "execution_count": 21,
      "outputs": [
        {
          "output_type": "stream",
          "name": "stdout",
          "text": [
            "+------+--------+----------+\n",
            "| likes|dislikes|aceptación|\n",
            "+------+--------+----------+\n",
            "| 57527|    2966|     54561|\n",
            "| 97185|    6146|     91039|\n",
            "|146033|    5339|    140694|\n",
            "| 10172|     666|      9506|\n",
            "|132235|    1989|    130246|\n",
            "|  9763|     511|      9252|\n",
            "| 15993|    2445|     13548|\n",
            "| 23663|     778|     22885|\n",
            "|  3543|     119|      3424|\n",
            "| 12654|    1363|     11291|\n",
            "|   655|      25|       630|\n",
            "|  1576|     303|      1273|\n",
            "|114188|    1333|    112855|\n",
            "|  7848|    1171|      6677|\n",
            "|  7473|     246|      7227|\n",
            "|  9419|      52|      9367|\n",
            "|  8011|     638|      7373|\n",
            "|  5398|      53|      5345|\n",
            "| 11963|      36|     11927|\n",
            "|  8421|     191|      8230|\n",
            "+------+--------+----------+\n",
            "only showing top 20 rows\n",
            "\n"
          ]
        }
      ]
    },
    {
      "cell_type": "markdown",
      "source": [
        "# Select Expr"
      ],
      "metadata": {
        "id": "T5fBrrOL1oKO"
      }
    },
    {
      "cell_type": "code",
      "source": [
        "dft.selectExpr('likes','dislikes','(likes - dislikes) as aceptacion').show()"
      ],
      "metadata": {
        "colab": {
          "base_uri": "https://localhost:8080/"
        },
        "id": "rXTL8gEF1vg2",
        "outputId": "4dbd55e5-9065-42a0-c1a1-039c75441d11"
      },
      "execution_count": 24,
      "outputs": [
        {
          "output_type": "stream",
          "name": "stdout",
          "text": [
            "+------+--------+----------+\n",
            "| likes|dislikes|aceptacion|\n",
            "+------+--------+----------+\n",
            "| 57527|    2966|     54561|\n",
            "| 97185|    6146|     91039|\n",
            "|146033|    5339|    140694|\n",
            "| 10172|     666|      9506|\n",
            "|132235|    1989|    130246|\n",
            "|  9763|     511|      9252|\n",
            "| 15993|    2445|     13548|\n",
            "| 23663|     778|     22885|\n",
            "|  3543|     119|      3424|\n",
            "| 12654|    1363|     11291|\n",
            "|   655|      25|       630|\n",
            "|  1576|     303|      1273|\n",
            "|114188|    1333|    112855|\n",
            "|  7848|    1171|      6677|\n",
            "|  7473|     246|      7227|\n",
            "|  9419|      52|      9367|\n",
            "|  8011|     638|      7373|\n",
            "|  5398|      53|      5345|\n",
            "| 11963|      36|     11927|\n",
            "|  8421|     191|      8230|\n",
            "+------+--------+----------+\n",
            "only showing top 20 rows\n",
            "\n"
          ]
        }
      ]
    },
    {
      "cell_type": "code",
      "source": [
        "dft.selectExpr('count(distinct(video_id)) as videos').show()"
      ],
      "metadata": {
        "colab": {
          "base_uri": "https://localhost:8080/"
        },
        "id": "BHAt9w9K1_9A",
        "outputId": "5bc8b09b-b983-4c6c-e9c7-42f56b85697b"
      },
      "execution_count": 25,
      "outputs": [
        {
          "output_type": "stream",
          "name": "stdout",
          "text": [
            "+------+\n",
            "|videos|\n",
            "+------+\n",
            "|  6837|\n",
            "+------+\n",
            "\n"
          ]
        }
      ]
    },
    {
      "cell_type": "markdown",
      "source": [
        "# FILTER"
      ],
      "metadata": {
        "id": "OALvhTce6oTs"
      }
    },
    {
      "cell_type": "code",
      "source": [
        "# importar col\n",
        "dft.show()"
      ],
      "metadata": {
        "colab": {
          "base_uri": "https://localhost:8080/"
        },
        "id": "9a1E1F_b6ue0",
        "outputId": "25420be0-5a69-4646-9a72-f08efbfc5b4f"
      },
      "execution_count": 26,
      "outputs": [
        {
          "output_type": "stream",
          "name": "stdout",
          "text": [
            "+-----------+-------------+--------------------+--------------------+-----------+-------------------+--------------------+-------+------+--------+-------------+--------------------+-----------------+----------------+----------------------+--------------------+\n",
            "|   video_id|trending_date|               title|       channel_title|category_id|       publish_time|                tags|  views| likes|dislikes|comment_count|      thumbnail_link|comments_disabled|ratings_disabled|video_error_or_removed|         description|\n",
            "+-----------+-------------+--------------------+--------------------+-----------+-------------------+--------------------+-------+------+--------+-------------+--------------------+-----------------+----------------+----------------------+--------------------+\n",
            "|2kyS6SvSYSE|     17.14.11|WE WANT TO TALK A...|        CaseyNeistat|         22|2017-11-13 17:13:01|     SHANtell martin| 748374| 57527|    2966|        15954|https://i.ytimg.c...|            False|           False|                 False|SHANTELL'S CHANNE...|\n",
            "|1ZAPwfrtAFY|     17.14.11|The Trump Preside...|     LastWeekTonight|         24|2017-11-13 07:30:00|\"last week tonigh...|2418783| 97185|    6146|        12703|https://i.ytimg.c...|            False|           False|                 False|One year after th...|\n",
            "|5qpjK5DgCt4|     17.14.11|Racist Superman |...|        Rudy Mancuso|         23|2017-11-12 19:05:24|\"racist superman\"...|3191434|146033|    5339|         8181|https://i.ytimg.c...|            False|           False|                 False|WATCH MY PREVIOUS...|\n",
            "|puqaWrEC7tY|     17.14.11|Nickelback Lyrics...|Good Mythical Mor...|         24|2017-11-13 11:00:04|\"rhett and link\"|...| 343168| 10172|     666|         2146|https://i.ytimg.c...|            False|           False|                 False|Today we find out...|\n",
            "|d380meD0W0M|     17.14.11|I Dare You: GOING...|            nigahiga|         24|2017-11-12 18:01:41|\"ryan\"|\"higa\"|\"hi...|2095731|132235|    1989|        17518|https://i.ytimg.c...|            False|           False|                 False|I know it's been ...|\n",
            "|gHZ1Qz0KiKM|     17.14.11|2 Weeks with iPho...|            iJustine|         28|2017-11-13 19:07:23|\"ijustine\"|\"week ...| 119180|  9763|     511|         1434|https://i.ytimg.c...|            False|           False|                 False|Using the iPhone ...|\n",
            "|39idVpFF7NQ|     17.14.11|Roy Moore & Jeff ...| Saturday Night Live|         24|2017-11-12 05:37:17|\"SNL\"|\"Saturday N...|2103417| 15993|    2445|         1970|https://i.ytimg.c...|            False|           False|                 False|Embattled Alabama...|\n",
            "|nc99ccSXST0|     17.14.11|5 Ice Cream Gadge...|  CrazyRussianHacker|         28|2017-11-12 21:50:37|\"5 Ice Cream Gadg...| 817732| 23663|     778|         3432|https://i.ytimg.c...|            False|           False|                 False|Ice Cream Pint Co...|\n",
            "|jr9QtXwC9vc|     17.14.11|The Greatest Show...|    20th Century Fox|          1|2017-11-13 14:00:23|\"Trailer\"|\"Hugh J...| 826059|  3543|     119|          340|https://i.ytimg.c...|            False|           False|                 False|Inspired by the i...|\n",
            "|TUmyygCMMGA|     17.14.11|Why the rise of t...|                 Vox|         25|2017-11-13 13:45:16|\"vox.com\"|\"vox\"|\"...| 256426| 12654|    1363|         2368|https://i.ytimg.c...|            False|           False|                 False|For now, at least...|\n",
            "|9wRQljFNDW8|     17.14.11|Dion Lewis' 103-Y...|                 NFL|         17|2017-11-13 02:05:26|\"NFL\"|\"Football\"|...|  81377|   655|      25|          177|https://i.ytimg.c...|            False|           False|                 False|New England Patri...|\n",
            "|VifQlJit6A0|     17.14.11|(SPOILERS) 'Shiva...|                 amc|         24|2017-11-13 03:00:00|\"The Walking Dead...| 104578|  1576|     303|         1279|https://i.ytimg.c...|            False|           False|                 False|Shiva arrives jus...|\n",
            "|5E4ZBSInqUU|     17.14.11|Marshmello - Bloc...|          marshmello|         10|2017-11-13 17:00:00|\"marshmello\"|\"blo...| 687582|114188|    1333|         8371|https://i.ytimg.c...|            False|           False|                 False|WATCH SILENCE MUS...|\n",
            "|GgVmn66oK_A|     17.14.11|Which Countries A...|       NowThis World|         25|2017-11-12 14:00:00|\"nowthis\"|\"nowthi...| 544770|  7848|    1171|         3981|https://i.ytimg.c...|            False|           False|                 False|The world at larg...|\n",
            "|TaTleo4cOs8|     17.14.11|SHOPPING FOR NEW ...|     The king of DIY|         15|2017-11-12 18:30:01|\"shopping for new...| 207532|  7473|     246|         2120|https://i.ytimg.c...|            False|           False|                 False|Today we go shopp...|\n",
            "|kgaO45SyaO4|     17.14.11|    The New SpotMini|      BostonDynamics|         28|2017-11-13 20:09:58|\"Robots\"|\"Boston ...|  75752|  9419|      52|         1230|https://i.ytimg.c...|            False|           False|                 False|For more informat...|\n",
            "|ZAQs-ctOqXQ|     17.14.11|One Change That W...|             Cracked|         23|2017-11-12 17:00:05|\"pacific rim\"|\"pa...| 295639|  8011|     638|         1256|https://i.ytimg.c...|            False|           False|                 False|Pacific Rim was s...|\n",
            "|YVfyYrEmzgM|     17.14.11|How does your bod...|              TED-Ed|         27|2017-11-13 16:00:07|\"TED\"|\"TED-Ed\"|\"T...|  78044|  5398|      53|          385|https://i.ytimg.c...|            False|           False|                 False|Check out our Pat...|\n",
            "|eNSN6qet1kE|     17.14.11|HomeMade Electric...|         PeterSripol|         28|2017-11-13 15:30:17|\"ultralight\"|\"air...|  97007| 11963|      36|         2211|https://i.ytimg.c...|            False|           False|                 False|aaaannnd now to f...|\n",
            "|B5HORANmzHw|     17.14.11|Founding An Inbre...|             SciShow|         27|2017-11-12 22:00:01|\"SciShow\"|\"scienc...| 223871|  8421|     191|         1214|https://i.ytimg.c...|            False|           False|                 False|Thanks to 23AndMe...|\n",
            "+-----------+-------------+--------------------+--------------------+-----------+-------------------+--------------------+-------+------+--------+-------------+--------------------+-----------------+----------------+----------------------+--------------------+\n",
            "only showing top 20 rows\n",
            "\n"
          ]
        }
      ]
    },
    {
      "cell_type": "code",
      "source": [
        "dft.filter(col('video_id') == '2kyS6SvSYSE').show()"
      ],
      "metadata": {
        "colab": {
          "base_uri": "https://localhost:8080/"
        },
        "id": "69M8wD9p67LZ",
        "outputId": "fa90809d-7f5a-4bbb-86ea-c1dac1be9429"
      },
      "execution_count": 27,
      "outputs": [
        {
          "output_type": "stream",
          "name": "stdout",
          "text": [
            "+-----------+-------------+--------------------+-------------+-----------+-------------------+---------------+-------+-----+--------+-------------+--------------------+-----------------+----------------+----------------------+--------------------+\n",
            "|   video_id|trending_date|               title|channel_title|category_id|       publish_time|           tags|  views|likes|dislikes|comment_count|      thumbnail_link|comments_disabled|ratings_disabled|video_error_or_removed|         description|\n",
            "+-----------+-------------+--------------------+-------------+-----------+-------------------+---------------+-------+-----+--------+-------------+--------------------+-----------------+----------------+----------------------+--------------------+\n",
            "|2kyS6SvSYSE|     17.14.11|WE WANT TO TALK A...| CaseyNeistat|         22|2017-11-13 17:13:01|SHANtell martin| 748374|57527|    2966|        15954|https://i.ytimg.c...|            False|           False|                 False|SHANTELL'S CHANNE...|\n",
            "|2kyS6SvSYSE|     17.15.11|WE WANT TO TALK A...| CaseyNeistat|         22|2017-11-13 17:13:01|SHANtell martin|2188590|88099|    7150|        24225|https://i.ytimg.c...|            False|           False|                 False|SHANTELL'S CHANNE...|\n",
            "|2kyS6SvSYSE|     17.16.11|WE WANT TO TALK A...| CaseyNeistat|         22|2017-11-13 17:13:01|SHANtell martin|2325233|91111|    7543|        21450|https://i.ytimg.c...|            False|           False|                 False|SHANTELL'S CHANNE...|\n",
            "|2kyS6SvSYSE|     17.17.11|WE WANT TO TALK A...| CaseyNeistat|         22|2017-11-13 17:13:01|SHANtell martin|2400741|92831|    7687|        21714|https://i.ytimg.c...|            False|           False|                 False|SHANTELL'S CHANNE...|\n",
            "|2kyS6SvSYSE|     17.18.11|WE WANT TO TALK A...| CaseyNeistat|         22|2017-11-13 17:13:01|SHANtell martin|2468267|94303|    7802|        21866|https://i.ytimg.c...|            False|           False|                 False|SHANTELL'S CHANNE...|\n",
            "|2kyS6SvSYSE|     17.19.11|WE WANT TO TALK A...| CaseyNeistat|         22|2017-11-13 17:13:01|SHANtell martin|2524854|95587|    7892|        22038|https://i.ytimg.c...|            False|           False|                 False|SHANTELL'S CHANNE...|\n",
            "|2kyS6SvSYSE|     17.20.11|WE WANT TO TALK A...| CaseyNeistat|         22|2017-11-13 17:13:01|SHANtell martin|2564903|96321|    7972|        22149|https://i.ytimg.c...|            False|           False|                 False|SHANTELL'S CHANNE...|\n",
            "+-----------+-------------+--------------------+-------------+-----------+-------------------+---------------+-------+-----+--------+-------------+--------------------+-----------------+----------------+----------------------+--------------------+\n",
            "\n"
          ]
        }
      ]
    },
    {
      "cell_type": "code",
      "source": [
        "dft.filter(col('trending_date') != '17.14.11').show()"
      ],
      "metadata": {
        "colab": {
          "base_uri": "https://localhost:8080/"
        },
        "id": "9JWhDR657DKO",
        "outputId": "42b016bf-e222-46ce-b591-7485d94cf29c"
      },
      "execution_count": 28,
      "outputs": [
        {
          "output_type": "stream",
          "name": "stdout",
          "text": [
            "+--------------------+--------------------+--------------------+--------------------+--------------------+-------------------+--------------------+-------+------+--------+-------------+--------------------+-----------------+----------------+----------------------+--------------------+\n",
            "|            video_id|       trending_date|               title|       channel_title|         category_id|       publish_time|                tags|  views| likes|dislikes|comment_count|      thumbnail_link|comments_disabled|ratings_disabled|video_error_or_removed|         description|\n",
            "+--------------------+--------------------+--------------------+--------------------+--------------------+-------------------+--------------------+-------+------+--------+-------------+--------------------+-----------------+----------------+----------------------+--------------------+\n",
            "|\\nCook with confi...|             recipes|              videos| and restaurant g...| dining destinations|               null|                null|   null|  null|    null|         null|                null|             null|            null|                  null|                null|\n",
            "|\\nVogue is the au...|      culture trends|     beauty coverage|              videos|     celebrity style|               null|                null|   null|  null|    null|         null|                null|             null|            null|                  null|                null|\n",
            "|\\nWIRED is where ...| WIRED explores t...|          innovation| and culture.\\n\\n...|                null|               null|                null|   null|  null|    null|         null|                null|             null|            null|                  null|                null|\n",
            "|         YvfYK0EEhK4|            17.15.11|Brent Pella - Why...|         Brent Pella|                  23|2017-11-14 15:32:51|\"spirit airlines\"...| 462490| 14132|     795|          666|https://i.ytimg.c...|            False|           False|                 False|Traveling for the...|\n",
            "|         cxMvzK2OQTw|            17.15.11|Cards Against Hum...|Cards Against Hum...|                  23|2017-11-14 16:43:11|              [none]| 295217|  4854|    1439|         1267|https://i.ytimg.c...|            False|           False|                 False|Narrated by Peter...|\n",
            "|         bAkEd8r7Nnw|            17.15.11|Slow Mo Katana Sw...|    The Slow Mo Guys|                  24|2017-11-14 18:31:20|\"slomo\"|\"slow\"|\"m...|1525400| 63995|     896|         4697|https://i.ytimg.c...|            False|           False|                 False|Has Dan ever used...|\n",
            "|         ItYOdWRo0JY|            17.15.11|Selling My iPhone...|          TechSmartt|                  28|2017-11-14 00:45:15|\"iphone x\"|\"iphon...|1836419| 28647|   17815|         7860|https://i.ytimg.c...|            False|           False|                 False|I saw the EcoATM ...|\n",
            "|         5530I_pYjbo|            17.15.11|How I Trained My ...|         JunsKitchen|                  26|2017-11-14 12:06:56|\"how\"|\"trained\"|\"...| 977285| 87615|     391|         5575|https://i.ytimg.c...|            False|           False|                 False|►EQUIPMENT I use ...|\n",
            "|         dUMH6DVYskc|            17.15.11|Ten-Year-Old's Fa...|     Attaullah Malik|                  28|2017-11-14 12:02:49|\"iPhone X\"|\"Face ...| 390964|  3687|    1273|         1224|https://i.ytimg.c...|            False|           False|                 False|We are seeing a f...|\n",
            "|         gjXrm2Q-te4|            17.15.11|Jimmy Fallon Pays...|The Tonight Show ...|                  23|2017-11-14 04:55:24|\"Jimmy Fallon\"|\"T...|1611093| 58474|     837|         3294|https://i.ytimg.c...|            False|           False|                 False|Jimmy celebrates ...|\n",
            "|         9SK1I0V6U5c|            17.15.11|Lie Detector | An...|        Anwar Jibawi|                  23|2017-11-14 18:01:03|\"lie detector\"|\"a...| 983365| 60983|     578|         3837|https://i.ytimg.c...|            False|           False|                 False|SUBSCRIBE ► https...|\n",
            "|         VsYmwBOYfW8|            17.15.11|Mean Tweets – Jim...|   Jimmy Kimmel Live|                  23|2017-11-14 08:30:01|\"jimmy\"|\"jimmy ki...|2765121| 35529|    1705|         2388|https://i.ytimg.c...|            False|           False|                 False|In honor of Jimmy...|\n",
            "|         kgaO45SyaO4|            17.15.11|    The New SpotMini|      BostonDynamics|                  28|2017-11-13 20:09:58|\"Robots\"|\"Boston ...|3701763| 56561|    2495|        11608|https://i.ytimg.c...|            False|           False|                 False|For more informat...|\n",
            "|         CtBca6H6Teg|            17.15.11|Honest Trailers -...|      Screen Junkies|                   1|2017-11-14 18:00:01|\"batman\"|\"screenj...| 829132| 25109|     316|         3428|https://i.ytimg.c...|            False|           False|                 False|Before Justice Le...|\n",
            "|         pcWKpGzhgq4|            17.15.11|Jason Momoa Shows...|The Graham Norton...|                  24|2017-11-14 12:13:35|\"Graham Norton\"|\"...| 391049|  5939|     106|          385|https://i.ytimg.c...|            False|           False|                 False|It's not a triden...|\n",
            "|         L3br0klRqF4|            17.15.11|Watch live: Sessi...|     Washington Post|                  25|2017-11-14 21:51:20|\"breaking news vi...| 137003|   580|     262|          343|https://i.ytimg.c...|            False|           False|                 False|Attorney General ...|\n",
            "|         9kF9xY74h-E|            17.15.11|Spilling Tea Abou...|         Dolan Twins|                  23|2017-11-14 21:00:47|\"Dolan Twins\"|\"Sp...| 891912|122347|     455|         7459|https://i.ytimg.c...|            False|           False|                 False|We spill TEA abou...|\n",
            "|         p2EY93WfBQk|            17.15.11|Is the Morphe 350...|         Jackie Aina|                  26|2017-11-14 21:03:47|\"morphe\"|\"morphe ...| 175539| 17130|     264|         1747|https://i.ytimg.c...|            False|           False|                 False|hi babes! the lat...|\n",
            "|         xL_qpDkF5A8|            17.15.11|American Crime St...|           TV Promos|                  24|2017-11-15 01:25:18|\"Donatella Versac...|  14565|   478|      13|           67|https://i.ytimg.c...|            False|           False|                 False|The Assassination...|\n",
            "|         eQVhAN7-IAw|            17.15.11|The Making of a S...|        Taylor Swift|                  10|2017-11-15 03:43:47|\"DIRECTV\"|\"DIRECT...| 125645| 16754|      65|         1373|https://i.ytimg.c...|            False|           False|                 False|A glimpse into Ta...|\n",
            "+--------------------+--------------------+--------------------+--------------------+--------------------+-------------------+--------------------+-------+------+--------+-------------+--------------------+-----------------+----------------+----------------------+--------------------+\n",
            "only showing top 20 rows\n",
            "\n"
          ]
        }
      ]
    },
    {
      "cell_type": "code",
      "source": [
        "dft2 = spark.read.parquet('./datos.parquet').where(col('likes') > 5000)"
      ],
      "metadata": {
        "id": "d7m_ckMj8mcK"
      },
      "execution_count": 29,
      "outputs": []
    },
    {
      "cell_type": "code",
      "source": [
        "dft2.show()"
      ],
      "metadata": {
        "colab": {
          "base_uri": "https://localhost:8080/"
        },
        "id": "h3xyaMbL826K",
        "outputId": "3beeb314-8bc2-4eb5-c549-7756fdbdb35e"
      },
      "execution_count": 30,
      "outputs": [
        {
          "output_type": "stream",
          "name": "stdout",
          "text": [
            "+-----------+-------------+--------------------+--------------------+-----------+-------------------+--------------------+-------+------+--------+-------------+--------------------+-----------------+----------------+----------------------+--------------------+\n",
            "|   video_id|trending_date|               title|       channel_title|category_id|       publish_time|                tags|  views| likes|dislikes|comment_count|      thumbnail_link|comments_disabled|ratings_disabled|video_error_or_removed|         description|\n",
            "+-----------+-------------+--------------------+--------------------+-----------+-------------------+--------------------+-------+------+--------+-------------+--------------------+-----------------+----------------+----------------------+--------------------+\n",
            "|2kyS6SvSYSE|     17.14.11|WE WANT TO TALK A...|        CaseyNeistat|         22|2017-11-13 17:13:01|     SHANtell martin| 748374| 57527|    2966|        15954|https://i.ytimg.c...|            False|           False|                 False|SHANTELL'S CHANNE...|\n",
            "|1ZAPwfrtAFY|     17.14.11|The Trump Preside...|     LastWeekTonight|         24|2017-11-13 07:30:00|\"last week tonigh...|2418783| 97185|    6146|        12703|https://i.ytimg.c...|            False|           False|                 False|One year after th...|\n",
            "|5qpjK5DgCt4|     17.14.11|Racist Superman |...|        Rudy Mancuso|         23|2017-11-12 19:05:24|\"racist superman\"...|3191434|146033|    5339|         8181|https://i.ytimg.c...|            False|           False|                 False|WATCH MY PREVIOUS...|\n",
            "|puqaWrEC7tY|     17.14.11|Nickelback Lyrics...|Good Mythical Mor...|         24|2017-11-13 11:00:04|\"rhett and link\"|...| 343168| 10172|     666|         2146|https://i.ytimg.c...|            False|           False|                 False|Today we find out...|\n",
            "|d380meD0W0M|     17.14.11|I Dare You: GOING...|            nigahiga|         24|2017-11-12 18:01:41|\"ryan\"|\"higa\"|\"hi...|2095731|132235|    1989|        17518|https://i.ytimg.c...|            False|           False|                 False|I know it's been ...|\n",
            "|gHZ1Qz0KiKM|     17.14.11|2 Weeks with iPho...|            iJustine|         28|2017-11-13 19:07:23|\"ijustine\"|\"week ...| 119180|  9763|     511|         1434|https://i.ytimg.c...|            False|           False|                 False|Using the iPhone ...|\n",
            "|39idVpFF7NQ|     17.14.11|Roy Moore & Jeff ...| Saturday Night Live|         24|2017-11-12 05:37:17|\"SNL\"|\"Saturday N...|2103417| 15993|    2445|         1970|https://i.ytimg.c...|            False|           False|                 False|Embattled Alabama...|\n",
            "|nc99ccSXST0|     17.14.11|5 Ice Cream Gadge...|  CrazyRussianHacker|         28|2017-11-12 21:50:37|\"5 Ice Cream Gadg...| 817732| 23663|     778|         3432|https://i.ytimg.c...|            False|           False|                 False|Ice Cream Pint Co...|\n",
            "|TUmyygCMMGA|     17.14.11|Why the rise of t...|                 Vox|         25|2017-11-13 13:45:16|\"vox.com\"|\"vox\"|\"...| 256426| 12654|    1363|         2368|https://i.ytimg.c...|            False|           False|                 False|For now, at least...|\n",
            "|5E4ZBSInqUU|     17.14.11|Marshmello - Bloc...|          marshmello|         10|2017-11-13 17:00:00|\"marshmello\"|\"blo...| 687582|114188|    1333|         8371|https://i.ytimg.c...|            False|           False|                 False|WATCH SILENCE MUS...|\n",
            "|GgVmn66oK_A|     17.14.11|Which Countries A...|       NowThis World|         25|2017-11-12 14:00:00|\"nowthis\"|\"nowthi...| 544770|  7848|    1171|         3981|https://i.ytimg.c...|            False|           False|                 False|The world at larg...|\n",
            "|TaTleo4cOs8|     17.14.11|SHOPPING FOR NEW ...|     The king of DIY|         15|2017-11-12 18:30:01|\"shopping for new...| 207532|  7473|     246|         2120|https://i.ytimg.c...|            False|           False|                 False|Today we go shopp...|\n",
            "|kgaO45SyaO4|     17.14.11|    The New SpotMini|      BostonDynamics|         28|2017-11-13 20:09:58|\"Robots\"|\"Boston ...|  75752|  9419|      52|         1230|https://i.ytimg.c...|            False|           False|                 False|For more informat...|\n",
            "|ZAQs-ctOqXQ|     17.14.11|One Change That W...|             Cracked|         23|2017-11-12 17:00:05|\"pacific rim\"|\"pa...| 295639|  8011|     638|         1256|https://i.ytimg.c...|            False|           False|                 False|Pacific Rim was s...|\n",
            "|YVfyYrEmzgM|     17.14.11|How does your bod...|              TED-Ed|         27|2017-11-13 16:00:07|\"TED\"|\"TED-Ed\"|\"T...|  78044|  5398|      53|          385|https://i.ytimg.c...|            False|           False|                 False|Check out our Pat...|\n",
            "|eNSN6qet1kE|     17.14.11|HomeMade Electric...|         PeterSripol|         28|2017-11-13 15:30:17|\"ultralight\"|\"air...|  97007| 11963|      36|         2211|https://i.ytimg.c...|            False|           False|                 False|aaaannnd now to f...|\n",
            "|B5HORANmzHw|     17.14.11|Founding An Inbre...|             SciShow|         27|2017-11-12 22:00:01|\"SciShow\"|\"scienc...| 223871|  8421|     191|         1214|https://i.ytimg.c...|            False|           False|                 False|Thanks to 23AndMe...|\n",
            "|vU14JY3x81A|     17.14.11|How Can You Contr...|         Life Noggin|         27|2017-11-13 14:00:03|\"life noggin\"|\"li...| 115791|  9586|      75|         2800|https://i.ytimg.c...|            False|           False|                 False|What if there was...|\n",
            "|_-aDHxoblr4|     17.14.11|Is It Dangerous T...|           Tom Scott|         27|2017-11-13 16:00:03|\"tom scott\"|\"toms...| 144418| 11758|      89|         1014|https://i.ytimg.c...|            False|           False|                 False|I'm visiting the ...|\n",
            "|dRpNZV18N_g|     17.14.11|SPAGHETTI BURRITO...|     HellthyJunkFood|         24|2017-11-12 14:00:04|\"spaghetti burrit...| 223077|  8676|     193|         1392|https://i.ytimg.c...|            False|           False|                 False|Visit http://www....|\n",
            "+-----------+-------------+--------------------+--------------------+-----------+-------------------+--------------------+-------+------+--------+-------------+--------------------+-----------------+----------------+----------------------+--------------------+\n",
            "only showing top 20 rows\n",
            "\n"
          ]
        }
      ]
    },
    {
      "cell_type": "code",
      "source": [
        "#Manera \n",
        "dft2.filter((col('trending_date') != '17.14.11') & (col('likes') > 7000)).show()"
      ],
      "metadata": {
        "id": "2i42QD5lAPyx"
      },
      "execution_count": null,
      "outputs": []
    },
    {
      "cell_type": "code",
      "source": [
        "#Manera 2 con filter\n",
        "dft2.filter(col('trending_date') != '17.14.11').filter(col('likes') > 7000).show()"
      ],
      "metadata": {
        "colab": {
          "base_uri": "https://localhost:8080/"
        },
        "id": "_H6qQN74AY4h",
        "outputId": "7f98f8ff-3130-40a0-849f-7048f0cdacca"
      },
      "execution_count": 34,
      "outputs": [
        {
          "output_type": "stream",
          "name": "stdout",
          "text": [
            "+-----------+-------------+--------------------+--------------------+-----------+-------------------+--------------------+-------+------+--------+-------------+--------------------+-----------------+----------------+----------------------+--------------------+\n",
            "|   video_id|trending_date|               title|       channel_title|category_id|       publish_time|                tags|  views| likes|dislikes|comment_count|      thumbnail_link|comments_disabled|ratings_disabled|video_error_or_removed|         description|\n",
            "+-----------+-------------+--------------------+--------------------+-----------+-------------------+--------------------+-------+------+--------+-------------+--------------------+-----------------+----------------+----------------------+--------------------+\n",
            "|YvfYK0EEhK4|     17.15.11|Brent Pella - Why...|         Brent Pella|         23|2017-11-14 15:32:51|\"spirit airlines\"...| 462490| 14132|     795|          666|https://i.ytimg.c...|            False|           False|                 False|Traveling for the...|\n",
            "|bAkEd8r7Nnw|     17.15.11|Slow Mo Katana Sw...|    The Slow Mo Guys|         24|2017-11-14 18:31:20|\"slomo\"|\"slow\"|\"m...|1525400| 63995|     896|         4697|https://i.ytimg.c...|            False|           False|                 False|Has Dan ever used...|\n",
            "|ItYOdWRo0JY|     17.15.11|Selling My iPhone...|          TechSmartt|         28|2017-11-14 00:45:15|\"iphone x\"|\"iphon...|1836419| 28647|   17815|         7860|https://i.ytimg.c...|            False|           False|                 False|I saw the EcoATM ...|\n",
            "|5530I_pYjbo|     17.15.11|How I Trained My ...|         JunsKitchen|         26|2017-11-14 12:06:56|\"how\"|\"trained\"|\"...| 977285| 87615|     391|         5575|https://i.ytimg.c...|            False|           False|                 False|►EQUIPMENT I use ...|\n",
            "|gjXrm2Q-te4|     17.15.11|Jimmy Fallon Pays...|The Tonight Show ...|         23|2017-11-14 04:55:24|\"Jimmy Fallon\"|\"T...|1611093| 58474|     837|         3294|https://i.ytimg.c...|            False|           False|                 False|Jimmy celebrates ...|\n",
            "|9SK1I0V6U5c|     17.15.11|Lie Detector | An...|        Anwar Jibawi|         23|2017-11-14 18:01:03|\"lie detector\"|\"a...| 983365| 60983|     578|         3837|https://i.ytimg.c...|            False|           False|                 False|SUBSCRIBE ► https...|\n",
            "|VsYmwBOYfW8|     17.15.11|Mean Tweets – Jim...|   Jimmy Kimmel Live|         23|2017-11-14 08:30:01|\"jimmy\"|\"jimmy ki...|2765121| 35529|    1705|         2388|https://i.ytimg.c...|            False|           False|                 False|In honor of Jimmy...|\n",
            "|kgaO45SyaO4|     17.15.11|    The New SpotMini|      BostonDynamics|         28|2017-11-13 20:09:58|\"Robots\"|\"Boston ...|3701763| 56561|    2495|        11608|https://i.ytimg.c...|            False|           False|                 False|For more informat...|\n",
            "|CtBca6H6Teg|     17.15.11|Honest Trailers -...|      Screen Junkies|          1|2017-11-14 18:00:01|\"batman\"|\"screenj...| 829132| 25109|     316|         3428|https://i.ytimg.c...|            False|           False|                 False|Before Justice Le...|\n",
            "|9kF9xY74h-E|     17.15.11|Spilling Tea Abou...|         Dolan Twins|         23|2017-11-14 21:00:47|\"Dolan Twins\"|\"Sp...| 891912|122347|     455|         7459|https://i.ytimg.c...|            False|           False|                 False|We spill TEA abou...|\n",
            "|p2EY93WfBQk|     17.15.11|Is the Morphe 350...|         Jackie Aina|         26|2017-11-14 21:03:47|\"morphe\"|\"morphe ...| 175539| 17130|     264|         1747|https://i.ytimg.c...|            False|           False|                 False|hi babes! the lat...|\n",
            "|eQVhAN7-IAw|     17.15.11|The Making of a S...|        Taylor Swift|         10|2017-11-15 03:43:47|\"DIRECTV\"|\"DIRECT...| 125645| 16754|      65|         1373|https://i.ytimg.c...|            False|           False|                 False|A glimpse into Ta...|\n",
            "|2kyS6SvSYSE|     17.15.11|WE WANT TO TALK A...|        CaseyNeistat|         22|2017-11-13 17:13:01|     SHANtell martin|2188590| 88099|    7150|        24225|https://i.ytimg.c...|            False|           False|                 False|SHANTELL'S CHANNE...|\n",
            "|Y9nDagqKL7Q|     17.15.11|venting online ab...|               ProZD|          1|2017-11-13 20:47:49|\"venting online\"|...| 394709| 25188|     281|         1345|https://i.ytimg.c...|            False|           False|                 False|My Twitter: https...|\n",
            "|DbJ2s_g1oDc|     17.15.11|10 LIFE HACKS YOU...|               REACT|         24|2017-11-13 20:00:01|\"easy life hacks\"...| 863116| 20518|    1030|         4272|https://i.ytimg.c...|            False|           False|                 False|10 Awesome life h...|\n",
            "|1ZAPwfrtAFY|     17.15.11|The Trump Preside...|     LastWeekTonight|         24|2017-11-13 07:30:00|\"last week tonigh...|4632016|131784|    9892|        18284|https://i.ytimg.c...|            False|           False|                 False|One year after th...|\n",
            "|gHZ1Qz0KiKM|     17.15.11|2 Weeks with iPho...|            iJustine|         28|2017-11-13 19:07:23|\"ijustine\"|\"week ...| 758998| 19138|    2272|         2873|https://i.ytimg.c...|            False|           False|                 False|Using the iPhone ...|\n",
            "|jr9QtXwC9vc|     17.15.11|The Greatest Show...|    20th Century Fox|          1|2017-11-13 14:00:23|\"Trailer\"|\"Hugh J...|2671756| 12699|     505|         1010|https://i.ytimg.c...|            False|           False|                 False|Inspired by the i...|\n",
            "|l4bAoNAx2uo|     17.15.11|American Things E...|The Infographics ...|         27|2017-11-13 17:11:30|\"American Things ...| 419965|  9805|    1337|         5457|https://i.ytimg.c...|            False|           False|                 False|What are things t...|\n",
            "|puqaWrEC7tY|     17.15.11|Nickelback Lyrics...|Good Mythical Mor...|         24|2017-11-13 11:00:04|\"rhett and link\"|...| 772235| 15301|    1229|         3328|https://i.ytimg.c...|            False|           False|                 False|Today we find out...|\n",
            "+-----------+-------------+--------------------+--------------------+-----------+-------------------+--------------------+-------+------+--------+-------------+--------------------+-----------------+----------------+----------------------+--------------------+\n",
            "only showing top 20 rows\n",
            "\n"
          ]
        }
      ]
    },
    {
      "cell_type": "markdown",
      "source": [
        "# Distinct\n",
        "Elimina duplicados"
      ],
      "metadata": {
        "id": "URlzWdMyBpNj"
      }
    },
    {
      "cell_type": "code",
      "source": [
        "df_sin_duplicados = dft.distinct()"
      ],
      "metadata": {
        "id": "nF3IFIXKBL_v"
      },
      "execution_count": 35,
      "outputs": []
    },
    {
      "cell_type": "code",
      "source": [
        "print('Conteo total del DF {}'.format(dft.count()))\n",
        "print('Conteo sin duplicados {}'.format(df_sin_duplicados.count()))"
      ],
      "metadata": {
        "colab": {
          "base_uri": "https://localhost:8080/"
        },
        "id": "t_XzG7cIB8VM",
        "outputId": "3bb1f76a-bec6-4f60-8bbe-f23100e6d7c3"
      },
      "execution_count": 37,
      "outputs": [
        {
          "output_type": "stream",
          "name": "stdout",
          "text": [
            "Conteo total del DF 48137\n",
            "Conteo sin duplicados 41428\n"
          ]
        }
      ]
    },
    {
      "cell_type": "markdown",
      "source": [
        "# Drop Duplicate"
      ],
      "metadata": {
        "id": "A1Vvjx9SC5Cg"
      }
    },
    {
      "cell_type": "code",
      "source": [
        "dataframe = spark.createDataFrame([(1,'azul',567),(2,'rojo',487),(1,'azul', 345),(2,'verde',783)]).toDF('id','color','importe')"
      ],
      "metadata": {
        "id": "gBQSqRczClli"
      },
      "execution_count": 14,
      "outputs": []
    },
    {
      "cell_type": "code",
      "source": [
        "dataframe.show()"
      ],
      "metadata": {
        "colab": {
          "base_uri": "https://localhost:8080/"
        },
        "id": "EVtsf04xDe0J",
        "outputId": "0c9320aa-c41f-43e1-f5a5-43f3959bcc65"
      },
      "execution_count": 39,
      "outputs": [
        {
          "output_type": "stream",
          "name": "stdout",
          "text": [
            "+---+-----+-------+\n",
            "| id|color|importe|\n",
            "+---+-----+-------+\n",
            "|  1| azul|    567|\n",
            "|  2| rojo|    487|\n",
            "|  1| azul|    345|\n",
            "|  2|verde|    783|\n",
            "+---+-----+-------+\n",
            "\n"
          ]
        }
      ]
    },
    {
      "cell_type": "code",
      "source": [
        "#Toma como referencia que borrar\n",
        "dataframe.dropDuplicates(['id','color']).show()"
      ],
      "metadata": {
        "colab": {
          "base_uri": "https://localhost:8080/"
        },
        "id": "bp5WNlSeDgNr",
        "outputId": "e52933ac-bf92-4542-92cd-b14d9ee977b4"
      },
      "execution_count": 42,
      "outputs": [
        {
          "output_type": "stream",
          "name": "stdout",
          "text": [
            "+---+-----+-------+\n",
            "| id|color|importe|\n",
            "+---+-----+-------+\n",
            "|  1| azul|    567|\n",
            "|  2| rojo|    487|\n",
            "|  2|verde|    783|\n",
            "+---+-----+-------+\n",
            "\n"
          ]
        }
      ]
    },
    {
      "cell_type": "markdown",
      "source": [
        "# Sort"
      ],
      "metadata": {
        "id": "1xBAYFPtM8sT"
      }
    },
    {
      "cell_type": "code",
      "source": [
        "dft.select(col('likes'),col('views'),col('video_id'),col('dislikes')).dropDuplicates(['video_id']).show()"
      ],
      "metadata": {
        "colab": {
          "base_uri": "https://localhost:8080/"
        },
        "id": "ULkOJQ36D8be",
        "outputId": "e0de042e-9b2a-469f-f7e6-ff0d41d8cb2e"
      },
      "execution_count": 45,
      "outputs": [
        {
          "output_type": "stream",
          "name": "stdout",
          "text": [
            "+------+-------+--------------------+--------+\n",
            "| likes|  views|            video_id|dislikes|\n",
            "+------+-------+--------------------+--------+\n",
            "| 63995|1525400|         bAkEd8r7Nnw|     896|\n",
            "|   427|   9036|         eijd-yjXY9E|      14|\n",
            "|  4145| 318249|         npcqBt_e4k0|     110|\n",
            "|  6669| 203615|         LeWtF5y9-6Q|     136|\n",
            "|  2166| 104499|         GhcqN2FDAnA|    1066|\n",
            "| 10834| 160196|         v_CMMWCN5nQ|     162|\n",
            "| 36068| 962042|         R8WBN3fJmwM|     845|\n",
            "|   982|  36848|         oKuPJ7zF0_k|       6|\n",
            "| 26482| 713615|         B3JFSL8AA70|    2443|\n",
            "|275632|2822642|         f6Egj7ncOi8|    1444|\n",
            "| 23922| 321885|         8gE6cek7F30|     317|\n",
            "|    70|  13670|         EdkK29-TWJk|       1|\n",
            "|  1131| 120802|         8szK9FBpdPI|      92|\n",
            "| 12355| 294080|         6gFj1XJ6b5o|      80|\n",
            "|  null|   null|\\nhttp://www.Mast...|    null|\n",
            "| 12070| 233766|         wOFuVNiAJQQ|     117|\n",
            "| 21067| 210371|         PpElRBQ-yGc|     135|\n",
            "|  4609| 363194|         q11UD-6XT-8|     955|\n",
            "|   188|  31145|         IzQwbRdh5Ts|       1|\n",
            "|  2184|  74090|         IfdihPR__WI|      47|\n",
            "+------+-------+--------------------+--------+\n",
            "only showing top 20 rows\n",
            "\n"
          ]
        }
      ]
    },
    {
      "cell_type": "code",
      "source": [
        "dft.select(col('likes'),col('views'),col('video_id'),col('dislikes')).dropDuplicates(['video_id']).sort('likes').show()"
      ],
      "metadata": {
        "colab": {
          "base_uri": "https://localhost:8080/"
        },
        "id": "vGS4fmulN4EM",
        "outputId": "b5b1b5a6-9c20-4623-b0fb-0cf113bca9b8"
      },
      "execution_count": 47,
      "outputs": [
        {
          "output_type": "stream",
          "name": "stdout",
          "text": [
            "+-----+-----+--------------------+--------+\n",
            "|likes|views|            video_id|dislikes|\n",
            "+-----+-----+--------------------+--------+\n",
            "| null| null|\\nFor more videos...|    null|\n",
            "| null| null|\\nFashion Editor:...|    null|\n",
            "| null| null|\\nAccess Hollywoo...|    null|\n",
            "| null| null|\\nStill haven’t s...|    null|\n",
            "| null| null|\\nhttps://www.you...|    null|\n",
            "| null| null|Horror Outro ► ht...|    null|\n",
            "| null| null|\\nChapped lips ar...|    null|\n",
            "| null| null|\\nRoar: https://w...|    null|\n",
            "| null| null|\\nThe leading int...|    null|\n",
            "| null| null|             \\nToday|    null|\n",
            "| null| null|\\nONE STRANGE ROC...|    null|\n",
            "| null| null|\\nSNAPCHAT: fishi...|    null|\n",
            "| null| null|\\nInstagram: http...|    null|\n",
            "| null| null|\\nInstagram.com/w...|    null|\n",
            "| null| null|\\n5050 State Hwy....|    null|\n",
            "| null| null|\\nSIGN UP FOR BRA...|    null|\n",
            "| null| null|\\nJames Ambler an...|    null|\n",
            "| null| null|\\nhttp://www.Mast...|    null|\n",
            "| null| null|\\nEver After Tuto...|    null|\n",
            "| null| null|          \\nEvelin 7|    null|\n",
            "+-----+-----+--------------------+--------+\n",
            "only showing top 20 rows\n",
            "\n"
          ]
        }
      ]
    },
    {
      "cell_type": "code",
      "source": [
        "#importar desc\n",
        "from pyspark.sql.functions import desc"
      ],
      "metadata": {
        "id": "oO911vdEOgkk"
      },
      "execution_count": 48,
      "outputs": []
    },
    {
      "cell_type": "code",
      "source": [
        "dft.select(col('likes'),col('views'),col('video_id'),col('dislikes')).dropDuplicates(['video_id']).sort(desc('likes')).show()"
      ],
      "metadata": {
        "colab": {
          "base_uri": "https://localhost:8080/"
        },
        "id": "vR0vHdKYOupy",
        "outputId": "56cee54b-c710-4a36-9da2-12a7c421cca3"
      },
      "execution_count": 49,
      "outputs": [
        {
          "output_type": "stream",
          "name": "stdout",
          "text": [
            "+-------+--------+-----------+--------+\n",
            "|  likes|   views|   video_id|dislikes|\n",
            "+-------+--------+-----------+--------+\n",
            "|3880071|39349927|7C2z4GqqS5E|   72707|\n",
            "|2055137|13945717|kTlv5_Bs8aw|   23888|\n",
            "|2050527|10695328|OK3GJ0WIQ8s|   14711|\n",
            "|1956202|10666323|p8npDG2ulKQ|   13966|\n",
            "|1735895|37736281|6ZfuNTqbHE8|   21969|\n",
            "|1634124|33523622|2Vv-BfVoq4g|   21082|\n",
            "|1572997| 7518332|kX0vO4vlJuU|    8113|\n",
            "|1437859| 5884233|D_6QmL6rExk|    6390|\n",
            "|1405355|31648454|VYOjWnS4cMY|   51547|\n",
            "|1401915| 5275672|8O_MwlZ2dEg|    6268|\n",
            "|1386616|15873034|ffxKSjUwKdU|   40714|\n",
            "|1366736|16884972|J2HytHu5VBI|   59930|\n",
            "|1290509| 6416697|2tDKp41nrw8|    4358|\n",
            "|1207457|13754992|_5d-sQ7Fh5M|  280675|\n",
            "|1167488| 8041970|oWjxSkJpxFU|  147643|\n",
            "|1149185|24782158|FlsCjmMhFmw|  483924|\n",
            "|1111592|38873543|i0p1bmr0EmE|   96407|\n",
            "|1065777|14089954|dfnCAmr569k|   47839|\n",
            "| 983693|14820746|tCXGJQYZ9JA|   44254|\n",
            "| 975715|19716689|QwievZ1Tx-8|    9118|\n",
            "+-------+--------+-----------+--------+\n",
            "only showing top 20 rows\n",
            "\n"
          ]
        }
      ]
    },
    {
      "cell_type": "markdown",
      "source": [
        "# OrderBy\n",
        "es mas relacional"
      ],
      "metadata": {
        "id": "AiPi5tRuO_tU"
      }
    },
    {
      "cell_type": "code",
      "source": [
        "dataframe.show()"
      ],
      "metadata": {
        "colab": {
          "base_uri": "https://localhost:8080/"
        },
        "id": "fMqUapFJPuF2",
        "outputId": "3fcbf53f-77c3-4153-ab29-61730d9abd82"
      },
      "execution_count": 50,
      "outputs": [
        {
          "output_type": "stream",
          "name": "stdout",
          "text": [
            "+---+-----+-------+\n",
            "| id|color|importe|\n",
            "+---+-----+-------+\n",
            "|  1| azul|    567|\n",
            "|  2| rojo|    487|\n",
            "|  1| azul|    345|\n",
            "|  2|verde|    783|\n",
            "+---+-----+-------+\n",
            "\n"
          ]
        }
      ]
    },
    {
      "cell_type": "code",
      "source": [
        "dataframe.orderBy(col('color').desc(), col('importe')).show()"
      ],
      "metadata": {
        "colab": {
          "base_uri": "https://localhost:8080/"
        },
        "id": "-dDH0n-dPv4P",
        "outputId": "aa462038-8f8a-4579-dab6-67f330ef98a6"
      },
      "execution_count": 52,
      "outputs": [
        {
          "output_type": "stream",
          "name": "stdout",
          "text": [
            "+---+-----+-------+\n",
            "| id|color|importe|\n",
            "+---+-----+-------+\n",
            "|  2|verde|    783|\n",
            "|  2| rojo|    487|\n",
            "|  1| azul|    345|\n",
            "|  1| azul|    567|\n",
            "+---+-----+-------+\n",
            "\n"
          ]
        }
      ]
    },
    {
      "cell_type": "markdown",
      "source": [
        "# Limit"
      ],
      "metadata": {
        "id": "Ir4m38QNQXh1"
      }
    },
    {
      "cell_type": "code",
      "source": [
        "top_10 = dft.orderBy(col('views').desc()).limit(10)"
      ],
      "metadata": {
        "id": "kYSxzWwbP50P"
      },
      "execution_count": 53,
      "outputs": []
    },
    {
      "cell_type": "code",
      "source": [
        "top_10.show()"
      ],
      "metadata": {
        "colab": {
          "base_uri": "https://localhost:8080/"
        },
        "id": "8GOLYD3gQk0X",
        "outputId": "60b60e95-aeb3-4283-a4e8-eba68f05c9ee"
      },
      "execution_count": 54,
      "outputs": [
        {
          "output_type": "stream",
          "name": "stdout",
          "text": [
            "+-----------+-------------+--------------------+-------------------+-----------+-------------------+--------------------+---------+-------+--------+-------------+--------------------+-----------------+----------------+----------------------+--------------------+\n",
            "|   video_id|trending_date|               title|      channel_title|category_id|       publish_time|                tags|    views|  likes|dislikes|comment_count|      thumbnail_link|comments_disabled|ratings_disabled|video_error_or_removed|         description|\n",
            "+-----------+-------------+--------------------+-------------------+-----------+-------------------+--------------------+---------+-------+--------+-------------+--------------------+-----------------+----------------+----------------------+--------------------+\n",
            "|VYOjWnS4cMY|     18.02.06|Childish Gambino ...|ChildishGambinoVEVO|         10|2018-05-06 04:00:07|\"Childish Gambino...|225211923|5023450|  343541|       517232|https://i.ytimg.c...|            False|           False|                 False|“This is America”...|\n",
            "|VYOjWnS4cMY|     18.01.06|Childish Gambino ...|ChildishGambinoVEVO|         10|2018-05-06 04:00:07|\"Childish Gambino...|220490543|4962403|  338105|       512337|https://i.ytimg.c...|            False|           False|                 False|“This is America”...|\n",
            "|VYOjWnS4cMY|     18.31.05|Childish Gambino ...|ChildishGambinoVEVO|         10|2018-05-06 04:00:07|\"Childish Gambino...|217750076|4934188|  335462|       509799|https://i.ytimg.c...|            False|           False|                 False|“This is America”...|\n",
            "|VYOjWnS4cMY|     18.30.05|Childish Gambino ...|ChildishGambinoVEVO|         10|2018-05-06 04:00:07|\"Childish Gambino...|210338856|4836448|  326902|       501722|https://i.ytimg.c...|            False|           False|                 False|“This is America”...|\n",
            "|VYOjWnS4cMY|     18.29.05|Childish Gambino ...|ChildishGambinoVEVO|         10|2018-05-06 04:00:07|\"Childish Gambino...|205643016|4776680|  321493|       496211|https://i.ytimg.c...|            False|           False|                 False|“This is America”...|\n",
            "|VYOjWnS4cMY|     18.28.05|Childish Gambino ...|ChildishGambinoVEVO|         10|2018-05-06 04:00:07|\"Childish Gambino...|200820941|4714942|  316129|       491005|https://i.ytimg.c...|            False|           False|                 False|“This is America”...|\n",
            "|VYOjWnS4cMY|     18.27.05|Childish Gambino ...|ChildishGambinoVEVO|         10|2018-05-06 04:00:07|\"Childish Gambino...|196222618|4656929|  311042|       485797|https://i.ytimg.c...|            False|           False|                 False|“This is America”...|\n",
            "|VYOjWnS4cMY|     18.26.05|Childish Gambino ...|ChildishGambinoVEVO|         10|2018-05-06 04:00:07|\"Childish Gambino...|190950401|4594931|  305435|       479917|https://i.ytimg.c...|            False|           False|                 False|“This is America”...|\n",
            "|VYOjWnS4cMY|     18.25.05|Childish Gambino ...|ChildishGambinoVEVO|         10|2018-05-06 04:00:07|\"Childish Gambino...|184446490|4512326|  298157|       473039|https://i.ytimg.c...|            False|           False|                 False|“This is America”...|\n",
            "|VYOjWnS4cMY|     18.24.05|Childish Gambino ...|ChildishGambinoVEVO|         10|2018-05-06 04:00:07|\"Childish Gambino...|179045286|4437175|  291098|       466470|https://i.ytimg.c...|            False|           False|                 False|“This is America”...|\n",
            "+-----------+-------------+--------------------+-------------------+-----------+-------------------+--------------------+---------+-------+--------+-------------+--------------------+-----------------+----------------+----------------------+--------------------+\n",
            "\n"
          ]
        }
      ]
    },
    {
      "cell_type": "code",
      "source": [
        "dft.select(col('likes'),col('views'),col('video_id'),col('dislikes')).dropDuplicates(['video_id']).orderBy(col('views').desc()).limit(10).show()"
      ],
      "metadata": {
        "colab": {
          "base_uri": "https://localhost:8080/"
        },
        "id": "96elXaP8Ql_P",
        "outputId": "58d926d9-b9df-44f7-d599-b19bc04d89f2"
      },
      "execution_count": 56,
      "outputs": [
        {
          "output_type": "stream",
          "name": "stdout",
          "text": [
            "+-------+--------+-----------+--------+\n",
            "|  likes|   views|   video_id|dislikes|\n",
            "+-------+--------+-----------+--------+\n",
            "| 609101|48431654|-BQJo3vK8O8|   52259|\n",
            "|3880071|39349927|7C2z4GqqS5E|   72707|\n",
            "|1111592|38873543|i0p1bmr0EmE|   96407|\n",
            "|1735895|37736281|6ZfuNTqbHE8|   21969|\n",
            "|1634124|33523622|2Vv-BfVoq4g|   21082|\n",
            "|1405355|31648454|VYOjWnS4cMY|   51547|\n",
            "| 850362|27973210|u9Mv98Gr5pY|   26541|\n",
            "|1149185|24782158|FlsCjmMhFmw|  483924|\n",
            "| 641546|24421448|U9BwWKXjVaI|   16517|\n",
            "| 587326|23758250|1J76wN0TPI4|   18799|\n",
            "+-------+--------+-----------+--------+\n",
            "\n"
          ]
        }
      ]
    },
    {
      "cell_type": "markdown",
      "source": [
        "# WithColumn"
      ],
      "metadata": {
        "id": "FxoF6zyqWGvA"
      }
    },
    {
      "cell_type": "markdown",
      "source": [
        "agregar una nueva columna"
      ],
      "metadata": {
        "id": "PyBOURNQWQ7G"
      }
    },
    {
      "cell_type": "code",
      "source": [
        "df_valoracion = dft.withColumn('valoracion',col('likes') - col('dislikes'))"
      ],
      "metadata": {
        "id": "EdoJFliCRFHX"
      },
      "execution_count": 57,
      "outputs": []
    },
    {
      "cell_type": "code",
      "source": [
        "df_valoracion.printSchema()"
      ],
      "metadata": {
        "colab": {
          "base_uri": "https://localhost:8080/"
        },
        "id": "Nnmh0YRLWlst",
        "outputId": "1044c82e-ae58-4b13-a31c-8be7c3e669ac"
      },
      "execution_count": 58,
      "outputs": [
        {
          "output_type": "stream",
          "name": "stdout",
          "text": [
            "root\n",
            " |-- video_id: string (nullable = true)\n",
            " |-- trending_date: string (nullable = true)\n",
            " |-- title: string (nullable = true)\n",
            " |-- channel_title: string (nullable = true)\n",
            " |-- category_id: string (nullable = true)\n",
            " |-- publish_time: timestamp (nullable = true)\n",
            " |-- tags: string (nullable = true)\n",
            " |-- views: integer (nullable = true)\n",
            " |-- likes: integer (nullable = true)\n",
            " |-- dislikes: integer (nullable = true)\n",
            " |-- comment_count: integer (nullable = true)\n",
            " |-- thumbnail_link: string (nullable = true)\n",
            " |-- comments_disabled: string (nullable = true)\n",
            " |-- ratings_disabled: string (nullable = true)\n",
            " |-- video_error_or_removed: string (nullable = true)\n",
            " |-- description: string (nullable = true)\n",
            " |-- valoracion: integer (nullable = true)\n",
            "\n"
          ]
        }
      ]
    },
    {
      "cell_type": "code",
      "source": [
        "df_valoracion1 = (dft.withColumn('valoracion',col('likes') - col('dislikes'))\n",
        "                     .withColumn('res_div',col('valoracion') % 10)\n",
        ")"
      ],
      "metadata": {
        "id": "EGoTDlsUWrGg"
      },
      "execution_count": 59,
      "outputs": []
    },
    {
      "cell_type": "code",
      "source": [
        "df_valoracion1.printSchema()"
      ],
      "metadata": {
        "colab": {
          "base_uri": "https://localhost:8080/"
        },
        "id": "8lzFbNvUXsTe",
        "outputId": "73fc491f-e635-41e6-cdfa-175b3d52ff66"
      },
      "execution_count": 60,
      "outputs": [
        {
          "output_type": "stream",
          "name": "stdout",
          "text": [
            "root\n",
            " |-- video_id: string (nullable = true)\n",
            " |-- trending_date: string (nullable = true)\n",
            " |-- title: string (nullable = true)\n",
            " |-- channel_title: string (nullable = true)\n",
            " |-- category_id: string (nullable = true)\n",
            " |-- publish_time: timestamp (nullable = true)\n",
            " |-- tags: string (nullable = true)\n",
            " |-- views: integer (nullable = true)\n",
            " |-- likes: integer (nullable = true)\n",
            " |-- dislikes: integer (nullable = true)\n",
            " |-- comment_count: integer (nullable = true)\n",
            " |-- thumbnail_link: string (nullable = true)\n",
            " |-- comments_disabled: string (nullable = true)\n",
            " |-- ratings_disabled: string (nullable = true)\n",
            " |-- video_error_or_removed: string (nullable = true)\n",
            " |-- description: string (nullable = true)\n",
            " |-- valoracion: integer (nullable = true)\n",
            " |-- res_div: integer (nullable = true)\n",
            "\n"
          ]
        }
      ]
    },
    {
      "cell_type": "code",
      "source": [
        "df_valoracion1.select(col('likes'), col('dislikes'), col('valoracion'), col('res_div')).show()"
      ],
      "metadata": {
        "colab": {
          "base_uri": "https://localhost:8080/"
        },
        "id": "ylxd9Q05XvWO",
        "outputId": "cfe65232-3435-4b78-d99b-95decfa00b86"
      },
      "execution_count": 61,
      "outputs": [
        {
          "output_type": "stream",
          "name": "stdout",
          "text": [
            "+------+--------+----------+-------+\n",
            "| likes|dislikes|valoracion|res_div|\n",
            "+------+--------+----------+-------+\n",
            "| 57527|    2966|     54561|      1|\n",
            "| 97185|    6146|     91039|      9|\n",
            "|146033|    5339|    140694|      4|\n",
            "| 10172|     666|      9506|      6|\n",
            "|132235|    1989|    130246|      6|\n",
            "|  9763|     511|      9252|      2|\n",
            "| 15993|    2445|     13548|      8|\n",
            "| 23663|     778|     22885|      5|\n",
            "|  3543|     119|      3424|      4|\n",
            "| 12654|    1363|     11291|      1|\n",
            "|   655|      25|       630|      0|\n",
            "|  1576|     303|      1273|      3|\n",
            "|114188|    1333|    112855|      5|\n",
            "|  7848|    1171|      6677|      7|\n",
            "|  7473|     246|      7227|      7|\n",
            "|  9419|      52|      9367|      7|\n",
            "|  8011|     638|      7373|      3|\n",
            "|  5398|      53|      5345|      5|\n",
            "| 11963|      36|     11927|      7|\n",
            "|  8421|     191|      8230|      0|\n",
            "+------+--------+----------+-------+\n",
            "only showing top 20 rows\n",
            "\n"
          ]
        }
      ]
    },
    {
      "cell_type": "markdown",
      "source": [
        "# With Column Renamed\n",
        "cambiar el nombre de la columna"
      ],
      "metadata": {
        "id": "dz2BYaY6ePBG"
      }
    },
    {
      "cell_type": "code",
      "source": [
        "dataframe.show()"
      ],
      "metadata": {
        "colab": {
          "base_uri": "https://localhost:8080/"
        },
        "id": "YFcebnpLX8-l",
        "outputId": "1940caf0-6f2e-4deb-b4b7-2538689d6b21"
      },
      "execution_count": 15,
      "outputs": [
        {
          "output_type": "stream",
          "name": "stdout",
          "text": [
            "+---+-----+-------+\n",
            "| id|color|importe|\n",
            "+---+-----+-------+\n",
            "|  1| azul|    567|\n",
            "|  2| rojo|    487|\n",
            "|  1| azul|    345|\n",
            "|  2|verde|    783|\n",
            "+---+-----+-------+\n",
            "\n"
          ]
        }
      ]
    },
    {
      "cell_type": "code",
      "source": [
        "df_renombrado = dataframe.withColumnRenamed('importe','Importe total')"
      ],
      "metadata": {
        "id": "9sLKS7affmFM"
      },
      "execution_count": 16,
      "outputs": []
    },
    {
      "cell_type": "code",
      "source": [
        "df_renombrado.show()"
      ],
      "metadata": {
        "colab": {
          "base_uri": "https://localhost:8080/"
        },
        "id": "an3txhspfyaY",
        "outputId": "cb74d3e7-c095-4583-cfd3-f0d3db807492"
      },
      "execution_count": 17,
      "outputs": [
        {
          "output_type": "stream",
          "name": "stdout",
          "text": [
            "+---+-----+-------------+\n",
            "| id|color|Importe total|\n",
            "+---+-----+-------------+\n",
            "|  1| azul|          567|\n",
            "|  2| rojo|          487|\n",
            "|  1| azul|          345|\n",
            "|  2|verde|          783|\n",
            "+---+-----+-------------+\n",
            "\n"
          ]
        }
      ]
    },
    {
      "cell_type": "markdown",
      "source": [
        "Nota* si la columna no existe no te manda error"
      ],
      "metadata": {
        "id": "8uTKNf-ahDbT"
      }
    },
    {
      "cell_type": "markdown",
      "source": [
        "# Transformaciones"
      ],
      "metadata": {
        "id": "cEX4frsNhW24"
      }
    },
    {
      "cell_type": "code",
      "source": [
        "dataf = spark.read.parquet('./datos.parquet')"
      ],
      "metadata": {
        "id": "9-rPilqOhWmx"
      },
      "execution_count": 21,
      "outputs": []
    },
    {
      "cell_type": "code",
      "source": [
        "dataf.show()"
      ],
      "metadata": {
        "colab": {
          "base_uri": "https://localhost:8080/"
        },
        "id": "odQwAjdGhnQZ",
        "outputId": "c9c04fc9-bfba-4bc6-b747-b61747bd3a0d"
      },
      "execution_count": 22,
      "outputs": [
        {
          "output_type": "stream",
          "name": "stdout",
          "text": [
            "+-----------+-------------+--------------------+--------------------+-----------+-------------------+--------------------+-------+------+--------+-------------+--------------------+-----------------+----------------+----------------------+--------------------+\n",
            "|   video_id|trending_date|               title|       channel_title|category_id|       publish_time|                tags|  views| likes|dislikes|comment_count|      thumbnail_link|comments_disabled|ratings_disabled|video_error_or_removed|         description|\n",
            "+-----------+-------------+--------------------+--------------------+-----------+-------------------+--------------------+-------+------+--------+-------------+--------------------+-----------------+----------------+----------------------+--------------------+\n",
            "|2kyS6SvSYSE|     17.14.11|WE WANT TO TALK A...|        CaseyNeistat|         22|2017-11-13 17:13:01|     SHANtell martin| 748374| 57527|    2966|        15954|https://i.ytimg.c...|            False|           False|                 False|SHANTELL'S CHANNE...|\n",
            "|1ZAPwfrtAFY|     17.14.11|The Trump Preside...|     LastWeekTonight|         24|2017-11-13 07:30:00|\"last week tonigh...|2418783| 97185|    6146|        12703|https://i.ytimg.c...|            False|           False|                 False|One year after th...|\n",
            "|5qpjK5DgCt4|     17.14.11|Racist Superman |...|        Rudy Mancuso|         23|2017-11-12 19:05:24|\"racist superman\"...|3191434|146033|    5339|         8181|https://i.ytimg.c...|            False|           False|                 False|WATCH MY PREVIOUS...|\n",
            "|puqaWrEC7tY|     17.14.11|Nickelback Lyrics...|Good Mythical Mor...|         24|2017-11-13 11:00:04|\"rhett and link\"|...| 343168| 10172|     666|         2146|https://i.ytimg.c...|            False|           False|                 False|Today we find out...|\n",
            "|d380meD0W0M|     17.14.11|I Dare You: GOING...|            nigahiga|         24|2017-11-12 18:01:41|\"ryan\"|\"higa\"|\"hi...|2095731|132235|    1989|        17518|https://i.ytimg.c...|            False|           False|                 False|I know it's been ...|\n",
            "|gHZ1Qz0KiKM|     17.14.11|2 Weeks with iPho...|            iJustine|         28|2017-11-13 19:07:23|\"ijustine\"|\"week ...| 119180|  9763|     511|         1434|https://i.ytimg.c...|            False|           False|                 False|Using the iPhone ...|\n",
            "|39idVpFF7NQ|     17.14.11|Roy Moore & Jeff ...| Saturday Night Live|         24|2017-11-12 05:37:17|\"SNL\"|\"Saturday N...|2103417| 15993|    2445|         1970|https://i.ytimg.c...|            False|           False|                 False|Embattled Alabama...|\n",
            "|nc99ccSXST0|     17.14.11|5 Ice Cream Gadge...|  CrazyRussianHacker|         28|2017-11-12 21:50:37|\"5 Ice Cream Gadg...| 817732| 23663|     778|         3432|https://i.ytimg.c...|            False|           False|                 False|Ice Cream Pint Co...|\n",
            "|jr9QtXwC9vc|     17.14.11|The Greatest Show...|    20th Century Fox|          1|2017-11-13 14:00:23|\"Trailer\"|\"Hugh J...| 826059|  3543|     119|          340|https://i.ytimg.c...|            False|           False|                 False|Inspired by the i...|\n",
            "|TUmyygCMMGA|     17.14.11|Why the rise of t...|                 Vox|         25|2017-11-13 13:45:16|\"vox.com\"|\"vox\"|\"...| 256426| 12654|    1363|         2368|https://i.ytimg.c...|            False|           False|                 False|For now, at least...|\n",
            "|9wRQljFNDW8|     17.14.11|Dion Lewis' 103-Y...|                 NFL|         17|2017-11-13 02:05:26|\"NFL\"|\"Football\"|...|  81377|   655|      25|          177|https://i.ytimg.c...|            False|           False|                 False|New England Patri...|\n",
            "|VifQlJit6A0|     17.14.11|(SPOILERS) 'Shiva...|                 amc|         24|2017-11-13 03:00:00|\"The Walking Dead...| 104578|  1576|     303|         1279|https://i.ytimg.c...|            False|           False|                 False|Shiva arrives jus...|\n",
            "|5E4ZBSInqUU|     17.14.11|Marshmello - Bloc...|          marshmello|         10|2017-11-13 17:00:00|\"marshmello\"|\"blo...| 687582|114188|    1333|         8371|https://i.ytimg.c...|            False|           False|                 False|WATCH SILENCE MUS...|\n",
            "|GgVmn66oK_A|     17.14.11|Which Countries A...|       NowThis World|         25|2017-11-12 14:00:00|\"nowthis\"|\"nowthi...| 544770|  7848|    1171|         3981|https://i.ytimg.c...|            False|           False|                 False|The world at larg...|\n",
            "|TaTleo4cOs8|     17.14.11|SHOPPING FOR NEW ...|     The king of DIY|         15|2017-11-12 18:30:01|\"shopping for new...| 207532|  7473|     246|         2120|https://i.ytimg.c...|            False|           False|                 False|Today we go shopp...|\n",
            "|kgaO45SyaO4|     17.14.11|    The New SpotMini|      BostonDynamics|         28|2017-11-13 20:09:58|\"Robots\"|\"Boston ...|  75752|  9419|      52|         1230|https://i.ytimg.c...|            False|           False|                 False|For more informat...|\n",
            "|ZAQs-ctOqXQ|     17.14.11|One Change That W...|             Cracked|         23|2017-11-12 17:00:05|\"pacific rim\"|\"pa...| 295639|  8011|     638|         1256|https://i.ytimg.c...|            False|           False|                 False|Pacific Rim was s...|\n",
            "|YVfyYrEmzgM|     17.14.11|How does your bod...|              TED-Ed|         27|2017-11-13 16:00:07|\"TED\"|\"TED-Ed\"|\"T...|  78044|  5398|      53|          385|https://i.ytimg.c...|            False|           False|                 False|Check out our Pat...|\n",
            "|eNSN6qet1kE|     17.14.11|HomeMade Electric...|         PeterSripol|         28|2017-11-13 15:30:17|\"ultralight\"|\"air...|  97007| 11963|      36|         2211|https://i.ytimg.c...|            False|           False|                 False|aaaannnd now to f...|\n",
            "|B5HORANmzHw|     17.14.11|Founding An Inbre...|             SciShow|         27|2017-11-12 22:00:01|\"SciShow\"|\"scienc...| 223871|  8421|     191|         1214|https://i.ytimg.c...|            False|           False|                 False|Thanks to 23AndMe...|\n",
            "+-----------+-------------+--------------------+--------------------+-----------+-------------------+--------------------+-------+------+--------+-------------+--------------------+-----------------+----------------+----------------------+--------------------+\n",
            "only showing top 20 rows\n",
            "\n"
          ]
        }
      ]
    },
    {
      "cell_type": "markdown",
      "source": [
        "# drop"
      ],
      "metadata": {
        "id": "AExbKMdakjce"
      }
    },
    {
      "cell_type": "code",
      "source": [
        "dataf.printSchema()"
      ],
      "metadata": {
        "colab": {
          "base_uri": "https://localhost:8080/"
        },
        "id": "NKXDTWLtkjKG",
        "outputId": "7060e4e3-573c-4615-ef51-cf5f355950e1"
      },
      "execution_count": 23,
      "outputs": [
        {
          "output_type": "stream",
          "name": "stdout",
          "text": [
            "root\n",
            " |-- video_id: string (nullable = true)\n",
            " |-- trending_date: string (nullable = true)\n",
            " |-- title: string (nullable = true)\n",
            " |-- channel_title: string (nullable = true)\n",
            " |-- category_id: string (nullable = true)\n",
            " |-- publish_time: timestamp (nullable = true)\n",
            " |-- tags: string (nullable = true)\n",
            " |-- views: integer (nullable = true)\n",
            " |-- likes: integer (nullable = true)\n",
            " |-- dislikes: integer (nullable = true)\n",
            " |-- comment_count: integer (nullable = true)\n",
            " |-- thumbnail_link: string (nullable = true)\n",
            " |-- comments_disabled: string (nullable = true)\n",
            " |-- ratings_disabled: string (nullable = true)\n",
            " |-- video_error_or_removed: string (nullable = true)\n",
            " |-- description: string (nullable = true)\n",
            "\n"
          ]
        }
      ]
    },
    {
      "cell_type": "code",
      "source": [
        "df_util = dataf.drop('comments_disabled')"
      ],
      "metadata": {
        "id": "SKuEqnbJjWNt"
      },
      "execution_count": 24,
      "outputs": []
    },
    {
      "cell_type": "code",
      "source": [
        "df_util.printSchema()"
      ],
      "metadata": {
        "colab": {
          "base_uri": "https://localhost:8080/"
        },
        "id": "5p3eXgbylJC-",
        "outputId": "fa282a2b-6f3e-4a1f-d64a-db496f5bb0bb"
      },
      "execution_count": 25,
      "outputs": [
        {
          "output_type": "stream",
          "name": "stdout",
          "text": [
            "root\n",
            " |-- video_id: string (nullable = true)\n",
            " |-- trending_date: string (nullable = true)\n",
            " |-- title: string (nullable = true)\n",
            " |-- channel_title: string (nullable = true)\n",
            " |-- category_id: string (nullable = true)\n",
            " |-- publish_time: timestamp (nullable = true)\n",
            " |-- tags: string (nullable = true)\n",
            " |-- views: integer (nullable = true)\n",
            " |-- likes: integer (nullable = true)\n",
            " |-- dislikes: integer (nullable = true)\n",
            " |-- comment_count: integer (nullable = true)\n",
            " |-- thumbnail_link: string (nullable = true)\n",
            " |-- ratings_disabled: string (nullable = true)\n",
            " |-- video_error_or_removed: string (nullable = true)\n",
            " |-- description: string (nullable = true)\n",
            "\n"
          ]
        }
      ]
    },
    {
      "cell_type": "code",
      "source": [
        "df_util = dataf.drop('comments_disabled','ratings_disabled','thumbnail_link')"
      ],
      "metadata": {
        "id": "HEQ62OQBlK9d"
      },
      "execution_count": 26,
      "outputs": []
    },
    {
      "cell_type": "code",
      "source": [
        "df_util.printSchema()"
      ],
      "metadata": {
        "colab": {
          "base_uri": "https://localhost:8080/"
        },
        "id": "7MWmWbdVlXvt",
        "outputId": "b29acf6b-f6ac-40e1-f7f4-7c847fd411c0"
      },
      "execution_count": 30,
      "outputs": [
        {
          "output_type": "stream",
          "name": "stdout",
          "text": [
            "root\n",
            " |-- video_id: string (nullable = true)\n",
            " |-- trending_date: string (nullable = true)\n",
            " |-- title: string (nullable = true)\n",
            " |-- channel_title: string (nullable = true)\n",
            " |-- category_id: string (nullable = true)\n",
            " |-- publish_time: timestamp (nullable = true)\n",
            " |-- tags: string (nullable = true)\n",
            " |-- views: integer (nullable = true)\n",
            " |-- likes: integer (nullable = true)\n",
            " |-- dislikes: integer (nullable = true)\n",
            " |-- comment_count: integer (nullable = true)\n",
            " |-- video_error_or_removed: string (nullable = true)\n",
            " |-- description: string (nullable = true)\n",
            "\n"
          ]
        }
      ]
    },
    {
      "cell_type": "markdown",
      "source": [
        "*Nota no muestra error si borrar un nombre inexistente texto en cursiva*"
      ],
      "metadata": {
        "id": "vSTCAm5uldrj"
      }
    },
    {
      "cell_type": "markdown",
      "source": [
        "# Sample"
      ],
      "metadata": {
        "id": "TSH6u9rcmzbb"
      }
    },
    {
      "cell_type": "markdown",
      "source": [
        "hacer un muestreo"
      ],
      "metadata": {
        "id": "pV2POCNDm_2U"
      }
    },
    {
      "cell_type": "code",
      "source": [
        "df_muestra = dataf.sample(0.8)"
      ],
      "metadata": {
        "id": "k5TaIOV5lZtd"
      },
      "execution_count": 28,
      "outputs": []
    },
    {
      "cell_type": "code",
      "source": [
        "#Practicar\n",
        "#igual con ramdonsplit"
      ],
      "metadata": {
        "id": "9-kWXp_AnJRD"
      },
      "execution_count": null,
      "outputs": []
    },
    {
      "cell_type": "markdown",
      "source": [
        "# Datos incorrecta o faltantes"
      ],
      "metadata": {
        "id": "58GZP-yT9vy_"
      }
    },
    {
      "cell_type": "code",
      "source": [
        "dataf.count()"
      ],
      "metadata": {
        "colab": {
          "base_uri": "https://localhost:8080/"
        },
        "id": "S3Ga6YTk91li",
        "outputId": "7a1553cd-4be0-41db-aea3-13eb659a9124"
      },
      "execution_count": 31,
      "outputs": [
        {
          "output_type": "execute_result",
          "data": {
            "text/plain": [
              "48137"
            ]
          },
          "metadata": {},
          "execution_count": 31
        }
      ]
    },
    {
      "cell_type": "code",
      "source": [
        "dataf.na.drop().count()"
      ],
      "metadata": {
        "colab": {
          "base_uri": "https://localhost:8080/"
        },
        "id": "JCuISYbR-AS5",
        "outputId": "6260641b-1352-4c7c-81b1-83de9bb6a04a"
      },
      "execution_count": 32,
      "outputs": [
        {
          "output_type": "execute_result",
          "data": {
            "text/plain": [
              "40379"
            ]
          },
          "metadata": {},
          "execution_count": 32
        }
      ]
    },
    {
      "cell_type": "code",
      "source": [
        "dataf.na.drop('any').count()"
      ],
      "metadata": {
        "colab": {
          "base_uri": "https://localhost:8080/"
        },
        "id": "-jWyiiUX-KpR",
        "outputId": "c1895235-fc87-48e1-c677-e0a0430b9361"
      },
      "execution_count": 33,
      "outputs": [
        {
          "output_type": "execute_result",
          "data": {
            "text/plain": [
              "40379"
            ]
          },
          "metadata": {},
          "execution_count": 33
        }
      ]
    },
    {
      "cell_type": "code",
      "source": [
        "dataf.dropna().count()"
      ],
      "metadata": {
        "colab": {
          "base_uri": "https://localhost:8080/"
        },
        "id": "Cv0bRAJd-alB",
        "outputId": "05ecb447-0a57-447f-cb02-517b4bfab62c"
      },
      "execution_count": 34,
      "outputs": [
        {
          "output_type": "execute_result",
          "data": {
            "text/plain": [
              "40379"
            ]
          },
          "metadata": {},
          "execution_count": 34
        }
      ]
    },
    {
      "cell_type": "code",
      "source": [
        "#nulos eliminados de la colmn view\n",
        "dataf.na.drop(subset=['views']).count()"
      ],
      "metadata": {
        "colab": {
          "base_uri": "https://localhost:8080/"
        },
        "id": "dfeCcbzy-hlS",
        "outputId": "f85d17d5-876e-4b3a-ca8d-b532c9248fa4"
      },
      "execution_count": 36,
      "outputs": [
        {
          "output_type": "execute_result",
          "data": {
            "text/plain": [
              "40949"
            ]
          },
          "metadata": {},
          "execution_count": 36
        }
      ]
    },
    {
      "cell_type": "code",
      "source": [
        "dataf.na.drop(subset=['views','dislikes']).count()"
      ],
      "metadata": {
        "colab": {
          "base_uri": "https://localhost:8080/"
        },
        "id": "OF5sw2w8_G65",
        "outputId": "7d9f1b68-0060-4738-8c80-63d5f9ba1b8e"
      },
      "execution_count": 38,
      "outputs": [
        {
          "output_type": "execute_result",
          "data": {
            "text/plain": [
              "40949"
            ]
          },
          "metadata": {},
          "execution_count": 38
        }
      ]
    },
    {
      "cell_type": "code",
      "source": [
        "dataf.orderBy(col('views')).select(col('views'),)"
      ],
      "metadata": {
        "id": "pAKE4ECz_vH_"
      },
      "execution_count": null,
      "outputs": []
    }
  ]
}
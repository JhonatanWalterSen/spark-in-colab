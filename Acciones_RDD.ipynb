{
  "nbformat": 4,
  "nbformat_minor": 0,
  "metadata": {
    "colab": {
      "provenance": [],
      "authorship_tag": "ABX9TyNbyKXKiLpohQNHFQKrIywE",
      "include_colab_link": true
    },
    "kernelspec": {
      "name": "python3",
      "display_name": "Python 3"
    },
    "language_info": {
      "name": "python"
    }
  },
  "cells": [
    {
      "cell_type": "markdown",
      "metadata": {
        "id": "view-in-github",
        "colab_type": "text"
      },
      "source": [
        "<a href=\"https://colab.research.google.com/github/JhonatanWalterSen/spark-in-colab/blob/main/Acciones_RDD.ipynb\" target=\"_parent\"><img src=\"https://colab.research.google.com/assets/colab-badge.svg\" alt=\"Open In Colab\"/></a>"
      ]
    },
    {
      "cell_type": "markdown",
      "source": [
        "# Instalaciones"
      ],
      "metadata": {
        "id": "C-Pfuus_v8ql"
      }
    },
    {
      "cell_type": "code",
      "execution_count": 50,
      "metadata": {
        "id": "KIiDU7_LN11y"
      },
      "outputs": [],
      "source": [
        "# Instalar Java 8 scas\n",
        "!apt-get install openjdk-8-jdk-headless -qq > /dev/null"
      ]
    },
    {
      "cell_type": "code",
      "source": [
        "# Descargar Spark\n",
        "!wget -q http://apache.osuosl.org/spark/spark-3.3.1/spark-3.3.1-bin-hadoop3.tgz"
      ],
      "metadata": {
        "id": "W420l22MwHAM"
      },
      "execution_count": 51,
      "outputs": []
    },
    {
      "cell_type": "code",
      "source": [
        "# Descomprimir Spart\n",
        "!tar xf spark-3.3.1-bin-hadoop3.tgz"
      ],
      "metadata": {
        "id": "EREKbkkJw9-b"
      },
      "execution_count": 52,
      "outputs": []
    },
    {
      "cell_type": "code",
      "source": [
        "# Establecer las variables de Entorno\n",
        "import os \n",
        "os.environ[\"JAVA_HOME\"] = \"/usr/lib/jvm/java-8-openjdk-amd64\"\n",
        "os.environ[\"SPARK_HOME\"] = \"/content/spark-3.3.1-bin-hadoop3\""
      ],
      "metadata": {
        "id": "9y8bb_dOw-e1"
      },
      "execution_count": 53,
      "outputs": []
    },
    {
      "cell_type": "code",
      "source": [
        "# Instalar FindSpark en el sistema\n",
        "!pip install -q findspark"
      ],
      "metadata": {
        "id": "kYaVDgf5xFPj"
      },
      "execution_count": 54,
      "outputs": []
    },
    {
      "cell_type": "code",
      "source": [
        "import findspark"
      ],
      "metadata": {
        "id": "CxqAaLHvxdRL"
      },
      "execution_count": 55,
      "outputs": []
    },
    {
      "cell_type": "code",
      "source": [
        "findspark.init()"
      ],
      "metadata": {
        "id": "NuX9lXraxp5j"
      },
      "execution_count": 56,
      "outputs": []
    },
    {
      "cell_type": "code",
      "source": [
        "from pyspark.sql import SparkSession\n",
        "spark = SparkSession.builder.appName('Acciones').master('local[*]').getOrCreate()"
      ],
      "metadata": {
        "id": "CzZ45rk3xuMi"
      },
      "execution_count": 57,
      "outputs": []
    },
    {
      "cell_type": "code",
      "source": [
        "spark\n"
      ],
      "metadata": {
        "colab": {
          "base_uri": "https://localhost:8080/",
          "height": 219
        },
        "id": "XirW4wEAyFwr",
        "outputId": "d0c6f82a-63e4-4f14-b29e-c673f7cfe7f1"
      },
      "execution_count": 58,
      "outputs": [
        {
          "output_type": "execute_result",
          "data": {
            "text/plain": [
              "<pyspark.sql.session.SparkSession at 0x7f123281d4f0>"
            ],
            "text/html": [
              "\n",
              "            <div>\n",
              "                <p><b>SparkSession - in-memory</b></p>\n",
              "                \n",
              "        <div>\n",
              "            <p><b>SparkContext</b></p>\n",
              "\n",
              "            <p><a href=\"http://6ed48b5d100b:4040\">Spark UI</a></p>\n",
              "\n",
              "            <dl>\n",
              "              <dt>Version</dt>\n",
              "                <dd><code>v3.3.1</code></dd>\n",
              "              <dt>Master</dt>\n",
              "                <dd><code>local[*]</code></dd>\n",
              "              <dt>AppName</dt>\n",
              "                <dd><code>Acciones</code></dd>\n",
              "            </dl>\n",
              "        </div>\n",
              "        \n",
              "            </div>\n",
              "        "
            ]
          },
          "metadata": {},
          "execution_count": 58
        }
      ]
    },
    {
      "cell_type": "code",
      "source": [
        "sc = spark.sparkContext"
      ],
      "metadata": {
        "id": "pwzBRwO4yx5r"
      },
      "execution_count": 59,
      "outputs": []
    },
    {
      "cell_type": "markdown",
      "source": [
        "# Reduce"
      ],
      "metadata": {
        "id": "in495xifMRXR"
      }
    },
    {
      "cell_type": "code",
      "source": [
        "rdd_reduce = sc.parallelize([2,4,6,8])\n",
        "rdd_reduce.reduce(lambda x,y: x+y)"
      ],
      "metadata": {
        "colab": {
          "base_uri": "https://localhost:8080/"
        },
        "id": "RJXc5_m5Mmiy",
        "outputId": "b9759e00-f5a4-4b25-e4d9-6ae4da2b2c99"
      },
      "execution_count": 11,
      "outputs": [
        {
          "output_type": "execute_result",
          "data": {
            "text/plain": [
              "20"
            ]
          },
          "metadata": {},
          "execution_count": 11
        }
      ]
    },
    {
      "cell_type": "code",
      "source": [
        "rdd1 = sc.parallelize([1,2,3,4])\n",
        "rdd1.reduce(lambda x,y: x*y)"
      ],
      "metadata": {
        "colab": {
          "base_uri": "https://localhost:8080/"
        },
        "id": "5_nHwfLLMyK8",
        "outputId": "a5f0c4d6-7c48-4575-f1e0-13caf8db0446"
      },
      "execution_count": 12,
      "outputs": [
        {
          "output_type": "execute_result",
          "data": {
            "text/plain": [
              "24"
            ]
          },
          "metadata": {},
          "execution_count": 12
        }
      ]
    },
    {
      "cell_type": "markdown",
      "source": [
        "# Función Count"
      ],
      "metadata": {
        "id": "kMYaLu-ENJDE"
      }
    },
    {
      "cell_type": "code",
      "source": [
        "rdd_letras = sc.parallelize(['j','h','o','n','a','t','a','n'])"
      ],
      "metadata": {
        "id": "__2s4011NYFt"
      },
      "execution_count": 13,
      "outputs": []
    },
    {
      "cell_type": "code",
      "source": [
        "rdd_letras.count()"
      ],
      "metadata": {
        "colab": {
          "base_uri": "https://localhost:8080/"
        },
        "id": "AYmB-2_qPHL_",
        "outputId": "f8fd69bd-3ead-4533-ad55-91355e33abf0"
      },
      "execution_count": 14,
      "outputs": [
        {
          "output_type": "execute_result",
          "data": {
            "text/plain": [
              "8"
            ]
          },
          "metadata": {},
          "execution_count": 14
        }
      ]
    },
    {
      "cell_type": "code",
      "source": [
        "rdd_for = sc.parallelize([item for item in range(10)])"
      ],
      "metadata": {
        "id": "rh26NE8SPWVn"
      },
      "execution_count": 16,
      "outputs": []
    },
    {
      "cell_type": "code",
      "source": [
        "rdd_for.count()"
      ],
      "metadata": {
        "colab": {
          "base_uri": "https://localhost:8080/"
        },
        "id": "f1u1OVwEPnY-",
        "outputId": "bf34d954-e848-4610-919b-acf36499e31a"
      },
      "execution_count": 17,
      "outputs": [
        {
          "output_type": "execute_result",
          "data": {
            "text/plain": [
              "10"
            ]
          },
          "metadata": {},
          "execution_count": 17
        }
      ]
    },
    {
      "cell_type": "markdown",
      "source": [
        "# Collect"
      ],
      "metadata": {
        "id": "rP8mcPvPR-mx"
      }
    },
    {
      "cell_type": "code",
      "source": [
        "rdd_col = sc.parallelize('Hola Apache Spark!'.split(' '))"
      ],
      "metadata": {
        "id": "XMkq8VrHTMNK"
      },
      "execution_count": 24,
      "outputs": []
    },
    {
      "cell_type": "code",
      "source": [
        "rdd_col.collect()"
      ],
      "metadata": {
        "colab": {
          "base_uri": "https://localhost:8080/"
        },
        "id": "c-6lWk-_TSBY",
        "outputId": "10ef1eb6-921b-40ff-9f22-76f7c1a718e6"
      },
      "execution_count": 25,
      "outputs": [
        {
          "output_type": "execute_result",
          "data": {
            "text/plain": [
              "['Hola', 'Apache', 'Spark!']"
            ]
          },
          "metadata": {},
          "execution_count": 25
        }
      ]
    },
    {
      "cell_type": "code",
      "source": [
        "rdd_cuadrado = sc.parallelize([(item, item **2) for item in range(20)])"
      ],
      "metadata": {
        "id": "5yCBdz8bTUGL"
      },
      "execution_count": 26,
      "outputs": []
    },
    {
      "cell_type": "code",
      "source": [
        "rdd_cuadrado.collect()"
      ],
      "metadata": {
        "colab": {
          "base_uri": "https://localhost:8080/"
        },
        "id": "47ECfzl5TvO5",
        "outputId": "48b4c637-3909-4bcc-cfb0-3378406ecd6c"
      },
      "execution_count": 27,
      "outputs": [
        {
          "output_type": "execute_result",
          "data": {
            "text/plain": [
              "[(0, 0),\n",
              " (1, 1),\n",
              " (2, 4),\n",
              " (3, 9),\n",
              " (4, 16),\n",
              " (5, 25),\n",
              " (6, 36),\n",
              " (7, 49),\n",
              " (8, 64),\n",
              " (9, 81),\n",
              " (10, 100),\n",
              " (11, 121),\n",
              " (12, 144),\n",
              " (13, 169),\n",
              " (14, 196),\n",
              " (15, 225),\n",
              " (16, 256),\n",
              " (17, 289),\n",
              " (18, 324),\n",
              " (19, 361)]"
            ]
          },
          "metadata": {},
          "execution_count": 27
        }
      ]
    },
    {
      "cell_type": "markdown",
      "source": [
        "# Take, Max y saveAsTextFile"
      ],
      "metadata": {
        "id": "AyevyGESUb43"
      }
    },
    {
      "cell_type": "markdown",
      "source": [
        "Take"
      ],
      "metadata": {
        "id": "l4chnQ-YVblX"
      }
    },
    {
      "cell_type": "code",
      "source": [
        "rdd_take = sc.parallelize('La programación es bella'.split(' '))"
      ],
      "metadata": {
        "id": "qdKTMMjLVFin"
      },
      "execution_count": 62,
      "outputs": []
    },
    {
      "cell_type": "code",
      "source": [
        "rdd_take.take(2)"
      ],
      "metadata": {
        "colab": {
          "base_uri": "https://localhost:8080/"
        },
        "id": "07JqeJMtVQ3T",
        "outputId": "35cd18c9-307b-47f8-eda9-282d6a4f1f09"
      },
      "execution_count": 63,
      "outputs": [
        {
          "output_type": "execute_result",
          "data": {
            "text/plain": [
              "['La', 'programación']"
            ]
          },
          "metadata": {},
          "execution_count": 63
        }
      ]
    },
    {
      "cell_type": "markdown",
      "source": [
        "Max"
      ],
      "metadata": {
        "id": "Hyb8npEIVdQ8"
      }
    },
    {
      "cell_type": "code",
      "source": [
        "rdd_max = sc.parallelize([item/(item+1) for item in range(10)])"
      ],
      "metadata": {
        "id": "r3kg6SnQVeTz"
      },
      "execution_count": 30,
      "outputs": []
    },
    {
      "cell_type": "code",
      "source": [
        "rdd_max.collect()"
      ],
      "metadata": {
        "id": "Rr-NnEnKV0Oy"
      },
      "execution_count": null,
      "outputs": []
    },
    {
      "cell_type": "code",
      "source": [
        "rdd_max.max()"
      ],
      "metadata": {
        "colab": {
          "base_uri": "https://localhost:8080/"
        },
        "id": "oYfDTUCLV1jG",
        "outputId": "552f2661-4c30-48a8-a8d9-d1fc34f0fb51"
      },
      "execution_count": 32,
      "outputs": [
        {
          "output_type": "execute_result",
          "data": {
            "text/plain": [
              "0.9"
            ]
          },
          "metadata": {},
          "execution_count": 32
        }
      ]
    },
    {
      "cell_type": "markdown",
      "source": [
        "saveAsTextFile"
      ],
      "metadata": {
        "id": "hv93UXzNX5iD"
      }
    },
    {
      "cell_type": "code",
      "source": [
        "rdd_take.collect()"
      ],
      "metadata": {
        "colab": {
          "base_uri": "https://localhost:8080/"
        },
        "id": "WU8AMWhoYBJ6",
        "outputId": "a5df6508-0dfd-4689-8f72-27faeba9a2b0"
      },
      "execution_count": 33,
      "outputs": [
        {
          "output_type": "execute_result",
          "data": {
            "text/plain": [
              "['La', 'programación', 'es', 'bella']"
            ]
          },
          "metadata": {},
          "execution_count": 33
        }
      ]
    },
    {
      "cell_type": "code",
      "source": [
        "rdd_take.saveAsTextFile('./prueba')"
      ],
      "metadata": {
        "id": "Cw8-7eowYGAq"
      },
      "execution_count": 35,
      "outputs": []
    },
    {
      "cell_type": "code",
      "source": [
        "rdd_take.coalesce(1).saveAsTextFile('./2')"
      ],
      "metadata": {
        "id": "FAN4Dx_-YtLz"
      },
      "execution_count": 66,
      "outputs": []
    },
    {
      "cell_type": "markdown",
      "source": [
        "# Ejercicios\n",
        "\n",
        "1.   Cree un RDD llamado importes a partir del archivo adjunto a esta lección como recurso.\n",
        "\n",
        "  a ¿Cuántos registros tiene el RDD importes?\n",
        "\n",
        "  b ¿Cuál es el valor mínimo y máximo del RDD importes?\n",
        "  \n",
        "  c Cree un RDD top15 que contenga los 15 mayores valores del RDD importes. Tenga en cuenta que pueden repetirse los valores. Por último, escriba el RDD top15 como archivo de texto en la carpeta data/salida.\n",
        "\n",
        "2.   Cree una función llamada factorial que calcule el factorial de un número dado como parámetro. Utilice RDDs para el cálculo."
      ],
      "metadata": {
        "id": "YkUrOAyrZb86"
      }
    },
    {
      "cell_type": "code",
      "source": [
        "rdd_importes = sc.textFile('./num.txt')"
      ],
      "metadata": {
        "id": "B45gRH1Q3-kQ"
      },
      "execution_count": 64,
      "outputs": []
    },
    {
      "cell_type": "code",
      "source": [
        "rdd_importes.collect()"
      ],
      "metadata": {
        "id": "pflHdS2z5L_O"
      },
      "execution_count": null,
      "outputs": []
    },
    {
      "cell_type": "code",
      "source": [
        "rdd_importes.count()"
      ],
      "metadata": {
        "colab": {
          "base_uri": "https://localhost:8080/"
        },
        "id": "V1nyIxMP5OTi",
        "outputId": "12a07893-b6be-4bb5-cdae-c90fe33c8eb0"
      },
      "execution_count": 67,
      "outputs": [
        {
          "output_type": "execute_result",
          "data": {
            "text/plain": [
              "233"
            ]
          },
          "metadata": {},
          "execution_count": 67
        }
      ]
    },
    {
      "cell_type": "code",
      "source": [
        "rdd_importes.min()"
      ],
      "metadata": {
        "colab": {
          "base_uri": "https://localhost:8080/",
          "height": 35
        },
        "id": "Vai0BAr17mRn",
        "outputId": "56f645a4-5cd1-4efb-f2ca-9c39ccd4ae14"
      },
      "execution_count": 68,
      "outputs": [
        {
          "output_type": "execute_result",
          "data": {
            "text/plain": [
              "'1'"
            ],
            "application/vnd.google.colaboratory.intrinsic+json": {
              "type": "string"
            }
          },
          "metadata": {},
          "execution_count": 68
        }
      ]
    },
    {
      "cell_type": "code",
      "source": [
        "rdd_importes.max()"
      ],
      "metadata": {
        "colab": {
          "base_uri": "https://localhost:8080/",
          "height": 35
        },
        "id": "pfrfCUEE7vIf",
        "outputId": "f48b7229-e66e-4e7c-efe9-7f3ec7adcea6"
      },
      "execution_count": 69,
      "outputs": [
        {
          "output_type": "execute_result",
          "data": {
            "text/plain": [
              "'99'"
            ],
            "application/vnd.google.colaboratory.intrinsic+json": {
              "type": "string"
            }
          },
          "metadata": {},
          "execution_count": 69
        }
      ]
    },
    {
      "cell_type": "code",
      "source": [
        "top_15 = rdd_importes.top(15)"
      ],
      "metadata": {
        "id": "v1hSqmEb_2Fl"
      },
      "execution_count": 71,
      "outputs": []
    },
    {
      "cell_type": "code",
      "source": [
        "print(top_15)"
      ],
      "metadata": {
        "colab": {
          "base_uri": "https://localhost:8080/"
        },
        "id": "jJuB-R2QAOmy",
        "outputId": "c12d469d-6c03-4b77-81a0-5ee2dd9d2339"
      },
      "execution_count": 73,
      "outputs": [
        {
          "output_type": "stream",
          "name": "stdout",
          "text": [
            "['99', '99', '98', '98', '97', '97', '97', '97', '97', '96', '96', '95', '95', '95', '95']\n"
          ]
        }
      ]
    },
    {
      "cell_type": "code",
      "source": [
        "top15 = sc.parallelize(top_15)"
      ],
      "metadata": {
        "id": "IVGrSy6sAQF0"
      },
      "execution_count": 74,
      "outputs": []
    },
    {
      "cell_type": "code",
      "source": [
        "top15.collect()"
      ],
      "metadata": {
        "colab": {
          "base_uri": "https://localhost:8080/"
        },
        "id": "-3DY_KLwBwaL",
        "outputId": "217c7cd1-05c6-43c2-e152-ada3e839d429"
      },
      "execution_count": 75,
      "outputs": [
        {
          "output_type": "execute_result",
          "data": {
            "text/plain": [
              "['99',\n",
              " '99',\n",
              " '98',\n",
              " '98',\n",
              " '97',\n",
              " '97',\n",
              " '97',\n",
              " '97',\n",
              " '97',\n",
              " '96',\n",
              " '96',\n",
              " '95',\n",
              " '95',\n",
              " '95',\n",
              " '95']"
            ]
          },
          "metadata": {},
          "execution_count": 75
        }
      ]
    },
    {
      "cell_type": "code",
      "source": [
        "top15.saveAsTextFile('./Los15')"
      ],
      "metadata": {
        "id": "Ee3UqW2zBycQ"
      },
      "execution_count": 76,
      "outputs": []
    },
    {
      "cell_type": "code",
      "source": [
        "def factorial(n):\n",
        "  if(n == 0):\n",
        "    return 1\n",
        "  else: \n",
        "    rdd_fac = sc.parallelize(list(range(1,n+1)))\n",
        "    return rdd_fac.reduce(lambda x,y: x*y)"
      ],
      "metadata": {
        "id": "S_3AHFWNLInq"
      },
      "execution_count": 77,
      "outputs": []
    },
    {
      "cell_type": "code",
      "source": [
        "factorial(5)"
      ],
      "metadata": {
        "colab": {
          "base_uri": "https://localhost:8080/"
        },
        "id": "vrzjvFUvLsKL",
        "outputId": "586565f3-33e4-41f5-a506-862f1c9211bf"
      },
      "execution_count": 78,
      "outputs": [
        {
          "output_type": "execute_result",
          "data": {
            "text/plain": [
              "120"
            ]
          },
          "metadata": {},
          "execution_count": 78
        }
      ]
    },
    {
      "cell_type": "code",
      "source": [
        "factorial(10)"
      ],
      "metadata": {
        "colab": {
          "base_uri": "https://localhost:8080/"
        },
        "id": "rVylgf-JLvBs",
        "outputId": "d464434c-48a6-44c8-fdb6-f72e2c01f721"
      },
      "execution_count": 79,
      "outputs": [
        {
          "output_type": "execute_result",
          "data": {
            "text/plain": [
              "3628800"
            ]
          },
          "metadata": {},
          "execution_count": 79
        }
      ]
    }
  ]
}
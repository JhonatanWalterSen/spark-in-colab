{
  "nbformat": 4,
  "nbformat_minor": 0,
  "metadata": {
    "colab": {
      "provenance": [],
      "authorship_tag": "ABX9TyPARWYHjWkPWoMI2Zc4Mtt9",
      "include_colab_link": true
    },
    "kernelspec": {
      "name": "python3",
      "display_name": "Python 3"
    },
    "language_info": {
      "name": "python"
    }
  },
  "cells": [
    {
      "cell_type": "markdown",
      "metadata": {
        "id": "view-in-github",
        "colab_type": "text"
      },
      "source": [
        "<a href=\"https://colab.research.google.com/github/JhonatanWalterSen/spark-in-colab/blob/main/Transformaciones.ipynb\" target=\"_parent\"><img src=\"https://colab.research.google.com/assets/colab-badge.svg\" alt=\"Open In Colab\"/></a>"
      ]
    },
    {
      "cell_type": "markdown",
      "source": [
        "# Instalaciones"
      ],
      "metadata": {
        "id": "C-Pfuus_v8ql"
      }
    },
    {
      "cell_type": "code",
      "execution_count": 4,
      "metadata": {
        "id": "KIiDU7_LN11y"
      },
      "outputs": [],
      "source": [
        "# Instalar Java 8 scas\n",
        "!apt-get install openjdk-8-jdk-headless -qq > /dev/null"
      ]
    },
    {
      "cell_type": "code",
      "source": [
        "# Descargar Spark\n",
        "!wget -q http://apache.osuosl.org/spark/spark-3.3.1/spark-3.3.1-bin-hadoop3.tgz"
      ],
      "metadata": {
        "id": "W420l22MwHAM"
      },
      "execution_count": 5,
      "outputs": []
    },
    {
      "cell_type": "code",
      "source": [
        "# Descomprimir Spart\n",
        "!tar xf spark-3.3.1-bin-hadoop3.tgz"
      ],
      "metadata": {
        "id": "EREKbkkJw9-b"
      },
      "execution_count": 6,
      "outputs": []
    },
    {
      "cell_type": "code",
      "source": [
        "# Establecer las variables de Entorno\n",
        "import os \n",
        "os.environ[\"JAVA_HOME\"] = \"/usr/lib/jvm/java-8-openjdk-amd64\"\n",
        "os.environ[\"SPARK_HOME\"] = \"/content/spark-3.3.1-bin-hadoop3\""
      ],
      "metadata": {
        "id": "9y8bb_dOw-e1"
      },
      "execution_count": 7,
      "outputs": []
    },
    {
      "cell_type": "code",
      "source": [
        "# Instalar FindSpark en el sistema\n",
        "!pip install -q findspark"
      ],
      "metadata": {
        "id": "kYaVDgf5xFPj"
      },
      "execution_count": 8,
      "outputs": []
    },
    {
      "cell_type": "code",
      "source": [
        "import findspark"
      ],
      "metadata": {
        "id": "CxqAaLHvxdRL"
      },
      "execution_count": 9,
      "outputs": []
    },
    {
      "cell_type": "code",
      "source": [
        "findspark.init()"
      ],
      "metadata": {
        "id": "NuX9lXraxp5j"
      },
      "execution_count": 10,
      "outputs": []
    },
    {
      "cell_type": "code",
      "source": [
        "from pyspark.sql import SparkSession\n",
        "spark = SparkSession.builder.appName('Transformaciones').master('local[*]').getOrCreate()"
      ],
      "metadata": {
        "id": "CzZ45rk3xuMi"
      },
      "execution_count": 11,
      "outputs": []
    },
    {
      "cell_type": "code",
      "source": [
        "spark\n"
      ],
      "metadata": {
        "colab": {
          "base_uri": "https://localhost:8080/",
          "height": 219
        },
        "id": "XirW4wEAyFwr",
        "outputId": "b8e30f07-68ac-462b-a30e-f6586b6b89ff"
      },
      "execution_count": 12,
      "outputs": [
        {
          "output_type": "execute_result",
          "data": {
            "text/plain": [
              "<pyspark.sql.session.SparkSession at 0x7f2d8c189280>"
            ],
            "text/html": [
              "\n",
              "            <div>\n",
              "                <p><b>SparkSession - in-memory</b></p>\n",
              "                \n",
              "        <div>\n",
              "            <p><b>SparkContext</b></p>\n",
              "\n",
              "            <p><a href=\"http://be1a62079ed7:4040\">Spark UI</a></p>\n",
              "\n",
              "            <dl>\n",
              "              <dt>Version</dt>\n",
              "                <dd><code>v3.3.1</code></dd>\n",
              "              <dt>Master</dt>\n",
              "                <dd><code>local[*]</code></dd>\n",
              "              <dt>AppName</dt>\n",
              "                <dd><code>Transformaciones</code></dd>\n",
              "            </dl>\n",
              "        </div>\n",
              "        \n",
              "            </div>\n",
              "        "
            ]
          },
          "metadata": {},
          "execution_count": 12
        }
      ]
    },
    {
      "cell_type": "code",
      "source": [
        "sc = spark.sparkContext"
      ],
      "metadata": {
        "id": "pwzBRwO4yx5r"
      },
      "execution_count": 13,
      "outputs": []
    },
    {
      "cell_type": "markdown",
      "source": [
        "# MAP"
      ],
      "metadata": {
        "id": "V0iDmfyaxLli"
      }
    },
    {
      "cell_type": "code",
      "source": [
        "rdd = sc.parallelize([1,2,3,4,5])"
      ],
      "metadata": {
        "id": "PyvdiRWTzI9g"
      },
      "execution_count": 11,
      "outputs": []
    },
    {
      "cell_type": "code",
      "source": [
        "rdd_resta = rdd.map(lambda x: x-1)\n",
        "rdd_resta.collect()"
      ],
      "metadata": {
        "colab": {
          "base_uri": "https://localhost:8080/"
        },
        "id": "5-EMXceWzXSR",
        "outputId": "2f218ae8-0ee4-4b9d-c800-639428bd3fce"
      },
      "execution_count": 12,
      "outputs": [
        {
          "output_type": "execute_result",
          "data": {
            "text/plain": [
              "[0, 1, 2, 3, 4]"
            ]
          },
          "metadata": {},
          "execution_count": 12
        }
      ]
    },
    {
      "cell_type": "code",
      "source": [
        "rdd_par = rdd.map(lambda x: x%2==0)\n",
        "rdd_par.collect()"
      ],
      "metadata": {
        "colab": {
          "base_uri": "https://localhost:8080/"
        },
        "id": "AAJTYpL90DGq",
        "outputId": "09f7a197-765b-4522-9379-a4a235823d24"
      },
      "execution_count": 13,
      "outputs": [
        {
          "output_type": "execute_result",
          "data": {
            "text/plain": [
              "[False, True, False, True, False]"
            ]
          },
          "metadata": {},
          "execution_count": 13
        }
      ]
    },
    {
      "cell_type": "code",
      "source": [
        "rdd_texto = sc.parallelize(['Jhon','Juan','Lucas'])"
      ],
      "metadata": {
        "id": "25Ht1Bym0Wod"
      },
      "execution_count": 14,
      "outputs": []
    },
    {
      "cell_type": "code",
      "source": [
        "rdd_masyuscula = rdd_texto.map(lambda x : x.upper())\n",
        "rdd_masyuscula.collect()"
      ],
      "metadata": {
        "colab": {
          "base_uri": "https://localhost:8080/"
        },
        "id": "6hhdgfiH0kQa",
        "outputId": "a4450ac2-130a-40ff-d0a8-41ed00ec8592"
      },
      "execution_count": 15,
      "outputs": [
        {
          "output_type": "execute_result",
          "data": {
            "text/plain": [
              "['JHON', 'JUAN', 'LUCAS']"
            ]
          },
          "metadata": {},
          "execution_count": 15
        }
      ]
    },
    {
      "cell_type": "code",
      "source": [
        "rdd_saludo = rdd_texto.map(lambda x: \"Hola \"+x)\n",
        "rdd_saludo.collect()"
      ],
      "metadata": {
        "colab": {
          "base_uri": "https://localhost:8080/"
        },
        "id": "chs5-1ru1J5c",
        "outputId": "7466fa08-913f-4746-9b6f-9535679983e7"
      },
      "execution_count": 16,
      "outputs": [
        {
          "output_type": "execute_result",
          "data": {
            "text/plain": [
              "['Hola Jhon', 'Hola Juan', 'Hola Lucas']"
            ]
          },
          "metadata": {},
          "execution_count": 16
        }
      ]
    },
    {
      "cell_type": "markdown",
      "source": [
        "# FLAT MAP"
      ],
      "metadata": {
        "id": "tXJHdy7_1X2i"
      }
    },
    {
      "cell_type": "code",
      "source": [
        "rdd_cuadrado = rdd.map(lambda x: (x,x**2))\n",
        "rdd_cuadrado.collect()"
      ],
      "metadata": {
        "colab": {
          "base_uri": "https://localhost:8080/"
        },
        "id": "jdwBlELU1mDD",
        "outputId": "a8894c88-48e7-47ec-d65f-623c567be392"
      },
      "execution_count": 17,
      "outputs": [
        {
          "output_type": "execute_result",
          "data": {
            "text/plain": [
              "[(1, 1), (2, 4), (3, 9), (4, 16), (5, 25)]"
            ]
          },
          "metadata": {},
          "execution_count": 17
        }
      ]
    },
    {
      "cell_type": "code",
      "source": [
        "rdd_cuadrado_flat = rdd.flatMap(lambda x: (x,x**2))\n",
        "rdd_cuadrado_flat.collect()"
      ],
      "metadata": {
        "colab": {
          "base_uri": "https://localhost:8080/"
        },
        "id": "iZyyeCVd11jv",
        "outputId": "e447dbd1-158e-4d93-9fda-6f4277c3dd4b"
      },
      "execution_count": 18,
      "outputs": [
        {
          "output_type": "execute_result",
          "data": {
            "text/plain": [
              "[1, 1, 2, 4, 3, 9, 4, 16, 5, 25]"
            ]
          },
          "metadata": {},
          "execution_count": 18
        }
      ]
    },
    {
      "cell_type": "code",
      "source": [
        "rdd_mayuscula_flat = rdd_texto.flatMap(lambda x: (x,x.upper()))\n",
        "rdd_mayuscula_flat.collect()"
      ],
      "metadata": {
        "colab": {
          "base_uri": "https://localhost:8080/"
        },
        "id": "h72QIb8z2FcL",
        "outputId": "178273f3-49f8-479f-b40d-328067d77bb8"
      },
      "execution_count": 19,
      "outputs": [
        {
          "output_type": "execute_result",
          "data": {
            "text/plain": [
              "['Jhon', 'JHON', 'Juan', 'JUAN', 'Lucas', 'LUCAS']"
            ]
          },
          "metadata": {},
          "execution_count": 19
        }
      ]
    },
    {
      "cell_type": "markdown",
      "source": [
        "# FILTER"
      ],
      "metadata": {
        "id": "iLJhUGVm2TCK"
      }
    },
    {
      "cell_type": "markdown",
      "source": [],
      "metadata": {
        "id": "CFzKpjRJI1PD"
      }
    },
    {
      "cell_type": "code",
      "source": [
        "rdd_nuevo = sc.parallelize([1,2,3,4,5,6,7,8,9])\n",
        "rdd_pares = rdd_nuevo.filter(lambda x:x%2==0)\n",
        "rdd_pares.collect()"
      ],
      "metadata": {
        "colab": {
          "base_uri": "https://localhost:8080/"
        },
        "id": "BNRbVw792WW5",
        "outputId": "f2d078d9-25db-4b1d-cc98-da048fc66c64"
      },
      "execution_count": 20,
      "outputs": [
        {
          "output_type": "execute_result",
          "data": {
            "text/plain": [
              "[2, 4, 6, 8]"
            ]
          },
          "metadata": {},
          "execution_count": 20
        }
      ]
    },
    {
      "cell_type": "code",
      "source": [
        "rdd_nombres = sc.parallelize(['jose','juanquin','juan','lucia','karla','karma'])\n",
        "rdd_k = rdd_nombres.filter(lambda x: x.startswith('k'))\n"
      ],
      "metadata": {
        "id": "MCcUSosH2uGT"
      },
      "execution_count": 30,
      "outputs": []
    },
    {
      "cell_type": "code",
      "source": [
        "rdd_k.collect()"
      ],
      "metadata": {
        "colab": {
          "base_uri": "https://localhost:8080/"
        },
        "id": "DCGzHi423rLk",
        "outputId": "99947e2e-b4e9-4840-8f5a-58d167e9f410"
      },
      "execution_count": 32,
      "outputs": [
        {
          "output_type": "execute_result",
          "data": {
            "text/plain": [
              "['karla', 'karma']"
            ]
          },
          "metadata": {},
          "execution_count": 32
        }
      ]
    },
    {
      "cell_type": "code",
      "source": [
        "rdd_filtro = rdd_nombres.filter(lambda x: x.startswith('j') and x.find('u') == 1)\n",
        "rdd_filtro.collect()"
      ],
      "metadata": {
        "colab": {
          "base_uri": "https://localhost:8080/"
        },
        "id": "Qx_QdsTyGGM6",
        "outputId": "c30e1767-4c86-460a-badb-abe5f5e6a4d5"
      },
      "execution_count": 33,
      "outputs": [
        {
          "output_type": "execute_result",
          "data": {
            "text/plain": [
              "['juanquin', 'juan']"
            ]
          },
          "metadata": {},
          "execution_count": 33
        }
      ]
    },
    {
      "cell_type": "markdown",
      "source": [
        "# COALESCE"
      ],
      "metadata": {
        "id": "SLk0sHBwI3Bw"
      }
    },
    {
      "cell_type": "code",
      "source": [
        "rdd = sc.parallelize([1,2,3,4,5],10)\n",
        "rdd.getNumPartitions()"
      ],
      "metadata": {
        "colab": {
          "base_uri": "https://localhost:8080/"
        },
        "id": "6Edy_jCGI-I6",
        "outputId": "3842d4a4-d4e4-45c2-aeaa-3dddcfa62f1c"
      },
      "execution_count": 34,
      "outputs": [
        {
          "output_type": "execute_result",
          "data": {
            "text/plain": [
              "10"
            ]
          },
          "metadata": {},
          "execution_count": 34
        }
      ]
    },
    {
      "cell_type": "code",
      "source": [
        "rdd5 = rdd.coalesce(5)\n",
        "rdd5.getNumPartitions()"
      ],
      "metadata": {
        "colab": {
          "base_uri": "https://localhost:8080/"
        },
        "id": "whGQPdr6JIHx",
        "outputId": "7880dea1-c8ae-49b4-cfa3-4cd5e68c44dd"
      },
      "execution_count": 36,
      "outputs": [
        {
          "output_type": "execute_result",
          "data": {
            "text/plain": [
              "5"
            ]
          },
          "metadata": {},
          "execution_count": 36
        }
      ]
    },
    {
      "cell_type": "markdown",
      "source": [
        "# REPARTITION"
      ],
      "metadata": {
        "id": "W1hmWKh3JX8w"
      }
    },
    {
      "cell_type": "code",
      "source": [
        "rdd3 = sc.parallelize([1,2,3],3)\n",
        "rdd3.getNumPartitions()"
      ],
      "metadata": {
        "colab": {
          "base_uri": "https://localhost:8080/"
        },
        "id": "95AuphZrJeb-",
        "outputId": "b8a050fe-bc26-4faf-bd22-a4d6d684e88e"
      },
      "execution_count": 37,
      "outputs": [
        {
          "output_type": "execute_result",
          "data": {
            "text/plain": [
              "3"
            ]
          },
          "metadata": {},
          "execution_count": 37
        }
      ]
    },
    {
      "cell_type": "code",
      "source": [
        "rdd7 = rdd3.repartition(7)\n",
        "rdd7.getNumPartitions()"
      ],
      "metadata": {
        "colab": {
          "base_uri": "https://localhost:8080/"
        },
        "id": "nrpL6uwhJqm4",
        "outputId": "0bdbc488-7da4-4ca2-8838-c51ae662c820"
      },
      "execution_count": 38,
      "outputs": [
        {
          "output_type": "execute_result",
          "data": {
            "text/plain": [
              "7"
            ]
          },
          "metadata": {},
          "execution_count": 38
        }
      ]
    },
    {
      "cell_type": "markdown",
      "source": [
        "# REDUCE BY KEY"
      ],
      "metadata": {
        "id": "wNtHRjUVJ6tt"
      }
    },
    {
      "cell_type": "code",
      "source": [
        "rdd_palabras = sc.parallelize([('casa',2),('parque',1),('que',5),('casa',1),('escuela',2),('casa',1),('que',1)])\n"
      ],
      "metadata": {
        "id": "_ZbIrNG5J-8t"
      },
      "execution_count": 39,
      "outputs": []
    },
    {
      "cell_type": "code",
      "source": [
        "rdd_reducido = rdd_palabras.reduceByKey(lambda x,y: x+y)\n",
        "rdd_reducido.collect()"
      ],
      "metadata": {
        "colab": {
          "base_uri": "https://localhost:8080/"
        },
        "id": "EjHh6s8eK79q",
        "outputId": "52fc7916-e471-4dd5-9ad5-27bc3aae8ecd"
      },
      "execution_count": 40,
      "outputs": [
        {
          "output_type": "execute_result",
          "data": {
            "text/plain": [
              "[('parque', 1), ('que', 6), ('casa', 4), ('escuela', 2)]"
            ]
          },
          "metadata": {},
          "execution_count": 40
        }
      ]
    },
    {
      "cell_type": "markdown",
      "source": [
        "# EJERCICIOS TRANSFORMACIONES\n",
        "\n",
        "\n",
        "\n",
        "1.   Cree un RDD llamado lenguajes que contenga los siguientes lenguajes de programación: Python, R, C, Scala, Rugby y SQL.\n",
        "\n",
        "  a. Obtenga un nuevo RDD a partir del RDD lenguajes donde todos los lenguajes de programación estén en mayúsculas.\n",
        "\n",
        "  b. Obtenga un nuevo RDD a partir del RDD lenguajes donde todos los lenguajes de programación estén en minúsculas.\n",
        "\n",
        "  c. Cree un nuevo RDD que solo contenga aquellos lenguajes de programación que comiencen con la letra R.\n",
        "\n",
        "2.   Cree un RDD llamado pares que contenga los números pares existentes en el intervalo [20;30].\n",
        "\n",
        "  a. Cree el RDD llamado sqrt, este debe contener la raíz cuadrada de los elementos que componen el RDD pares.\n",
        "\n",
        "  b. Obtenga una lista compuesta por los números pares en el intervalo [20;30] y sus respectivas raíces cuadradas. Un ejemplo del resultado deseado para el intervalo [50;60] sería la lista [50, 7.0710678118654755, 52, 7.211102550927978, 54, 7.3484692283495345, 56, 7.483314773547883, 58, 7.615773105863909, 60, 7.745966692414834].\n",
        "\n",
        "  c. Eleve el número de particiones del RDD sqrt a 20.\n",
        "\n",
        "  d. Si tuviera que disminuir el número de particiones luego de haberlo establecido en 20, ¿qué función utilizaría para hacer más eficiente su código?\n",
        "\n",
        "3. Cree un RDD del tipo clave valor a partir de los datos adjuntos como recurso a esta lección. Tenga en cuenta que deberá procesar el RDD leído para obtener el resultado solicitado. Supongamos que el RDD resultante de tipo clave valor refleja las transacciones realizadas por número de cuentas. Obtenga el monto total por cada cuenta."
      ],
      "metadata": {
        "id": "ox7mn5n1L8ba"
      }
    },
    {
      "cell_type": "markdown",
      "source": [
        "**1**"
      ],
      "metadata": {
        "id": "wvlfvIVIQMru"
      }
    },
    {
      "cell_type": "code",
      "source": [
        "rdd_lenguajes = sc.parallelize(['Pythom','R','C','Scala','Ruby','Sql'])"
      ],
      "metadata": {
        "id": "SEKAgkl0NsG1"
      },
      "execution_count": 15,
      "outputs": []
    },
    {
      "cell_type": "code",
      "source": [
        "rdd_lgs_mayusculas = rdd_lenguajes.map(lambda x: x.upper())\n",
        "rdd_lgs_mayusculas.collect()"
      ],
      "metadata": {
        "colab": {
          "base_uri": "https://localhost:8080/"
        },
        "id": "Y3SDc3DgN-OE",
        "outputId": "9c767806-4869-4129-9e5b-f1f919a1b7ed"
      },
      "execution_count": 42,
      "outputs": [
        {
          "output_type": "execute_result",
          "data": {
            "text/plain": [
              "['PYTHOM', 'R', 'C', 'SCALA', 'RUBY', 'SQL']"
            ]
          },
          "metadata": {},
          "execution_count": 42
        }
      ]
    },
    {
      "cell_type": "code",
      "source": [
        "rdd_lgs_min = rdd_lenguajes.map(lambda x: x.lower())\n",
        "rdd_lgs_min.collect()"
      ],
      "metadata": {
        "colab": {
          "base_uri": "https://localhost:8080/"
        },
        "id": "E_bpuXtNOIcz",
        "outputId": "4a9ae5c4-c469-4cca-e1d1-5ebba92e9438"
      },
      "execution_count": 43,
      "outputs": [
        {
          "output_type": "execute_result",
          "data": {
            "text/plain": [
              "['pythom', 'r', 'c', 'scala', 'ruby', 'sql']"
            ]
          },
          "metadata": {},
          "execution_count": 43
        }
      ]
    },
    {
      "cell_type": "code",
      "source": [
        "rdd_r = rdd_lenguajes.filter(lambda x: x.startswith('R'))\n",
        "rdd_r.collect()"
      ],
      "metadata": {
        "colab": {
          "base_uri": "https://localhost:8080/"
        },
        "id": "fv3rreNtOWKc",
        "outputId": "c547df29-9680-441b-86d5-f63c7e5901ff"
      },
      "execution_count": 16,
      "outputs": [
        {
          "output_type": "execute_result",
          "data": {
            "text/plain": [
              "['R', 'Ruby']"
            ]
          },
          "metadata": {},
          "execution_count": 16
        }
      ]
    },
    {
      "cell_type": "markdown",
      "source": [
        "**2**"
      ],
      "metadata": {
        "id": "PMF_ucslQQyT"
      }
    },
    {
      "cell_type": "code",
      "source": [
        "rdd_pares = sc.parallelize([20,22,24,226,28,30])"
      ],
      "metadata": {
        "id": "YAFDdvNTOgpc"
      },
      "execution_count": 18,
      "outputs": []
    },
    {
      "cell_type": "code",
      "source": [
        "import math\n",
        "rdd_sqrt = rdd_pares.map(lambda x: math.sqrt(x))\n",
        "rdd_sqrt.collect()"
      ],
      "metadata": {
        "colab": {
          "base_uri": "https://localhost:8080/"
        },
        "id": "1fEdFic_QiiD",
        "outputId": "9e0ec0a6-2ecf-4cd2-986d-366fd52196d1"
      },
      "execution_count": 19,
      "outputs": [
        {
          "output_type": "execute_result",
          "data": {
            "text/plain": [
              "[4.47213595499958,\n",
              " 4.69041575982343,\n",
              " 4.898979485566356,\n",
              " 15.033296378372908,\n",
              " 5.291502622129181,\n",
              " 5.477225575051661]"
            ]
          },
          "metadata": {},
          "execution_count": 19
        }
      ]
    },
    {
      "cell_type": "code",
      "source": [
        "lista = rdd_pares.flatMap(lambda x: (x,math.sqrt(x))).collect()\n",
        "print(lista)"
      ],
      "metadata": {
        "colab": {
          "base_uri": "https://localhost:8080/"
        },
        "id": "MFVLrSc70_qt",
        "outputId": "489af120-f484-45bb-e4ea-45b64391b929"
      },
      "execution_count": 23,
      "outputs": [
        {
          "output_type": "stream",
          "name": "stdout",
          "text": [
            "[20, 4.47213595499958, 22, 4.69041575982343, 24, 4.898979485566356, 226, 15.033296378372908, 28, 5.291502622129181, 30, 5.477225575051661]\n"
          ]
        }
      ]
    },
    {
      "cell_type": "code",
      "source": [
        "rdd_20 = rdd_sqrt.repartition(20)\n",
        "rdd_20.getNumPartitions()"
      ],
      "metadata": {
        "colab": {
          "base_uri": "https://localhost:8080/"
        },
        "id": "9yC-GIP_3dHC",
        "outputId": "a98e5480-d7c8-4667-e32a-c1fbf955871d"
      },
      "execution_count": 24,
      "outputs": [
        {
          "output_type": "execute_result",
          "data": {
            "text/plain": [
              "20"
            ]
          },
          "metadata": {},
          "execution_count": 24
        }
      ]
    },
    {
      "cell_type": "code",
      "source": [
        "rdd_20_a_5 = rdd_20.coalesce(5)\n",
        "rdd_20_a_5.getNumPartitions()"
      ],
      "metadata": {
        "colab": {
          "base_uri": "https://localhost:8080/"
        },
        "id": "FTFo_fwr34iA",
        "outputId": "074f1fba-aef7-47e2-b679-0cf61d31ca87"
      },
      "execution_count": 25,
      "outputs": [
        {
          "output_type": "execute_result",
          "data": {
            "text/plain": [
              "5"
            ]
          },
          "metadata": {},
          "execution_count": 25
        }
      ]
    },
    {
      "cell_type": "code",
      "source": [
        "rdd_tra = sc.textFile('./transacciones')\n",
        "rdd_tra.collect()"
      ],
      "metadata": {
        "colab": {
          "base_uri": "https://localhost:8080/"
        },
        "id": "4er8u6cq7KVj",
        "outputId": "df31ac5f-e4e2-4742-92f3-3e344b45ff8a"
      },
      "execution_count": 26,
      "outputs": [
        {
          "output_type": "execute_result",
          "data": {
            "text/plain": [
              "['(1001, 52.3)',\n",
              " '(1005, 20.8)',\n",
              " '(1001, 10.1)',\n",
              " '(1004, 52.7)',\n",
              " '(1005, 20.7)',\n",
              " '(1002, 85.3)',\n",
              " '(1004, 20.9)']"
            ]
          },
          "metadata": {},
          "execution_count": 26
        }
      ]
    },
    {
      "cell_type": "code",
      "source": [
        "def proceso(s):\n",
        "  return (tuple(s.replace('(','').replace(')','').split(', ')))"
      ],
      "metadata": {
        "id": "gtcv2MvT9IPo"
      },
      "execution_count": 27,
      "outputs": []
    },
    {
      "cell_type": "code",
      "source": [
        "rdd_llave_valor = rdd_tra.map(proceso)\n",
        "rdd_llave_valor.collect()"
      ],
      "metadata": {
        "colab": {
          "base_uri": "https://localhost:8080/"
        },
        "id": "9rPkIYml9hww",
        "outputId": "c19c3180-a059-4499-a54b-05e9f1137c0a"
      },
      "execution_count": 29,
      "outputs": [
        {
          "output_type": "execute_result",
          "data": {
            "text/plain": [
              "[('1001', '52.3'),\n",
              " ('1005', '20.8'),\n",
              " ('1001', '10.1'),\n",
              " ('1004', '52.7'),\n",
              " ('1005', '20.7'),\n",
              " ('1002', '85.3'),\n",
              " ('1004', '20.9')]"
            ]
          },
          "metadata": {},
          "execution_count": 29
        }
      ]
    },
    {
      "cell_type": "code",
      "source": [
        "rdd_llave_valor.reduceByKey(lambda x,y: float(x) + float(y)).collect()"
      ],
      "metadata": {
        "colab": {
          "base_uri": "https://localhost:8080/"
        },
        "id": "xUNVNsjQ98Sm",
        "outputId": "c9b5c7e5-a1c3-4dd0-8871-26aec99f2f59"
      },
      "execution_count": 30,
      "outputs": [
        {
          "output_type": "execute_result",
          "data": {
            "text/plain": [
              "[('1002', '85.3'), ('1001', 62.4), ('1005', 41.5), ('1004', 73.6)]"
            ]
          },
          "metadata": {},
          "execution_count": 30
        }
      ]
    }
  ]
}
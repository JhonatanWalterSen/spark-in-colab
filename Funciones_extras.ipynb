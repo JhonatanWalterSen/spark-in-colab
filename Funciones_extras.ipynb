{
  "nbformat": 4,
  "nbformat_minor": 0,
  "metadata": {
    "colab": {
      "provenance": [],
      "authorship_tag": "ABX9TyOBhYaX/a5Wm3Xl5U2Wqk86",
      "include_colab_link": true
    },
    "kernelspec": {
      "name": "python3",
      "display_name": "Python 3"
    },
    "language_info": {
      "name": "python"
    }
  },
  "cells": [
    {
      "cell_type": "markdown",
      "metadata": {
        "id": "view-in-github",
        "colab_type": "text"
      },
      "source": [
        "<a href=\"https://colab.research.google.com/github/JhonatanWalterSen/spark-in-colab/blob/main/Funciones_extras.ipynb\" target=\"_parent\"><img src=\"https://colab.research.google.com/assets/colab-badge.svg\" alt=\"Open In Colab\"/></a>"
      ]
    },
    {
      "cell_type": "markdown",
      "source": [
        "# Funciones Fecha, Hora, Strings, Ventana, Optimizer"
      ],
      "metadata": {
        "id": "BaIWG2qv1n7E"
      }
    },
    {
      "cell_type": "markdown",
      "source": [
        "# Instalaciones"
      ],
      "metadata": {
        "id": "--X0lryO1yEr"
      }
    },
    {
      "cell_type": "code",
      "execution_count": 1,
      "metadata": {
        "id": "dn99VUuA1ZTW"
      },
      "outputs": [],
      "source": [
        "# Instalar Java 8 scas\n",
        "!apt-get install openjdk-8-jdk-headless -qq > /dev/null"
      ]
    },
    {
      "cell_type": "code",
      "source": [
        "# Descargar Spark\n",
        "!wget -q http://apache.osuosl.org/spark/spark-3.3.1/spark-3.3.1-bin-hadoop3.tgz"
      ],
      "metadata": {
        "id": "s0fBF0ka11Cc"
      },
      "execution_count": 2,
      "outputs": []
    },
    {
      "cell_type": "code",
      "source": [
        "# Descomprimir Spart\n",
        "!tar xf spark-3.3.1-bin-hadoop3.tgz"
      ],
      "metadata": {
        "id": "bthruV6e2C82"
      },
      "execution_count": 3,
      "outputs": []
    },
    {
      "cell_type": "code",
      "source": [
        "# Establecer las variables de Entorno\n",
        "import os \n",
        "os.environ[\"JAVA_HOME\"] = \"/usr/lib/jvm/java-8-openjdk-amd64\"\n",
        "os.environ[\"SPARK_HOME\"] = \"/content/spark-3.3.1-bin-hadoop3\""
      ],
      "metadata": {
        "id": "DjNdzq4n2Dfk"
      },
      "execution_count": 4,
      "outputs": []
    },
    {
      "cell_type": "code",
      "source": [
        "# Instalar FindSpark en el sistema\n",
        "!pip install -q findspark"
      ],
      "metadata": {
        "id": "9tg0rYiI2Ixc"
      },
      "execution_count": 5,
      "outputs": []
    },
    {
      "cell_type": "code",
      "source": [
        "#Session de spark\n",
        "import findspark\n",
        "findspark.init()\n",
        "from pyspark.sql import SparkSession\n",
        "spark = SparkSession.builder.getOrCreate()"
      ],
      "metadata": {
        "id": "B7m9roz-2K0M"
      },
      "execution_count": 6,
      "outputs": []
    },
    {
      "cell_type": "markdown",
      "source": [
        "# Fecha y Hora"
      ],
      "metadata": {
        "id": "0ixkVLkD29Ul"
      }
    },
    {
      "cell_type": "code",
      "source": [
        "data = spark.read.parquet('./convertir')"
      ],
      "metadata": {
        "id": "ls5KRXpR2_m9"
      },
      "execution_count": 7,
      "outputs": []
    },
    {
      "cell_type": "code",
      "source": [
        "data.printSchema()"
      ],
      "metadata": {
        "colab": {
          "base_uri": "https://localhost:8080/"
        },
        "id": "XJUNmYgV3MgN",
        "outputId": "0d9cc6f9-0e0a-4ce9-90e6-aecffa686002"
      },
      "execution_count": 8,
      "outputs": [
        {
          "output_type": "stream",
          "name": "stdout",
          "text": [
            "root\n",
            " |-- date: string (nullable = true)\n",
            " |-- timestamp: string (nullable = true)\n",
            " |-- date_str: string (nullable = true)\n",
            " |-- ts_str: string (nullable = true)\n",
            "\n"
          ]
        }
      ]
    },
    {
      "cell_type": "code",
      "source": [
        "data.show(truncate=False)"
      ],
      "metadata": {
        "colab": {
          "base_uri": "https://localhost:8080/"
        },
        "id": "2iRxjw5Z3Nl2",
        "outputId": "9b6c50a7-0bd0-44df-bf47-81b5b6c6b86f"
      },
      "execution_count": 10,
      "outputs": [
        {
          "output_type": "stream",
          "name": "stdout",
          "text": [
            "+----------+-----------------------+----------+----------------+\n",
            "|date      |timestamp              |date_str  |ts_str          |\n",
            "+----------+-----------------------+----------+----------------+\n",
            "|2021-01-01|2021-01-01 20:10:50.723|01-01-2021|18-08-2021 46:58|\n",
            "+----------+-----------------------+----------+----------------+\n",
            "\n"
          ]
        }
      ]
    },
    {
      "cell_type": "code",
      "source": [
        "from pyspark.sql.functions import col, to_date, to_timestamp"
      ],
      "metadata": {
        "id": "It9-iH9e3P02"
      },
      "execution_count": 8,
      "outputs": []
    },
    {
      "cell_type": "code",
      "source": [
        "data1 = data.select(\n",
        "    to_date(col('date')).alias('date1'),\n",
        "    to_timestamp(col('timestamp')).alias('ts1'),\n",
        "    to_date(col('date_str'),'dd-MM-yyyy').alias('date2'),\n",
        "    to_timestamp(col('ts_str'),'dd-MM-yyyy mm:ss').alias('ts2')\n",
        ")"
      ],
      "metadata": {
        "id": "M8e3dfv83h4u"
      },
      "execution_count": 10,
      "outputs": []
    },
    {
      "cell_type": "code",
      "source": [
        "data1.show(truncate=False)"
      ],
      "metadata": {
        "colab": {
          "base_uri": "https://localhost:8080/"
        },
        "id": "x2f0hy2FuUV7",
        "outputId": "6acf3203-a4b8-41f1-fb57-d60904981a8b"
      },
      "execution_count": 11,
      "outputs": [
        {
          "output_type": "stream",
          "name": "stdout",
          "text": [
            "+----------+-----------------------+----------+-------------------+\n",
            "|date1     |ts1                    |date2     |ts2                |\n",
            "+----------+-----------------------+----------+-------------------+\n",
            "|2021-01-01|2021-01-01 20:10:50.723|2021-01-01|2021-08-18 00:46:58|\n",
            "+----------+-----------------------+----------+-------------------+\n",
            "\n"
          ]
        }
      ]
    },
    {
      "cell_type": "code",
      "source": [
        "data1.printSchema()"
      ],
      "metadata": {
        "colab": {
          "base_uri": "https://localhost:8080/"
        },
        "id": "GQ4IJFQVubou",
        "outputId": "7f575c54-cf37-4e66-a886-2fa82cd78fc2"
      },
      "execution_count": 12,
      "outputs": [
        {
          "output_type": "stream",
          "name": "stdout",
          "text": [
            "root\n",
            " |-- date1: date (nullable = true)\n",
            " |-- ts1: timestamp (nullable = true)\n",
            " |-- date2: date (nullable = true)\n",
            " |-- ts2: timestamp (nullable = true)\n",
            "\n"
          ]
        }
      ]
    },
    {
      "cell_type": "code",
      "source": [
        "data.printSchema()"
      ],
      "metadata": {
        "colab": {
          "base_uri": "https://localhost:8080/"
        },
        "id": "jTLxV2aOumfV",
        "outputId": "c9a93ac3-b8b2-41d4-a973-3cf91f0f0fcb"
      },
      "execution_count": 13,
      "outputs": [
        {
          "output_type": "stream",
          "name": "stdout",
          "text": [
            "root\n",
            " |-- date: string (nullable = true)\n",
            " |-- timestamp: string (nullable = true)\n",
            " |-- date_str: string (nullable = true)\n",
            " |-- ts_str: string (nullable = true)\n",
            "\n"
          ]
        }
      ]
    },
    {
      "cell_type": "code",
      "source": [
        "from pyspark.sql.functions import date_format"
      ],
      "metadata": {
        "id": "Eb4agE5Aupft"
      },
      "execution_count": 14,
      "outputs": []
    },
    {
      "cell_type": "code",
      "source": [
        "data1.select(\n",
        "    date_format(col('date1'),'dd-MM-yyyy')\n",
        ").show()"
      ],
      "metadata": {
        "colab": {
          "base_uri": "https://localhost:8080/"
        },
        "id": "IsbbNv9Mv6tA",
        "outputId": "51bc6ed2-ff2a-471d-aaa5-2baed5b818c3"
      },
      "execution_count": 16,
      "outputs": [
        {
          "output_type": "stream",
          "name": "stdout",
          "text": [
            "+------------------------------+\n",
            "|date_format(date1, dd-MM-yyyy)|\n",
            "+------------------------------+\n",
            "|                    01-01-2021|\n",
            "+------------------------------+\n",
            "\n"
          ]
        }
      ]
    },
    {
      "cell_type": "code",
      "source": [
        "df = spark.read.parquet('./calculo')"
      ],
      "metadata": {
        "id": "LEfjmGo-zDH7"
      },
      "execution_count": 17,
      "outputs": []
    },
    {
      "cell_type": "code",
      "source": [
        "df.show()"
      ],
      "metadata": {
        "colab": {
          "base_uri": "https://localhost:8080/"
        },
        "id": "ZYbaJ3cUzSwn",
        "outputId": "607ed228-b92d-4139-88e3-fc58c8f5a98d"
      },
      "execution_count": 18,
      "outputs": [
        {
          "output_type": "stream",
          "name": "stdout",
          "text": [
            "+------+-------------+------------+-------------------+\n",
            "|nombre|fecha_ingreso|fecha_salida|       baja_sistema|\n",
            "+------+-------------+------------+-------------------+\n",
            "|  Jose|   2021-01-01|  2021-11-14|2021-10-14 15:35:59|\n",
            "|Mayara|   2021-02-06|  2021-11-25|2021-11-25 10:35:55|\n",
            "+------+-------------+------------+-------------------+\n",
            "\n"
          ]
        }
      ]
    },
    {
      "cell_type": "code",
      "source": [
        "df.printSchema()"
      ],
      "metadata": {
        "colab": {
          "base_uri": "https://localhost:8080/"
        },
        "id": "E9gVwkWbzTgH",
        "outputId": "90812dfb-a3bd-4162-aa52-daa335584747"
      },
      "execution_count": 19,
      "outputs": [
        {
          "output_type": "stream",
          "name": "stdout",
          "text": [
            "root\n",
            " |-- nombre: string (nullable = true)\n",
            " |-- fecha_ingreso: string (nullable = true)\n",
            " |-- fecha_salida: string (nullable = true)\n",
            " |-- baja_sistema: string (nullable = true)\n",
            "\n"
          ]
        }
      ]
    },
    {
      "cell_type": "code",
      "source": [
        "from pyspark.sql.functions import datediff, months_between, last_day"
      ],
      "metadata": {
        "id": "CnVgCr7CzWbf"
      },
      "execution_count": 20,
      "outputs": []
    },
    {
      "cell_type": "code",
      "source": [
        "df.select(\n",
        "    col('nombre'),\n",
        "    datediff(col('fecha_salida'),col('fecha_ingreso')).alias('dias'),\n",
        "    months_between(col('fecha_salida'),col('fecha_ingreso')).alias('meses'),\n",
        "    last_day(col('fecha_salida')).alias('ultimo_dia_mes')\n",
        ").show()"
      ],
      "metadata": {
        "colab": {
          "base_uri": "https://localhost:8080/"
        },
        "id": "b-OjfGU96nz-",
        "outputId": "9f54b35c-807f-4555-9e4e-4eb6664beb29"
      },
      "execution_count": 22,
      "outputs": [
        {
          "output_type": "stream",
          "name": "stdout",
          "text": [
            "+------+----+-----------+--------------+\n",
            "|nombre|dias|      meses|ultimo_dia_mes|\n",
            "+------+----+-----------+--------------+\n",
            "|  Jose| 317|10.41935484|    2021-11-30|\n",
            "|Mayara| 292| 9.61290323|    2021-11-30|\n",
            "+------+----+-----------+--------------+\n",
            "\n"
          ]
        }
      ]
    },
    {
      "cell_type": "code",
      "source": [
        "from pyspark.sql.functions import date_add, date_sub"
      ],
      "metadata": {
        "id": "428dcwiV8xF2"
      },
      "execution_count": 23,
      "outputs": []
    },
    {
      "cell_type": "code",
      "source": [
        "df.select(\n",
        "    col('nombre'),\n",
        "    col('fecha_ingreso'),\n",
        "    date_add(col('fecha_ingreso'),14).alias('mas_14_dias'),\n",
        "    date_sub(col('fecha_ingreso'),1).alias('menos_1_dia')\n",
        ").show()"
      ],
      "metadata": {
        "colab": {
          "base_uri": "https://localhost:8080/"
        },
        "id": "v_dbj0fM98ht",
        "outputId": "fbbf9885-c502-4855-e23d-7c6a2eb955d6"
      },
      "execution_count": 25,
      "outputs": [
        {
          "output_type": "stream",
          "name": "stdout",
          "text": [
            "+------+-------------+-----------+-----------+\n",
            "|nombre|fecha_ingreso|mas_14_dias|menos_1_dia|\n",
            "+------+-------------+-----------+-----------+\n",
            "|  Jose|   2021-01-01| 2021-01-15| 2020-12-31|\n",
            "|Mayara|   2021-02-06| 2021-02-20| 2021-02-05|\n",
            "+------+-------------+-----------+-----------+\n",
            "\n"
          ]
        }
      ]
    },
    {
      "cell_type": "code",
      "source": [
        "from pyspark.sql.functions import year, month, dayofmonth, dayofyear, hour, minute, second"
      ],
      "metadata": {
        "id": "XPdr0EfQ-Ul7"
      },
      "execution_count": 26,
      "outputs": []
    },
    {
      "cell_type": "code",
      "source": [
        "df.select(\n",
        "    col('baja_sistema'),\n",
        "    year(col('baja_sistema')),\n",
        "    month(col('baja_sistema')),\n",
        "    dayofmonth(col('baja_sistema')),\n",
        "    dayofyear(col('baja_sistema')),\n",
        "    hour(col('baja_sistema')),\n",
        "    minute(col('baja_sistema')),\n",
        "    second(col('baja_sistema'))\n",
        ").show()"
      ],
      "metadata": {
        "colab": {
          "base_uri": "https://localhost:8080/"
        },
        "id": "gjEyeY_q_ACx",
        "outputId": "bb72c8f8-8fbf-4eb9-8661-0fe967922afb"
      },
      "execution_count": 28,
      "outputs": [
        {
          "output_type": "stream",
          "name": "stdout",
          "text": [
            "+-------------------+------------------+-------------------+------------------------+-----------------------+------------------+--------------------+--------------------+\n",
            "|       baja_sistema|year(baja_sistema)|month(baja_sistema)|dayofmonth(baja_sistema)|dayofyear(baja_sistema)|hour(baja_sistema)|minute(baja_sistema)|second(baja_sistema)|\n",
            "+-------------------+------------------+-------------------+------------------------+-----------------------+------------------+--------------------+--------------------+\n",
            "|2021-10-14 15:35:59|              2021|                 10|                      14|                    287|                15|                  35|                  59|\n",
            "|2021-11-25 10:35:55|              2021|                 11|                      25|                    329|                10|                  35|                  55|\n",
            "+-------------------+------------------+-------------------+------------------------+-----------------------+------------------+--------------------+--------------------+\n",
            "\n"
          ]
        }
      ]
    },
    {
      "cell_type": "markdown",
      "source": [
        "# Funciones para trabajo con Strings"
      ],
      "metadata": {
        "id": "0lLiaUNTANsJ"
      }
    },
    {
      "cell_type": "markdown",
      "source": [
        "## Trim"
      ],
      "metadata": {
        "id": "Egx3jyEnFh32"
      }
    },
    {
      "cell_type": "code",
      "source": [
        "dataf = spark.read.parquet('./data.parquet')\n",
        "dataf.show()"
      ],
      "metadata": {
        "colab": {
          "base_uri": "https://localhost:8080/"
        },
        "id": "RlH2PqD8DcKt",
        "outputId": "54e16536-cffb-46b6-8314-c0835f05d8c4"
      },
      "execution_count": 29,
      "outputs": [
        {
          "output_type": "stream",
          "name": "stdout",
          "text": [
            "+-------+\n",
            "| nombre|\n",
            "+-------+\n",
            "| Spark |\n",
            "+-------+\n",
            "\n"
          ]
        }
      ]
    },
    {
      "cell_type": "code",
      "source": [
        "from pyspark.sql.functions import ltrim, rtrim, trim"
      ],
      "metadata": {
        "id": "G1nAixYtDkSX"
      },
      "execution_count": 30,
      "outputs": []
    },
    {
      "cell_type": "code",
      "source": [
        "dataf.select(\n",
        "    ltrim('nombre').alias('ltrim'),\n",
        "    rtrim('nombre').alias('rtrim'),\n",
        "    trim('nombre').alias('trim')\n",
        ").show()"
      ],
      "metadata": {
        "colab": {
          "base_uri": "https://localhost:8080/"
        },
        "id": "j_4uAkC9EssE",
        "outputId": "45137dce-0fbe-4534-8e9e-189f2e35487f"
      },
      "execution_count": 35,
      "outputs": [
        {
          "output_type": "stream",
          "name": "stdout",
          "text": [
            "+------+------+-----+\n",
            "| ltrim| rtrim| trim|\n",
            "+------+------+-----+\n",
            "|Spark | Spark|Spark|\n",
            "+------+------+-----+\n",
            "\n"
          ]
        }
      ]
    },
    {
      "cell_type": "markdown",
      "source": [
        "## Pad"
      ],
      "metadata": {
        "id": "XdfuHlJeFof-"
      }
    },
    {
      "cell_type": "code",
      "source": [
        "from pyspark.sql.functions import col, lpad, rpad"
      ],
      "metadata": {
        "id": "WxzSWWxNE2Ez"
      },
      "execution_count": 36,
      "outputs": []
    },
    {
      "cell_type": "code",
      "source": [
        "dataf.select(\n",
        "    trim(col('nombre')).alias('trim')  \n",
        ").select(\n",
        "    lpad(col('trim'), 8, '-').alias('lpad'),\n",
        "    rpad(col('trim'), 8, '=').alias('rpad')\n",
        ").show()"
      ],
      "metadata": {
        "colab": {
          "base_uri": "https://localhost:8080/"
        },
        "id": "1kXa4XL5Fsz3",
        "outputId": "b4888fea-e6fe-41d6-dea5-8d6db586c141"
      },
      "execution_count": 39,
      "outputs": [
        {
          "output_type": "stream",
          "name": "stdout",
          "text": [
            "+--------+--------+\n",
            "|    lpad|    rpad|\n",
            "+--------+--------+\n",
            "|---Spark|Spark===|\n",
            "+--------+--------+\n",
            "\n"
          ]
        }
      ]
    },
    {
      "cell_type": "code",
      "source": [
        "dfn = spark.createDataFrame([('Spark','es','bueno')],['sujeto','verbo','adjetivo'])"
      ],
      "metadata": {
        "id": "EbhIizm3HgCP"
      },
      "execution_count": 40,
      "outputs": []
    },
    {
      "cell_type": "code",
      "source": [
        "dfn.show()"
      ],
      "metadata": {
        "colab": {
          "base_uri": "https://localhost:8080/"
        },
        "id": "Rh9qZFMkJazA",
        "outputId": "f72ddb93-56d6-4e04-902c-8a05d26df226"
      },
      "execution_count": 41,
      "outputs": [
        {
          "output_type": "stream",
          "name": "stdout",
          "text": [
            "+------+-----+--------+\n",
            "|sujeto|verbo|adjetivo|\n",
            "+------+-----+--------+\n",
            "| Spark|   es|   bueno|\n",
            "+------+-----+--------+\n",
            "\n"
          ]
        }
      ]
    },
    {
      "cell_type": "markdown",
      "source": [
        "## Concat_ws Lower Upper InitCap Reverse"
      ],
      "metadata": {
        "id": "JXGJ8tFmJjYV"
      }
    },
    {
      "cell_type": "code",
      "source": [
        "from pyspark.sql.functions import concat_ws, lower, upper, initcap, reverse"
      ],
      "metadata": {
        "id": "gCQ8jcepJcJ-"
      },
      "execution_count": 42,
      "outputs": []
    },
    {
      "cell_type": "code",
      "source": [
        "dfn.select(\n",
        "    concat_ws(' ', col('sujeto'),col('verbo'),col('adjetivo')).alias('frase')\n",
        ").select(\n",
        "    col('frase'),\n",
        "    lower(col('frase')).alias('minuscula'),\n",
        "    upper(col('frase')).alias('mayuscula'),\n",
        "    initcap(col('frase')).alias('initcap'),\n",
        "    reverse(col('frase')).alias('reverso')\n",
        ").show()"
      ],
      "metadata": {
        "colab": {
          "base_uri": "https://localhost:8080/"
        },
        "id": "nsPfSQ7AKqXu",
        "outputId": "a06a1fcb-f30c-4b26-d619-7fa1c75df33a"
      },
      "execution_count": 43,
      "outputs": [
        {
          "output_type": "stream",
          "name": "stdout",
          "text": [
            "+--------------+--------------+--------------+--------------+--------------+\n",
            "|         frase|     minuscula|     mayuscula|       initcap|       reverso|\n",
            "+--------------+--------------+--------------+--------------+--------------+\n",
            "|Spark es bueno|spark es bueno|SPARK ES BUENO|Spark Es Bueno|oneub se krapS|\n",
            "+--------------+--------------+--------------+--------------+--------------+\n",
            "\n"
          ]
        }
      ]
    },
    {
      "cell_type": "markdown",
      "source": [
        "## Regexp Replace"
      ],
      "metadata": {
        "id": "YnFiSeZGMCiu"
      }
    },
    {
      "cell_type": "code",
      "source": [
        "from pyspark.sql.functions import regexp_replace"
      ],
      "metadata": {
        "id": "q50U-wD2LLpn"
      },
      "execution_count": 44,
      "outputs": []
    },
    {
      "cell_type": "code",
      "source": [
        "df2 = spark.createDataFrame([('Voy a mi casa por mis llaves',)],['frase'])"
      ],
      "metadata": {
        "id": "JaGbaepZMI9t"
      },
      "execution_count": 46,
      "outputs": []
    },
    {
      "cell_type": "code",
      "source": [
        "df2.show(truncate=False)"
      ],
      "metadata": {
        "colab": {
          "base_uri": "https://localhost:8080/"
        },
        "id": "GIBrUWtmMTC5",
        "outputId": "e83c0162-896e-41c2-ad3c-bbe4039c1a4d"
      },
      "execution_count": 48,
      "outputs": [
        {
          "output_type": "stream",
          "name": "stdout",
          "text": [
            "+----------------------------+\n",
            "|frase                       |\n",
            "+----------------------------+\n",
            "|Voy a mi casa por mis llaves|\n",
            "+----------------------------+\n",
            "\n"
          ]
        }
      ]
    },
    {
      "cell_type": "code",
      "source": [
        "df2.select(\n",
        "    regexp_replace(col('frase'), 'Voy|por', 'ir').alias('nueva_frase')\n",
        ").show(truncate=False)"
      ],
      "metadata": {
        "colab": {
          "base_uri": "https://localhost:8080/"
        },
        "id": "MrAUlRF1MdCx",
        "outputId": "25efe641-daed-42f8-b6b8-b11bceb5ca17"
      },
      "execution_count": 51,
      "outputs": [
        {
          "output_type": "stream",
          "name": "stdout",
          "text": [
            "+--------------------------+\n",
            "|nueva_frase               |\n",
            "+--------------------------+\n",
            "|ir a mi casa ir mis llaves|\n",
            "+--------------------------+\n",
            "\n"
          ]
        }
      ]
    },
    {
      "cell_type": "markdown",
      "source": [
        "# Funciones para trabajo con Colecciones"
      ],
      "metadata": {
        "id": "_n6AhriNOSCQ"
      }
    },
    {
      "cell_type": "markdown",
      "source": [
        "## Size Sort_array Array_contains"
      ],
      "metadata": {
        "id": "VpKp9EyWP53n"
      }
    },
    {
      "cell_type": "code",
      "source": [
        "datacoleccion = spark.read.parquet('./parquet')"
      ],
      "metadata": {
        "id": "7c63d0oyM015"
      },
      "execution_count": 52,
      "outputs": []
    },
    {
      "cell_type": "code",
      "source": [
        "datacoleccion.show(truncate=False)"
      ],
      "metadata": {
        "colab": {
          "base_uri": "https://localhost:8080/"
        },
        "id": "pA9PzXGQObXz",
        "outputId": "bf4b2315-6fb0-405a-b38f-799c9fd827c2"
      },
      "execution_count": 54,
      "outputs": [
        {
          "output_type": "stream",
          "name": "stdout",
          "text": [
            "+-----+--------------------------------------------+\n",
            "|dia  |tareas                                      |\n",
            "+-----+--------------------------------------------+\n",
            "|lunes|[hacer la tarea, buscar agua, lavar el auto]|\n",
            "+-----+--------------------------------------------+\n",
            "\n"
          ]
        }
      ]
    },
    {
      "cell_type": "code",
      "source": [
        "datacoleccion.printSchema()"
      ],
      "metadata": {
        "colab": {
          "base_uri": "https://localhost:8080/"
        },
        "id": "U0hKcq72OdT5",
        "outputId": "b0c4c734-59ef-41a3-d3a9-7ddaa7e3f13b"
      },
      "execution_count": 55,
      "outputs": [
        {
          "output_type": "stream",
          "name": "stdout",
          "text": [
            "root\n",
            " |-- dia: string (nullable = true)\n",
            " |-- tareas: array (nullable = true)\n",
            " |    |-- element: string (containsNull = true)\n",
            "\n"
          ]
        }
      ]
    },
    {
      "cell_type": "code",
      "source": [
        "from pyspark.sql.functions import col, size, sort_array, array_contains"
      ],
      "metadata": {
        "id": "xqKC9MUoPID5"
      },
      "execution_count": 56,
      "outputs": []
    },
    {
      "cell_type": "code",
      "source": [
        "datacoleccion.select(\n",
        "    size(col('tareas')).alias('tamanio'),\n",
        "    sort_array(col('tareas')).alias('arreglo_ordenado'),\n",
        "    array_contains(col('tareas'),'buscar agua').alias('buscar_agua'),\n",
        ").show(truncate=False)"
      ],
      "metadata": {
        "colab": {
          "base_uri": "https://localhost:8080/"
        },
        "id": "ljivCqMMP2gp",
        "outputId": "6f40f27f-7367-4a64-b3c9-a7d34f4263ff"
      },
      "execution_count": 57,
      "outputs": [
        {
          "output_type": "stream",
          "name": "stdout",
          "text": [
            "+-------+--------------------------------------------+-----------+\n",
            "|tamanio|arreglo_ordenado                            |buscar_agua|\n",
            "+-------+--------------------------------------------+-----------+\n",
            "|3      |[buscar agua, hacer la tarea, lavar el auto]|true       |\n",
            "+-------+--------------------------------------------+-----------+\n",
            "\n"
          ]
        }
      ]
    },
    {
      "cell_type": "markdown",
      "source": [
        "## Explode"
      ],
      "metadata": {
        "id": "51DqJW5vQ20H"
      }
    },
    {
      "cell_type": "code",
      "source": [
        "from pyspark.sql.functions import col,explode"
      ],
      "metadata": {
        "id": "7ldmx_-5QkAH"
      },
      "execution_count": 7,
      "outputs": []
    },
    {
      "cell_type": "code",
      "source": [
        "datacoleccion.select(\n",
        "    col('dia'),\n",
        "    explode(col('tareas')).alias('tareas')\n",
        ").show()"
      ],
      "metadata": {
        "colab": {
          "base_uri": "https://localhost:8080/"
        },
        "id": "jh6KEQPlSbFq",
        "outputId": "da1d4305-ab3c-4838-cdca-f337e888d586"
      },
      "execution_count": 59,
      "outputs": [
        {
          "output_type": "stream",
          "name": "stdout",
          "text": [
            "+-----+--------------+\n",
            "|  dia|        tareas|\n",
            "+-----+--------------+\n",
            "|lunes|hacer la tarea|\n",
            "|lunes|   buscar agua|\n",
            "|lunes| lavar el auto|\n",
            "+-----+--------------+\n",
            "\n"
          ]
        }
      ]
    },
    {
      "cell_type": "code",
      "source": [
        "#formato JSON\n",
        "dfjs = spark.read.parquet('./JSON')"
      ],
      "metadata": {
        "id": "6PpHckrtSrRx"
      },
      "execution_count": 62,
      "outputs": []
    },
    {
      "cell_type": "code",
      "source": [
        "dfjs.show(truncate=False)"
      ],
      "metadata": {
        "colab": {
          "base_uri": "https://localhost:8080/"
        },
        "id": "sT7k4hgDTGSE",
        "outputId": "956ec221-ee5e-4835-d08c-bc797e574e7f"
      },
      "execution_count": 65,
      "outputs": [
        {
          "output_type": "stream",
          "name": "stdout",
          "text": [
            "+---------------------------------------------------------------------------+\n",
            "|tareas_str                                                                 |\n",
            "+---------------------------------------------------------------------------+\n",
            "|{\"dia\": \"lunes\",\"tareas\": [\"hacer la tarea\",\"buscar agua\",\"lavar el auto\"]}|\n",
            "+---------------------------------------------------------------------------+\n",
            "\n"
          ]
        }
      ]
    },
    {
      "cell_type": "code",
      "source": [
        "dfjs.printSchema()"
      ],
      "metadata": {
        "colab": {
          "base_uri": "https://localhost:8080/"
        },
        "id": "2GixtztqTHYC",
        "outputId": "a3291bc2-69f3-415d-e06a-9740e2a0a706"
      },
      "execution_count": 66,
      "outputs": [
        {
          "output_type": "stream",
          "name": "stdout",
          "text": [
            "root\n",
            " |-- tareas_str: string (nullable = true)\n",
            "\n"
          ]
        }
      ]
    },
    {
      "cell_type": "code",
      "source": [
        "# Esquema JSON\n",
        "from pyspark.sql.types import StructType, StructField, StringType, ArrayType\n",
        "\n",
        "schema_json = StructType(\n",
        "    [\n",
        "        StructField('dia', StringType(), True),\n",
        "        StructField('tareas', ArrayType(StringType()), True),\n",
        "    ]\n",
        ")"
      ],
      "metadata": {
        "id": "mgUj6gDeTlWf"
      },
      "execution_count": 70,
      "outputs": []
    },
    {
      "cell_type": "code",
      "source": [
        "from pyspark.sql.functions import from_json, to_json"
      ],
      "metadata": {
        "id": "n21V8ffnaFqv"
      },
      "execution_count": 73,
      "outputs": []
    },
    {
      "cell_type": "code",
      "source": [
        "json_df= dfjs.select(\n",
        "    from_json('tareas_str',schema_json).alias('por_hacer')\n",
        ")"
      ],
      "metadata": {
        "id": "whliOog-aLvO"
      },
      "execution_count": 74,
      "outputs": []
    },
    {
      "cell_type": "code",
      "source": [
        "json_df.printSchema()"
      ],
      "metadata": {
        "colab": {
          "base_uri": "https://localhost:8080/"
        },
        "id": "DUnC1o6Db8wl",
        "outputId": "9d1549f7-a055-41ce-fb5e-de4f11d2db06"
      },
      "execution_count": 76,
      "outputs": [
        {
          "output_type": "stream",
          "name": "stdout",
          "text": [
            "root\n",
            " |-- por_hacer: struct (nullable = true)\n",
            " |    |-- dia: string (nullable = true)\n",
            " |    |-- tareas: array (nullable = true)\n",
            " |    |    |-- element: string (containsNull = true)\n",
            "\n"
          ]
        }
      ]
    },
    {
      "cell_type": "code",
      "source": [
        "json_df.select(\n",
        "    col('por_hacer').getItem('dia'),\n",
        "    col('por_hacer').getItem('tareas'),\n",
        "    col('por_hacer').getItem('tareas').getItem(0).alias('primer_tarea'),\n",
        ").show(truncate=False)"
      ],
      "metadata": {
        "colab": {
          "base_uri": "https://localhost:8080/"
        },
        "id": "iNo8-Fzxb-Kq",
        "outputId": "fedc2c7f-8925-4e06-a9a6-efc7758878a9"
      },
      "execution_count": 77,
      "outputs": [
        {
          "output_type": "stream",
          "name": "stdout",
          "text": [
            "+-------------+--------------------------------------------+--------------+\n",
            "|por_hacer.dia|por_hacer.tareas                            |primer_tarea  |\n",
            "+-------------+--------------------------------------------+--------------+\n",
            "|lunes        |[hacer la tarea, buscar agua, lavar el auto]|hacer la tarea|\n",
            "+-------------+--------------------------------------------+--------------+\n",
            "\n"
          ]
        }
      ]
    },
    {
      "cell_type": "code",
      "source": [
        "#lo convierte a String\n",
        "json_df.select(\n",
        "    to_json(col('por_hacer'))\n",
        ").show(truncate=False)"
      ],
      "metadata": {
        "colab": {
          "base_uri": "https://localhost:8080/"
        },
        "id": "tBNfGYjRcsXS",
        "outputId": "705a2324-16fb-4bb9-edd9-cd3f3d5da439"
      },
      "execution_count": 80,
      "outputs": [
        {
          "output_type": "stream",
          "name": "stdout",
          "text": [
            "+-------------------------------------------------------------------------+\n",
            "|to_json(por_hacer)                                                       |\n",
            "+-------------------------------------------------------------------------+\n",
            "|{\"dia\":\"lunes\",\"tareas\":[\"hacer la tarea\",\"buscar agua\",\"lavar el auto\"]}|\n",
            "+-------------------------------------------------------------------------+\n",
            "\n"
          ]
        }
      ]
    },
    {
      "cell_type": "markdown",
      "source": [
        "## When Coalesce y Lit"
      ],
      "metadata": {
        "id": "Z0Oj3_hJdvJ2"
      }
    },
    {
      "cell_type": "code",
      "source": [
        "datos = spark.read.parquet('./data/')"
      ],
      "metadata": {
        "id": "dbjx3yKmdktv"
      },
      "execution_count": 8,
      "outputs": []
    },
    {
      "cell_type": "code",
      "source": [
        "datos.show()"
      ],
      "metadata": {
        "colab": {
          "base_uri": "https://localhost:8080/"
        },
        "id": "m_gCWD02pyX1",
        "outputId": "12e33dba-821d-49d0-bc49-9e08b7534016"
      },
      "execution_count": 9,
      "outputs": [
        {
          "output_type": "stream",
          "name": "stdout",
          "text": [
            "+------+----+\n",
            "|nombre|pago|\n",
            "+------+----+\n",
            "|  Jose|   1|\n",
            "| Julia|   2|\n",
            "| Katia|   1|\n",
            "|  null|   3|\n",
            "|  Raul|   3|\n",
            "+------+----+\n",
            "\n"
          ]
        }
      ]
    },
    {
      "cell_type": "code",
      "source": [
        "from pyspark.sql.functions import col, when, lit, coalesce"
      ],
      "metadata": {
        "id": "V333bvAPp3Xy"
      },
      "execution_count": 10,
      "outputs": []
    },
    {
      "cell_type": "code",
      "source": [
        "datos.select(\n",
        "    col('nombre'),\n",
        "    when(col('pago') == 1, 'pagado').\n",
        "    when(col('pago') == 2, 'Pago').\n",
        "    when(col('pago') == 3, 'sin pagar').\n",
        "    otherwise('sin iniciar').alias('Estado')\n",
        ").show()"
      ],
      "metadata": {
        "colab": {
          "base_uri": "https://localhost:8080/"
        },
        "id": "CfpbENfWqd1p",
        "outputId": "141ae9d7-8ae6-4b4f-d8f7-9281b66412ea"
      },
      "execution_count": 15,
      "outputs": [
        {
          "output_type": "stream",
          "name": "stdout",
          "text": [
            "+------+---------+\n",
            "|nombre|   Estado|\n",
            "+------+---------+\n",
            "|  Jose|   pagado|\n",
            "| Julia|     Pago|\n",
            "| Katia|   pagado|\n",
            "|  null|sin pagar|\n",
            "|  Raul|sin pagar|\n",
            "+------+---------+\n",
            "\n"
          ]
        }
      ]
    },
    {
      "cell_type": "code",
      "source": [
        "datos.select(\n",
        "    coalesce(col('nombre'),lit('sin nombre')).alias('nombre')\n",
        ").show()"
      ],
      "metadata": {
        "colab": {
          "base_uri": "https://localhost:8080/"
        },
        "id": "C49rZ_zNtG4j",
        "outputId": "163d0273-6d96-4f61-83ed-485b5f2fea55"
      },
      "execution_count": 16,
      "outputs": [
        {
          "output_type": "stream",
          "name": "stdout",
          "text": [
            "+----------+\n",
            "|    nombre|\n",
            "+----------+\n",
            "|      Jose|\n",
            "|     Julia|\n",
            "|     Katia|\n",
            "|sin nombre|\n",
            "|      Raul|\n",
            "+----------+\n",
            "\n"
          ]
        }
      ]
    },
    {
      "cell_type": "markdown",
      "source": [
        "# Funciones Definidas por el usuario UDF"
      ],
      "metadata": {
        "id": "W9CN0JKi4Opm"
      }
    },
    {
      "cell_type": "code",
      "source": [
        "def f_cubo(n):\n",
        "  return n * n * n"
      ],
      "metadata": {
        "id": "ITEJdvr_1LiY"
      },
      "execution_count": 17,
      "outputs": []
    },
    {
      "cell_type": "code",
      "source": [
        "from pyspark.sql.types import LongType"
      ],
      "metadata": {
        "id": "9v5tjxTy7u8q"
      },
      "execution_count": 18,
      "outputs": []
    },
    {
      "cell_type": "code",
      "source": [
        "spark.udf.register('cubo',f_cubo, LongType())"
      ],
      "metadata": {
        "colab": {
          "base_uri": "https://localhost:8080/"
        },
        "id": "eSNDaJQb8AcJ",
        "outputId": "2a8cf43a-8ff1-46a2-c00b-b65d3d973ea1"
      },
      "execution_count": 19,
      "outputs": [
        {
          "output_type": "execute_result",
          "data": {
            "text/plain": [
              "<function __main__.f_cubo(n)>"
            ]
          },
          "metadata": {},
          "execution_count": 19
        }
      ]
    },
    {
      "cell_type": "code",
      "source": [
        "spark.range(1,10).createOrReplaceTempView('df_temp')"
      ],
      "metadata": {
        "id": "G_tJfLsb8WdY"
      },
      "execution_count": 20,
      "outputs": []
    },
    {
      "cell_type": "code",
      "source": [
        "spark.sql('SELECT id, cubo(id) AS cubo FROM df_temp').show()"
      ],
      "metadata": {
        "colab": {
          "base_uri": "https://localhost:8080/"
        },
        "id": "cs_cv4Ot8s9-",
        "outputId": "7439875f-4487-4e8f-bb7e-d67a4af2505e"
      },
      "execution_count": 21,
      "outputs": [
        {
          "output_type": "stream",
          "name": "stdout",
          "text": [
            "+---+----+\n",
            "| id|cubo|\n",
            "+---+----+\n",
            "|  1|   1|\n",
            "|  2|   8|\n",
            "|  3|  27|\n",
            "|  4|  64|\n",
            "|  5| 125|\n",
            "|  6| 216|\n",
            "|  7| 343|\n",
            "|  8| 512|\n",
            "|  9| 729|\n",
            "+---+----+\n",
            "\n"
          ]
        }
      ]
    },
    {
      "cell_type": "code",
      "source": [
        "def bienvenida(nombre):\n",
        "  return ('Hola {}'.format(nombre))"
      ],
      "metadata": {
        "id": "E-J72YNR88zW"
      },
      "execution_count": 31,
      "outputs": []
    },
    {
      "cell_type": "code",
      "source": [
        "from pyspark.sql.functions import udf\n",
        "from pyspark.sql.types import StringType"
      ],
      "metadata": {
        "id": "WyrChHsQ-20d"
      },
      "execution_count": 23,
      "outputs": []
    },
    {
      "cell_type": "code",
      "source": [
        "bienvenida_udf = udf(lambda x: bienvenida(x), StringType())"
      ],
      "metadata": {
        "id": "Wi6fu0k-_Ah1"
      },
      "execution_count": 24,
      "outputs": []
    },
    {
      "cell_type": "code",
      "source": [
        "df_nombres = spark.createDataFrame([('Jhonatan',),('Walter',)], ['nombre'])"
      ],
      "metadata": {
        "id": "jkdxaNkSAekS"
      },
      "execution_count": 25,
      "outputs": []
    },
    {
      "cell_type": "code",
      "source": [
        "df_nombres.show()"
      ],
      "metadata": {
        "colab": {
          "base_uri": "https://localhost:8080/"
        },
        "id": "NKnuDWEGAwQB",
        "outputId": "b03c2502-f29b-4eb3-f5ab-e11adc6f1f3f"
      },
      "execution_count": 34,
      "outputs": [
        {
          "output_type": "stream",
          "name": "stdout",
          "text": [
            "+--------+\n",
            "|  nombre|\n",
            "+--------+\n",
            "|Jhonatan|\n",
            "|  Walter|\n",
            "+--------+\n",
            "\n"
          ]
        }
      ]
    },
    {
      "cell_type": "code",
      "source": [
        "from pyspark.sql.functions import col"
      ],
      "metadata": {
        "id": "19uodGiXhN80"
      },
      "execution_count": 36,
      "outputs": []
    },
    {
      "cell_type": "code",
      "source": [
        "#ERROR 2da forma\n",
        "df_nombres.select(\n",
        "    col('nombre'),\n",
        "    bienvenida_udf(col('nombre')).alias('bie_nombre')\n",
        ").show()"
      ],
      "metadata": {
        "id": "rObItuEZAySB"
      },
      "execution_count": null,
      "outputs": []
    },
    {
      "cell_type": "code",
      "source": [
        "# Tercera Forma\n",
        "@udf(returnType=StringType())\n",
        "def mayuscula(s):\n",
        "  return s.upper()"
      ],
      "metadata": {
        "id": "eHVfRr2GCTyD"
      },
      "execution_count": 39,
      "outputs": []
    },
    {
      "cell_type": "code",
      "source": [
        "df_nombres.select(\n",
        "    col('nombre'),\n",
        "    mayuscula(col('nombre')).alias('En Mayúscula')\n",
        ").show()"
      ],
      "metadata": {
        "colab": {
          "base_uri": "https://localhost:8080/"
        },
        "id": "YD5je6WShyG9",
        "outputId": "bd3b8a40-90d6-48f7-d855-e811456a6bf9"
      },
      "execution_count": 40,
      "outputs": [
        {
          "output_type": "stream",
          "name": "stdout",
          "text": [
            "+--------+------------+\n",
            "|  nombre|En Mayúscula|\n",
            "+--------+------------+\n",
            "|Jhonatan|    JHONATAN|\n",
            "|  Walter|      WALTER|\n",
            "+--------+------------+\n",
            "\n"
          ]
        }
      ]
    },
    {
      "cell_type": "code",
      "source": [
        "#Pandas udf\n",
        "import pandas as pd"
      ],
      "metadata": {
        "id": "1d7BFMCeiLvW"
      },
      "execution_count": 41,
      "outputs": []
    },
    {
      "cell_type": "code",
      "source": [
        "from pyspark.sql.functions import pandas_udf"
      ],
      "metadata": {
        "id": "ENORI0f7iYaX"
      },
      "execution_count": 42,
      "outputs": []
    },
    {
      "cell_type": "code",
      "source": [
        "def cubo_pandas(a: pd.Series) -> pd.Series:\n",
        "  return a*a*a"
      ],
      "metadata": {
        "id": "0MK3anAMicVN"
      },
      "execution_count": 43,
      "outputs": []
    },
    {
      "cell_type": "code",
      "source": [
        "cubo_udf = pandas_udf(cubo_pandas,returnType=LongType())"
      ],
      "metadata": {
        "id": "APnFRCTjjj0l"
      },
      "execution_count": 44,
      "outputs": []
    },
    {
      "cell_type": "code",
      "source": [
        "x = pd.Series([1,2,3])"
      ],
      "metadata": {
        "id": "czefvmWZjyDR"
      },
      "execution_count": 45,
      "outputs": []
    },
    {
      "cell_type": "code",
      "source": [
        "print(cubo_pandas(x))"
      ],
      "metadata": {
        "colab": {
          "base_uri": "https://localhost:8080/"
        },
        "id": "ehaXy-i_j9dY",
        "outputId": "0d3e957a-2956-4d21-fa8c-0fe925bf22ca"
      },
      "execution_count": 46,
      "outputs": [
        {
          "output_type": "stream",
          "name": "stdout",
          "text": [
            "0     1\n",
            "1     8\n",
            "2    27\n",
            "dtype: int64\n"
          ]
        }
      ]
    },
    {
      "cell_type": "code",
      "source": [
        "dfa=spark.range(5)"
      ],
      "metadata": {
        "id": "MD6vy7bFj_7C"
      },
      "execution_count": 47,
      "outputs": []
    },
    {
      "cell_type": "code",
      "source": [
        "dfa.select(\n",
        "    col('id'),\n",
        "    cubo_udf(col('id')).alias('cubo_pandas')\n",
        ").show()"
      ],
      "metadata": {
        "colab": {
          "base_uri": "https://localhost:8080/"
        },
        "id": "elIKwSZNkGWZ",
        "outputId": "1ed52562-8e63-4b18-e4a2-b3431d095077"
      },
      "execution_count": 49,
      "outputs": [
        {
          "output_type": "stream",
          "name": "stdout",
          "text": [
            "+---+-----------+\n",
            "| id|cubo_pandas|\n",
            "+---+-----------+\n",
            "|  0|          0|\n",
            "|  1|          1|\n",
            "|  2|          8|\n",
            "|  3|         27|\n",
            "|  4|         64|\n",
            "+---+-----------+\n",
            "\n"
          ]
        }
      ]
    },
    {
      "cell_type": "markdown",
      "source": [
        "#Funciones de Ventanas"
      ],
      "metadata": {
        "id": "-cqHEHu_kX8s"
      }
    },
    {
      "cell_type": "code",
      "source": [
        "df_ven = spark.read.parquet('./funciones_ventana.parquet')"
      ],
      "metadata": {
        "id": "0RzNlTNwkP3R"
      },
      "execution_count": 50,
      "outputs": []
    },
    {
      "cell_type": "code",
      "source": [
        "df_ven.show()"
      ],
      "metadata": {
        "colab": {
          "base_uri": "https://localhost:8080/"
        },
        "id": "S26CSPIRmOOR",
        "outputId": "a18f447e-9bde-4601-9d62-948fb39a699c"
      },
      "execution_count": 51,
      "outputs": [
        {
          "output_type": "stream",
          "name": "stdout",
          "text": [
            "+-------+----+------------+----------+\n",
            "| nombre|edad|departamento|evaluacion|\n",
            "+-------+----+------------+----------+\n",
            "| Lazaro|  45|      letras|        98|\n",
            "|   Raul|  24|  matemática|        76|\n",
            "|  Maria|  34|  matemática|        27|\n",
            "|   Jose|  30|     química|        78|\n",
            "| Susana|  51|     química|        98|\n",
            "|   Juan|  44|      letras|        89|\n",
            "|  Julia|  55|      letras|        92|\n",
            "|  Kadir|  38|arquitectura|        39|\n",
            "| Lilian|  23|arquitectura|        94|\n",
            "|   Rosa|  26|      letras|        91|\n",
            "|   Aian|  50|  matemática|        73|\n",
            "|Yaneisy|  29|      letras|        89|\n",
            "|Enrique|  40|     química|        92|\n",
            "|    Jon|  25|arquitectura|        78|\n",
            "|  Luisa|  39|arquitectura|        94|\n",
            "+-------+----+------------+----------+\n",
            "\n"
          ]
        }
      ]
    },
    {
      "cell_type": "code",
      "source": [
        "from pyspark.sql.window import Window\n",
        "from pyspark.sql.functions import desc, row_number, rank, dense_rank, col"
      ],
      "metadata": {
        "id": "btRcT0YXmPuJ"
      },
      "execution_count": 55,
      "outputs": []
    },
    {
      "cell_type": "code",
      "source": [
        "winEsp = Window.partitionBy('departamento').orderBy(desc('evaluacion'))"
      ],
      "metadata": {
        "id": "M_GY5fv5m1TZ"
      },
      "execution_count": 53,
      "outputs": []
    },
    {
      "cell_type": "markdown",
      "source": [
        "## Row_Number"
      ],
      "metadata": {
        "id": "XpiwkwrxnTUb"
      }
    },
    {
      "cell_type": "code",
      "source": [
        "df_ven.withColumn('row_number',row_number().over(winEsp)).show()"
      ],
      "metadata": {
        "colab": {
          "base_uri": "https://localhost:8080/"
        },
        "id": "wLVm7qbsnNrj",
        "outputId": "0e86126c-a6a6-4ff0-8855-5247feadbb95"
      },
      "execution_count": 54,
      "outputs": [
        {
          "output_type": "stream",
          "name": "stdout",
          "text": [
            "+-------+----+------------+----------+----------+\n",
            "| nombre|edad|departamento|evaluacion|row_number|\n",
            "+-------+----+------------+----------+----------+\n",
            "| Lilian|  23|arquitectura|        94|         1|\n",
            "|  Luisa|  39|arquitectura|        94|         2|\n",
            "|    Jon|  25|arquitectura|        78|         3|\n",
            "|  Kadir|  38|arquitectura|        39|         4|\n",
            "| Lazaro|  45|      letras|        98|         1|\n",
            "|  Julia|  55|      letras|        92|         2|\n",
            "|   Rosa|  26|      letras|        91|         3|\n",
            "|   Juan|  44|      letras|        89|         4|\n",
            "|Yaneisy|  29|      letras|        89|         5|\n",
            "|   Raul|  24|  matemática|        76|         1|\n",
            "|   Aian|  50|  matemática|        73|         2|\n",
            "|  Maria|  34|  matemática|        27|         3|\n",
            "| Susana|  51|     química|        98|         1|\n",
            "|Enrique|  40|     química|        92|         2|\n",
            "|   Jose|  30|     química|        78|         3|\n",
            "+-------+----+------------+----------+----------+\n",
            "\n"
          ]
        }
      ]
    },
    {
      "cell_type": "code",
      "source": [
        "# 2 primeros de cada departament"
      ],
      "metadata": {
        "id": "qrsr-ljMoyfE"
      },
      "execution_count": null,
      "outputs": []
    },
    {
      "cell_type": "code",
      "source": [
        "df_ven.withColumn('row_number',row_number().over(winEsp)).filter(col('row_number').isin(1,2)).show()"
      ],
      "metadata": {
        "colab": {
          "base_uri": "https://localhost:8080/"
        },
        "id": "he31W_d-nroM",
        "outputId": "55ea9ccf-d0a9-45ab-9eac-3cd9a6459774"
      },
      "execution_count": 57,
      "outputs": [
        {
          "output_type": "stream",
          "name": "stdout",
          "text": [
            "+-------+----+------------+----------+----------+\n",
            "| nombre|edad|departamento|evaluacion|row_number|\n",
            "+-------+----+------------+----------+----------+\n",
            "| Lilian|  23|arquitectura|        94|         1|\n",
            "|  Luisa|  39|arquitectura|        94|         2|\n",
            "| Lazaro|  45|      letras|        98|         1|\n",
            "|  Julia|  55|      letras|        92|         2|\n",
            "|   Raul|  24|  matemática|        76|         1|\n",
            "|   Aian|  50|  matemática|        73|         2|\n",
            "| Susana|  51|     química|        98|         1|\n",
            "|Enrique|  40|     química|        92|         2|\n",
            "+-------+----+------------+----------+----------+\n",
            "\n"
          ]
        }
      ]
    },
    {
      "cell_type": "markdown",
      "source": [
        "## Rank"
      ],
      "metadata": {
        "id": "xC2PWJpepLWn"
      }
    },
    {
      "cell_type": "code",
      "source": [
        "# un rango al resultadodeja huecos en el rango cuando hay empates\n",
        "df_ven.withColumn('rank',rank().over(winEsp)).show()"
      ],
      "metadata": {
        "colab": {
          "base_uri": "https://localhost:8080/"
        },
        "id": "_4gvZLlGo_aU",
        "outputId": "de4cd5b6-cf11-44fa-8aea-d42218972a10"
      },
      "execution_count": 58,
      "outputs": [
        {
          "output_type": "stream",
          "name": "stdout",
          "text": [
            "+-------+----+------------+----------+----+\n",
            "| nombre|edad|departamento|evaluacion|rank|\n",
            "+-------+----+------------+----------+----+\n",
            "| Lilian|  23|arquitectura|        94|   1|\n",
            "|  Luisa|  39|arquitectura|        94|   1|\n",
            "|    Jon|  25|arquitectura|        78|   3|\n",
            "|  Kadir|  38|arquitectura|        39|   4|\n",
            "| Lazaro|  45|      letras|        98|   1|\n",
            "|  Julia|  55|      letras|        92|   2|\n",
            "|   Rosa|  26|      letras|        91|   3|\n",
            "|   Juan|  44|      letras|        89|   4|\n",
            "|Yaneisy|  29|      letras|        89|   4|\n",
            "|   Raul|  24|  matemática|        76|   1|\n",
            "|   Aian|  50|  matemática|        73|   2|\n",
            "|  Maria|  34|  matemática|        27|   3|\n",
            "| Susana|  51|     química|        98|   1|\n",
            "|Enrique|  40|     química|        92|   2|\n",
            "|   Jose|  30|     química|        78|   3|\n",
            "+-------+----+------------+----------+----+\n",
            "\n"
          ]
        }
      ]
    },
    {
      "cell_type": "markdown",
      "source": [
        "## Dense rank"
      ],
      "metadata": {
        "id": "LLWea6Ogr4vk"
      }
    },
    {
      "cell_type": "code",
      "source": [
        "df_ven.withColumn('dense_rank',dense_rank().over(winEsp)).show()"
      ],
      "metadata": {
        "colab": {
          "base_uri": "https://localhost:8080/"
        },
        "id": "8pvld7FUq61F",
        "outputId": "77462b73-9c4a-4ccf-877f-abe5a624d87f"
      },
      "execution_count": 59,
      "outputs": [
        {
          "output_type": "stream",
          "name": "stdout",
          "text": [
            "+-------+----+------------+----------+----------+\n",
            "| nombre|edad|departamento|evaluacion|dense_rank|\n",
            "+-------+----+------------+----------+----------+\n",
            "| Lilian|  23|arquitectura|        94|         1|\n",
            "|  Luisa|  39|arquitectura|        94|         1|\n",
            "|    Jon|  25|arquitectura|        78|         2|\n",
            "|  Kadir|  38|arquitectura|        39|         3|\n",
            "| Lazaro|  45|      letras|        98|         1|\n",
            "|  Julia|  55|      letras|        92|         2|\n",
            "|   Rosa|  26|      letras|        91|         3|\n",
            "|   Juan|  44|      letras|        89|         4|\n",
            "|Yaneisy|  29|      letras|        89|         4|\n",
            "|   Raul|  24|  matemática|        76|         1|\n",
            "|   Aian|  50|  matemática|        73|         2|\n",
            "|  Maria|  34|  matemática|        27|         3|\n",
            "| Susana|  51|     química|        98|         1|\n",
            "|Enrique|  40|     química|        92|         2|\n",
            "|   Jose|  30|     química|        78|         3|\n",
            "+-------+----+------------+----------+----------+\n",
            "\n"
          ]
        }
      ]
    },
    {
      "cell_type": "code",
      "source": [
        "from pyspark.sql.functions import min,max,avg"
      ],
      "metadata": {
        "id": "T1QLRfHJsAQF"
      },
      "execution_count": 62,
      "outputs": []
    },
    {
      "cell_type": "code",
      "source": [
        "WSAgg = Window.partitionBy('departamento')"
      ],
      "metadata": {
        "id": "fCIZASUas1Os"
      },
      "execution_count": 65,
      "outputs": []
    },
    {
      "cell_type": "code",
      "source": [
        "(df_ven.withColumn('min',min(col('evaluacion')).over(WSAgg))\n",
        "    .withColumn('max',max(col('evaluacion')).over(WSAgg))\n",
        "    .withColumn('avg',avg(col('evaluacion')).over(WSAgg))\n",
        "    .withColumn('row_number',row_number().over(winEsp))\n",
        ").show()"
      ],
      "metadata": {
        "colab": {
          "base_uri": "https://localhost:8080/"
        },
        "id": "LexzYCTYube2",
        "outputId": "0f7a5ba0-f38d-4e22-a492-5b14efa0e91b"
      },
      "execution_count": 72,
      "outputs": [
        {
          "output_type": "stream",
          "name": "stdout",
          "text": [
            "+-------+----+------------+----------+---+---+------------------+----------+\n",
            "| nombre|edad|departamento|evaluacion|min|max|               avg|row_number|\n",
            "+-------+----+------------+----------+---+---+------------------+----------+\n",
            "| Lilian|  23|arquitectura|        94| 39| 94|             76.25|         1|\n",
            "|  Luisa|  39|arquitectura|        94| 39| 94|             76.25|         2|\n",
            "|    Jon|  25|arquitectura|        78| 39| 94|             76.25|         3|\n",
            "|  Kadir|  38|arquitectura|        39| 39| 94|             76.25|         4|\n",
            "| Lazaro|  45|      letras|        98| 89| 98|              91.8|         1|\n",
            "|  Julia|  55|      letras|        92| 89| 98|              91.8|         2|\n",
            "|   Rosa|  26|      letras|        91| 89| 98|              91.8|         3|\n",
            "|   Juan|  44|      letras|        89| 89| 98|              91.8|         4|\n",
            "|Yaneisy|  29|      letras|        89| 89| 98|              91.8|         5|\n",
            "|   Raul|  24|  matemática|        76| 27| 76|58.666666666666664|         1|\n",
            "|   Aian|  50|  matemática|        73| 27| 76|58.666666666666664|         2|\n",
            "|  Maria|  34|  matemática|        27| 27| 76|58.666666666666664|         3|\n",
            "| Susana|  51|     química|        98| 78| 98| 89.33333333333333|         1|\n",
            "|Enrique|  40|     química|        92| 78| 98| 89.33333333333333|         2|\n",
            "|   Jose|  30|     química|        78| 78| 98| 89.33333333333333|         3|\n",
            "+-------+----+------------+----------+---+---+------------------+----------+\n",
            "\n"
          ]
        }
      ]
    },
    {
      "cell_type": "markdown",
      "source": [
        "# Catalyst Optimizer"
      ],
      "metadata": {
        "id": "bIuF981T0URp"
      }
    },
    {
      "cell_type": "code",
      "source": [
        "# plan logico -> catalyst -> Plan Fisica basadas en reglas\n",
        "data_vuelos = spark.read.parquet('./vuelos.parquet')"
      ],
      "metadata": {
        "id": "7ZgkyELWu3_1"
      },
      "execution_count": 74,
      "outputs": []
    },
    {
      "cell_type": "code",
      "source": [
        "data_vuelos.printSchema()"
      ],
      "metadata": {
        "colab": {
          "base_uri": "https://localhost:8080/"
        },
        "id": "gljGIX0Z1iDs",
        "outputId": "ad138f21-eb86-447c-f45a-51360a6d400f"
      },
      "execution_count": 75,
      "outputs": [
        {
          "output_type": "stream",
          "name": "stdout",
          "text": [
            "root\n",
            " |-- YEAR: integer (nullable = true)\n",
            " |-- MONTH: integer (nullable = true)\n",
            " |-- DAY: integer (nullable = true)\n",
            " |-- DAY_OF_WEEK: integer (nullable = true)\n",
            " |-- AIRLINE: string (nullable = true)\n",
            " |-- FLIGHT_NUMBER: integer (nullable = true)\n",
            " |-- TAIL_NUMBER: string (nullable = true)\n",
            " |-- ORIGIN_AIRPORT: string (nullable = true)\n",
            " |-- DESTINATION_AIRPORT: string (nullable = true)\n",
            " |-- SCHEDULED_DEPARTURE: integer (nullable = true)\n",
            " |-- DEPARTURE_TIME: integer (nullable = true)\n",
            " |-- DEPARTURE_DELAY: integer (nullable = true)\n",
            " |-- TAXI_OUT: integer (nullable = true)\n",
            " |-- WHEELS_OFF: integer (nullable = true)\n",
            " |-- SCHEDULED_TIME: integer (nullable = true)\n",
            " |-- ELAPSED_TIME: integer (nullable = true)\n",
            " |-- AIR_TIME: integer (nullable = true)\n",
            " |-- DISTANCE: integer (nullable = true)\n",
            " |-- WHEELS_ON: integer (nullable = true)\n",
            " |-- TAXI_IN: integer (nullable = true)\n",
            " |-- SCHEDULED_ARRIVAL: integer (nullable = true)\n",
            " |-- ARRIVAL_TIME: integer (nullable = true)\n",
            " |-- ARRIVAL_DELAY: integer (nullable = true)\n",
            " |-- DIVERTED: integer (nullable = true)\n",
            " |-- CANCELLED: integer (nullable = true)\n",
            " |-- CANCELLATION_REASON: string (nullable = true)\n",
            " |-- AIR_SYSTEM_DELAY: integer (nullable = true)\n",
            " |-- SECURITY_DELAY: integer (nullable = true)\n",
            " |-- AIRLINE_DELAY: integer (nullable = true)\n",
            " |-- LATE_AIRCRAFT_DELAY: integer (nullable = true)\n",
            " |-- WEATHER_DELAY: integer (nullable = true)\n",
            "\n"
          ]
        }
      ]
    },
    {
      "cell_type": "code",
      "source": [
        "data_vuelos.show()"
      ],
      "metadata": {
        "colab": {
          "base_uri": "https://localhost:8080/"
        },
        "id": "M6F4jl-R5G2T",
        "outputId": "6f73cf8c-d6be-4223-cfb6-e10b498f1fd1"
      },
      "execution_count": 76,
      "outputs": [
        {
          "output_type": "stream",
          "name": "stdout",
          "text": [
            "+----+-----+---+-----------+-------+-------------+-----------+--------------+-------------------+-------------------+--------------+---------------+--------+----------+--------------+------------+--------+--------+---------+-------+-----------------+------------+-------------+--------+---------+-------------------+----------------+--------------+-------------+-------------------+-------------+\n",
            "|YEAR|MONTH|DAY|DAY_OF_WEEK|AIRLINE|FLIGHT_NUMBER|TAIL_NUMBER|ORIGIN_AIRPORT|DESTINATION_AIRPORT|SCHEDULED_DEPARTURE|DEPARTURE_TIME|DEPARTURE_DELAY|TAXI_OUT|WHEELS_OFF|SCHEDULED_TIME|ELAPSED_TIME|AIR_TIME|DISTANCE|WHEELS_ON|TAXI_IN|SCHEDULED_ARRIVAL|ARRIVAL_TIME|ARRIVAL_DELAY|DIVERTED|CANCELLED|CANCELLATION_REASON|AIR_SYSTEM_DELAY|SECURITY_DELAY|AIRLINE_DELAY|LATE_AIRCRAFT_DELAY|WEATHER_DELAY|\n",
            "+----+-----+---+-----------+-------+-------------+-----------+--------------+-------------------+-------------------+--------------+---------------+--------+----------+--------------+------------+--------+--------+---------+-------+-----------------+------------+-------------+--------+---------+-------------------+----------------+--------------+-------------+-------------------+-------------+\n",
            "|2015|    1|  1|          4|     AS|           98|     N407AS|           ANC|                SEA|                  5|          2354|            -11|      21|        15|           205|         194|     169|    1448|      404|      4|              430|         408|          -22|       0|        0|               null|            null|          null|         null|               null|         null|\n",
            "|2015|    1|  1|          4|     AA|         2336|     N3KUAA|           LAX|                PBI|                 10|             2|             -8|      12|        14|           280|         279|     263|    2330|      737|      4|              750|         741|           -9|       0|        0|               null|            null|          null|         null|               null|         null|\n",
            "|2015|    1|  1|          4|     US|          840|     N171US|           SFO|                CLT|                 20|            18|             -2|      16|        34|           286|         293|     266|    2296|      800|     11|              806|         811|            5|       0|        0|               null|            null|          null|         null|               null|         null|\n",
            "|2015|    1|  1|          4|     AA|          258|     N3HYAA|           LAX|                MIA|                 20|            15|             -5|      15|        30|           285|         281|     258|    2342|      748|      8|              805|         756|           -9|       0|        0|               null|            null|          null|         null|               null|         null|\n",
            "|2015|    1|  1|          4|     AS|          135|     N527AS|           SEA|                ANC|                 25|            24|             -1|      11|        35|           235|         215|     199|    1448|      254|      5|              320|         259|          -21|       0|        0|               null|            null|          null|         null|               null|         null|\n",
            "|2015|    1|  1|          4|     DL|          806|     N3730B|           SFO|                MSP|                 25|            20|             -5|      18|        38|           217|         230|     206|    1589|      604|      6|              602|         610|            8|       0|        0|               null|            null|          null|         null|               null|         null|\n",
            "|2015|    1|  1|          4|     NK|          612|     N635NK|           LAS|                MSP|                 25|            19|             -6|      11|        30|           181|         170|     154|    1299|      504|      5|              526|         509|          -17|       0|        0|               null|            null|          null|         null|               null|         null|\n",
            "|2015|    1|  1|          4|     US|         2013|     N584UW|           LAX|                CLT|                 30|            44|             14|      13|        57|           273|         249|     228|    2125|      745|      8|              803|         753|          -10|       0|        0|               null|            null|          null|         null|               null|         null|\n",
            "|2015|    1|  1|          4|     AA|         1112|     N3LAAA|           SFO|                DFW|                 30|            19|            -11|      17|        36|           195|         193|     173|    1464|      529|      3|              545|         532|          -13|       0|        0|               null|            null|          null|         null|               null|         null|\n",
            "|2015|    1|  1|          4|     DL|         1173|     N826DN|           LAS|                ATL|                 30|            33|              3|      12|        45|           221|         203|     186|    1747|      651|      5|              711|         656|          -15|       0|        0|               null|            null|          null|         null|               null|         null|\n",
            "|2015|    1|  1|          4|     DL|         2336|     N958DN|           DEN|                ATL|                 30|            24|             -6|      12|        36|           173|         149|     133|    1199|      449|      4|              523|         453|          -30|       0|        0|               null|            null|          null|         null|               null|         null|\n",
            "|2015|    1|  1|          4|     AA|         1674|     N853AA|           LAS|                MIA|                 35|            27|             -8|      21|        48|           268|         266|     238|    2174|      746|      7|              803|         753|          -10|       0|        0|               null|            null|          null|         null|               null|         null|\n",
            "|2015|    1|  1|          4|     DL|         1434|     N547US|           LAX|                MSP|                 35|            35|              0|      18|        53|           214|         210|     188|    1535|      601|      4|              609|         605|           -4|       0|        0|               null|            null|          null|         null|               null|         null|\n",
            "|2015|    1|  1|          4|     DL|         2324|     N3751B|           SLC|                ATL|                 40|            34|             -6|      18|        52|           215|         199|     176|    1590|      548|      5|              615|         553|          -22|       0|        0|               null|            null|          null|         null|               null|         null|\n",
            "|2015|    1|  1|          4|     DL|         2440|     N651DL|           SEA|                MSP|                 40|            39|             -1|      28|       107|           189|         198|     166|    1399|      553|      4|              549|         557|            8|       0|        0|               null|            null|          null|         null|               null|         null|\n",
            "|2015|    1|  1|          4|     AS|          108|     N309AS|           ANC|                SEA|                 45|            41|             -4|      17|        58|           204|         194|     173|    1448|      451|      4|              509|         455|          -14|       0|        0|               null|            null|          null|         null|               null|         null|\n",
            "|2015|    1|  1|          4|     DL|         1560|     N3743H|           ANC|                SEA|                 45|            31|            -14|      25|        56|           210|         200|     171|    1448|      447|      4|              515|         451|          -24|       0|        0|               null|            null|          null|         null|               null|         null|\n",
            "|2015|    1|  1|          4|     UA|         1197|     N78448|           SFO|                IAH|                 48|            42|             -6|      11|        53|           218|         217|     199|    1635|      612|      7|              626|         619|           -7|       0|        0|               null|            null|          null|         null|               null|         null|\n",
            "|2015|    1|  1|          4|     AS|          122|     N413AS|           ANC|                PDX|                 50|            46|             -4|      11|        57|           215|         201|     187|    1542|      504|      3|              525|         507|          -18|       0|        0|               null|            null|          null|         null|               null|         null|\n",
            "|2015|    1|  1|          4|     DL|         1670|     N806DN|           PDX|                MSP|                 50|            45|             -5|       9|        54|           193|         186|     171|    1426|      545|      6|              603|         551|          -12|       0|        0|               null|            null|          null|         null|               null|         null|\n",
            "+----+-----+---+-----------+-------+-------------+-----------+--------------+-------------------+-------------------+--------------+---------------+--------+----------+--------------+------------+--------+--------+---------+-------+-----------------+------------+-------------+--------+---------+-------------------+----------------+--------------+-------------+-------------------+-------------+\n",
            "only showing top 20 rows\n",
            "\n"
          ]
        }
      ]
    },
    {
      "cell_type": "code",
      "source": [
        "nuevo_df = (data_vuelos.filter(col('MONTH').isin(6,7,8))\n",
        "            .withColumn('dis_tiempo_aire',col('DISTANCE') / col('AIR_TIME'))\n",
        ").select(\n",
        "    col('AIRLINE'),\n",
        "    col('dis_tiempo_aire')\n",
        ").where(col('AIRLINE').isin('AA','DL','AS'))"
      ],
      "metadata": {
        "id": "DVqtQE9X5JHa"
      },
      "execution_count": 79,
      "outputs": []
    },
    {
      "cell_type": "code",
      "source": [
        "nuevo_df.explain(True)"
      ],
      "metadata": {
        "colab": {
          "base_uri": "https://localhost:8080/"
        },
        "id": "6zo7p7A76eRw",
        "outputId": "65cf1618-9071-43a9-f5c2-da2befa3db39"
      },
      "execution_count": 80,
      "outputs": [
        {
          "output_type": "stream",
          "name": "stdout",
          "text": [
            "== Parsed Logical Plan ==\n",
            "'Filter 'AIRLINE IN (AA,DL,AS)\n",
            "+- Project [AIRLINE#648, dis_tiempo_aire#866]\n",
            "   +- Project [YEAR#644, MONTH#645, DAY#646, DAY_OF_WEEK#647, AIRLINE#648, FLIGHT_NUMBER#649, TAIL_NUMBER#650, ORIGIN_AIRPORT#651, DESTINATION_AIRPORT#652, SCHEDULED_DEPARTURE#653, DEPARTURE_TIME#654, DEPARTURE_DELAY#655, TAXI_OUT#656, WHEELS_OFF#657, SCHEDULED_TIME#658, ELAPSED_TIME#659, AIR_TIME#660, DISTANCE#661, WHEELS_ON#662, TAXI_IN#663, SCHEDULED_ARRIVAL#664, ARRIVAL_TIME#665, ARRIVAL_DELAY#666, DIVERTED#667, ... 8 more fields]\n",
            "      +- Filter MONTH#645 IN (6,7,8)\n",
            "         +- Relation [YEAR#644,MONTH#645,DAY#646,DAY_OF_WEEK#647,AIRLINE#648,FLIGHT_NUMBER#649,TAIL_NUMBER#650,ORIGIN_AIRPORT#651,DESTINATION_AIRPORT#652,SCHEDULED_DEPARTURE#653,DEPARTURE_TIME#654,DEPARTURE_DELAY#655,TAXI_OUT#656,WHEELS_OFF#657,SCHEDULED_TIME#658,ELAPSED_TIME#659,AIR_TIME#660,DISTANCE#661,WHEELS_ON#662,TAXI_IN#663,SCHEDULED_ARRIVAL#664,ARRIVAL_TIME#665,ARRIVAL_DELAY#666,DIVERTED#667,... 7 more fields] parquet\n",
            "\n",
            "== Analyzed Logical Plan ==\n",
            "AIRLINE: string, dis_tiempo_aire: double\n",
            "Filter AIRLINE#648 IN (AA,DL,AS)\n",
            "+- Project [AIRLINE#648, dis_tiempo_aire#866]\n",
            "   +- Project [YEAR#644, MONTH#645, DAY#646, DAY_OF_WEEK#647, AIRLINE#648, FLIGHT_NUMBER#649, TAIL_NUMBER#650, ORIGIN_AIRPORT#651, DESTINATION_AIRPORT#652, SCHEDULED_DEPARTURE#653, DEPARTURE_TIME#654, DEPARTURE_DELAY#655, TAXI_OUT#656, WHEELS_OFF#657, SCHEDULED_TIME#658, ELAPSED_TIME#659, AIR_TIME#660, DISTANCE#661, WHEELS_ON#662, TAXI_IN#663, SCHEDULED_ARRIVAL#664, ARRIVAL_TIME#665, ARRIVAL_DELAY#666, DIVERTED#667, ... 8 more fields]\n",
            "      +- Filter MONTH#645 IN (6,7,8)\n",
            "         +- Relation [YEAR#644,MONTH#645,DAY#646,DAY_OF_WEEK#647,AIRLINE#648,FLIGHT_NUMBER#649,TAIL_NUMBER#650,ORIGIN_AIRPORT#651,DESTINATION_AIRPORT#652,SCHEDULED_DEPARTURE#653,DEPARTURE_TIME#654,DEPARTURE_DELAY#655,TAXI_OUT#656,WHEELS_OFF#657,SCHEDULED_TIME#658,ELAPSED_TIME#659,AIR_TIME#660,DISTANCE#661,WHEELS_ON#662,TAXI_IN#663,SCHEDULED_ARRIVAL#664,ARRIVAL_TIME#665,ARRIVAL_DELAY#666,DIVERTED#667,... 7 more fields] parquet\n",
            "\n",
            "== Optimized Logical Plan ==\n",
            "Project [AIRLINE#648, (cast(DISTANCE#661 as double) / cast(AIR_TIME#660 as double)) AS dis_tiempo_aire#866]\n",
            "+- Filter (MONTH#645 IN (6,7,8) AND AIRLINE#648 IN (AA,DL,AS))\n",
            "   +- Relation [YEAR#644,MONTH#645,DAY#646,DAY_OF_WEEK#647,AIRLINE#648,FLIGHT_NUMBER#649,TAIL_NUMBER#650,ORIGIN_AIRPORT#651,DESTINATION_AIRPORT#652,SCHEDULED_DEPARTURE#653,DEPARTURE_TIME#654,DEPARTURE_DELAY#655,TAXI_OUT#656,WHEELS_OFF#657,SCHEDULED_TIME#658,ELAPSED_TIME#659,AIR_TIME#660,DISTANCE#661,WHEELS_ON#662,TAXI_IN#663,SCHEDULED_ARRIVAL#664,ARRIVAL_TIME#665,ARRIVAL_DELAY#666,DIVERTED#667,... 7 more fields] parquet\n",
            "\n",
            "== Physical Plan ==\n",
            "*(1) Project [AIRLINE#648, (cast(DISTANCE#661 as double) / cast(AIR_TIME#660 as double)) AS dis_tiempo_aire#866]\n",
            "+- *(1) Filter (MONTH#645 IN (6,7,8) AND AIRLINE#648 IN (AA,DL,AS))\n",
            "   +- *(1) ColumnarToRow\n",
            "      +- FileScan parquet [MONTH#645,AIRLINE#648,AIR_TIME#660,DISTANCE#661] Batched: true, DataFilters: [MONTH#645 IN (6,7,8), AIRLINE#648 IN (AA,DL,AS)], Format: Parquet, Location: InMemoryFileIndex(1 paths)[file:/content/vuelos.parquet], PartitionFilters: [], PushedFilters: [In(MONTH, [6,7,8]), In(AIRLINE, [AA,AS,DL])], ReadSchema: struct<MONTH:int,AIRLINE:string,AIR_TIME:int,DISTANCE:int>\n",
            "\n"
          ]
        }
      ]
    },
    {
      "cell_type": "markdown",
      "source": [
        "#Ejercicios\n",
        "Adjunto como recurso a esta lección están los archivos movies.csv y movie_ratings.csv. En ambos archivos las columnas están delimitadas por un pip(“|”).\n",
        "\n",
        "Cada línea del archivo movies.csv representa a un actor que actuó en una película. Si una película tiene diez actores, habrá diez filas para esa película en particular.\n",
        "\n",
        "1. Calcule la cantidad de películas en las que participó cada actor. La salida debe tener dos columnas: actor y conteo. La salida debe ordenarse por el conteo en orden descendente.\n",
        "\n",
        "2. Calcule la cantidad de películas producidas cada año. La salida debe tener tres columnas: año, siglo al que pertenece el año y conteo. La salida debe ordenarse por el conteo en orden descendente.\n",
        "\n",
        "3. Obtenga la película con la calificación más alta por año. La salida debe tener solo una película por año y debe contener tres columnas: año, título de la película y valoración."
      ],
      "metadata": {
        "id": "FMBboSTs9DYn"
      }
    },
    {
      "cell_type": "code",
      "source": [
        "peliculas = spark.read.option('sep','|').option('inferSchema','true').option('header','true').csv('./movies.csv')\n",
        "calificacion = spark.read.option('sep','|').option('inferSchema','true').option('header','true').csv('./movie_ratings.csv')"
      ],
      "metadata": {
        "id": "cqZJnHmY6i2g"
      },
      "execution_count": 87,
      "outputs": []
    },
    {
      "cell_type": "code",
      "source": [
        "peliculas.show()"
      ],
      "metadata": {
        "colab": {
          "base_uri": "https://localhost:8080/"
        },
        "id": "zghlqiiv9p77",
        "outputId": "a96c2702-917c-40d5-992f-ce55c6708bbe"
      },
      "execution_count": 86,
      "outputs": [
        {
          "output_type": "stream",
          "name": "stdout",
          "text": [
            "+-----------------+--------------------+----+\n",
            "|            actor|            pelicula| año|\n",
            "+-----------------+--------------------+----+\n",
            "|McClure, Marc (I)|       Freaky Friday|2003|\n",
            "|McClure, Marc (I)|        Coach Carter|2005|\n",
            "|McClure, Marc (I)|         Superman II|1980|\n",
            "|McClure, Marc (I)|           Apollo 13|1995|\n",
            "|McClure, Marc (I)|            Superman|1978|\n",
            "|McClure, Marc (I)|  Back to the Future|1985|\n",
            "|McClure, Marc (I)|Back to the Futur...|1990|\n",
            "|Cooper, Chris (I)|  Me, Myself & Irene|2000|\n",
            "|Cooper, Chris (I)|         October Sky|1999|\n",
            "|Cooper, Chris (I)|              Capote|2005|\n",
            "|Cooper, Chris (I)|The Bourne Supremacy|2004|\n",
            "|Cooper, Chris (I)|         The Patriot|2000|\n",
            "|Cooper, Chris (I)|            The Town|2010|\n",
            "|Cooper, Chris (I)|          Seabiscuit|2003|\n",
            "|Cooper, Chris (I)|      A Time to Kill|1996|\n",
            "|Cooper, Chris (I)|Where the Wild Th...|2009|\n",
            "|Cooper, Chris (I)|         The Muppets|2011|\n",
            "|Cooper, Chris (I)|     American Beauty|1999|\n",
            "|Cooper, Chris (I)|             Syriana|2005|\n",
            "|Cooper, Chris (I)| The Horse Whisperer|1998|\n",
            "+-----------------+--------------------+----+\n",
            "only showing top 20 rows\n",
            "\n"
          ]
        }
      ]
    },
    {
      "cell_type": "code",
      "source": [
        "peliculas.groupBy('actor').count().orderBy(desc('count')).show()"
      ],
      "metadata": {
        "colab": {
          "base_uri": "https://localhost:8080/"
        },
        "id": "aEEYKRP79rY_",
        "outputId": "c7fcc1ae-e77f-43c0-8e95-993c9c2749f3"
      },
      "execution_count": 88,
      "outputs": [
        {
          "output_type": "stream",
          "name": "stdout",
          "text": [
            "+-------------------+-----+\n",
            "|              actor|count|\n",
            "+-------------------+-----+\n",
            "|   Tatasciore, Fred|   38|\n",
            "|      Welker, Frank|   38|\n",
            "| Jackson, Samuel L.|   32|\n",
            "|      Harnell, Jess|   31|\n",
            "|        Damon, Matt|   27|\n",
            "|      Willis, Bruce|   27|\n",
            "|  Cummings, Jim (I)|   26|\n",
            "|         Hanks, Tom|   25|\n",
            "|   Lynn, Sherry (I)|   25|\n",
            "|    Bergen, Bob (I)|   25|\n",
            "|    McGowan, Mickie|   25|\n",
            "|      Proctor, Phil|   24|\n",
            "|        Cruise, Tom|   23|\n",
            "|         Pitt, Brad|   23|\n",
            "|   Wilson, Owen (I)|   23|\n",
            "|       Depp, Johnny|   22|\n",
            "|Freeman, Morgan (I)|   22|\n",
            "|     Morrison, Rana|   22|\n",
            "|Williams, Robin (I)|   22|\n",
            "|      Diaz, Cameron|   21|\n",
            "+-------------------+-----+\n",
            "only showing top 20 rows\n",
            "\n"
          ]
        }
      ]
    },
    {
      "cell_type": "code",
      "source": [
        "from pyspark.sql.functions import countDistinct,when, lit"
      ],
      "metadata": {
        "id": "FxIHcA2v-yo4"
      },
      "execution_count": 89,
      "outputs": []
    },
    {
      "cell_type": "code",
      "source": [
        "peliculas.groupBy('año').agg(\n",
        "    countDistinct('pelicula').alias('conteo')\n",
        ").withColumn('siglo',when((col('año') >= 1900) & (col('año') < 2000), lit('XX')).otherwise(lit('XXI'))).orderBy(desc('conteo')).select(\n",
        "    col('año'),\n",
        "    col('siglo'),\n",
        "    col('conteo')\n",
        ").show()"
      ],
      "metadata": {
        "colab": {
          "base_uri": "https://localhost:8080/"
        },
        "id": "yFdgUMPg_OX4",
        "outputId": "99848466-656f-4225-e9ff-4f3209780d3f"
      },
      "execution_count": 96,
      "outputs": [
        {
          "output_type": "stream",
          "name": "stdout",
          "text": [
            "+----+-----+------+\n",
            "| año|siglo|conteo|\n",
            "+----+-----+------+\n",
            "|2011|  XXI|    86|\n",
            "|2004|  XXI|    86|\n",
            "|2006|  XXI|    86|\n",
            "|2005|  XXI|    85|\n",
            "|2008|  XXI|    82|\n",
            "|2002|  XXI|    81|\n",
            "|2010|  XXI|    78|\n",
            "|2000|  XXI|    77|\n",
            "|2003|  XXI|    76|\n",
            "|2007|  XXI|    75|\n",
            "|2001|  XXI|    71|\n",
            "|2009|  XXI|    68|\n",
            "|1999|   XX|    67|\n",
            "|1997|   XX|    66|\n",
            "|1998|   XX|    59|\n",
            "|1996|   XX|    42|\n",
            "|2012|  XXI|    32|\n",
            "|1995|   XX|    25|\n",
            "|1994|   XX|    16|\n",
            "|1986|   XX|    16|\n",
            "+----+-----+------+\n",
            "only showing top 20 rows\n",
            "\n"
          ]
        }
      ]
    },
    {
      "cell_type": "code",
      "source": [
        "calificacion.show()"
      ],
      "metadata": {
        "colab": {
          "base_uri": "https://localhost:8080/"
        },
        "id": "YW4yn9gXAnGE",
        "outputId": "661c3e0c-d54b-476c-a61a-54acf25061bc"
      },
      "execution_count": 97,
      "outputs": [
        {
          "output_type": "stream",
          "name": "stdout",
          "text": [
            "+----------+--------------------+----+\n",
            "|valoracion|            pelicula| año|\n",
            "+----------+--------------------+----+\n",
            "|    1.6339|'Crocodile' Dunde...|1988|\n",
            "|    7.6177|                  10|1979|\n",
            "|    1.2864|10 Things I Hate ...|1999|\n",
            "|    0.3243|           10,000 BC|2008|\n",
            "|    0.3376|      101 Dalmatians|1996|\n",
            "|    0.5218|      102 Dalmatians|2000|\n",
            "|   12.8205|                1066|2012|\n",
            "|    0.6829|                  12|2007|\n",
            "|    7.4061|           12 Rounds|2009|\n",
            "|    2.3677|           127 Hours|2010|\n",
            "|    1.3585|      13 Going on 30|2004|\n",
            "|    8.4034|     13 game sayawng|2006|\n",
            "|      0.59|                1408|2007|\n",
            "|    4.4292|          15 Minutes|2001|\n",
            "|    2.2118|           16 Blocks|2006|\n",
            "|    1.0491|            17 Again|2009|\n",
            "|    3.9265|                1941|1979|\n",
            "|   10.4757|2 Days in the Valley|1996|\n",
            "|       0.4|    2 Fast 2 Furious|2003|\n",
            "|   11.1111|              2 Guns|2013|\n",
            "+----------+--------------------+----+\n",
            "only showing top 20 rows\n",
            "\n"
          ]
        }
      ]
    },
    {
      "cell_type": "code",
      "source": [
        "windowsSpec = Window.partitionBy('año').orderBy(desc('valoracion'))\n",
        "windowsSpecAgg = Window.partitionBy('año')"
      ],
      "metadata": {
        "id": "UecMRmy9CJef"
      },
      "execution_count": 99,
      "outputs": []
    },
    {
      "cell_type": "code",
      "source": [
        "''' calificacion.select(row_number().over(windowsSpec),max('valoracion').over(windowsSpecAgg).alias('max_val')\n",
        ").show() '''"
      ],
      "metadata": {
        "colab": {
          "base_uri": "https://localhost:8080/"
        },
        "id": "O1I_D_tjBxMG",
        "outputId": "d5582757-5810-460a-cab8-fa28f8b9a610"
      },
      "execution_count": 101,
      "outputs": [
        {
          "output_type": "stream",
          "name": "stdout",
          "text": [
            "+----------+-------+\n",
            "|row_number|max_val|\n",
            "+----------+-------+\n",
            "|         1| 2.2207|\n",
            "|         1| 7.9215|\n",
            "|         2| 7.9215|\n",
            "|         1| 7.8557|\n",
            "|         2| 7.8557|\n",
            "|         1| 1.5053|\n",
            "|         1|  7.602|\n",
            "|         1| 9.4226|\n",
            "|         1| 5.4756|\n",
            "|         1|10.7625|\n",
            "|         1| 5.1258|\n",
            "|         1|14.0607|\n",
            "|         2|14.0607|\n",
            "|         1| 6.3919|\n",
            "|         2| 6.3919|\n",
            "|         1|10.6375|\n",
            "|         2|10.6375|\n",
            "|         1| 0.6726|\n",
            "|         1|12.8866|\n",
            "|         2|12.8866|\n",
            "+----------+-------+\n",
            "only showing top 20 rows\n",
            "\n"
          ]
        }
      ]
    },
    {
      "cell_type": "code",
      "source": [],
      "metadata": {
        "id": "RTOiHX6qCEZn"
      },
      "execution_count": null,
      "outputs": []
    }
  ]
}